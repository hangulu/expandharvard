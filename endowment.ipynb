{
 "cells": [
  {
   "cell_type": "markdown",
   "metadata": {},
   "source": [
    "## Harvard's Endowment\n",
    "How has Harvard's endowment grown in the past 2 decades?"
   ]
  },
  {
   "cell_type": "code",
   "execution_count": 1,
   "metadata": {
    "collapsed": true
   },
   "outputs": [],
   "source": [
    "import numpy as np\n",
    "import pandas as pd\n",
    "import pickle"
   ]
  },
  {
   "cell_type": "code",
   "execution_count": 2,
   "metadata": {
    "collapsed": false
   },
   "outputs": [
    {
     "data": {
      "text/html": [
       "<script>requirejs.config({paths: { 'plotly': ['https://cdn.plot.ly/plotly-latest.min']},});if(!window.Plotly) {{require(['plotly'],function(plotly) {window.Plotly=plotly;});}}</script>"
      ],
      "text/vnd.plotly.v1+html": [
       "<script>requirejs.config({paths: { 'plotly': ['https://cdn.plot.ly/plotly-latest.min']},});if(!window.Plotly) {{require(['plotly'],function(plotly) {window.Plotly=plotly;});}}</script>"
      ]
     },
     "metadata": {},
     "output_type": "display_data"
    }
   ],
   "source": [
    "import matplotlib.pyplot as plt\n",
    "import plotly\n",
    "import plotly.graph_objs as go\n",
    "from plotly.offline import download_plotlyjs, init_notebook_mode, plot, iplot\n",
    "init_notebook_mode(connected=True)"
   ]
  },
  {
   "cell_type": "code",
   "execution_count": 3,
   "metadata": {
    "collapsed": false
   },
   "outputs": [],
   "source": [
    "endowment = pd.read_excel(\"endowment_data.xlsx\")\n",
    "\n",
    "# Restrict the years to after 2000\n",
    "endowment_recent = endowment[endowment['FY'] > 1999]"
   ]
  },
  {
   "cell_type": "markdown",
   "metadata": {},
   "source": [
    "The analysis will focus on after the year 2000, for now. Now, graphs depicting the change in value, return on investment, payout, and payout as a % of university revenue are shown."
   ]
  },
  {
   "cell_type": "code",
   "execution_count": 4,
   "metadata": {
    "collapsed": false
   },
   "outputs": [
    {
     "data": {
      "application/vnd.plotly.v1+json": {
       "data": [
        {
         "type": "scatter",
         "x": [
          2000,
          2001,
          2002,
          2003,
          2004,
          2005,
          2006,
          2007,
          2008,
          2009,
          2010,
          2011,
          2012,
          2013,
          2014,
          2015,
          2016
         ],
         "y": [
          0.322,
          -0.0269999999999999,
          -0.005,
          0.125,
          0.210999999999999,
          0.192,
          0.167,
          0.23,
          0.0859999999999999,
          -0.273,
          0.11,
          0.213999999999999,
          -0.001,
          0.113,
          0.153999999999999,
          0.058,
          -0.02
         ]
        }
       ],
       "layout": {
        "title": "Harvard's Return on Endowment Since 2000",
        "xaxis": {
         "title": "Year"
        },
        "yaxis": {
         "title": "Return on Endowment (%)"
        }
       }
      },
      "text/html": [
       "<div id=\"617eff57-b36d-4c51-bded-4add986b0749\" style=\"height: 525px; width: 100%;\" class=\"plotly-graph-div\"></div><script type=\"text/javascript\">require([\"plotly\"], function(Plotly) { window.PLOTLYENV=window.PLOTLYENV || {};window.PLOTLYENV.BASE_URL=\"https://plot.ly\";Plotly.newPlot(\"617eff57-b36d-4c51-bded-4add986b0749\", [{\"type\": \"scatter\", \"x\": [2000, 2001, 2002, 2003, 2004, 2005, 2006, 2007, 2008, 2009, 2010, 2011, 2012, 2013, 2014, 2015, 2016], \"y\": [0.322, -0.0269999999999999, -0.005, 0.125, 0.210999999999999, 0.192, 0.167, 0.23, 0.0859999999999999, -0.273, 0.11, 0.213999999999999, -0.001, 0.113, 0.153999999999999, 0.058, -0.02]}], {\"title\": \"Harvard's Return on Endowment Since 2000\", \"yaxis\": {\"title\": \"Return on Endowment (%)\"}, \"xaxis\": {\"title\": \"Year\"}}, {\"showLink\": true, \"linkText\": \"Export to plot.ly\"})});</script>"
      ],
      "text/vnd.plotly.v1+html": [
       "<div id=\"617eff57-b36d-4c51-bded-4add986b0749\" style=\"height: 525px; width: 100%;\" class=\"plotly-graph-div\"></div><script type=\"text/javascript\">require([\"plotly\"], function(Plotly) { window.PLOTLYENV=window.PLOTLYENV || {};window.PLOTLYENV.BASE_URL=\"https://plot.ly\";Plotly.newPlot(\"617eff57-b36d-4c51-bded-4add986b0749\", [{\"type\": \"scatter\", \"x\": [2000, 2001, 2002, 2003, 2004, 2005, 2006, 2007, 2008, 2009, 2010, 2011, 2012, 2013, 2014, 2015, 2016], \"y\": [0.322, -0.0269999999999999, -0.005, 0.125, 0.210999999999999, 0.192, 0.167, 0.23, 0.0859999999999999, -0.273, 0.11, 0.213999999999999, -0.001, 0.113, 0.153999999999999, 0.058, -0.02]}], {\"title\": \"Harvard's Return on Endowment Since 2000\", \"yaxis\": {\"title\": \"Return on Endowment (%)\"}, \"xaxis\": {\"title\": \"Year\"}}, {\"showLink\": true, \"linkText\": \"Export to plot.ly\"})});</script>"
      ]
     },
     "metadata": {},
     "output_type": "display_data"
    }
   ],
   "source": [
    "# Return on endowment\n",
    "data = go.Data([\n",
    "        go.Scatter(\n",
    "            x = endowment_recent['FY'],\n",
    "            y = endowment_recent['Return (%)']\n",
    "        )])\n",
    "layout = go.Layout(\n",
    "            title = \"Harvard's Return on Endowment Since 2000\",\n",
    "            yaxis=dict(\n",
    "                title='Return on Endowment (%)'),\n",
    "            xaxis=dict(\n",
    "                title='Year')\n",
    ")\n",
    "\n",
    "fig = go.Figure(data=data, layout=layout)\n",
    "iplot(fig)"
   ]
  },
  {
   "cell_type": "code",
   "execution_count": 5,
   "metadata": {
    "collapsed": false
   },
   "outputs": [
    {
     "data": {
      "application/vnd.plotly.v1+json": {
       "data": [
        {
         "type": "scatter",
         "x": [
          2000,
          2001,
          2002,
          2003,
          2004,
          2005,
          2006,
          2007,
          2008,
          2009,
          2010,
          2011,
          2012,
          2013,
          2014,
          2015,
          2016
         ],
         "y": [
          19.1,
          18.3,
          17.5,
          19.3,
          22.6,
          25.8999999999999,
          29.1999999999999,
          34.8999999999999,
          36.8999999999999,
          26.1,
          27.6,
          32,
          30.6999999999999,
          32.7,
          36.3999999999999,
          37.6,
          35.7
         ]
        }
       ],
       "layout": {
        "title": "Harvard's Endowment Value Since 2000",
        "xaxis": {
         "title": "Year"
        },
        "yaxis": {
         "title": "Endowment Value ($B)"
        }
       }
      },
      "text/html": [
       "<div id=\"33d760b2-2101-43bb-b247-61f9f9a9d248\" style=\"height: 525px; width: 100%;\" class=\"plotly-graph-div\"></div><script type=\"text/javascript\">require([\"plotly\"], function(Plotly) { window.PLOTLYENV=window.PLOTLYENV || {};window.PLOTLYENV.BASE_URL=\"https://plot.ly\";Plotly.newPlot(\"33d760b2-2101-43bb-b247-61f9f9a9d248\", [{\"type\": \"scatter\", \"x\": [2000, 2001, 2002, 2003, 2004, 2005, 2006, 2007, 2008, 2009, 2010, 2011, 2012, 2013, 2014, 2015, 2016], \"y\": [19.1, 18.3, 17.5, 19.3, 22.6, 25.8999999999999, 29.1999999999999, 34.8999999999999, 36.8999999999999, 26.1, 27.6, 32.0, 30.6999999999999, 32.7, 36.3999999999999, 37.6, 35.7]}], {\"title\": \"Harvard's Endowment Value Since 2000\", \"yaxis\": {\"title\": \"Endowment Value ($B)\"}, \"xaxis\": {\"title\": \"Year\"}}, {\"showLink\": true, \"linkText\": \"Export to plot.ly\"})});</script>"
      ],
      "text/vnd.plotly.v1+html": [
       "<div id=\"33d760b2-2101-43bb-b247-61f9f9a9d248\" style=\"height: 525px; width: 100%;\" class=\"plotly-graph-div\"></div><script type=\"text/javascript\">require([\"plotly\"], function(Plotly) { window.PLOTLYENV=window.PLOTLYENV || {};window.PLOTLYENV.BASE_URL=\"https://plot.ly\";Plotly.newPlot(\"33d760b2-2101-43bb-b247-61f9f9a9d248\", [{\"type\": \"scatter\", \"x\": [2000, 2001, 2002, 2003, 2004, 2005, 2006, 2007, 2008, 2009, 2010, 2011, 2012, 2013, 2014, 2015, 2016], \"y\": [19.1, 18.3, 17.5, 19.3, 22.6, 25.8999999999999, 29.1999999999999, 34.8999999999999, 36.8999999999999, 26.1, 27.6, 32.0, 30.6999999999999, 32.7, 36.3999999999999, 37.6, 35.7]}], {\"title\": \"Harvard's Endowment Value Since 2000\", \"yaxis\": {\"title\": \"Endowment Value ($B)\"}, \"xaxis\": {\"title\": \"Year\"}}, {\"showLink\": true, \"linkText\": \"Export to plot.ly\"})});</script>"
      ]
     },
     "metadata": {},
     "output_type": "display_data"
    }
   ],
   "source": [
    "# Endowment value\n",
    "data = go.Data([\n",
    "        go.Scatter(\n",
    "            x = endowment_recent['FY'],\n",
    "            y = endowment_recent['Value ($B)']\n",
    "        )])\n",
    "layout = go.Layout(\n",
    "            title = \"Harvard's Endowment Value Since 2000\",\n",
    "            yaxis=dict(\n",
    "                title='Endowment Value ($B)'),\n",
    "            xaxis=dict(\n",
    "                title='Year')\n",
    ")\n",
    "\n",
    "fig = go.Figure(data=data, layout=layout)\n",
    "iplot(fig)"
   ]
  },
  {
   "cell_type": "code",
   "execution_count": 6,
   "metadata": {
    "collapsed": false
   },
   "outputs": [
    {
     "data": {
      "application/vnd.plotly.v1+json": {
       "data": [
        {
         "type": "scatter",
         "x": [
          2000,
          2001,
          2002,
          2003,
          2004,
          2005,
          2006,
          2007,
          2008,
          2009,
          2010,
          2011,
          2012,
          2013,
          2014,
          2015,
          2016
         ],
         "y": [
          0.275,
          0.276,
          0.319,
          0.311999999999999,
          0.310999999999999,
          0.304999999999999,
          0.310999999999999,
          0.325,
          0.344999999999999,
          0.371999999999999,
          0.352999999999999,
          0.316,
          0.351999999999999,
          0.352999999999999,
          0.349999999999999,
          0.349999999999999,
          0.353999999999999
         ]
        }
       ],
       "layout": {
        "title": "Harvard's Endowment Payout (as a % of University revenue) Since 2000",
        "xaxis": {
         "title": "Year"
        },
        "yaxis": {
         "title": "Endowment Payout (%)"
        }
       }
      },
      "text/html": [
       "<div id=\"48ea2344-e00c-406c-91b3-29bb616889b5\" style=\"height: 525px; width: 100%;\" class=\"plotly-graph-div\"></div><script type=\"text/javascript\">require([\"plotly\"], function(Plotly) { window.PLOTLYENV=window.PLOTLYENV || {};window.PLOTLYENV.BASE_URL=\"https://plot.ly\";Plotly.newPlot(\"48ea2344-e00c-406c-91b3-29bb616889b5\", [{\"type\": \"scatter\", \"x\": [2000, 2001, 2002, 2003, 2004, 2005, 2006, 2007, 2008, 2009, 2010, 2011, 2012, 2013, 2014, 2015, 2016], \"y\": [0.275, 0.276, 0.319, 0.311999999999999, 0.310999999999999, 0.304999999999999, 0.310999999999999, 0.325, 0.344999999999999, 0.371999999999999, 0.352999999999999, 0.316, 0.351999999999999, 0.352999999999999, 0.349999999999999, 0.349999999999999, 0.353999999999999]}], {\"title\": \"Harvard's Endowment Payout (as a % of University revenue) Since 2000\", \"yaxis\": {\"title\": \"Endowment Payout (%)\"}, \"xaxis\": {\"title\": \"Year\"}}, {\"showLink\": true, \"linkText\": \"Export to plot.ly\"})});</script>"
      ],
      "text/vnd.plotly.v1+html": [
       "<div id=\"48ea2344-e00c-406c-91b3-29bb616889b5\" style=\"height: 525px; width: 100%;\" class=\"plotly-graph-div\"></div><script type=\"text/javascript\">require([\"plotly\"], function(Plotly) { window.PLOTLYENV=window.PLOTLYENV || {};window.PLOTLYENV.BASE_URL=\"https://plot.ly\";Plotly.newPlot(\"48ea2344-e00c-406c-91b3-29bb616889b5\", [{\"type\": \"scatter\", \"x\": [2000, 2001, 2002, 2003, 2004, 2005, 2006, 2007, 2008, 2009, 2010, 2011, 2012, 2013, 2014, 2015, 2016], \"y\": [0.275, 0.276, 0.319, 0.311999999999999, 0.310999999999999, 0.304999999999999, 0.310999999999999, 0.325, 0.344999999999999, 0.371999999999999, 0.352999999999999, 0.316, 0.351999999999999, 0.352999999999999, 0.349999999999999, 0.349999999999999, 0.353999999999999]}], {\"title\": \"Harvard's Endowment Payout (as a % of University revenue) Since 2000\", \"yaxis\": {\"title\": \"Endowment Payout (%)\"}, \"xaxis\": {\"title\": \"Year\"}}, {\"showLink\": true, \"linkText\": \"Export to plot.ly\"})});</script>"
      ]
     },
     "metadata": {},
     "output_type": "display_data"
    }
   ],
   "source": [
    "# Payout as a percentage of university revenue\n",
    "data = go.Data([\n",
    "        go.Scatter(\n",
    "            x = endowment_recent['FY'],\n",
    "            y = endowment_recent['Endowment Payout: % of University Revenue']\n",
    "        )])\n",
    "layout = go.Layout(\n",
    "            title = \"Harvard's Endowment Payout (as a % of University revenue) Since 2000\",\n",
    "            yaxis=dict(\n",
    "                title='Endowment Payout (%)'),\n",
    "            xaxis=dict(\n",
    "                title='Year')\n",
    ")\n",
    "\n",
    "fig = go.Figure(data=data, layout=layout)\n",
    "iplot(fig)"
   ]
  },
  {
   "cell_type": "markdown",
   "metadata": {},
   "source": [
    "Save the data for use in another notebook."
   ]
  },
  {
   "cell_type": "code",
   "execution_count": 7,
   "metadata": {
    "collapsed": true
   },
   "outputs": [],
   "source": [
    "with open('VariableData/endowment.pickle', 'wb') as f:\n",
    "    pickle.dump(endowment, f)"
   ]
  },
  {
   "cell_type": "code",
   "execution_count": null,
   "metadata": {
    "collapsed": true
   },
   "outputs": [],
   "source": []
  }
 ],
 "metadata": {
  "kernelspec": {
   "display_name": "Python 3",
   "language": "python",
   "name": "python3"
  },
  "language_info": {
   "codemirror_mode": {
    "name": "ipython",
    "version": 3
   },
   "file_extension": ".py",
   "mimetype": "text/x-python",
   "name": "python",
   "nbconvert_exporter": "python",
   "pygments_lexer": "ipython3",
   "version": "3.6.0"
  },
  "varInspector": {
   "cols": {
    "lenName": 16,
    "lenType": 16,
    "lenVar": 40
   },
   "kernels_config": {
    "python": {
     "delete_cmd_postfix": "",
     "delete_cmd_prefix": "del ",
     "library": "var_list.py",
     "varRefreshCmd": "print(var_dic_list())"
    },
    "r": {
     "delete_cmd_postfix": ") ",
     "delete_cmd_prefix": "rm(",
     "library": "var_list.r",
     "varRefreshCmd": "cat(var_dic_list()) "
    }
   },
   "types_to_exclude": [
    "module",
    "function",
    "builtin_function_or_method",
    "instance",
    "_Feature"
   ],
   "window_display": false
  }
 },
 "nbformat": 4,
 "nbformat_minor": 2
}
