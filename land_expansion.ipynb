{
 "cells": [
  {
   "cell_type": "code",
   "execution_count": 1,
   "metadata": {},
   "outputs": [],
   "source": [
    "%matplotlib inline"
   ]
  },
  {
   "cell_type": "code",
   "execution_count": 21,
   "metadata": {},
   "outputs": [],
   "source": [
    "import numpy as np\n",
    "import pandas as pd\n",
    "import math\n",
    "from scipy import stats\n",
    "import pickle\n",
    "from causality.analysis.dataframe import CausalDataFrame\n",
    "from sklearn.linear_model import LinearRegression\n",
    "import datetime"
   ]
  },
  {
   "cell_type": "code",
   "execution_count": 3,
   "metadata": {},
   "outputs": [
    {
     "data": {
      "text/html": [
       "<script>requirejs.config({paths: { 'plotly': ['https://cdn.plot.ly/plotly-latest.min']},});if(!window.Plotly) {{require(['plotly'],function(plotly) {window.Plotly=plotly;});}}</script>"
      ],
      "text/vnd.plotly.v1+html": [
       "<script>requirejs.config({paths: { 'plotly': ['https://cdn.plot.ly/plotly-latest.min']},});if(!window.Plotly) {{require(['plotly'],function(plotly) {window.Plotly=plotly;});}}</script>"
      ]
     },
     "metadata": {},
     "output_type": "display_data"
    }
   ],
   "source": [
    "import matplotlib.pyplot as plt\n",
    "import plotly\n",
    "import plotly.graph_objs as go\n",
    "from plotly.offline import download_plotlyjs, init_notebook_mode, plot, iplot\n",
    "init_notebook_mode(connected=True)"
   ]
  },
  {
   "cell_type": "markdown",
   "metadata": {},
   "source": [
    "Open the data from past notebooks and correct them to only include years that are common between the data structures (>1999)."
   ]
  },
  {
   "cell_type": "code",
   "execution_count": 15,
   "metadata": {},
   "outputs": [],
   "source": [
    "with open('VariableData/money_data.pickle', 'rb') as f:\n",
    "    income_data, housing_data, rent_data = pickle.load(f)\n",
    "with open('VariableData/demographic_data.pickle', 'rb') as f:\n",
    "    demographic_data = pickle.load(f)\n",
    "with open('VariableData/endowment.pickle', 'rb') as f:\n",
    "    endowment = pickle.load(f)\n",
    "with open('VariableData/expander.pickle', 'rb') as f:\n",
    "    expander = pickle.load(f)"
   ]
  },
  {
   "cell_type": "code",
   "execution_count": 5,
   "metadata": {},
   "outputs": [],
   "source": [
    "endowment = endowment[endowment['FY'] > 1997].reset_index()\n",
    "endowment.drop('index', axis=1, inplace=True)\n",
    "\n",
    "demographic_data = demographic_data[demographic_data['year'] > 1999].reset_index()\n",
    "demographic_data.drop('index', axis=1, inplace=True)\n",
    "\n",
    "income_data = income_data[income_data['year'] > 1999].reset_index()\n",
    "income_data.drop('index', axis=1, inplace=True)\n",
    "\n",
    "housing_data = housing_data[housing_data['year'] > 1999].reset_index()\n",
    "housing_data.drop('index', axis=1, inplace=True)\n",
    "\n",
    "rent_data = rent_data[rent_data['year'] > 1999].reset_index()\n",
    "rent_data.drop('index', axis=1, inplace=True)"
   ]
  },
  {
   "cell_type": "markdown",
   "metadata": {},
   "source": [
    "Read in the data on Harvard owned land and Cambridge's property records. Restrict the Harvard data to Cambridge, MA."
   ]
  },
  {
   "cell_type": "code",
   "execution_count": 6,
   "metadata": {},
   "outputs": [],
   "source": [
    "harvard_land = pd.read_excel(\"Spreadsheets/2018_building_reference_list.xlsx\", header=3)\n",
    "harvard_land = harvard_land[harvard_land['City'] == 'Cambridge']"
   ]
  },
  {
   "cell_type": "code",
   "execution_count": 7,
   "metadata": {},
   "outputs": [],
   "source": [
    "cambridge_property = pd.read_excel(\"Spreadsheets/cambridge_properties.xlsx\")"
   ]
  },
  {
   "cell_type": "markdown",
   "metadata": {},
   "source": [
    "Restrict the Cambridge data to Harvard properties, and only use relevant columns."
   ]
  },
  {
   "cell_type": "code",
   "execution_count": 8,
   "metadata": {},
   "outputs": [],
   "source": [
    "cambridge_property = cambridge_property[cambridge_property['Owner_Name'] == 'PRESIDENT & FELLOWS OF HARVARD COLLEGE']"
   ]
  },
  {
   "cell_type": "code",
   "execution_count": 9,
   "metadata": {},
   "outputs": [],
   "source": [
    "cambridge_property = cambridge_property[['Address', 'PropertyClass', 'LandArea', 'BuildingValue', 'LandValue', 'AssessedValue', 'SalePrice', 'SaleDate', 'Owner_Name']]"
   ]
  },
  {
   "cell_type": "markdown",
   "metadata": {},
   "source": [
    "Fix the time data."
   ]
  },
  {
   "cell_type": "code",
   "execution_count": 10,
   "metadata": {},
   "outputs": [],
   "source": [
    "cambridge_property['SaleDate'] = pd.to_datetime(cambridge_property['SaleDate'], infer_datetime_format=True)"
   ]
  },
  {
   "cell_type": "code",
   "execution_count": 13,
   "metadata": {},
   "outputs": [],
   "source": [
    "clean_property = cambridge_property.drop_duplicates(subset=['Address'])"
   ]
  },
  {
   "cell_type": "markdown",
   "metadata": {},
   "source": [
    "Only look at properties purchased after 2000."
   ]
  },
  {
   "cell_type": "code",
   "execution_count": 28,
   "metadata": {},
   "outputs": [],
   "source": [
    "recent_property = clean_property[clean_property['SaleDate'] > datetime.date(2000, 1, 1)]"
   ]
  },
  {
   "cell_type": "code",
   "execution_count": 38,
   "metadata": {},
   "outputs": [],
   "source": [
    "property_numbers = recent_property[['LandArea', 'AssessedValue', 'SalePrice']]\n",
    "num_recent = recent_property['Address'].count()\n",
    "sum_properties = property_numbers.sum()"
   ]
  },
  {
   "cell_type": "code",
   "execution_count": 39,
   "metadata": {},
   "outputs": [
    {
     "data": {
      "text/plain": [
       "LandArea            281219\n",
       "AssessedValue    112671400\n",
       "SalePrice         53436500\n",
       "dtype: int64"
      ]
     },
     "execution_count": 39,
     "metadata": {},
     "output_type": "execute_result"
    }
   ],
   "source": [
    "sum_properties"
   ]
  },
  {
   "cell_type": "code",
   "execution_count": 29,
   "metadata": {},
   "outputs": [
    {
     "data": {
      "text/html": [
       "<div>\n",
       "<style>\n",
       "    .dataframe thead tr:only-child th {\n",
       "        text-align: right;\n",
       "    }\n",
       "\n",
       "    .dataframe thead th {\n",
       "        text-align: left;\n",
       "    }\n",
       "\n",
       "    .dataframe tbody tr th {\n",
       "        vertical-align: top;\n",
       "    }\n",
       "</style>\n",
       "<table border=\"1\" class=\"dataframe\">\n",
       "  <thead>\n",
       "    <tr style=\"text-align: right;\">\n",
       "      <th></th>\n",
       "      <th>Address</th>\n",
       "      <th>PropertyClass</th>\n",
       "      <th>LandArea</th>\n",
       "      <th>BuildingValue</th>\n",
       "      <th>LandValue</th>\n",
       "      <th>AssessedValue</th>\n",
       "      <th>SalePrice</th>\n",
       "      <th>SaleDate</th>\n",
       "      <th>Owner_Name</th>\n",
       "    </tr>\n",
       "  </thead>\n",
       "  <tbody>\n",
       "    <tr>\n",
       "      <th>585</th>\n",
       "      <td>100 Land Blvd</td>\n",
       "      <td>Private College, University</td>\n",
       "      <td>65683</td>\n",
       "      <td>43883200</td>\n",
       "      <td>19941400</td>\n",
       "      <td>63824600</td>\n",
       "      <td>100</td>\n",
       "      <td>2002-07-01</td>\n",
       "      <td>PRESIDENT &amp; FELLOWS OF HARVARD COLLEGE</td>\n",
       "    </tr>\n",
       "    <tr>\n",
       "      <th>10249</th>\n",
       "      <td>24 Blackstone St</td>\n",
       "      <td>Private College, University</td>\n",
       "      <td>109943</td>\n",
       "      <td>3784300</td>\n",
       "      <td>8000000</td>\n",
       "      <td>11784300</td>\n",
       "      <td>14118000</td>\n",
       "      <td>2003-04-09</td>\n",
       "      <td>PRESIDENT &amp; FELLOWS OF HARVARD COLLEGE</td>\n",
       "    </tr>\n",
       "    <tr>\n",
       "      <th>10254</th>\n",
       "      <td>45 Blackstone St</td>\n",
       "      <td>CONDO-BLDG</td>\n",
       "      <td>43988</td>\n",
       "      <td>0</td>\n",
       "      <td>0</td>\n",
       "      <td>0</td>\n",
       "      <td>14118000</td>\n",
       "      <td>2003-04-09</td>\n",
       "      <td>PRESIDENT &amp; FELLOWS OF HARVARD COLLEGE</td>\n",
       "    </tr>\n",
       "    <tr>\n",
       "      <th>11663</th>\n",
       "      <td>20 Sumner Rd</td>\n",
       "      <td>Private College, University</td>\n",
       "      <td>8184</td>\n",
       "      <td>607000</td>\n",
       "      <td>1152400</td>\n",
       "      <td>1759400</td>\n",
       "      <td>1288000</td>\n",
       "      <td>2010-10-05</td>\n",
       "      <td>PRESIDENT &amp; FELLOWS OF HARVARD COLLEGE</td>\n",
       "    </tr>\n",
       "    <tr>\n",
       "      <th>11665</th>\n",
       "      <td>42 Kirkland St</td>\n",
       "      <td>Private College, University</td>\n",
       "      <td>10518</td>\n",
       "      <td>1564400</td>\n",
       "      <td>925600</td>\n",
       "      <td>2490000</td>\n",
       "      <td>4112400</td>\n",
       "      <td>2010-10-05</td>\n",
       "      <td>PRESIDENT &amp; FELLOWS OF HARVARD COLLEGE</td>\n",
       "    </tr>\n",
       "    <tr>\n",
       "      <th>12996</th>\n",
       "      <td>122 Mt Auburn St</td>\n",
       "      <td>MULTIUSE-RES</td>\n",
       "      <td>18749</td>\n",
       "      <td>9884800</td>\n",
       "      <td>6018000</td>\n",
       "      <td>15902800</td>\n",
       "      <td>11250000</td>\n",
       "      <td>2011-12-19</td>\n",
       "      <td>PRESIDENT &amp; FELLOWS OF HARVARD COLLEGE</td>\n",
       "    </tr>\n",
       "    <tr>\n",
       "      <th>13355</th>\n",
       "      <td>153 Mt Auburn St</td>\n",
       "      <td>Private College, University</td>\n",
       "      <td>10233</td>\n",
       "      <td>1228800</td>\n",
       "      <td>484700</td>\n",
       "      <td>1713500</td>\n",
       "      <td>0</td>\n",
       "      <td>2003-03-21</td>\n",
       "      <td>PRESIDENT &amp; FELLOWS OF HARVARD COLLEGE</td>\n",
       "    </tr>\n",
       "    <tr>\n",
       "      <th>13377</th>\n",
       "      <td>9 Ash St</td>\n",
       "      <td>SNGL-FAM-RES</td>\n",
       "      <td>4800</td>\n",
       "      <td>303200</td>\n",
       "      <td>1426200</td>\n",
       "      <td>1729400</td>\n",
       "      <td>1250000</td>\n",
       "      <td>2010-07-07</td>\n",
       "      <td>PRESIDENT &amp; FELLOWS OF HARVARD COLLEGE</td>\n",
       "    </tr>\n",
       "    <tr>\n",
       "      <th>18194</th>\n",
       "      <td>113 Walker St</td>\n",
       "      <td>SNGL-FAM-RES</td>\n",
       "      <td>9121</td>\n",
       "      <td>2973800</td>\n",
       "      <td>1740000</td>\n",
       "      <td>4713800</td>\n",
       "      <td>1600000</td>\n",
       "      <td>2000-10-31</td>\n",
       "      <td>PRESIDENT &amp; FELLOWS OF HARVARD COLLEGE</td>\n",
       "    </tr>\n",
       "    <tr>\n",
       "      <th>24589</th>\n",
       "      <td>0 Arrow St</td>\n",
       "      <td>Private College, University</td>\n",
       "      <td>0</td>\n",
       "      <td>8753600</td>\n",
       "      <td>0</td>\n",
       "      <td>8753600</td>\n",
       "      <td>5700000</td>\n",
       "      <td>2004-12-22</td>\n",
       "      <td>PRESIDENT &amp; FELLOWS OF HARVARD COLLEGE</td>\n",
       "    </tr>\n",
       "  </tbody>\n",
       "</table>\n",
       "</div>"
      ],
      "text/plain": [
       "                Address                PropertyClass  LandArea  BuildingValue  \\\n",
       "585       100 Land Blvd  Private College, University     65683       43883200   \n",
       "10249  24 Blackstone St  Private College, University    109943        3784300   \n",
       "10254  45 Blackstone St                   CONDO-BLDG     43988              0   \n",
       "11663      20 Sumner Rd  Private College, University      8184         607000   \n",
       "11665    42 Kirkland St  Private College, University     10518        1564400   \n",
       "12996  122 Mt Auburn St                 MULTIUSE-RES     18749        9884800   \n",
       "13355  153 Mt Auburn St  Private College, University     10233        1228800   \n",
       "13377          9 Ash St                 SNGL-FAM-RES      4800         303200   \n",
       "18194     113 Walker St                 SNGL-FAM-RES      9121        2973800   \n",
       "24589        0 Arrow St  Private College, University         0        8753600   \n",
       "\n",
       "       LandValue  AssessedValue  SalePrice   SaleDate  \\\n",
       "585     19941400       63824600        100 2002-07-01   \n",
       "10249    8000000       11784300   14118000 2003-04-09   \n",
       "10254          0              0   14118000 2003-04-09   \n",
       "11663    1152400        1759400    1288000 2010-10-05   \n",
       "11665     925600        2490000    4112400 2010-10-05   \n",
       "12996    6018000       15902800   11250000 2011-12-19   \n",
       "13355     484700        1713500          0 2003-03-21   \n",
       "13377    1426200        1729400    1250000 2010-07-07   \n",
       "18194    1740000        4713800    1600000 2000-10-31   \n",
       "24589          0        8753600    5700000 2004-12-22   \n",
       "\n",
       "                                   Owner_Name  \n",
       "585    PRESIDENT & FELLOWS OF HARVARD COLLEGE  \n",
       "10249  PRESIDENT & FELLOWS OF HARVARD COLLEGE  \n",
       "10254  PRESIDENT & FELLOWS OF HARVARD COLLEGE  \n",
       "11663  PRESIDENT & FELLOWS OF HARVARD COLLEGE  \n",
       "11665  PRESIDENT & FELLOWS OF HARVARD COLLEGE  \n",
       "12996  PRESIDENT & FELLOWS OF HARVARD COLLEGE  \n",
       "13355  PRESIDENT & FELLOWS OF HARVARD COLLEGE  \n",
       "13377  PRESIDENT & FELLOWS OF HARVARD COLLEGE  \n",
       "18194  PRESIDENT & FELLOWS OF HARVARD COLLEGE  \n",
       "24589  PRESIDENT & FELLOWS OF HARVARD COLLEGE  "
      ]
     },
     "execution_count": 29,
     "metadata": {},
     "output_type": "execute_result"
    }
   ],
   "source": [
    "recent_property"
   ]
  },
  {
   "cell_type": "code",
   "execution_count": null,
   "metadata": {},
   "outputs": [],
   "source": []
  }
 ],
 "metadata": {
  "kernelspec": {
   "display_name": "Python 3",
   "language": "python",
   "name": "python3"
  },
  "language_info": {
   "codemirror_mode": {
    "name": "ipython",
    "version": 3
   },
   "file_extension": ".py",
   "mimetype": "text/x-python",
   "name": "python",
   "nbconvert_exporter": "python",
   "pygments_lexer": "ipython3",
   "version": "3.6.0"
  }
 },
 "nbformat": 4,
 "nbformat_minor": 2
}
