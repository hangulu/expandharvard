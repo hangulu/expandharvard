{
 "cells": [
  {
   "cell_type": "markdown",
   "metadata": {},
   "source": [
    "## Harvard's Endowment\n",
    "How has Harvard's endowment grown in the past 2 decades?"
   ]
  },
  {
   "cell_type": "code",
   "execution_count": 1,
   "metadata": {
    "collapsed": true
   },
   "outputs": [],
   "source": [
    "import numpy as np\n",
    "import pandas as pd\n",
    "import pickle"
   ]
  },
  {
   "cell_type": "code",
   "execution_count": 2,
   "metadata": {
    "collapsed": false
   },
   "outputs": [
    {
     "data": {
      "text/html": [
       "<script>requirejs.config({paths: { 'plotly': ['https://cdn.plot.ly/plotly-latest.min']},});if(!window.Plotly) {{require(['plotly'],function(plotly) {window.Plotly=plotly;});}}</script>"
      ],
      "text/vnd.plotly.v1+html": [
       "<script>requirejs.config({paths: { 'plotly': ['https://cdn.plot.ly/plotly-latest.min']},});if(!window.Plotly) {{require(['plotly'],function(plotly) {window.Plotly=plotly;});}}</script>"
      ]
     },
     "metadata": {},
     "output_type": "display_data"
    }
   ],
   "source": [
    "import matplotlib.pyplot as plt\n",
    "import plotly\n",
    "import plotly.graph_objs as go\n",
    "from plotly.offline import download_plotlyjs, init_notebook_mode, plot, iplot\n",
    "init_notebook_mode(connected=True)"
   ]
  },
  {
   "cell_type": "code",
   "execution_count": 3,
   "metadata": {
    "collapsed": false
   },
   "outputs": [],
   "source": [
    "endowment = pd.read_excel(\"endowment_data.xlsx\")\n",
    "\n",
    "# Restrict the years to after 2000\n",
    "endowment_recent = endowment[endowment['FY'] > 1999]"
   ]
  },
  {
   "cell_type": "markdown",
   "metadata": {},
   "source": [
    "The analysis will focus on after the year 2000, for now. Now, graphs depicting the change in value, return on investment, payout, and payout as a % of university revenue are shown."
   ]
  },
  {
   "cell_type": "code",
   "execution_count": 8,
   "metadata": {
    "collapsed": false
   },
   "outputs": [
    {
     "data": {
      "application/vnd.plotly.v1+json": {
       "data": [
        {
         "type": "scatter",
         "uid": "f93edd",
         "x": [
          1981,
          1982,
          1983,
          1984,
          1985,
          1986,
          1987,
          1988,
          1989,
          1990,
          1991,
          1992,
          1993,
          1994,
          1995,
          1996,
          1997,
          1998,
          1999,
          2000,
          2001,
          2002,
          2003,
          2004,
          2005,
          2006,
          2007,
          2008,
          2009,
          2010,
          2011,
          2012,
          2013,
          2014,
          2015,
          2016
         ],
         "y": [
          0.112,
          0,
          0.435999999999999,
          -0.0379999999999999,
          0.268,
          0.313,
          0.199,
          0.057,
          0.128,
          0.0749999999999999,
          0.0109999999999999,
          0.117999999999999,
          0.168,
          0.098,
          0.168,
          0.26,
          0.258,
          0.204999999999999,
          0.121999999999999,
          0.322,
          -0.0269999999999999,
          -0.005,
          0.125,
          0.210999999999999,
          0.192,
          0.167,
          0.23,
          0.0859999999999999,
          -0.273,
          0.11,
          0.213999999999999,
          -0.001,
          0.113,
          0.153999999999999,
          0.058,
          -0.02
         ]
        }
       ],
       "layout": {
        "autosize": true,
        "title": "Harvard's Return on Endowment Since 2000",
        "xaxis": {
         "autorange": true,
         "range": [
          1981,
          2016
         ],
         "title": "Year",
         "type": "linear"
        },
        "yaxis": {
         "autorange": true,
         "range": [
          -0.3123888888888888,
          0.4753888888888878
         ],
         "title": "Return on Endowment (%)",
         "type": "linear"
        }
       }
      },
      "text/html": [
       "<div id=\"1ac64cea-8f9a-418d-b5d0-2257bfc03979\" style=\"height: 525px; width: 100%;\" class=\"plotly-graph-div\"></div><script type=\"text/javascript\">require([\"plotly\"], function(Plotly) { window.PLOTLYENV=window.PLOTLYENV || {};window.PLOTLYENV.BASE_URL=\"https://plot.ly\";Plotly.newPlot(\"1ac64cea-8f9a-418d-b5d0-2257bfc03979\", [{\"type\": \"scatter\", \"x\": [1981, 1982, 1983, 1984, 1985, 1986, 1987, 1988, 1989, 1990, 1991, 1992, 1993, 1994, 1995, 1996, 1997, 1998, 1999, 2000, 2001, 2002, 2003, 2004, 2005, 2006, 2007, 2008, 2009, 2010, 2011, 2012, 2013, 2014, 2015, 2016], \"y\": [0.112, 0.0, 0.435999999999999, -0.0379999999999999, 0.268, 0.313, 0.199, 0.057, 0.128, 0.0749999999999999, 0.0109999999999999, 0.117999999999999, 0.168, 0.098, 0.168, 0.26, 0.258, 0.204999999999999, 0.121999999999999, 0.322, -0.0269999999999999, -0.005, 0.125, 0.210999999999999, 0.192, 0.167, 0.23, 0.0859999999999999, -0.273, 0.11, 0.213999999999999, -0.001, 0.113, 0.153999999999999, 0.058, -0.02]}], {\"title\": \"Harvard's Return on Endowment Since 2000\", \"yaxis\": {\"title\": \"Return on Endowment (%)\"}, \"xaxis\": {\"title\": \"Year\"}}, {\"showLink\": true, \"linkText\": \"Export to plot.ly\"})});</script>"
      ],
      "text/vnd.plotly.v1+html": [
       "<div id=\"1ac64cea-8f9a-418d-b5d0-2257bfc03979\" style=\"height: 525px; width: 100%;\" class=\"plotly-graph-div\"></div><script type=\"text/javascript\">require([\"plotly\"], function(Plotly) { window.PLOTLYENV=window.PLOTLYENV || {};window.PLOTLYENV.BASE_URL=\"https://plot.ly\";Plotly.newPlot(\"1ac64cea-8f9a-418d-b5d0-2257bfc03979\", [{\"type\": \"scatter\", \"x\": [1981, 1982, 1983, 1984, 1985, 1986, 1987, 1988, 1989, 1990, 1991, 1992, 1993, 1994, 1995, 1996, 1997, 1998, 1999, 2000, 2001, 2002, 2003, 2004, 2005, 2006, 2007, 2008, 2009, 2010, 2011, 2012, 2013, 2014, 2015, 2016], \"y\": [0.112, 0.0, 0.435999999999999, -0.0379999999999999, 0.268, 0.313, 0.199, 0.057, 0.128, 0.0749999999999999, 0.0109999999999999, 0.117999999999999, 0.168, 0.098, 0.168, 0.26, 0.258, 0.204999999999999, 0.121999999999999, 0.322, -0.0269999999999999, -0.005, 0.125, 0.210999999999999, 0.192, 0.167, 0.23, 0.0859999999999999, -0.273, 0.11, 0.213999999999999, -0.001, 0.113, 0.153999999999999, 0.058, -0.02]}], {\"title\": \"Harvard's Return on Endowment Since 2000\", \"yaxis\": {\"title\": \"Return on Endowment (%)\"}, \"xaxis\": {\"title\": \"Year\"}}, {\"showLink\": true, \"linkText\": \"Export to plot.ly\"})});</script>"
      ]
     },
     "metadata": {},
     "output_type": "display_data"
    }
   ],
   "source": [
    "# Return on endowment\n",
    "data = go.Data([\n",
    "        go.Scatter(\n",
    "            x = endowment['FY'],\n",
    "            y = endowment['Return (%)']\n",
    "        )])\n",
    "layout = go.Layout(\n",
    "            title = \"Harvard's Return on Endowment Since 2000\",\n",
    "            yaxis=dict(\n",
    "                title='Return on Endowment (%)'),\n",
    "            xaxis=dict(\n",
    "                title='Year')\n",
    ")\n",
    "\n",
    "fig = go.Figure(data=data, layout=layout)\n",
    "iplot(fig)"
   ]
  },
  {
   "cell_type": "code",
   "execution_count": 12,
   "metadata": {
    "collapsed": false
   },
   "outputs": [
    {
     "data": {
      "application/vnd.plotly.v1+json": {
       "data": [
        {
         "marker": {
          "color": "rgb(204,0,0)"
         },
         "type": "scatter",
         "uid": "a91e7c",
         "x": [
          1981,
          1982,
          1983,
          1984,
          1985,
          1986,
          1987,
          1988,
          1989,
          1990,
          1991,
          1992,
          1993,
          1994,
          1995,
          1996,
          1997,
          1998,
          1999,
          2000,
          2001,
          2002,
          2003,
          2004,
          2005,
          2006,
          2007,
          2008,
          2009,
          2010,
          2011,
          2012,
          2013,
          2014,
          2015,
          2016
         ],
         "y": [
          1.6,
          1.6,
          2.29999999999999,
          2.2,
          2.7,
          3.39999999999999,
          4,
          4.2,
          4.5,
          4.79999999999999,
          4.7,
          5.09999999999999,
          5.79999999999999,
          6.2,
          7,
          9.09999999999999,
          11.1999999999999,
          13.3,
          14.5,
          19.1,
          18.3,
          17.5,
          19.3,
          22.6,
          25.8999999999999,
          29.1999999999999,
          34.8999999999999,
          36.8999999999999,
          26.1,
          27.6,
          32,
          30.6999999999999,
          32.7,
          36.3999999999999,
          37.6,
          35.7
         ]
        }
       ],
       "layout": {
        "autosize": true,
        "title": "Harvard's Endowment Value Since 1982",
        "xaxis": {
         "autorange": true,
         "range": [
          1981,
          2016
         ],
         "title": "Year",
         "type": "linear"
        },
        "yaxis": {
         "autorange": true,
         "range": [
          -0.3999999999999999,
          39.6
         ],
         "title": "Endowment Value ($B)",
         "type": "linear"
        }
       }
      },
      "text/html": [
       "<div id=\"f882b0d8-b927-484b-965d-a8a79f4d653f\" style=\"height: 525px; width: 100%;\" class=\"plotly-graph-div\"></div><script type=\"text/javascript\">require([\"plotly\"], function(Plotly) { window.PLOTLYENV=window.PLOTLYENV || {};window.PLOTLYENV.BASE_URL=\"https://plot.ly\";Plotly.newPlot(\"f882b0d8-b927-484b-965d-a8a79f4d653f\", [{\"type\": \"scatter\", \"x\": [1981, 1982, 1983, 1984, 1985, 1986, 1987, 1988, 1989, 1990, 1991, 1992, 1993, 1994, 1995, 1996, 1997, 1998, 1999, 2000, 2001, 2002, 2003, 2004, 2005, 2006, 2007, 2008, 2009, 2010, 2011, 2012, 2013, 2014, 2015, 2016], \"y\": [1.6, 1.6, 2.29999999999999, 2.2, 2.7, 3.39999999999999, 4.0, 4.2, 4.5, 4.79999999999999, 4.7, 5.09999999999999, 5.79999999999999, 6.2, 7.0, 9.09999999999999, 11.1999999999999, 13.3, 14.5, 19.1, 18.3, 17.5, 19.3, 22.6, 25.8999999999999, 29.1999999999999, 34.8999999999999, 36.8999999999999, 26.1, 27.6, 32.0, 30.6999999999999, 32.7, 36.3999999999999, 37.6, 35.7], \"marker\": {\"color\": \"rgb(204,0,0)\"}}], {\"title\": \"Harvard's Endowment Value Since 1982\", \"yaxis\": {\"title\": \"Endowment Value ($B)\"}, \"xaxis\": {\"title\": \"Year\"}}, {\"showLink\": true, \"linkText\": \"Export to plot.ly\"})});</script>"
      ],
      "text/vnd.plotly.v1+html": [
       "<div id=\"f882b0d8-b927-484b-965d-a8a79f4d653f\" style=\"height: 525px; width: 100%;\" class=\"plotly-graph-div\"></div><script type=\"text/javascript\">require([\"plotly\"], function(Plotly) { window.PLOTLYENV=window.PLOTLYENV || {};window.PLOTLYENV.BASE_URL=\"https://plot.ly\";Plotly.newPlot(\"f882b0d8-b927-484b-965d-a8a79f4d653f\", [{\"type\": \"scatter\", \"x\": [1981, 1982, 1983, 1984, 1985, 1986, 1987, 1988, 1989, 1990, 1991, 1992, 1993, 1994, 1995, 1996, 1997, 1998, 1999, 2000, 2001, 2002, 2003, 2004, 2005, 2006, 2007, 2008, 2009, 2010, 2011, 2012, 2013, 2014, 2015, 2016], \"y\": [1.6, 1.6, 2.29999999999999, 2.2, 2.7, 3.39999999999999, 4.0, 4.2, 4.5, 4.79999999999999, 4.7, 5.09999999999999, 5.79999999999999, 6.2, 7.0, 9.09999999999999, 11.1999999999999, 13.3, 14.5, 19.1, 18.3, 17.5, 19.3, 22.6, 25.8999999999999, 29.1999999999999, 34.8999999999999, 36.8999999999999, 26.1, 27.6, 32.0, 30.6999999999999, 32.7, 36.3999999999999, 37.6, 35.7], \"marker\": {\"color\": \"rgb(204,0,0)\"}}], {\"title\": \"Harvard's Endowment Value Since 1982\", \"yaxis\": {\"title\": \"Endowment Value ($B)\"}, \"xaxis\": {\"title\": \"Year\"}}, {\"showLink\": true, \"linkText\": \"Export to plot.ly\"})});</script>"
      ]
     },
     "metadata": {},
     "output_type": "display_data"
    }
   ],
   "source": [
    "# Endowment value\n",
    "\n",
    "years = endowment['FY']\n",
    "end_val = endowment['Value ($B)']\n",
    "\n",
    "poly_fit = np.polyfit(years, end_val, 3)\n",
    "f = np.poly1d(poly_fit)\n",
    "\n",
    "data = go.Data([\n",
    "        go.Scatter(\n",
    "            x = years,\n",
    "            y = end_val,\n",
    "            marker=go.Marker(color='rgb(204,0,0)')\n",
    "        ),\n",
    "        go.Scatter(\n",
    "            x = years,\n",
    "            y = f(years),\n",
    "            mode='lines',\n",
    "            marker=go.Marker(color='rgb(255, 63, 52)'),\n",
    "            name='Fit'\n",
    "        )\n",
    "])\n",
    "layout = go.Layout(\n",
    "            title = \"Harvard's Endowment Value Since 1982\",\n",
    "            yaxis=dict(\n",
    "                title='Endowment Value ($B)'),\n",
    "            xaxis=dict(\n",
    "                title='Year')\n",
    ")\n",
    "\n",
    "fig = go.Figure(data=data, layout=layout)\n",
    "iplot(fig)"
   ]
  },
  {
   "cell_type": "code",
   "execution_count": 6,
   "metadata": {
    "collapsed": false
   },
   "outputs": [
    {
     "data": {
      "application/vnd.plotly.v1+json": {
       "data": [
        {
         "type": "scatter",
         "uid": "57b32a",
         "x": [
          2000,
          2001,
          2002,
          2003,
          2004,
          2005,
          2006,
          2007,
          2008,
          2009,
          2010,
          2011,
          2012,
          2013,
          2014,
          2015,
          2016
         ],
         "y": [
          0.275,
          0.276,
          0.319,
          0.311999999999999,
          0.310999999999999,
          0.304999999999999,
          0.310999999999999,
          0.325,
          0.344999999999999,
          0.371999999999999,
          0.352999999999999,
          0.316,
          0.351999999999999,
          0.352999999999999,
          0.349999999999999,
          0.349999999999999,
          0.353999999999999
         ]
        }
       ],
       "layout": {
        "autosize": true,
        "title": "Harvard's Endowment Payout (as a % of University revenue) Since 2000",
        "xaxis": {
         "autorange": true,
         "range": [
          1998.9433962264152,
          2017.0566037735848
         ],
         "title": "Year",
         "type": "linear"
        },
        "yaxis": {
         "autorange": true,
         "range": [
          0.2678949044585988,
          0.3791050955414002
         ],
         "title": "Endowment Payout (%)",
         "type": "linear"
        }
       }
      },
      "text/html": [
       "<div id=\"d1704315-e4e7-4333-97a5-52403b363d20\" style=\"height: 525px; width: 100%;\" class=\"plotly-graph-div\"></div><script type=\"text/javascript\">require([\"plotly\"], function(Plotly) { window.PLOTLYENV=window.PLOTLYENV || {};window.PLOTLYENV.BASE_URL=\"https://plot.ly\";Plotly.newPlot(\"d1704315-e4e7-4333-97a5-52403b363d20\", [{\"type\": \"scatter\", \"x\": [2000, 2001, 2002, 2003, 2004, 2005, 2006, 2007, 2008, 2009, 2010, 2011, 2012, 2013, 2014, 2015, 2016], \"y\": [0.275, 0.276, 0.319, 0.311999999999999, 0.310999999999999, 0.304999999999999, 0.310999999999999, 0.325, 0.344999999999999, 0.371999999999999, 0.352999999999999, 0.316, 0.351999999999999, 0.352999999999999, 0.349999999999999, 0.349999999999999, 0.353999999999999]}], {\"title\": \"Harvard's Endowment Payout (as a % of University revenue) Since 2000\", \"yaxis\": {\"title\": \"Endowment Payout (%)\"}, \"xaxis\": {\"title\": \"Year\"}}, {\"showLink\": true, \"linkText\": \"Export to plot.ly\"})});</script>"
      ],
      "text/vnd.plotly.v1+html": [
       "<div id=\"d1704315-e4e7-4333-97a5-52403b363d20\" style=\"height: 525px; width: 100%;\" class=\"plotly-graph-div\"></div><script type=\"text/javascript\">require([\"plotly\"], function(Plotly) { window.PLOTLYENV=window.PLOTLYENV || {};window.PLOTLYENV.BASE_URL=\"https://plot.ly\";Plotly.newPlot(\"d1704315-e4e7-4333-97a5-52403b363d20\", [{\"type\": \"scatter\", \"x\": [2000, 2001, 2002, 2003, 2004, 2005, 2006, 2007, 2008, 2009, 2010, 2011, 2012, 2013, 2014, 2015, 2016], \"y\": [0.275, 0.276, 0.319, 0.311999999999999, 0.310999999999999, 0.304999999999999, 0.310999999999999, 0.325, 0.344999999999999, 0.371999999999999, 0.352999999999999, 0.316, 0.351999999999999, 0.352999999999999, 0.349999999999999, 0.349999999999999, 0.353999999999999]}], {\"title\": \"Harvard's Endowment Payout (as a % of University revenue) Since 2000\", \"yaxis\": {\"title\": \"Endowment Payout (%)\"}, \"xaxis\": {\"title\": \"Year\"}}, {\"showLink\": true, \"linkText\": \"Export to plot.ly\"})});</script>"
      ]
     },
     "metadata": {},
     "output_type": "display_data"
    }
   ],
   "source": [
    "# Payout as a percentage of university revenue\n",
    "data = go.Data([\n",
    "        go.Scatter(\n",
    "            x = endowment_recent['FY'],\n",
    "            y = endowment_recent['Endowment Payout: % of University Revenue']\n",
    "        )])\n",
    "layout = go.Layout(\n",
    "            title = \"Harvard's Endowment Payout (as a % of University revenue) Since 2000\",\n",
    "            yaxis=dict(\n",
    "                title='Endowment Payout (%)'),\n",
    "            xaxis=dict(\n",
    "                title='Year')\n",
    ")\n",
    "\n",
    "fig = go.Figure(data=data, layout=layout)\n",
    "iplot(fig)"
   ]
  },
  {
   "cell_type": "markdown",
   "metadata": {},
   "source": [
    "Save the data for use in another notebook."
   ]
  },
  {
   "cell_type": "code",
   "execution_count": 7,
   "metadata": {
    "collapsed": true
   },
   "outputs": [],
   "source": [
    "with open('VariableData/endowment.pickle', 'wb') as f:\n",
    "    pickle.dump(endowment, f)"
   ]
  },
  {
   "cell_type": "code",
   "execution_count": null,
   "metadata": {
    "collapsed": true
   },
   "outputs": [],
   "source": []
  }
 ],
 "metadata": {
  "kernelspec": {
   "display_name": "Python 3",
   "language": "python",
   "name": "python3"
  },
  "language_info": {
   "codemirror_mode": {
    "name": "ipython",
    "version": 3
   },
   "file_extension": ".py",
   "mimetype": "text/x-python",
   "name": "python",
   "nbconvert_exporter": "python",
   "pygments_lexer": "ipython3",
   "version": "3.6.0"
  },
  "varInspector": {
   "cols": {
    "lenName": 16,
    "lenType": 16,
    "lenVar": 40
   },
   "kernels_config": {
    "python": {
     "delete_cmd_postfix": "",
     "delete_cmd_prefix": "del ",
     "library": "var_list.py",
     "varRefreshCmd": "print(var_dic_list())"
    },
    "r": {
     "delete_cmd_postfix": ") ",
     "delete_cmd_prefix": "rm(",
     "library": "var_list.r",
     "varRefreshCmd": "cat(var_dic_list()) "
    }
   },
   "types_to_exclude": [
    "module",
    "function",
    "builtin_function_or_method",
    "instance",
    "_Feature"
   ],
   "window_display": false
  }
 },
 "nbformat": 4,
 "nbformat_minor": 2
}
