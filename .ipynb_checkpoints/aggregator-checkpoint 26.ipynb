{
 "cells": [
  {
   "cell_type": "code",
   "execution_count": 1,
   "metadata": {
    "collapsed": true
   },
   "outputs": [],
   "source": [
    "%matplotlib inline"
   ]
  },
  {
   "cell_type": "code",
   "execution_count": 2,
   "metadata": {
    "collapsed": false
   },
   "outputs": [],
   "source": [
    "import numpy as np\n",
    "import pandas as pd\n",
    "import math\n",
    "from scipy import stats\n",
    "import pickle\n",
    "from causality.analysis.dataframe import CausalDataFrame\n",
    "from sklearn.linear_model import LinearRegression"
   ]
  },
  {
   "cell_type": "code",
   "execution_count": 3,
   "metadata": {
    "collapsed": false
   },
   "outputs": [
    {
     "data": {
      "text/html": [
       "<script>requirejs.config({paths: { 'plotly': ['https://cdn.plot.ly/plotly-latest.min']},});if(!window.Plotly) {{require(['plotly'],function(plotly) {window.Plotly=plotly;});}}</script>"
      ],
      "text/vnd.plotly.v1+html": [
       "<script>requirejs.config({paths: { 'plotly': ['https://cdn.plot.ly/plotly-latest.min']},});if(!window.Plotly) {{require(['plotly'],function(plotly) {window.Plotly=plotly;});}}</script>"
      ]
     },
     "metadata": {},
     "output_type": "display_data"
    }
   ],
   "source": [
    "import matplotlib.pyplot as plt\n",
    "import matplotlib.font_manager as fm\n",
    "import plotly\n",
    "import plotly.graph_objs as go\n",
    "from plotly.offline import download_plotlyjs, init_notebook_mode, plot, iplot\n",
    "init_notebook_mode(connected=True)"
   ]
  },
  {
   "cell_type": "markdown",
   "metadata": {},
   "source": [
    "Open the data from past notebooks and correct them to only include years that are common between the data structures (>1999)."
   ]
  },
  {
   "cell_type": "code",
   "execution_count": 4,
   "metadata": {
    "collapsed": true
   },
   "outputs": [],
   "source": [
    "with open('VariableData/money_data.pickle', 'rb') as f:\n",
    "    income_data, housing_data, rent_data = pickle.load(f)\n",
    "with open('VariableData/demographic_data.pickle', 'rb') as f:\n",
    "    demographic_data = pickle.load(f)\n",
    "with open('VariableData/endowment.pickle', 'rb') as f:\n",
    "    endowment = pickle.load(f)\n",
    "with open('VariableData/expander.pickle', 'rb') as f:\n",
    "    expander = pickle.load(f)"
   ]
  },
  {
   "cell_type": "code",
   "execution_count": 21,
   "metadata": {
    "collapsed": false
   },
   "outputs": [],
   "source": [
    "endowment = endowment[endowment['FY'] > 1997].reset_index()\n",
    "endowment.drop('index', axis=1, inplace=True)\n",
    "\n",
    "demographic_data = demographic_data[demographic_data['year'] > 1999].reset_index()\n",
    "demographic_data.drop('index', axis=1, inplace=True)\n",
    "\n",
    "income_data = income_data[income_data['year'] > 1999].reset_index()\n",
    "income_data.drop('index', axis=1, inplace=True)\n",
    "\n",
    "housing_data = housing_data[housing_data['year'] > 1999].reset_index()\n",
    "housing_data.drop('index', axis=1, inplace=True)\n",
    "\n",
    "rent_data = rent_data[rent_data['year'] > 1999].reset_index()\n",
    "rent_data.drop('index', axis=1, inplace=True)"
   ]
  },
  {
   "cell_type": "markdown",
   "metadata": {},
   "source": [
    "Define a function to graph (and perform linear regression on) a given set of data."
   ]
  },
  {
   "cell_type": "code",
   "execution_count": 22,
   "metadata": {
    "collapsed": false
   },
   "outputs": [],
   "source": [
    "def grapher(x, y, city, title, ytitle, xtitle, filename):\n",
    "    slope, intercept, r_value, p_value, std_err = stats.linregress(x, y)\n",
    "    fit = slope * x + intercept\n",
    "\n",
    "    trace0 = go.Scatter(\n",
    "                x = x,\n",
    "                y = y,\n",
    "                mode = 'markers',\n",
    "                name=city,\n",
    "                marker=go.Marker(color='#D2232A')\n",
    "            )\n",
    "    fit0 = go.Scatter(\n",
    "                      x = x,\n",
    "                      y = fit,\n",
    "                      mode='lines',\n",
    "                      marker=go.Marker(color='#AC1D23'),\n",
    "                      name='Linear Fit'\n",
    "                      )\n",
    "\n",
    "    data = [trace0, fit0]\n",
    "\n",
    "    layout = go.Layout(\n",
    "                title = title,\n",
    "                font = dict(family='Gotham', size=12),\n",
    "                yaxis=dict(\n",
    "                    title=ytitle\n",
    "                ),\n",
    "                xaxis=dict(\n",
    "                    title=xtitle)\n",
    "            )\n",
    "\n",
    "    fig = go.Figure(data=data, layout=layout)\n",
    "    return iplot(fig, filename=filename)"
   ]
  },
  {
   "cell_type": "markdown",
   "metadata": {},
   "source": [
    "Investigate the connection between the endowment's value and the Black population in Cambridge, controlling for rent and housing prices."
   ]
  },
  {
   "cell_type": "code",
   "execution_count": 23,
   "metadata": {
    "collapsed": false
   },
   "outputs": [
    {
     "name": "stderr",
     "output_type": "stream",
     "text": [
      "/Users/hakeemangulu/anaconda3/lib/python3.6/site-packages/ipykernel_launcher.py:1: FutureWarning:\n",
      "\n",
      "Method .as_matrix will be removed in a future version. Use .values instead.\n",
      "\n",
      "/Users/hakeemangulu/anaconda3/lib/python3.6/site-packages/ipykernel_launcher.py:2: FutureWarning:\n",
      "\n",
      "Method .as_matrix will be removed in a future version. Use .values instead.\n",
      "\n",
      "/Users/hakeemangulu/anaconda3/lib/python3.6/site-packages/ipykernel_launcher.py:3: FutureWarning:\n",
      "\n",
      "Method .as_matrix will be removed in a future version. Use .values instead.\n",
      "\n",
      "/Users/hakeemangulu/anaconda3/lib/python3.6/site-packages/ipykernel_launcher.py:4: FutureWarning:\n",
      "\n",
      "Method .as_matrix will be removed in a future version. Use .values instead.\n",
      "\n"
     ]
    }
   ],
   "source": [
    "x = pd.to_numeric(endowment['Value ($B)']).as_matrix()\n",
    "y = pd.to_numeric(demographic_data['c_black']).as_matrix()\n",
    "z1 = pd.to_numeric(rent_data['cambridge']).as_matrix()\n",
    "z2 = pd.to_numeric(housing_data['cambridge']).as_matrix()\n",
    "X  = CausalDataFrame({'x': x, 'y': y, 'z1': z1, 'z2': z2})"
   ]
  },
  {
   "cell_type": "code",
   "execution_count": 24,
   "metadata": {},
   "outputs": [],
   "source": [
    "plt.rcParams['font.size'] = 10\n",
    "gotham_black = fm.FontProperties(fname='/Users/hakeemangulu/Library/Fonts/Gotham Black Regular.ttf')\n",
    "gotham_book = fm.FontProperties(fname='/Users/hakeemangulu/Library/Fonts/Gotham Book Regular.otf')"
   ]
  },
  {
   "cell_type": "code",
   "execution_count": 37,
   "metadata": {
    "collapsed": false
   },
   "outputs": [
    {
     "name": "stderr",
     "output_type": "stream",
     "text": [
      "/Users/hakeemangulu/anaconda3/lib/python3.6/site-packages/plotly/graph_objs/_deprecations.py:426: DeprecationWarning:\n",
      "\n",
      "plotly.graph_objs.Marker is deprecated.\n",
      "Please replace it with one of the following more specific types\n",
      "  - plotly.graph_objs.scatter.Marker\n",
      "  - plotly.graph_objs.histogram.selected.Marker\n",
      "  - etc.\n",
      "\n",
      "\n"
     ]
    },
    {
     "data": {
      "application/vnd.plotly.v1+json": {
       "data": [
        {
         "marker": {
          "color": "#D2232A"
         },
         "mode": "markers",
         "name": "Cambridge",
         "type": "scatter",
         "uid": "39286422-b4a6-11e8-a631-f21898379586",
         "x": [
          13.3,
          14.5,
          19.1,
          18.3,
          17.5,
          19.3,
          22.6,
          25.8999999999999,
          29.1999999999999,
          34.8999999999999,
          36.8999999999999,
          26.1,
          27.6,
          32,
          30.6999999999999,
          32.7,
          36.3999999999999,
          37.6,
          35.7
         ],
         "y": [
          12420.666666666672,
          12386.816666666666,
          12352.966666666674,
          12319.116666666669,
          12285.266666666663,
          12251.416666666672,
          12217.566666666666,
          12183.716666666674,
          12149.866666666669,
          12116.016666666663,
          12082.166666666672,
          12048.316666666666,
          12014.466666666674,
          11980.616666666669,
          11946.766666666663,
          11912.916666666672,
          11879.066666666666,
          11845.216666666674,
          11811.366666666669
         ]
        },
        {
         "marker": {
          "color": "#AC1D23"
         },
         "mode": "lines",
         "name": "Linear Fit",
         "type": "scatter",
         "uid": "3928659e-b4a6-11e8-80f6-f21898379586",
         "x": [
          13.3,
          14.5,
          19.1,
          18.3,
          17.5,
          19.3,
          22.6,
          25.8999999999999,
          29.1999999999999,
          34.8999999999999,
          36.8999999999999,
          26.1,
          27.6,
          32,
          30.6999999999999,
          32.7,
          36.3999999999999,
          37.6,
          35.7
         ],
         "y": [
          12404.89148474744,
          12379.323371967,
          12281.312272975309,
          12298.357681495603,
          12315.403090015898,
          12277.050920845235,
          12206.738610699023,
          12136.426300552812,
          12066.113990406599,
          11944.665454699505,
          11902.051933398769,
          12132.164948422736,
          12100.204807447186,
          12006.455060585567,
          12034.153849431048,
          11991.540328130312,
          11912.705313723953,
          11887.137200943509,
          11927.620046179209
         ]
        }
       ],
       "layout": {
        "font": {
         "family": "Gotham",
         "size": 12
        },
        "title": "The Correlation Between Endowment and Black Population",
        "xaxis": {
         "title": "Endowment ($B)"
        },
        "yaxis": {
         "title": "Black Population of Cambridge"
        }
       }
      },
      "text/html": [
       "<div id=\"6410ef8c-183b-455f-8ee8-94697232e1ad\" style=\"height: 525px; width: 100%;\" class=\"plotly-graph-div\"></div><script type=\"text/javascript\">require([\"plotly\"], function(Plotly) { window.PLOTLYENV=window.PLOTLYENV || {};window.PLOTLYENV.BASE_URL=\"https://plot.ly\";Plotly.newPlot(\"6410ef8c-183b-455f-8ee8-94697232e1ad\", [{\"marker\": {\"color\": \"#D2232A\"}, \"mode\": \"markers\", \"name\": \"Cambridge\", \"x\": [13.3, 14.5, 19.1, 18.3, 17.5, 19.3, 22.6, 25.8999999999999, 29.1999999999999, 34.8999999999999, 36.8999999999999, 26.1, 27.6, 32.0, 30.6999999999999, 32.7, 36.3999999999999, 37.6, 35.7], \"y\": [12420.666666666672, 12386.816666666666, 12352.966666666674, 12319.116666666669, 12285.266666666663, 12251.416666666672, 12217.566666666666, 12183.716666666674, 12149.866666666669, 12116.016666666663, 12082.166666666672, 12048.316666666666, 12014.466666666674, 11980.616666666669, 11946.766666666663, 11912.916666666672, 11879.066666666666, 11845.216666666674, 11811.366666666669], \"type\": \"scatter\", \"uid\": \"39286422-b4a6-11e8-a631-f21898379586\"}, {\"marker\": {\"color\": \"#AC1D23\"}, \"mode\": \"lines\", \"name\": \"Linear Fit\", \"x\": [13.3, 14.5, 19.1, 18.3, 17.5, 19.3, 22.6, 25.8999999999999, 29.1999999999999, 34.8999999999999, 36.8999999999999, 26.1, 27.6, 32.0, 30.6999999999999, 32.7, 36.3999999999999, 37.6, 35.7], \"y\": [12404.89148474744, 12379.323371967, 12281.312272975309, 12298.357681495603, 12315.403090015898, 12277.050920845235, 12206.738610699023, 12136.426300552812, 12066.113990406599, 11944.665454699505, 11902.051933398769, 12132.164948422736, 12100.204807447186, 12006.455060585567, 12034.153849431048, 11991.540328130312, 11912.705313723953, 11887.137200943509, 11927.620046179209], \"type\": \"scatter\", \"uid\": \"3928659e-b4a6-11e8-80f6-f21898379586\"}], {\"font\": {\"family\": \"Gotham\", \"size\": 12}, \"title\": \"The Correlation Between Endowment and Black Population\", \"xaxis\": {\"title\": \"Endowment ($B)\"}, \"yaxis\": {\"title\": \"Black Population of Cambridge\"}}, {\"showLink\": true, \"linkText\": \"Export to plot.ly\"})});</script>"
      ],
      "text/vnd.plotly.v1+html": [
       "<div id=\"6410ef8c-183b-455f-8ee8-94697232e1ad\" style=\"height: 525px; width: 100%;\" class=\"plotly-graph-div\"></div><script type=\"text/javascript\">require([\"plotly\"], function(Plotly) { window.PLOTLYENV=window.PLOTLYENV || {};window.PLOTLYENV.BASE_URL=\"https://plot.ly\";Plotly.newPlot(\"6410ef8c-183b-455f-8ee8-94697232e1ad\", [{\"marker\": {\"color\": \"#D2232A\"}, \"mode\": \"markers\", \"name\": \"Cambridge\", \"x\": [13.3, 14.5, 19.1, 18.3, 17.5, 19.3, 22.6, 25.8999999999999, 29.1999999999999, 34.8999999999999, 36.8999999999999, 26.1, 27.6, 32.0, 30.6999999999999, 32.7, 36.3999999999999, 37.6, 35.7], \"y\": [12420.666666666672, 12386.816666666666, 12352.966666666674, 12319.116666666669, 12285.266666666663, 12251.416666666672, 12217.566666666666, 12183.716666666674, 12149.866666666669, 12116.016666666663, 12082.166666666672, 12048.316666666666, 12014.466666666674, 11980.616666666669, 11946.766666666663, 11912.916666666672, 11879.066666666666, 11845.216666666674, 11811.366666666669], \"type\": \"scatter\", \"uid\": \"39286422-b4a6-11e8-a631-f21898379586\"}, {\"marker\": {\"color\": \"#AC1D23\"}, \"mode\": \"lines\", \"name\": \"Linear Fit\", \"x\": [13.3, 14.5, 19.1, 18.3, 17.5, 19.3, 22.6, 25.8999999999999, 29.1999999999999, 34.8999999999999, 36.8999999999999, 26.1, 27.6, 32.0, 30.6999999999999, 32.7, 36.3999999999999, 37.6, 35.7], \"y\": [12404.89148474744, 12379.323371967, 12281.312272975309, 12298.357681495603, 12315.403090015898, 12277.050920845235, 12206.738610699023, 12136.426300552812, 12066.113990406599, 11944.665454699505, 11902.051933398769, 12132.164948422736, 12100.204807447186, 12006.455060585567, 12034.153849431048, 11991.540328130312, 11912.705313723953, 11887.137200943509, 11927.620046179209], \"type\": \"scatter\", \"uid\": \"3928659e-b4a6-11e8-80f6-f21898379586\"}], {\"font\": {\"family\": \"Gotham\", \"size\": 12}, \"title\": \"The Correlation Between Endowment and Black Population\", \"xaxis\": {\"title\": \"Endowment ($B)\"}, \"yaxis\": {\"title\": \"Black Population of Cambridge\"}}, {\"showLink\": true, \"linkText\": \"Export to plot.ly\"})});</script>"
      ]
     },
     "metadata": {},
     "output_type": "display_data"
    },
    {
     "data": {
      "image/png": "[encoded data removed]",
      "text/plain": [
       "<Figure size 648x396 with 1 Axes>"
      ]
     },
     "metadata": {},
     "output_type": "display_data"
    }
   ],
   "source": [
    "endow_black = grapher(x, y, \"Cambridge\", \"The Correlation Between Endowment and Black Population\", \"Black Population of Cambridge\", \"Endowment ($B)\", \"endow_black\")\n",
    "causal_endow_black = X.zplot(x='x', y='y', z=['z1', 'z2'], z_types={'z1': 'c', 'z2': 'c'}, kind='line', color=\"#D2232A\")\n",
    "fig = causal_endow_black.get_figure()\n",
    "fig.set_size_inches(9, 5.5)\n",
    "ax = plt.gca()\n",
    "ax.set_frame_on(False)\n",
    "ax.get_yaxis().set_visible(False)\n",
    "ax.legend_.remove()\n",
    "plt.axhline(y=12000, linewidth=0.2, color='#595959')\n",
    "\n",
    "ax.set_title(\"The Controlled Correlation Between Endowment (Billions of Dollars) and Black Population\", fontproperties=gotham_black, size=10, color=\"#595959\")\n",
    "ax.set_xlabel(\"Endowment\", fontproperties=gotham_book, fontsize=10, color=\"#595959\")\n",
    "for tick in ax.get_xticklabels():\n",
    "    tick.set_fontproperties(gotham_book)\n",
    "    tick.set_fontsize(10)\n",
    "    tick.set_color(\"#595959\")\n",
    "\n",
    "fig.savefig('images/black_endow.svg', format='svg', dpi=1200, bbox_inches='tight')"
   ]
  },
  {
   "cell_type": "markdown",
   "metadata": {},
   "source": [
    "Investigate the connection between the endowment's value and the housing prices in Cambridge, controlling for growth of the population."
   ]
  },
  {
   "cell_type": "code",
   "execution_count": 10,
   "metadata": {
    "collapsed": true
   },
   "outputs": [
    {
     "name": "stderr",
     "output_type": "stream",
     "text": [
      "/Users/hakeemangulu/anaconda3/lib/python3.6/site-packages/ipykernel_launcher.py:1: FutureWarning:\n",
      "\n",
      "Method .as_matrix will be removed in a future version. Use .values instead.\n",
      "\n",
      "/Users/hakeemangulu/anaconda3/lib/python3.6/site-packages/ipykernel_launcher.py:2: FutureWarning:\n",
      "\n",
      "Method .as_matrix will be removed in a future version. Use .values instead.\n",
      "\n",
      "/Users/hakeemangulu/anaconda3/lib/python3.6/site-packages/ipykernel_launcher.py:3: FutureWarning:\n",
      "\n",
      "Method .as_matrix will be removed in a future version. Use .values instead.\n",
      "\n",
      "/Users/hakeemangulu/anaconda3/lib/python3.6/site-packages/ipykernel_launcher.py:4: FutureWarning:\n",
      "\n",
      "Method .as_matrix will be removed in a future version. Use .values instead.\n",
      "\n"
     ]
    }
   ],
   "source": [
    "x = pd.to_numeric(endowment['Value ($B)']).as_matrix()\n",
    "y = pd.to_numeric(housing_data['cambridge']).as_matrix()\n",
    "z1 = pd.to_numeric(demographic_data['c_white']).as_matrix()\n",
    "z2 = pd.to_numeric(demographic_data['c_poc']).as_matrix()\n",
    "X  = CausalDataFrame({'x': x, 'y': y, 'z1': z1, 'z2': z2})"
   ]
  },
  {
   "cell_type": "code",
   "execution_count": 20,
   "metadata": {
    "collapsed": false
   },
   "outputs": [
    {
     "name": "stderr",
     "output_type": "stream",
     "text": [
      "/Users/hakeemangulu/anaconda3/lib/python3.6/site-packages/plotly/graph_objs/_deprecations.py:426: DeprecationWarning:\n",
      "\n",
      "plotly.graph_objs.Marker is deprecated.\n",
      "Please replace it with one of the following more specific types\n",
      "  - plotly.graph_objs.scatter.Marker\n",
      "  - plotly.graph_objs.histogram.selected.Marker\n",
      "  - etc.\n",
      "\n",
      "\n"
     ]
    },
    {
     "data": {
      "application/vnd.plotly.v1+json": {
       "data": [
        {
         "marker": {
          "color": "#D2232A"
         },
         "mode": "markers",
         "name": "Cambridge",
         "type": "scatter",
         "uid": "0ae670e8-b4a6-11e8-a24d-f21898379586",
         "x": [
          8467151,
          8751365,
          10366585,
          10233641,
          12083442,
          13771156,
          14592500,
          15173863,
          13388612,
          13366092,
          14282663,
          15987554,
          14216649,
          14120766,
          11023666,
          15266613,
          18472321
         ],
         "y": [
          1100,
          1224.7999999999884,
          1349.6000000000058,
          1474.3999999999942,
          1599.1999999999825,
          1724,
          1848.7999999999884,
          1973.6000000000058,
          2098.399999999994,
          2223.1999999999825,
          2348,
          2472.7999999999884,
          2597.600000000006,
          2722.399999999994,
          2847.1999999999825,
          2972,
          3096.7999999999884
         ]
        },
        {
         "marker": {
          "color": "#AC1D23"
         },
         "mode": "lines",
         "name": "Linear Fit",
         "type": "scatter",
         "uid": "0ae672ca-b4a6-11e8-9d9a-f21898379586",
         "x": [
          8467151,
          8751365,
          10366585,
          10233641,
          12083442,
          13771156,
          14592500,
          15173863,
          13388612,
          13366092,
          14282663,
          15987554,
          14216649,
          14120766,
          11023666,
          15266613,
          18472321
         ],
         "y": [
          1269.4377433463935,
          1319.7403182057672,
          1605.6154860875652,
          1582.0859431653143,
          1909.479221742176,
          2208.184985097298,
          2353.5533274213826,
          2456.4478218093086,
          2140.479143031094,
          2136.493364758971,
          2298.7157793530123,
          2600.4616720767076,
          2287.032068569002,
          2270.06189192309,
          1721.911186479425,
          2472.8634938670075,
          3040.236553066388
         ]
        }
       ],
       "layout": {
        "font": {
         "family": "Gotham",
         "size": 12
        },
        "title": "The Correlation Between Endowment and Housing Prices",
        "xaxis": {
         "title": "Endowment ($B)"
        },
        "yaxis": {
         "title": "Housing Prices in Cambridge"
        }
       }
      },
      "text/html": [
       "<div id=\"f8eea18e-f7b2-4931-884b-96cbfe932bea\" style=\"height: 525px; width: 100%;\" class=\"plotly-graph-div\"></div><script type=\"text/javascript\">require([\"plotly\"], function(Plotly) { window.PLOTLYENV=window.PLOTLYENV || {};window.PLOTLYENV.BASE_URL=\"https://plot.ly\";Plotly.newPlot(\"f8eea18e-f7b2-4931-884b-96cbfe932bea\", [{\"marker\": {\"color\": \"#D2232A\"}, \"mode\": \"markers\", \"name\": \"Cambridge\", \"x\": [8467151, 8751365, 10366585, 10233641, 12083442, 13771156, 14592500, 15173863, 13388612, 13366092, 14282663, 15987554, 14216649, 14120766, 11023666, 15266613, 18472321], \"y\": [1100.0, 1224.7999999999884, 1349.6000000000058, 1474.3999999999942, 1599.1999999999825, 1724.0, 1848.7999999999884, 1973.6000000000058, 2098.399999999994, 2223.1999999999825, 2348.0, 2472.7999999999884, 2597.600000000006, 2722.399999999994, 2847.1999999999825, 2972.0, 3096.7999999999884], \"type\": \"scatter\", \"uid\": \"0ae670e8-b4a6-11e8-a24d-f21898379586\"}, {\"marker\": {\"color\": \"#AC1D23\"}, \"mode\": \"lines\", \"name\": \"Linear Fit\", \"x\": [8467151, 8751365, 10366585, 10233641, 12083442, 13771156, 14592500, 15173863, 13388612, 13366092, 14282663, 15987554, 14216649, 14120766, 11023666, 15266613, 18472321], \"y\": [1269.4377433463935, 1319.7403182057672, 1605.6154860875652, 1582.0859431653143, 1909.479221742176, 2208.184985097298, 2353.5533274213826, 2456.4478218093086, 2140.479143031094, 2136.493364758971, 2298.7157793530123, 2600.4616720767076, 2287.032068569002, 2270.06189192309, 1721.911186479425, 2472.8634938670075, 3040.236553066388], \"type\": \"scatter\", \"uid\": \"0ae672ca-b4a6-11e8-9d9a-f21898379586\"}], {\"font\": {\"family\": \"Gotham\", \"size\": 12}, \"title\": \"The Correlation Between Endowment and Housing Prices\", \"xaxis\": {\"title\": \"Endowment ($B)\"}, \"yaxis\": {\"title\": \"Housing Prices in Cambridge\"}}, {\"showLink\": true, \"linkText\": \"Export to plot.ly\"})});</script>"
      ],
      "text/vnd.plotly.v1+html": [
       "<div id=\"f8eea18e-f7b2-4931-884b-96cbfe932bea\" style=\"height: 525px; width: 100%;\" class=\"plotly-graph-div\"></div><script type=\"text/javascript\">require([\"plotly\"], function(Plotly) { window.PLOTLYENV=window.PLOTLYENV || {};window.PLOTLYENV.BASE_URL=\"https://plot.ly\";Plotly.newPlot(\"f8eea18e-f7b2-4931-884b-96cbfe932bea\", [{\"marker\": {\"color\": \"#D2232A\"}, \"mode\": \"markers\", \"name\": \"Cambridge\", \"x\": [8467151, 8751365, 10366585, 10233641, 12083442, 13771156, 14592500, 15173863, 13388612, 13366092, 14282663, 15987554, 14216649, 14120766, 11023666, 15266613, 18472321], \"y\": [1100.0, 1224.7999999999884, 1349.6000000000058, 1474.3999999999942, 1599.1999999999825, 1724.0, 1848.7999999999884, 1973.6000000000058, 2098.399999999994, 2223.1999999999825, 2348.0, 2472.7999999999884, 2597.600000000006, 2722.399999999994, 2847.1999999999825, 2972.0, 3096.7999999999884], \"type\": \"scatter\", \"uid\": \"0ae670e8-b4a6-11e8-a24d-f21898379586\"}, {\"marker\": {\"color\": \"#AC1D23\"}, \"mode\": \"lines\", \"name\": \"Linear Fit\", \"x\": [8467151, 8751365, 10366585, 10233641, 12083442, 13771156, 14592500, 15173863, 13388612, 13366092, 14282663, 15987554, 14216649, 14120766, 11023666, 15266613, 18472321], \"y\": [1269.4377433463935, 1319.7403182057672, 1605.6154860875652, 1582.0859431653143, 1909.479221742176, 2208.184985097298, 2353.5533274213826, 2456.4478218093086, 2140.479143031094, 2136.493364758971, 2298.7157793530123, 2600.4616720767076, 2287.032068569002, 2270.06189192309, 1721.911186479425, 2472.8634938670075, 3040.236553066388], \"type\": \"scatter\", \"uid\": \"0ae672ca-b4a6-11e8-9d9a-f21898379586\"}], {\"font\": {\"family\": \"Gotham\", \"size\": 12}, \"title\": \"The Correlation Between Endowment and Housing Prices\", \"xaxis\": {\"title\": \"Endowment ($B)\"}, \"yaxis\": {\"title\": \"Housing Prices in Cambridge\"}}, {\"showLink\": true, \"linkText\": \"Export to plot.ly\"})});</script>"
      ]
     },
     "metadata": {},
     "output_type": "display_data"
    },
    {
     "data": {
      "image/png": "[encoded data removed]",
      "text/plain": [
       "<Figure size 648x396 with 1 Axes>"
      ]
     },
     "metadata": {},
     "output_type": "display_data"
    }
   ],
   "source": [
    "endow_housing = grapher(x, y, \"Cambridge\", \"The Correlation Between Endowment and Housing Prices\", \"Housing Prices in Cambridge\", \"Endowment ($B)\", \"endow_housing\")\n",
    "causal_endow_housing = X.zplot(x='x', y='y', z=['z1', 'z2'], z_types={'z1': 'c', 'z2': 'c'}, kind='line', color=\"#D2232A\")\n",
    "\n",
    "fig = causal_endow_housing.get_figure()\n",
    "fig.set_size_inches(9, 5.5)\n",
    "\n",
    "ax = plt.gca()\n",
    "ax.set_frame_on(False)\n",
    "ax.get_yaxis().set_visible(False)\n",
    "ax.legend_.remove()\n",
    "plt.axhline(y=2000, linewidth=0.2, color='#595959')\n",
    "\n",
    "ax.set_title(\"The Controlled Correlation Between Endowment (Billions of Dollars) and Housing Prices\", fontproperties=gotham_black, size=10, color=\"#595959\")\n",
    "ax.set_xlabel(\"Endowment\", fontproperties=gotham_book, fontsize=10, color=\"#595959\")\n",
    "for tick in ax.get_xticklabels():\n",
    "    tick.set_fontproperties(gotham_book)\n",
    "    tick.set_fontsize(10)\n",
    "    tick.set_color(\"#595959\")\n",
    "fig.savefig('images/housing_endow.svg', format='svg', dpi=1200, bbox_inches='tight')"
   ]
  },
  {
   "cell_type": "markdown",
   "metadata": {},
   "source": [
    "Investigate the connection between the endowment's value and the rent prices in Cambridge, controlling for growth of the population."
   ]
  },
  {
   "cell_type": "code",
   "execution_count": 12,
   "metadata": {
    "collapsed": true
   },
   "outputs": [
    {
     "name": "stderr",
     "output_type": "stream",
     "text": [
      "/Users/hakeemangulu/anaconda3/lib/python3.6/site-packages/ipykernel_launcher.py:1: FutureWarning:\n",
      "\n",
      "Method .as_matrix will be removed in a future version. Use .values instead.\n",
      "\n",
      "/Users/hakeemangulu/anaconda3/lib/python3.6/site-packages/ipykernel_launcher.py:2: FutureWarning:\n",
      "\n",
      "Method .as_matrix will be removed in a future version. Use .values instead.\n",
      "\n",
      "/Users/hakeemangulu/anaconda3/lib/python3.6/site-packages/ipykernel_launcher.py:3: FutureWarning:\n",
      "\n",
      "Method .as_matrix will be removed in a future version. Use .values instead.\n",
      "\n",
      "/Users/hakeemangulu/anaconda3/lib/python3.6/site-packages/ipykernel_launcher.py:4: FutureWarning:\n",
      "\n",
      "Method .as_matrix will be removed in a future version. Use .values instead.\n",
      "\n"
     ]
    }
   ],
   "source": [
    "x = pd.to_numeric(endowment['Value ($B)']).as_matrix()\n",
    "y = pd.to_numeric(rent_data['cambridge']).as_matrix()\n",
    "z1 = pd.to_numeric(demographic_data['c_white']).as_matrix()\n",
    "z2 = pd.to_numeric(demographic_data['c_poc']).as_matrix()\n",
    "X  = CausalDataFrame({'x': x, 'y': y, 'z1': z1, 'z2': z2})"
   ]
  },
  {
   "cell_type": "code",
   "execution_count": 13,
   "metadata": {
    "collapsed": false
   },
   "outputs": [
    {
     "name": "stderr",
     "output_type": "stream",
     "text": [
      "/Users/hakeemangulu/anaconda3/lib/python3.6/site-packages/plotly/graph_objs/_deprecations.py:426: DeprecationWarning:\n",
      "\n",
      "plotly.graph_objs.Marker is deprecated.\n",
      "Please replace it with one of the following more specific types\n",
      "  - plotly.graph_objs.scatter.Marker\n",
      "  - plotly.graph_objs.histogram.selected.Marker\n",
      "  - etc.\n",
      "\n",
      "\n"
     ]
    },
    {
     "data": {
      "application/vnd.plotly.v1+json": {
       "data": [
        {
         "marker": {
          "color": "#D2232A"
         },
         "mode": "markers",
         "name": "Cambridge",
         "type": "scatter",
         "uid": "29e57034-b4a0-11e8-bfbd-f21898379586",
         "x": [
          13.3,
          14.5,
          19.1,
          18.3,
          17.5,
          19.3,
          22.6,
          25.8999999999999,
          29.1999999999999,
          34.8999999999999,
          36.8999999999999,
          26.1,
          27.6,
          32,
          30.6999999999999,
          32.7,
          36.3999999999999,
          37.6,
          35.7
         ],
         "y": [
          1100,
          1224.7999999999884,
          1349.6000000000058,
          1474.3999999999942,
          1599.1999999999825,
          1724,
          1848.7999999999884,
          1973.6000000000058,
          2098.399999999994,
          2223.1999999999825,
          2348,
          2472.7999999999884,
          2597.600000000006,
          2722.399999999994,
          2847.1999999999825,
          2972,
          3096.7999999999884,
          3221.600000000006,
          3346.399999999994
         ]
        },
        {
         "marker": {
          "color": "#AC1D23"
         },
         "mode": "lines",
         "name": "Linear Fit",
         "type": "scatter",
         "uid": "29e57190-b4a0-11e8-bc80-f21898379586",
         "x": [
          13.3,
          14.5,
          19.1,
          18.3,
          17.5,
          19.3,
          22.6,
          25.8999999999999,
          29.1999999999999,
          34.8999999999999,
          36.8999999999999,
          26.1,
          27.6,
          32,
          30.6999999999999,
          32.7,
          36.3999999999999,
          37.6,
          35.7
         ],
         "y": [
          1158.1607888779754,
          1252.4266817878438,
          1613.7792712756725,
          1550.9353426690936,
          1488.0914140625146,
          1629.4902534273172,
          1888.7214589294551,
          2147.9526644315847,
          2407.183869933723,
          2854.9468612555975,
          3012.056682772045,
          2163.663646583238,
          2281.496012720573,
          2627.137620056757,
          2525.0162360710583,
          2682.1260575875135,
          2972.779227392933,
          3067.045120302809,
          2917.7907898621847
         ]
        }
       ],
       "layout": {
        "font": {
         "family": "Gotham",
         "size": 12
        },
        "title": "The Correlation Between Endowment and Rent",
        "xaxis": {
         "title": "Endowment ($B)"
        },
        "yaxis": {
         "title": "Rent in Cambridge"
        }
       }
      },
      "text/html": [
       "<div id=\"1de6eccb-39b5-446e-bc7a-4d2eb7ef4c89\" style=\"height: 525px; width: 100%;\" class=\"plotly-graph-div\"></div><script type=\"text/javascript\">require([\"plotly\"], function(Plotly) { window.PLOTLYENV=window.PLOTLYENV || {};window.PLOTLYENV.BASE_URL=\"https://plot.ly\";Plotly.newPlot(\"1de6eccb-39b5-446e-bc7a-4d2eb7ef4c89\", [{\"marker\": {\"color\": \"#D2232A\"}, \"mode\": \"markers\", \"name\": \"Cambridge\", \"x\": [13.3, 14.5, 19.1, 18.3, 17.5, 19.3, 22.6, 25.8999999999999, 29.1999999999999, 34.8999999999999, 36.8999999999999, 26.1, 27.6, 32.0, 30.6999999999999, 32.7, 36.3999999999999, 37.6, 35.7], \"y\": [1100.0, 1224.7999999999884, 1349.6000000000058, 1474.3999999999942, 1599.1999999999825, 1724.0, 1848.7999999999884, 1973.6000000000058, 2098.399999999994, 2223.1999999999825, 2348.0, 2472.7999999999884, 2597.600000000006, 2722.399999999994, 2847.1999999999825, 2972.0, 3096.7999999999884, 3221.600000000006, 3346.399999999994], \"type\": \"scatter\", \"uid\": \"29e57034-b4a0-11e8-bfbd-f21898379586\"}, {\"marker\": {\"color\": \"#AC1D23\"}, \"mode\": \"lines\", \"name\": \"Linear Fit\", \"x\": [13.3, 14.5, 19.1, 18.3, 17.5, 19.3, 22.6, 25.8999999999999, 29.1999999999999, 34.8999999999999, 36.8999999999999, 26.1, 27.6, 32.0, 30.6999999999999, 32.7, 36.3999999999999, 37.6, 35.7], \"y\": [1158.1607888779754, 1252.4266817878438, 1613.7792712756725, 1550.9353426690936, 1488.0914140625146, 1629.4902534273172, 1888.7214589294551, 2147.9526644315847, 2407.183869933723, 2854.9468612555975, 3012.056682772045, 2163.663646583238, 2281.496012720573, 2627.137620056757, 2525.0162360710583, 2682.1260575875135, 2972.779227392933, 3067.045120302809, 2917.7907898621847], \"type\": \"scatter\", \"uid\": \"29e57190-b4a0-11e8-bc80-f21898379586\"}], {\"font\": {\"family\": \"Gotham\", \"size\": 12}, \"title\": \"The Correlation Between Endowment and Rent\", \"xaxis\": {\"title\": \"Endowment ($B)\"}, \"yaxis\": {\"title\": \"Rent in Cambridge\"}}, {\"showLink\": true, \"linkText\": \"Export to plot.ly\"})});</script>"
      ],
      "text/vnd.plotly.v1+html": [
       "<div id=\"1de6eccb-39b5-446e-bc7a-4d2eb7ef4c89\" style=\"height: 525px; width: 100%;\" class=\"plotly-graph-div\"></div><script type=\"text/javascript\">require([\"plotly\"], function(Plotly) { window.PLOTLYENV=window.PLOTLYENV || {};window.PLOTLYENV.BASE_URL=\"https://plot.ly\";Plotly.newPlot(\"1de6eccb-39b5-446e-bc7a-4d2eb7ef4c89\", [{\"marker\": {\"color\": \"#D2232A\"}, \"mode\": \"markers\", \"name\": \"Cambridge\", \"x\": [13.3, 14.5, 19.1, 18.3, 17.5, 19.3, 22.6, 25.8999999999999, 29.1999999999999, 34.8999999999999, 36.8999999999999, 26.1, 27.6, 32.0, 30.6999999999999, 32.7, 36.3999999999999, 37.6, 35.7], \"y\": [1100.0, 1224.7999999999884, 1349.6000000000058, 1474.3999999999942, 1599.1999999999825, 1724.0, 1848.7999999999884, 1973.6000000000058, 2098.399999999994, 2223.1999999999825, 2348.0, 2472.7999999999884, 2597.600000000006, 2722.399999999994, 2847.1999999999825, 2972.0, 3096.7999999999884, 3221.600000000006, 3346.399999999994], \"type\": \"scatter\", \"uid\": \"29e57034-b4a0-11e8-bfbd-f21898379586\"}, {\"marker\": {\"color\": \"#AC1D23\"}, \"mode\": \"lines\", \"name\": \"Linear Fit\", \"x\": [13.3, 14.5, 19.1, 18.3, 17.5, 19.3, 22.6, 25.8999999999999, 29.1999999999999, 34.8999999999999, 36.8999999999999, 26.1, 27.6, 32.0, 30.6999999999999, 32.7, 36.3999999999999, 37.6, 35.7], \"y\": [1158.1607888779754, 1252.4266817878438, 1613.7792712756725, 1550.9353426690936, 1488.0914140625146, 1629.4902534273172, 1888.7214589294551, 2147.9526644315847, 2407.183869933723, 2854.9468612555975, 3012.056682772045, 2163.663646583238, 2281.496012720573, 2627.137620056757, 2525.0162360710583, 2682.1260575875135, 2972.779227392933, 3067.045120302809, 2917.7907898621847], \"type\": \"scatter\", \"uid\": \"29e57190-b4a0-11e8-bc80-f21898379586\"}], {\"font\": {\"family\": \"Gotham\", \"size\": 12}, \"title\": \"The Correlation Between Endowment and Rent\", \"xaxis\": {\"title\": \"Endowment ($B)\"}, \"yaxis\": {\"title\": \"Rent in Cambridge\"}}, {\"showLink\": true, \"linkText\": \"Export to plot.ly\"})});</script>"
      ]
     },
     "metadata": {},
     "output_type": "display_data"
    },
    {
     "data": {
      "image/png": "[encoded data removed]",
      "text/plain": [
       "<Figure size 648x396 with 1 Axes>"
      ]
     },
     "metadata": {},
     "output_type": "display_data"
    }
   ],
   "source": [
    "endow_rent = grapher(x, y, \"Cambridge\", \"The Correlation Between Endowment and Rent\", \"Rent in Cambridge\", \"Endowment ($B)\", \"endow_rent\")\n",
    "causal_endow_rent = X.zplot(x='x', y='y', z=['z1', 'z2'], z_types={'z1': 'c', 'z2': 'c'}, kind='line')\n",
    "\n",
    "fig = causal_endow_rent.get_figure()\n",
    "fig.set_size_inches(9, 5.5)\n",
    "\n",
    "ax = plt.gca()\n",
    "ax.set_frame_on(False)\n",
    "ax.get_yaxis().set_visible(False)\n",
    "ax.legend_.remove()\n",
    "\n",
    "ax.set_title(\"The Controlled Correlation Between Endowment (Billions of Dollars) and Rent\", fontproperties=gotham_black, size=10, color=\"#595959\")\n",
    "ax.set_xlabel(\"Endowment\", fontproperties=gotham_book, fontsize=10, color=\"#595959\")\n",
    "for tick in ax.get_xticklabels():\n",
    "    tick.set_fontproperties(gotham_book)\n",
    "    tick.set_fontsize(10)\n",
    "    tick.set_color(\"#595959\")\n",
    "    \n",
    "fig.savefig('images/rent_endow.svg', format='svg', dpi=1200, bbox_inches='tight')"
   ]
  },
  {
   "cell_type": "markdown",
   "metadata": {},
   "source": [
    "Investigate the connection between the amount Harvard pays the city of Cambridge per year (PILOT) and the rent prices in Cambridge, controlling for growth of the population."
   ]
  },
  {
   "cell_type": "code",
   "execution_count": 14,
   "metadata": {
    "collapsed": false
   },
   "outputs": [
    {
     "name": "stderr",
     "output_type": "stream",
     "text": [
      "/Users/hakeemangulu/anaconda3/lib/python3.6/site-packages/ipykernel_launcher.py:1: FutureWarning:\n",
      "\n",
      "Method .as_matrix will be removed in a future version. Use .values instead.\n",
      "\n",
      "/Users/hakeemangulu/anaconda3/lib/python3.6/site-packages/ipykernel_launcher.py:2: FutureWarning:\n",
      "\n",
      "Method .as_matrix will be removed in a future version. Use .values instead.\n",
      "\n",
      "/Users/hakeemangulu/anaconda3/lib/python3.6/site-packages/ipykernel_launcher.py:5: FutureWarning:\n",
      "\n",
      "Method .as_matrix will be removed in a future version. Use .values instead.\n",
      "\n",
      "/Users/hakeemangulu/anaconda3/lib/python3.6/site-packages/ipykernel_launcher.py:7: FutureWarning:\n",
      "\n",
      "Method .as_matrix will be removed in a future version. Use .values instead.\n",
      "\n"
     ]
    }
   ],
   "source": [
    "x = pd.to_numeric(expander['Payments to City']).as_matrix()\n",
    "y = pd.to_numeric(rent_data['cambridge']).as_matrix()\n",
    "# Remove the last two elements of the other arrays – PILOT data is not sufficient otherwise.\n",
    "y = y[:-2].copy()\n",
    "z1 = pd.to_numeric(demographic_data['c_white']).as_matrix()\n",
    "z1 = z1[:-2].copy()\n",
    "z2 = pd.to_numeric(demographic_data['c_poc']).as_matrix()\n",
    "z2 = z2[:-2].copy()\n",
    "X  = CausalDataFrame({'x': x, 'y': y, 'z1': z1, 'z2': z2})"
   ]
  },
  {
   "cell_type": "code",
   "execution_count": 15,
   "metadata": {
    "collapsed": false
   },
   "outputs": [
    {
     "name": "stderr",
     "output_type": "stream",
     "text": [
      "/Users/hakeemangulu/anaconda3/lib/python3.6/site-packages/plotly/graph_objs/_deprecations.py:426: DeprecationWarning:\n",
      "\n",
      "plotly.graph_objs.Marker is deprecated.\n",
      "Please replace it with one of the following more specific types\n",
      "  - plotly.graph_objs.scatter.Marker\n",
      "  - plotly.graph_objs.histogram.selected.Marker\n",
      "  - etc.\n",
      "\n",
      "\n"
     ]
    },
    {
     "data": {
      "application/vnd.plotly.v1+json": {
       "data": [
        {
         "marker": {
          "color": "#D2232A"
         },
         "mode": "markers",
         "name": "Cambridge",
         "type": "scatter",
         "uid": "2a1c0e4c-b4a0-11e8-a10a-f21898379586",
         "x": [
          8467151,
          8751365,
          10366585,
          10233641,
          12083442,
          13771156,
          14592500,
          15173863,
          13388612,
          13366092,
          14282663,
          15987554,
          14216649,
          14120766,
          11023666,
          15266613,
          18472321
         ],
         "y": [
          1100,
          1224.7999999999884,
          1349.6000000000058,
          1474.3999999999942,
          1599.1999999999825,
          1724,
          1848.7999999999884,
          1973.6000000000058,
          2098.399999999994,
          2223.1999999999825,
          2348,
          2472.7999999999884,
          2597.600000000006,
          2722.399999999994,
          2847.1999999999825,
          2972,
          3096.7999999999884
         ]
        },
        {
         "marker": {
          "color": "#AC1D23"
         },
         "mode": "lines",
         "name": "Linear Fit",
         "type": "scatter",
         "uid": "2a1c0f86-b4a0-11e8-90e4-f21898379586",
         "x": [
          8467151,
          8751365,
          10366585,
          10233641,
          12083442,
          13771156,
          14592500,
          15173863,
          13388612,
          13366092,
          14282663,
          15987554,
          14216649,
          14120766,
          11023666,
          15266613,
          18472321
         ],
         "y": [
          1269.4377433463935,
          1319.7403182057672,
          1605.6154860875652,
          1582.0859431653143,
          1909.479221742176,
          2208.184985097298,
          2353.5533274213826,
          2456.4478218093086,
          2140.479143031094,
          2136.493364758971,
          2298.7157793530123,
          2600.4616720767076,
          2287.032068569002,
          2270.06189192309,
          1721.911186479425,
          2472.8634938670075,
          3040.236553066388
         ]
        }
       ],
       "layout": {
        "font": {
         "family": "Gotham",
         "size": 12
        },
        "title": "The Correlation Between Harvard's PILOT and Rent",
        "xaxis": {
         "title": "PILOT ($)"
        },
        "yaxis": {
         "title": "Rent in Cambridge"
        }
       }
      },
      "text/html": [
       "<div id=\"47de1dd5-460a-4d38-bcf9-c73729c2f511\" style=\"height: 525px; width: 100%;\" class=\"plotly-graph-div\"></div><script type=\"text/javascript\">require([\"plotly\"], function(Plotly) { window.PLOTLYENV=window.PLOTLYENV || {};window.PLOTLYENV.BASE_URL=\"https://plot.ly\";Plotly.newPlot(\"47de1dd5-460a-4d38-bcf9-c73729c2f511\", [{\"marker\": {\"color\": \"#D2232A\"}, \"mode\": \"markers\", \"name\": \"Cambridge\", \"x\": [8467151, 8751365, 10366585, 10233641, 12083442, 13771156, 14592500, 15173863, 13388612, 13366092, 14282663, 15987554, 14216649, 14120766, 11023666, 15266613, 18472321], \"y\": [1100.0, 1224.7999999999884, 1349.6000000000058, 1474.3999999999942, 1599.1999999999825, 1724.0, 1848.7999999999884, 1973.6000000000058, 2098.399999999994, 2223.1999999999825, 2348.0, 2472.7999999999884, 2597.600000000006, 2722.399999999994, 2847.1999999999825, 2972.0, 3096.7999999999884], \"type\": \"scatter\", \"uid\": \"2a1c0e4c-b4a0-11e8-a10a-f21898379586\"}, {\"marker\": {\"color\": \"#AC1D23\"}, \"mode\": \"lines\", \"name\": \"Linear Fit\", \"x\": [8467151, 8751365, 10366585, 10233641, 12083442, 13771156, 14592500, 15173863, 13388612, 13366092, 14282663, 15987554, 14216649, 14120766, 11023666, 15266613, 18472321], \"y\": [1269.4377433463935, 1319.7403182057672, 1605.6154860875652, 1582.0859431653143, 1909.479221742176, 2208.184985097298, 2353.5533274213826, 2456.4478218093086, 2140.479143031094, 2136.493364758971, 2298.7157793530123, 2600.4616720767076, 2287.032068569002, 2270.06189192309, 1721.911186479425, 2472.8634938670075, 3040.236553066388], \"type\": \"scatter\", \"uid\": \"2a1c0f86-b4a0-11e8-90e4-f21898379586\"}], {\"font\": {\"family\": \"Gotham\", \"size\": 12}, \"title\": \"The Correlation Between Harvard's PILOT and Rent\", \"xaxis\": {\"title\": \"PILOT ($)\"}, \"yaxis\": {\"title\": \"Rent in Cambridge\"}}, {\"showLink\": true, \"linkText\": \"Export to plot.ly\"})});</script>"
      ],
      "text/vnd.plotly.v1+html": [
       "<div id=\"47de1dd5-460a-4d38-bcf9-c73729c2f511\" style=\"height: 525px; width: 100%;\" class=\"plotly-graph-div\"></div><script type=\"text/javascript\">require([\"plotly\"], function(Plotly) { window.PLOTLYENV=window.PLOTLYENV || {};window.PLOTLYENV.BASE_URL=\"https://plot.ly\";Plotly.newPlot(\"47de1dd5-460a-4d38-bcf9-c73729c2f511\", [{\"marker\": {\"color\": \"#D2232A\"}, \"mode\": \"markers\", \"name\": \"Cambridge\", \"x\": [8467151, 8751365, 10366585, 10233641, 12083442, 13771156, 14592500, 15173863, 13388612, 13366092, 14282663, 15987554, 14216649, 14120766, 11023666, 15266613, 18472321], \"y\": [1100.0, 1224.7999999999884, 1349.6000000000058, 1474.3999999999942, 1599.1999999999825, 1724.0, 1848.7999999999884, 1973.6000000000058, 2098.399999999994, 2223.1999999999825, 2348.0, 2472.7999999999884, 2597.600000000006, 2722.399999999994, 2847.1999999999825, 2972.0, 3096.7999999999884], \"type\": \"scatter\", \"uid\": \"2a1c0e4c-b4a0-11e8-a10a-f21898379586\"}, {\"marker\": {\"color\": \"#AC1D23\"}, \"mode\": \"lines\", \"name\": \"Linear Fit\", \"x\": [8467151, 8751365, 10366585, 10233641, 12083442, 13771156, 14592500, 15173863, 13388612, 13366092, 14282663, 15987554, 14216649, 14120766, 11023666, 15266613, 18472321], \"y\": [1269.4377433463935, 1319.7403182057672, 1605.6154860875652, 1582.0859431653143, 1909.479221742176, 2208.184985097298, 2353.5533274213826, 2456.4478218093086, 2140.479143031094, 2136.493364758971, 2298.7157793530123, 2600.4616720767076, 2287.032068569002, 2270.06189192309, 1721.911186479425, 2472.8634938670075, 3040.236553066388], \"type\": \"scatter\", \"uid\": \"2a1c0f86-b4a0-11e8-90e4-f21898379586\"}], {\"font\": {\"family\": \"Gotham\", \"size\": 12}, \"title\": \"The Correlation Between Harvard's PILOT and Rent\", \"xaxis\": {\"title\": \"PILOT ($)\"}, \"yaxis\": {\"title\": \"Rent in Cambridge\"}}, {\"showLink\": true, \"linkText\": \"Export to plot.ly\"})});</script>"
      ]
     },
     "metadata": {},
     "output_type": "display_data"
    },
    {
     "data": {
      "image/png": "[encoded data removed]",
      "text/plain": [
       "<Figure size 432x288 with 1 Axes>"
      ]
     },
     "metadata": {},
     "output_type": "display_data"
    }
   ],
   "source": [
    "pilot_rent = grapher(x, y, \"Cambridge\", \"The Correlation Between Harvard's PILOT and Rent\", \"Rent in Cambridge\", \"PILOT ($)\", \"pilot_rent\")\n",
    "causal_endow_rent = X.zplot(x='x', y='y', z=['z1', 'z2'], z_types={'z1': 'c', 'z2': 'c'}, kind='line')"
   ]
  },
  {
   "cell_type": "code",
   "execution_count": null,
   "metadata": {
    "collapsed": true
   },
   "outputs": [],
   "source": []
  }
 ],
 "metadata": {
  "kernelspec": {
   "display_name": "Python 3",
   "language": "python",
   "name": "python3"
  },
  "language_info": {
   "codemirror_mode": {
    "name": "ipython",
    "version": 3
   },
   "file_extension": ".py",
   "mimetype": "text/x-python",
   "name": "python",
   "nbconvert_exporter": "python",
   "pygments_lexer": "ipython3",
   "version": "3.6.5"
  },
  "varInspector": {
   "cols": {
    "lenName": 16,
    "lenType": 16,
    "lenVar": 40
   },
   "kernels_config": {
    "python": {
     "delete_cmd_postfix": "",
     "delete_cmd_prefix": "del ",
     "library": "var_list.py",
     "varRefreshCmd": "print(var_dic_list())"
    },
    "r": {
     "delete_cmd_postfix": ") ",
     "delete_cmd_prefix": "rm(",
     "library": "var_list.r",
     "varRefreshCmd": "cat(var_dic_list()) "
    }
   },
   "types_to_exclude": [
    "module",
    "function",
    "builtin_function_or_method",
    "instance",
    "_Feature"
   ],
   "window_display": false
  }
 },
 "nbformat": 4,
 "nbformat_minor": 2
}
