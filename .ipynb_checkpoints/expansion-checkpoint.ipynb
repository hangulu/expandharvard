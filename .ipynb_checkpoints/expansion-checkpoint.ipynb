{
 "cells": [
  {
   "cell_type": "markdown",
   "metadata": {},
   "source": [
    "## Harvard's Expansion\n",
    "A continuation/complication of the physical impact document, this document will outline how Harvard has changed over the past 2 decades, starting in the year 2000 and ending in the year 2016.\n",
    "\n",
    "The majority of the data for this expansion was pulled from: http://www.cambridgema.gov/CDD/planud/institutionalplanning/oldertowngownreports.\n",
    "\n",
    "The \"change\" will focus on Cambridge, where the data is most readily available and complete. Future projects may focus on other key places for Harvard's expansion, like Allston. Harvard's change is found in its taxable and tax-exempt property growth, its student population growth, and the taxes and PILOT (Payment in Lieu of Taxes) paid to Cambridge."
   ]
  },
  {
   "cell_type": "code",
   "execution_count": 30,
   "metadata": {
    "collapsed": true
   },
   "outputs": [],
   "source": [
    "import numpy as np\n",
    "import pandas as pd\n",
    "from scipy import stats\n",
    "import pickle"
   ]
  },
  {
   "cell_type": "code",
   "execution_count": 3,
   "metadata": {
    "collapsed": true
   },
   "outputs": [],
   "source": [
    "import matplotlib.pyplot as plt\n",
    "import plotly\n",
    "import plotly.plotly as py\n",
    "import plotly.graph_objs as go"
   ]
  },
  {
   "cell_type": "code",
   "execution_count": 4,
   "metadata": {
    "collapsed": true
   },
   "outputs": [],
   "source": [
    "plotly.tools.set_credentials_file(username='hangulu', api_key='78VR3oagCeoHkdYiKB4b')"
   ]
  },
  {
   "cell_type": "code",
   "execution_count": 5,
   "metadata": {
    "collapsed": false
   },
   "outputs": [
    {
     "data": {
      "text/html": [
       "<div>\n",
       "<style>\n",
       "    .dataframe thead tr:only-child th {\n",
       "        text-align: right;\n",
       "    }\n",
       "\n",
       "    .dataframe thead th {\n",
       "        text-align: left;\n",
       "    }\n",
       "\n",
       "    .dataframe tbody tr th {\n",
       "        vertical-align: top;\n",
       "    }\n",
       "</style>\n",
       "<table border=\"1\" class=\"dataframe\">\n",
       "  <thead>\n",
       "    <tr style=\"text-align: right;\">\n",
       "      <th></th>\n",
       "      <th>Year</th>\n",
       "      <th>Student Population</th>\n",
       "      <th>Tax Exempt Property (SF)</th>\n",
       "      <th>Tax Exempt Property (A)</th>\n",
       "      <th>Taxable Property (SF)</th>\n",
       "      <th>Taxable Property (A)</th>\n",
       "      <th>Payments to City</th>\n",
       "    </tr>\n",
       "  </thead>\n",
       "  <tbody>\n",
       "    <tr>\n",
       "      <th>0</th>\n",
       "      <td>2000</td>\n",
       "      <td>20529</td>\n",
       "      <td>11800000</td>\n",
       "      <td>271.0</td>\n",
       "      <td>900000</td>\n",
       "      <td>21.0</td>\n",
       "      <td>8467151</td>\n",
       "    </tr>\n",
       "    <tr>\n",
       "      <th>1</th>\n",
       "      <td>2001</td>\n",
       "      <td>20975</td>\n",
       "      <td>11500000</td>\n",
       "      <td>264.0</td>\n",
       "      <td>995100</td>\n",
       "      <td>23.0</td>\n",
       "      <td>8751365</td>\n",
       "    </tr>\n",
       "    <tr>\n",
       "      <th>2</th>\n",
       "      <td>2002</td>\n",
       "      <td>20791</td>\n",
       "      <td>11640000</td>\n",
       "      <td>267.0</td>\n",
       "      <td>1130000</td>\n",
       "      <td>26.0</td>\n",
       "      <td>10366585</td>\n",
       "    </tr>\n",
       "    <tr>\n",
       "      <th>3</th>\n",
       "      <td>2003</td>\n",
       "      <td>21273</td>\n",
       "      <td>11640000</td>\n",
       "      <td>267.0</td>\n",
       "      <td>1300000</td>\n",
       "      <td>30.0</td>\n",
       "      <td>10233641</td>\n",
       "    </tr>\n",
       "    <tr>\n",
       "      <th>4</th>\n",
       "      <td>2004</td>\n",
       "      <td>21201</td>\n",
       "      <td>8450640</td>\n",
       "      <td>194.0</td>\n",
       "      <td>1263240</td>\n",
       "      <td>29.0</td>\n",
       "      <td>12083442</td>\n",
       "    </tr>\n",
       "  </tbody>\n",
       "</table>\n",
       "</div>"
      ],
      "text/plain": [
       "   Year  Student Population  Tax Exempt Property (SF)  \\\n",
       "0  2000               20529                  11800000   \n",
       "1  2001               20975                  11500000   \n",
       "2  2002               20791                  11640000   \n",
       "3  2003               21273                  11640000   \n",
       "4  2004               21201                   8450640   \n",
       "\n",
       "   Tax Exempt Property (A)  Taxable Property (SF)  Taxable Property (A)  \\\n",
       "0                    271.0                 900000                  21.0   \n",
       "1                    264.0                 995100                  23.0   \n",
       "2                    267.0                1130000                  26.0   \n",
       "3                    267.0                1300000                  30.0   \n",
       "4                    194.0                1263240                  29.0   \n",
       "\n",
       "   Payments to City  \n",
       "0           8467151  \n",
       "1           8751365  \n",
       "2          10366585  \n",
       "3          10233641  \n",
       "4          12083442  "
      ]
     },
     "execution_count": 5,
     "metadata": {},
     "output_type": "execute_result"
    }
   ],
   "source": [
    "expander = pd.read_excel(\"towngown_data.xlsx\", header=1)\n",
    "expander = expander.round(0)\n",
    "expander.head()"
   ]
  },
  {
   "cell_type": "code",
   "execution_count": 10,
   "metadata": {
    "collapsed": false
   },
   "outputs": [
    {
     "data": {
      "text/html": [
       "<iframe id=\"igraph\" scrolling=\"no\" style=\"border:none;\" seamless=\"seamless\" src=\"https://plot.ly/~hangulu/8.embed\" height=\"525px\" width=\"100%\"></iframe>"
      ],
      "text/plain": [
       "<plotly.tools.PlotlyDisplay object>"
      ]
     },
     "execution_count": 10,
     "metadata": {},
     "output_type": "execute_result"
    }
   ],
   "source": [
    "# Growth of student population\n",
    "years = pd.to_numeric(expander['Year']).as_matrix()\n",
    "stud_pop = pd.to_numeric(expander['Student Population']).as_matrix()\n",
    "\n",
    "slope, intercept, r_value, p_value, std_err = stats.linregress(years, stud_pop)\n",
    "studpop_fit = slope * years + intercept\n",
    "\n",
    "data = go.Data([\n",
    "        go.Scatter(\n",
    "            x = years,\n",
    "            y = stud_pop\n",
    "        ),\n",
    "        go.Scatter(\n",
    "            x = years,\n",
    "            y = studpop_fit,\n",
    "            mode='lines',\n",
    "            marker=go.Marker(color='rgb(255, 63, 52)'),\n",
    "            name='Fit'\n",
    "            )])\n",
    "layout = go.Layout(\n",
    "            title = \"The Growth of Harvard's Student Population\",\n",
    "            yaxis=dict(\n",
    "                title='Number of Students'),\n",
    "            xaxis=dict(\n",
    "                title='Year')\n",
    ")\n",
    "\n",
    "fig = go.Figure(data=data, layout=layout)\n",
    "py.iplot(fig, filename='student_population')"
   ]
  },
  {
   "cell_type": "code",
   "execution_count": 14,
   "metadata": {
    "collapsed": false,
    "scrolled": false
   },
   "outputs": [
    {
     "data": {
      "text/html": [
       "<iframe id=\"igraph\" scrolling=\"no\" style=\"border:none;\" seamless=\"seamless\" src=\"https://plot.ly/~hangulu/10.embed\" height=\"525px\" width=\"100%\"></iframe>"
      ],
      "text/plain": [
       "<plotly.tools.PlotlyDisplay object>"
      ]
     },
     "execution_count": 14,
     "metadata": {},
     "output_type": "execute_result"
    }
   ],
   "source": [
    "# Growth of property\n",
    "years = np.arange(2003, 2017)\n",
    "post_2000 = expander[expander['Year'] > 2002]\n",
    "props = pd.to_numeric(post_2000['Taxable Property (A)']).as_matrix()\n",
    "\n",
    "slope, intercept, r_value, p_value, std_err = stats.linregress(years, props)\n",
    "props_fit = slope * years + intercept\n",
    "\n",
    "trace0 = go.Scatter(\n",
    "            x = expander['Year'],\n",
    "            y = expander['Tax Exempt Property (A)'],\n",
    "            name='Tax Exempt'\n",
    "        )\n",
    "trace1 = go.Scatter(\n",
    "            x = expander['Year'],\n",
    "            y = expander['Taxable Property (A)'],\n",
    "            name='Taxable',\n",
    "            yaxis='y2'\n",
    "        )\n",
    "fit0 = go.Scatter(\n",
    "            x = years,\n",
    "            y = props_fit,\n",
    "            mode='lines',\n",
    "            marker=go.Marker(color='rgb(76, 209, 55)'),\n",
    "            name='Taxable Fit',\n",
    "            yaxis='y2'\n",
    "        )\n",
    "\n",
    "data = [trace0, trace1, fit0]\n",
    "\n",
    "layout = go.Layout(\n",
    "            title = \"The Growth of Harvard's Property in Cambridge Since 2000\",\n",
    "            yaxis=dict(\n",
    "                title='Tax Exempt Property (Acres)'\n",
    "            ),\n",
    "            yaxis2=dict(\n",
    "                title='Taxable Property (Acres)',\n",
    "                overlaying='y',\n",
    "                side='right'\n",
    "            ),\n",
    "            xaxis=dict(\n",
    "                title='Year')\n",
    "        )\n",
    "\n",
    "fig = go.Figure(data=data, layout=layout)\n",
    "py.iplot(fig, filename='property_expansion')"
   ]
  },
  {
   "cell_type": "code",
   "execution_count": 28,
   "metadata": {
    "collapsed": false
   },
   "outputs": [
    {
     "data": {
      "text/html": [
       "<iframe id=\"igraph\" scrolling=\"no\" style=\"border:none;\" seamless=\"seamless\" src=\"https://plot.ly/~hangulu/14.embed\" height=\"525px\" width=\"100%\"></iframe>"
      ],
      "text/plain": [
       "<plotly.tools.PlotlyDisplay object>"
      ]
     },
     "execution_count": 28,
     "metadata": {},
     "output_type": "execute_result"
    }
   ],
   "source": [
    "# Change in payments to Cambridge\n",
    "\n",
    "years = pd.to_numeric(expander['Year']).as_matrix()\n",
    "pay_city = pd.to_numeric(expander['Payments to City']).as_matrix()\n",
    "\n",
    "poly_fit = np.polyfit(years, pay_city, 3)\n",
    "f = np.poly1d(poly_fit)\n",
    "\n",
    "data = go.Data([\n",
    "        go.Scatter(\n",
    "            x = years,\n",
    "            y = pay_city,\n",
    "            name='Data'\n",
    "        ),\n",
    "        go.Scatter(\n",
    "            x = years,\n",
    "            y = f(years),\n",
    "            mode='lines',\n",
    "            marker=go.Marker(color='rgb(255, 63, 52)'),\n",
    "            name='Fit'\n",
    "            )])\n",
    "layout = go.Layout(\n",
    "            title = \"How Harvard Pays Cambridge Annually\",\n",
    "            yaxis=dict(\n",
    "                title='Payments to Cambridge (USD)'),\n",
    "            xaxis=dict(\n",
    "                title='Year')\n",
    ")\n",
    "\n",
    "\n",
    "\n",
    "fig = go.Figure(data=data, layout=layout)\n",
    "py.iplot(fig, filename='pay_city')"
   ]
  },
  {
   "cell_type": "markdown",
   "metadata": {
    "collapsed": true
   },
   "source": [
    "Save the data for use in another notebook."
   ]
  },
  {
   "cell_type": "code",
   "execution_count": 31,
   "metadata": {
    "collapsed": false
   },
   "outputs": [],
   "source": [
    "with open('VariableData/expander.pickle', 'wb') as f:\n",
    "    pickle.dump(expander, f)"
   ]
  },
  {
   "cell_type": "code",
   "execution_count": null,
   "metadata": {
    "collapsed": true
   },
   "outputs": [],
   "source": []
  }
 ],
 "metadata": {
  "kernelspec": {
   "display_name": "Python 3",
   "language": "python",
   "name": "python3"
  },
  "language_info": {
   "codemirror_mode": {
    "name": "ipython",
    "version": 3
   },
   "file_extension": ".py",
   "mimetype": "text/x-python",
   "name": "python",
   "nbconvert_exporter": "python",
   "pygments_lexer": "ipython3",
   "version": "3.6.0"
  },
  "varInspector": {
   "cols": {
    "lenName": 16,
    "lenType": 16,
    "lenVar": 40
   },
   "kernels_config": {
    "python": {
     "delete_cmd_postfix": "",
     "delete_cmd_prefix": "del ",
     "library": "var_list.py",
     "varRefreshCmd": "print(var_dic_list())"
    },
    "r": {
     "delete_cmd_postfix": ") ",
     "delete_cmd_prefix": "rm(",
     "library": "var_list.r",
     "varRefreshCmd": "cat(var_dic_list()) "
    }
   },
   "types_to_exclude": [
    "module",
    "function",
    "builtin_function_or_method",
    "instance",
    "_Feature"
   ],
   "window_display": false
  }
 },
 "nbformat": 4,
 "nbformat_minor": 2
}
