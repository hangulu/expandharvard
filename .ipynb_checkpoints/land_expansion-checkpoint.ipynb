{
 "cells": [
  {
   "cell_type": "code",
   "execution_count": 1,
   "metadata": {},
   "outputs": [],
   "source": [
    "%matplotlib inline"
   ]
  },
  {
   "cell_type": "code",
   "execution_count": 21,
   "metadata": {},
   "outputs": [],
   "source": [
    "import numpy as np\n",
    "import pandas as pd\n",
    "import math\n",
    "from scipy import stats\n",
    "import pickle\n",
    "from causality.analysis.dataframe import CausalDataFrame\n",
    "from sklearn.linear_model import LinearRegression\n",
    "import datetime"
   ]
  },
  {
   "cell_type": "code",
   "execution_count": 3,
   "metadata": {},
   "outputs": [
    {
     "data": {
      "text/html": [
       "<script>requirejs.config({paths: { 'plotly': ['https://cdn.plot.ly/plotly-latest.min']},});if(!window.Plotly) {{require(['plotly'],function(plotly) {window.Plotly=plotly;});}}</script>"
      ],
      "text/vnd.plotly.v1+html": [
       "<script>requirejs.config({paths: { 'plotly': ['https://cdn.plot.ly/plotly-latest.min']},});if(!window.Plotly) {{require(['plotly'],function(plotly) {window.Plotly=plotly;});}}</script>"
      ]
     },
     "metadata": {},
     "output_type": "display_data"
    }
   ],
   "source": [
    "import matplotlib.pyplot as plt\n",
    "import plotly\n",
    "import plotly.graph_objs as go\n",
    "from plotly.offline import download_plotlyjs, init_notebook_mode, plot, iplot\n",
    "init_notebook_mode(connected=True)"
   ]
  },
  {
   "cell_type": "markdown",
   "metadata": {},
   "source": [
    "Open the data from past notebooks and correct them to only include years that are common between the data structures (>1999)."
   ]
  },
  {
   "cell_type": "code",
   "execution_count": 15,
   "metadata": {},
   "outputs": [],
   "source": [
    "with open('VariableData/money_data.pickle', 'rb') as f:\n",
    "    income_data, housing_data, rent_data = pickle.load(f)\n",
    "with open('VariableData/demographic_data.pickle', 'rb') as f:\n",
    "    demographic_data = pickle.load(f)\n",
    "with open('VariableData/endowment.pickle', 'rb') as f:\n",
    "    endowment = pickle.load(f)\n",
    "with open('VariableData/expander.pickle', 'rb') as f:\n",
    "    expander = pickle.load(f)"
   ]
  },
  {
   "cell_type": "code",
   "execution_count": 5,
   "metadata": {},
   "outputs": [],
   "source": [
    "endowment = endowment[endowment['FY'] > 1997].reset_index()\n",
    "endowment.drop('index', axis=1, inplace=True)\n",
    "\n",
    "demographic_data = demographic_data[demographic_data['year'] > 1999].reset_index()\n",
    "demographic_data.drop('index', axis=1, inplace=True)\n",
    "\n",
    "income_data = income_data[income_data['year'] > 1999].reset_index()\n",
    "income_data.drop('index', axis=1, inplace=True)\n",
    "\n",
    "housing_data = housing_data[housing_data['year'] > 1999].reset_index()\n",
    "housing_data.drop('index', axis=1, inplace=True)\n",
    "\n",
    "rent_data = rent_data[rent_data['year'] > 1999].reset_index()\n",
    "rent_data.drop('index', axis=1, inplace=True)"
   ]
  },
  {
   "cell_type": "markdown",
   "metadata": {},
   "source": [
    "Read in the data on Harvard owned land and Cambridge's property records. Restrict the Harvard data to Cambridge, MA."
   ]
  },
  {
   "cell_type": "code",
   "execution_count": 6,
   "metadata": {},
   "outputs": [],
   "source": [
    "harvard_land = pd.read_excel(\"Spreadsheets/2018_building_reference_list.xlsx\", header=3)\n",
    "harvard_land = harvard_land[harvard_land['City'] == 'Cambridge']"
   ]
  },
  {
   "cell_type": "code",
   "execution_count": 7,
   "metadata": {},
   "outputs": [],
   "source": [
    "cambridge_property = pd.read_excel(\"Spreadsheets/cambridge_properties.xlsx\")"
   ]
  },
  {
   "cell_type": "markdown",
   "metadata": {},
   "source": [
    "Restrict the Cambridge data to Harvard properties, and only use relevant columns."
   ]
  },
  {
   "cell_type": "code",
   "execution_count": 8,
   "metadata": {},
   "outputs": [],
   "source": [
    "cambridge_property = cambridge_property[cambridge_property['Owner_Name'] == 'PRESIDENT & FELLOWS OF HARVARD COLLEGE']"
   ]
  },
  {
   "cell_type": "code",
   "execution_count": 9,
   "metadata": {},
   "outputs": [],
   "source": [
    "cambridge_property = cambridge_property[['Address', 'PropertyClass', 'LandArea', 'BuildingValue', 'LandValue', 'AssessedValue', 'SalePrice', 'SaleDate', 'Owner_Name']]"
   ]
  },
  {
   "cell_type": "markdown",
   "metadata": {},
   "source": [
    "Fix the time data."
   ]
  },
  {
   "cell_type": "code",
   "execution_count": 10,
   "metadata": {},
   "outputs": [],
   "source": [
    "cambridge_property['SaleDate'] = pd.to_datetime(cambridge_property['SaleDate'], infer_datetime_format=True)"
   ]
  },
  {
   "cell_type": "code",
   "execution_count": 13,
   "metadata": {},
   "outputs": [],
   "source": [
    "clean_property = cambridge_property.drop_duplicates(subset=['Address'])"
   ]
  },
  {
   "cell_type": "markdown",
   "metadata": {},
   "source": [
    "Only look at properties purchased after 2000."
   ]
  },
  {
   "cell_type": "code",
   "execution_count": 120,
   "metadata": {},
   "outputs": [],
   "source": [
    "recent_property = clean_property[clean_property['SaleDate'] > datetime.date(2000, 1, 1)]"
   ]
  },
  {
   "cell_type": "code",
   "execution_count": 38,
   "metadata": {},
   "outputs": [],
   "source": [
    "property_numbers = recent_property[['LandArea', 'AssessedValue', 'SalePrice']]\n",
    "num_recent = recent_property['Address'].count()\n",
    "sum_properties = property_numbers.sum()"
   ]
  },
  {
   "cell_type": "code",
   "execution_count": 39,
   "metadata": {},
   "outputs": [
    {
     "data": {
      "text/plain": [
       "LandArea            281219\n",
       "AssessedValue    112671400\n",
       "SalePrice         53436500\n",
       "dtype: int64"
      ]
     },
     "execution_count": 39,
     "metadata": {},
     "output_type": "execute_result"
    }
   ],
   "source": [
    "sum_properties"
   ]
  },
  {
   "cell_type": "code",
   "execution_count": 43,
   "metadata": {},
   "outputs": [],
   "source": [
    "full_property_numbers = clean_property[['LandArea', 'AssessedValue', 'SalePrice']]\n",
    "sum_full = full_property_numbers.sum()"
   ]
  },
  {
   "cell_type": "code",
   "execution_count": 46,
   "metadata": {},
   "outputs": [],
   "source": [
    "delta_property = sum_properties / sum_full"
   ]
  },
  {
   "cell_type": "code",
   "execution_count": 47,
   "metadata": {},
   "outputs": [
    {
     "data": {
      "text/plain": [
       "LandArea         0.028368\n",
       "AssessedValue    0.017136\n",
       "SalePrice        0.410431\n",
       "dtype: float64"
      ]
     },
     "execution_count": 47,
     "metadata": {},
     "output_type": "execute_result"
    }
   ],
   "source": [
    "delta_property"
   ]
  },
  {
   "cell_type": "markdown",
   "metadata": {},
   "source": [
    "What can be gathered from above?\n",
    "\n",
    "Since the year 2000, Harvard has increased its presence in Cambridge by about 3%, corresponding to about 2% of its overall assessed value, an increase of 281,219 square feet and \\$112,671,400. Although the assessed value increase is so high, Harvard only paid \\$53,436,500 for the property at their time of purchase.\n",
    "\n",
    "To make some adjustments for inflation:\n",
    "\n",
    "Note that the inflation rate since 2000 is ~37.8% (https://data.bls.gov/timeseries/CUUR0000SA0L1E?output_view=pct_12mths)."
   ]
  },
  {
   "cell_type": "code",
   "execution_count": 121,
   "metadata": {},
   "outputs": [
    {
     "name": "stderr",
     "output_type": "stream",
     "text": [
      "/anaconda/lib/python3.6/site-packages/ipykernel/__main__.py:6: SettingWithCopyWarning:\n",
      "\n",
      "\n",
      "A value is trying to be set on a copy of a slice from a DataFrame.\n",
      "Try using .loc[row_indexer,col_indexer] = value instead\n",
      "\n",
      "See the caveats in the documentation: http://pandas.pydata.org/pandas-docs/stable/indexing.html#indexing-view-versus-copy\n",
      "\n"
     ]
    }
   ],
   "source": [
    "inflation_data = pd.read_excel(\"Spreadsheets/inflation.xlsx\", header=11)\n",
    "inflation_data = inflation_data[['Year', 'Jan']]\n",
    "inflation_data['Year'] = pd.to_datetime(inflation_data['Year'], format='%Y')\n",
    "inflation_data['CumulativeInflation'] = inflation_data['Jan'].cumsum()\n",
    "inflation_data.rename(columns={'Year' : 'SaleDate'}, inplace=True)\n",
    "recent_property['SaleDate'] = recent_property['SaleDate'].dt.year\n",
    "inflation_data['SaleDate'] = inflation_data['SaleDate'].dt.year"
   ]
  },
  {
   "cell_type": "code",
   "execution_count": 122,
   "metadata": {},
   "outputs": [],
   "source": [
    "recent_property = pd.merge(recent_property, inflation_data, how=\"left\", on=['SaleDate'])\n",
    "recent_property = recent_property.drop('Jan', 1)"
   ]
  },
  {
   "cell_type": "code",
   "execution_count": 128,
   "metadata": {},
   "outputs": [],
   "source": [
    "recent_property['TodaySale'] = (1 + (recent_property['CumulativeInflation'] / 100)) * recent_property['SalePrice']"
   ]
  },
  {
   "cell_type": "code",
   "execution_count": 129,
   "metadata": {},
   "outputs": [],
   "source": [
    "today_sale_sum = recent_property['TodaySale'].sum()"
   ]
  },
  {
   "cell_type": "code",
   "execution_count": 130,
   "metadata": {},
   "outputs": [
    {
     "data": {
      "text/plain": [
       "60866875.6"
      ]
     },
     "execution_count": 130,
     "metadata": {},
     "output_type": "execute_result"
    }
   ],
   "source": [
    "today_sale_sum"
   ]
  },
  {
   "cell_type": "code",
   "execution_count": 133,
   "metadata": {},
   "outputs": [
    {
     "data": {
      "text/plain": [
       "51804524.399999999"
      ]
     },
     "execution_count": 133,
     "metadata": {},
     "output_type": "execute_result"
    }
   ],
   "source": [
    "sum_properties['AssessedValue'] - today_sale_sum"
   ]
  },
  {
   "cell_type": "markdown",
   "metadata": {},
   "source": [
    "Hence, adjusted for inflation, the sale price of the property Harvard has acquired since 2000 is \\$60,866,875.\n",
    "\n",
    "The difference between this value and the assessed value of the property (in 2018) is: \\$51,804,524, showing that Harvard's property has appreciated in value even more than (twice more than) inflation would account for, illustrating a clear advantageous dynamic for Harvard."
   ]
  },
  {
   "cell_type": "code",
   "execution_count": 141,
   "metadata": {},
   "outputs": [
    {
     "data": {
      "text/html": [
       "<div>\n",
       "<style>\n",
       "    .dataframe thead tr:only-child th {\n",
       "        text-align: right;\n",
       "    }\n",
       "\n",
       "    .dataframe thead th {\n",
       "        text-align: left;\n",
       "    }\n",
       "\n",
       "    .dataframe tbody tr th {\n",
       "        vertical-align: top;\n",
       "    }\n",
       "</style>\n",
       "<table border=\"1\" class=\"dataframe\">\n",
       "  <thead>\n",
       "    <tr style=\"text-align: right;\">\n",
       "      <th></th>\n",
       "      <th>Address</th>\n",
       "      <th>PropertyClass</th>\n",
       "      <th>LandArea</th>\n",
       "      <th>BuildingValue</th>\n",
       "      <th>LandValue</th>\n",
       "      <th>AssessedValue</th>\n",
       "      <th>SalePrice</th>\n",
       "      <th>SaleDate</th>\n",
       "      <th>Owner_Name</th>\n",
       "      <th>CumulativeInflation</th>\n",
       "      <th>TodaySale</th>\n",
       "      <th>CumLand</th>\n",
       "      <th>CumValue</th>\n",
       "    </tr>\n",
       "  </thead>\n",
       "  <tbody>\n",
       "    <tr>\n",
       "      <th>0</th>\n",
       "      <td>113 Walker St</td>\n",
       "      <td>SNGL-FAM-RES</td>\n",
       "      <td>9121</td>\n",
       "      <td>2973800</td>\n",
       "      <td>1740000</td>\n",
       "      <td>4713800</td>\n",
       "      <td>1600000</td>\n",
       "      <td>2000</td>\n",
       "      <td>PRESIDENT &amp; FELLOWS OF HARVARD COLLEGE</td>\n",
       "      <td>2.0</td>\n",
       "      <td>1632000.0</td>\n",
       "      <td>9121</td>\n",
       "      <td>4713800</td>\n",
       "    </tr>\n",
       "    <tr>\n",
       "      <th>1</th>\n",
       "      <td>100 Land Blvd</td>\n",
       "      <td>Private College, University</td>\n",
       "      <td>65683</td>\n",
       "      <td>43883200</td>\n",
       "      <td>19941400</td>\n",
       "      <td>63824600</td>\n",
       "      <td>100</td>\n",
       "      <td>2002</td>\n",
       "      <td>PRESIDENT &amp; FELLOWS OF HARVARD COLLEGE</td>\n",
       "      <td>7.2</td>\n",
       "      <td>107.2</td>\n",
       "      <td>74804</td>\n",
       "      <td>68538400</td>\n",
       "    </tr>\n",
       "    <tr>\n",
       "      <th>2</th>\n",
       "      <td>24 Blackstone St</td>\n",
       "      <td>Private College, University</td>\n",
       "      <td>109943</td>\n",
       "      <td>3784300</td>\n",
       "      <td>8000000</td>\n",
       "      <td>11784300</td>\n",
       "      <td>14118000</td>\n",
       "      <td>2003</td>\n",
       "      <td>PRESIDENT &amp; FELLOWS OF HARVARD COLLEGE</td>\n",
       "      <td>9.1</td>\n",
       "      <td>15402738.0</td>\n",
       "      <td>184747</td>\n",
       "      <td>80322700</td>\n",
       "    </tr>\n",
       "    <tr>\n",
       "      <th>3</th>\n",
       "      <td>45 Blackstone St</td>\n",
       "      <td>CONDO-BLDG</td>\n",
       "      <td>43988</td>\n",
       "      <td>0</td>\n",
       "      <td>0</td>\n",
       "      <td>0</td>\n",
       "      <td>14118000</td>\n",
       "      <td>2003</td>\n",
       "      <td>PRESIDENT &amp; FELLOWS OF HARVARD COLLEGE</td>\n",
       "      <td>9.1</td>\n",
       "      <td>15402738.0</td>\n",
       "      <td>228735</td>\n",
       "      <td>80322700</td>\n",
       "    </tr>\n",
       "    <tr>\n",
       "      <th>4</th>\n",
       "      <td>153 Mt Auburn St</td>\n",
       "      <td>Private College, University</td>\n",
       "      <td>10233</td>\n",
       "      <td>1228800</td>\n",
       "      <td>484700</td>\n",
       "      <td>1713500</td>\n",
       "      <td>0</td>\n",
       "      <td>2003</td>\n",
       "      <td>PRESIDENT &amp; FELLOWS OF HARVARD COLLEGE</td>\n",
       "      <td>9.1</td>\n",
       "      <td>0.0</td>\n",
       "      <td>238968</td>\n",
       "      <td>82036200</td>\n",
       "    </tr>\n",
       "    <tr>\n",
       "      <th>5</th>\n",
       "      <td>0 Arrow St</td>\n",
       "      <td>Private College, University</td>\n",
       "      <td>0</td>\n",
       "      <td>8753600</td>\n",
       "      <td>0</td>\n",
       "      <td>8753600</td>\n",
       "      <td>5700000</td>\n",
       "      <td>2004</td>\n",
       "      <td>PRESIDENT &amp; FELLOWS OF HARVARD COLLEGE</td>\n",
       "      <td>10.2</td>\n",
       "      <td>6281400.0</td>\n",
       "      <td>238968</td>\n",
       "      <td>90789800</td>\n",
       "    </tr>\n",
       "    <tr>\n",
       "      <th>6</th>\n",
       "      <td>20 Sumner Rd</td>\n",
       "      <td>Private College, University</td>\n",
       "      <td>8184</td>\n",
       "      <td>607000</td>\n",
       "      <td>1152400</td>\n",
       "      <td>1759400</td>\n",
       "      <td>1288000</td>\n",
       "      <td>2010</td>\n",
       "      <td>PRESIDENT &amp; FELLOWS OF HARVARD COLLEGE</td>\n",
       "      <td>23.1</td>\n",
       "      <td>1585528.0</td>\n",
       "      <td>247152</td>\n",
       "      <td>92549200</td>\n",
       "    </tr>\n",
       "    <tr>\n",
       "      <th>7</th>\n",
       "      <td>42 Kirkland St</td>\n",
       "      <td>Private College, University</td>\n",
       "      <td>10518</td>\n",
       "      <td>1564400</td>\n",
       "      <td>925600</td>\n",
       "      <td>2490000</td>\n",
       "      <td>4112400</td>\n",
       "      <td>2010</td>\n",
       "      <td>PRESIDENT &amp; FELLOWS OF HARVARD COLLEGE</td>\n",
       "      <td>23.1</td>\n",
       "      <td>5062364.4</td>\n",
       "      <td>257670</td>\n",
       "      <td>95039200</td>\n",
       "    </tr>\n",
       "    <tr>\n",
       "      <th>8</th>\n",
       "      <td>9 Ash St</td>\n",
       "      <td>SNGL-FAM-RES</td>\n",
       "      <td>4800</td>\n",
       "      <td>303200</td>\n",
       "      <td>1426200</td>\n",
       "      <td>1729400</td>\n",
       "      <td>1250000</td>\n",
       "      <td>2010</td>\n",
       "      <td>PRESIDENT &amp; FELLOWS OF HARVARD COLLEGE</td>\n",
       "      <td>23.1</td>\n",
       "      <td>1538750.0</td>\n",
       "      <td>262470</td>\n",
       "      <td>96768600</td>\n",
       "    </tr>\n",
       "    <tr>\n",
       "      <th>9</th>\n",
       "      <td>122 Mt Auburn St</td>\n",
       "      <td>MULTIUSE-RES</td>\n",
       "      <td>18749</td>\n",
       "      <td>9884800</td>\n",
       "      <td>6018000</td>\n",
       "      <td>15902800</td>\n",
       "      <td>11250000</td>\n",
       "      <td>2011</td>\n",
       "      <td>PRESIDENT &amp; FELLOWS OF HARVARD COLLEGE</td>\n",
       "      <td>24.1</td>\n",
       "      <td>13961250.0</td>\n",
       "      <td>281219</td>\n",
       "      <td>112671400</td>\n",
       "    </tr>\n",
       "  </tbody>\n",
       "</table>\n",
       "</div>"
      ],
      "text/plain": [
       "            Address                PropertyClass  LandArea  BuildingValue  \\\n",
       "0     113 Walker St                 SNGL-FAM-RES      9121        2973800   \n",
       "1     100 Land Blvd  Private College, University     65683       43883200   \n",
       "2  24 Blackstone St  Private College, University    109943        3784300   \n",
       "3  45 Blackstone St                   CONDO-BLDG     43988              0   \n",
       "4  153 Mt Auburn St  Private College, University     10233        1228800   \n",
       "5        0 Arrow St  Private College, University         0        8753600   \n",
       "6      20 Sumner Rd  Private College, University      8184         607000   \n",
       "7    42 Kirkland St  Private College, University     10518        1564400   \n",
       "8          9 Ash St                 SNGL-FAM-RES      4800         303200   \n",
       "9  122 Mt Auburn St                 MULTIUSE-RES     18749        9884800   \n",
       "\n",
       "   LandValue  AssessedValue  SalePrice  SaleDate  \\\n",
       "0    1740000        4713800    1600000      2000   \n",
       "1   19941400       63824600        100      2002   \n",
       "2    8000000       11784300   14118000      2003   \n",
       "3          0              0   14118000      2003   \n",
       "4     484700        1713500          0      2003   \n",
       "5          0        8753600    5700000      2004   \n",
       "6    1152400        1759400    1288000      2010   \n",
       "7     925600        2490000    4112400      2010   \n",
       "8    1426200        1729400    1250000      2010   \n",
       "9    6018000       15902800   11250000      2011   \n",
       "\n",
       "                               Owner_Name  CumulativeInflation   TodaySale  \\\n",
       "0  PRESIDENT & FELLOWS OF HARVARD COLLEGE                  2.0   1632000.0   \n",
       "1  PRESIDENT & FELLOWS OF HARVARD COLLEGE                  7.2       107.2   \n",
       "2  PRESIDENT & FELLOWS OF HARVARD COLLEGE                  9.1  15402738.0   \n",
       "3  PRESIDENT & FELLOWS OF HARVARD COLLEGE                  9.1  15402738.0   \n",
       "4  PRESIDENT & FELLOWS OF HARVARD COLLEGE                  9.1         0.0   \n",
       "5  PRESIDENT & FELLOWS OF HARVARD COLLEGE                 10.2   6281400.0   \n",
       "6  PRESIDENT & FELLOWS OF HARVARD COLLEGE                 23.1   1585528.0   \n",
       "7  PRESIDENT & FELLOWS OF HARVARD COLLEGE                 23.1   5062364.4   \n",
       "8  PRESIDENT & FELLOWS OF HARVARD COLLEGE                 23.1   1538750.0   \n",
       "9  PRESIDENT & FELLOWS OF HARVARD COLLEGE                 24.1  13961250.0   \n",
       "\n",
       "   CumLand   CumValue  \n",
       "0     9121    4713800  \n",
       "1    74804   68538400  \n",
       "2   184747   80322700  \n",
       "3   228735   80322700  \n",
       "4   238968   82036200  \n",
       "5   238968   90789800  \n",
       "6   247152   92549200  \n",
       "7   257670   95039200  \n",
       "8   262470   96768600  \n",
       "9   281219  112671400  "
      ]
     },
     "execution_count": 141,
     "metadata": {},
     "output_type": "execute_result"
    }
   ],
   "source": [
    "sorted_df = recent_property.sort_values(by=['SaleDate'])\n",
    "sorted_df = sorted_df.reset_index().drop('index', 1)\n",
    "sorted_df['CumLand'] = sorted_df['LandArea'].cumsum()\n",
    "sorted_df['CumValue'] = sorted_df['AssessedValue'].cumsum()\n",
    "sorted_df"
   ]
  },
  {
   "cell_type": "code",
   "execution_count": null,
   "metadata": {},
   "outputs": [],
   "source": []
  }
 ],
 "metadata": {
  "kernelspec": {
   "display_name": "Python 3",
   "language": "python",
   "name": "python3"
  },
  "language_info": {
   "codemirror_mode": {
    "name": "ipython",
    "version": 3
   },
   "file_extension": ".py",
   "mimetype": "text/x-python",
   "name": "python",
   "nbconvert_exporter": "python",
   "pygments_lexer": "ipython3",
   "version": "3.6.0"
  }
 },
 "nbformat": 4,
 "nbformat_minor": 2
}
