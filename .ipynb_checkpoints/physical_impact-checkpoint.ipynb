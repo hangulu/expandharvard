{
 "cells": [
  {
   "cell_type": "markdown",
   "metadata": {},
   "source": [
    "## Harvard's Physical Impact\n",
    "How much of the United States does Harvard own?"
   ]
  },
  {
   "cell_type": "code",
   "execution_count": 1,
   "metadata": {
    "collapsed": true
   },
   "outputs": [],
   "source": [
    "import cityscraper\n",
    "import numpy as np\n",
    "import pandas as pd\n",
    "import math"
   ]
  },
  {
   "cell_type": "code",
   "execution_count": 2,
   "metadata": {
    "collapsed": false
   },
   "outputs": [
    {
     "data": {
      "text/html": [
       "<script>requirejs.config({paths: { 'plotly': ['https://cdn.plot.ly/plotly-latest.min']},});if(!window.Plotly) {{require(['plotly'],function(plotly) {window.Plotly=plotly;});}}</script>"
      ],
      "text/vnd.plotly.v1+html": [
       "<script>requirejs.config({paths: { 'plotly': ['https://cdn.plot.ly/plotly-latest.min']},});if(!window.Plotly) {{require(['plotly'],function(plotly) {window.Plotly=plotly;});}}</script>"
      ]
     },
     "metadata": {},
     "output_type": "display_data"
    }
   ],
   "source": [
    "import matplotlib.pyplot as plt\n",
    "import plotly\n",
    "import plotly.graph_objs as go\n",
    "from plotly.offline import download_plotlyjs, init_notebook_mode, plot, iplot\n",
    "init_notebook_mode(connected=True)"
   ]
  },
  {
   "cell_type": "markdown",
   "metadata": {},
   "source": [
    "There are gaps in the available information for cities abroad, so this analysis will focus on Harvard's national impact. Hence, the buildings abroad can be ignored."
   ]
  },
  {
   "cell_type": "code",
   "execution_count": 3,
   "metadata": {
    "collapsed": false
   },
   "outputs": [],
   "source": [
    "buildings = pd.read_excel(\"Spreadsheets/2018_building_reference_list.xlsx\", header=3)\n",
    "buildings = buildings[~buildings['City'].isin(['Sardis', 'Fiesole', 'Florence', 'Shanghai', 'London'])]\n",
    "footage = buildings['GSF SF Total'].sum()\n",
    "count = buildings['GSF SF Total'].count()"
   ]
  },
  {
   "cell_type": "markdown",
   "metadata": {
    "variables": {
     "count": "686"
    }
   },
   "source": [
    "Harvard owns {{count}} buildings in the following cities in the United States: Jamaica Plain, Roslindale, Cambridge, Washington DC, Ledyard, Allston, Hamilton, Petersham, Harvard, Bedford, Southborough, Shrewsbury, Kittery Point, Boston, Los Angeles, San Francisco, Holyoke, Somerville, Menlo Park, Burlingame, Lowell and New York."
   ]
  },
  {
   "cell_type": "markdown",
   "metadata": {},
   "source": [
    "Most of the data available on cities can be found at http://www.city-data.com, so I built a webscraper, `cityscraper.py`, to be able to pull data from every city that Harvard has buildings in."
   ]
  },
  {
   "cell_type": "code",
   "execution_count": 4,
   "metadata": {
    "collapsed": false
   },
   "outputs": [],
   "source": [
    "df = pd.read_excel(\"Spreadsheets/city_url.xlsx\", header=0)\n",
    "results = []\n",
    "\n",
    "for i in range(df['Type'].count()):\n",
    "    city = df.iloc[[i]]['City'].values[0]\n",
    "    my_type = df.iloc[[i]]['Type'].values[0]\n",
    "    endpoint = df.iloc[[i]]['Endpoint'].values[0]\n",
    "\n",
    "    results.append(cityscraper.scraper(city, my_type, endpoint))\n",
    "\n",
    "city_data = pd.DataFrame(results)"
   ]
  },
  {
   "cell_type": "markdown",
   "metadata": {},
   "source": [
    "To facilitate comparison, the `Area` column of the `city_data` dataframe will be converted from square miles to square feet, by multiplying by $27878000$."
   ]
  },
  {
   "cell_type": "code",
   "execution_count": 5,
   "metadata": {
    "collapsed": false
   },
   "outputs": [],
   "source": [
    "city_data['Square Footage'] = city_data['Area'] * 27878000"
   ]
  },
  {
   "cell_type": "markdown",
   "metadata": {},
   "source": [
    "Now, we can easily determine how much of a given city Harvard owns."
   ]
  },
  {
   "cell_type": "code",
   "execution_count": 9,
   "metadata": {
    "collapsed": false
   },
   "outputs": [],
   "source": [
    "footage_results = []\n",
    "\n",
    "for i in range(city_data['City'].count()):\n",
    "    city = city_data.iloc[[i]]['City'].values[0]\n",
    "    city_buildings = buildings[buildings['City'] == city]\n",
    "    harv_footage = city_buildings['GSF SF Total'].sum()\n",
    "    city_footage = city_data.iloc[i]['Square Footage']\n",
    "    perc_harv = (harv_footage / city_footage) * 100\n",
    "    footage_results.append({'City': city, 'Harvard Footage': harv_footage, 'City Footage': city_footage, 'Percentage Harvard': perc_harv})\n",
    "\n",
    "final = pd.DataFrame(footage_results)\n",
    "final.sort_values('Percentage Harvard', ascending=False, inplace=True)\n",
    "final.reset_index(inplace=True, drop=True)"
   ]
  },
  {
   "cell_type": "markdown",
   "metadata": {
    "variables": {
     "math.ceil(final.iloc[0]['Percentage Harvard'] * 100) / 100": "9.57",
     "math.ceil(final.iloc[1]['Percentage Harvard'] * 100) / 100": "5.7",
     "math.ceil(final.iloc[2]['Percentage Harvard'] * 100) / 100": "0.28"
    }
   },
   "source": [
    "The three cities that Harvard owns most of are:\n",
    "1. Cambridge, owning {{math.ceil(final.iloc[0]['Percentage Harvard'] * 100) / 100}}% of the land.\n",
    "1. Allston, owning {{math.ceil(final.iloc[1]['Percentage Harvard'] * 100) / 100}}% of the land.\n",
    "1. Boston, owning {{math.ceil(final.iloc[2]['Percentage Harvard'] * 100) / 100}}% of the land."
   ]
  },
  {
   "cell_type": "code",
   "execution_count": 7,
   "metadata": {
    "collapsed": false
   },
   "outputs": [
    {
     "data": {
      "application/vnd.plotly.v1+json": {
       "data": [
        {
         "domain": {
          "x": [
           0,
           0.32
          ]
         },
         "hole": 0.4,
         "hoverinfo": "percent+name",
         "labels": [
          "Cambridge",
          "Harvard"
         ],
         "marker": {
          "colors": [
           "rgb(46, 204, 113)",
           "rgb(164, 16, 52)"
          ]
         },
         "name": "Cambridge",
         "textinfo": "none",
         "type": "pie",
         "uid": "753bca",
         "values": [
          90.43,
          9.57
         ]
        },
        {
         "domain": {
          "x": [
           0.33,
           0.65
          ]
         },
         "hole": 0.4,
         "hoverinfo": "percent+name",
         "labels": [
          "Allston",
          "Harvard"
         ],
         "marker": {
          "colors": [
           "rgb(52, 73, 94)",
           "rgb(164, 16, 52)"
          ]
         },
         "name": "Allston",
         "textinfo": "none",
         "type": "pie",
         "uid": "a10d08",
         "values": [
          94.3,
          5.7
         ]
        },
        {
         "domain": {
          "x": [
           0.66,
           1
          ]
         },
         "hole": 0.4,
         "hoverinfo": "percent+name",
         "labels": [
          "Boston",
          "Harvard"
         ],
         "marker": {
          "colors": [
           "rgb(241, 196, 15)",
           "rgb(164, 16, 52)"
          ]
         },
         "name": "Boston",
         "textinfo": "none",
         "type": "pie",
         "uid": "6e1b1d",
         "values": [
          99.72,
          0.28
         ]
        }
       ],
       "layout": {
        "annotations": [
         {
          "font": {
           "size": 40
          },
          "showarrow": false,
          "text": "C",
          "x": 0.143,
          "y": 0.5
         },
         {
          "font": {
           "size": 40
          },
          "showarrow": false,
          "text": "A",
          "x": 0.49,
          "y": 0.5
         },
         {
          "font": {
           "size": 40
          },
          "showarrow": false,
          "text": "B",
          "x": 0.85,
          "y": 0.5
         }
        ],
        "autosize": true,
        "title": "Harvard's Presence In Cities"
       }
      },
      "text/html": [
       "<div id=\"3eec33f5-32b5-4373-ae91-5dda99195cc3\" style=\"height: 525px; width: 100%;\" class=\"plotly-graph-div\"></div><script type=\"text/javascript\">require([\"plotly\"], function(Plotly) { window.PLOTLYENV=window.PLOTLYENV || {};window.PLOTLYENV.BASE_URL=\"https://plot.ly\";Plotly.newPlot(\"3eec33f5-32b5-4373-ae91-5dda99195cc3\", [{\"labels\": [\"Cambridge\", \"Harvard\"], \"values\": [90.43, 9.57], \"type\": \"pie\", \"name\": \"Cambridge\", \"marker\": {\"colors\": [\"rgb(46, 204, 113)\", \"rgb(164, 16, 52)\"]}, \"domain\": {\"x\": [0, 0.32]}, \"hole\": 0.4, \"hoverinfo\": \"percent+name\", \"textinfo\": \"none\"}, {\"labels\": [\"Allston\", \"Harvard\"], \"values\": [94.3, 5.7], \"type\": \"pie\", \"name\": \"Allston\", \"marker\": {\"colors\": [\"rgb(52, 73, 94)\", \"rgb(164, 16, 52)\"]}, \"domain\": {\"x\": [0.33, 0.65]}, \"hole\": 0.4, \"hoverinfo\": \"percent+name\", \"textinfo\": \"none\"}, {\"labels\": [\"Boston\", \"Harvard\"], \"values\": [99.72, 0.28], \"type\": \"pie\", \"name\": \"Boston\", \"marker\": {\"colors\": [\"rgb(241, 196, 15)\", \"rgb(164, 16, 52)\"]}, \"domain\": {\"x\": [0.66, 1]}, \"hole\": 0.4, \"hoverinfo\": \"percent+name\", \"textinfo\": \"none\"}], {\"title\": \"Harvard's Presence In Cities\", \"annotations\": [{\"font\": {\"size\": 40}, \"showarrow\": false, \"text\": \"C\", \"x\": 0.143, \"y\": 0.5}, {\"font\": {\"size\": 40}, \"showarrow\": false, \"text\": \"A\", \"x\": 0.49, \"y\": 0.5}, {\"font\": {\"size\": 40}, \"showarrow\": false, \"text\": \"B\", \"x\": 0.85, \"y\": 0.5}]}, {\"showLink\": true, \"linkText\": \"Export to plot.ly\"})});</script>"
      ],
      "text/vnd.plotly.v1+html": [
       "<div id=\"3eec33f5-32b5-4373-ae91-5dda99195cc3\" style=\"height: 525px; width: 100%;\" class=\"plotly-graph-div\"></div><script type=\"text/javascript\">require([\"plotly\"], function(Plotly) { window.PLOTLYENV=window.PLOTLYENV || {};window.PLOTLYENV.BASE_URL=\"https://plot.ly\";Plotly.newPlot(\"3eec33f5-32b5-4373-ae91-5dda99195cc3\", [{\"labels\": [\"Cambridge\", \"Harvard\"], \"values\": [90.43, 9.57], \"type\": \"pie\", \"name\": \"Cambridge\", \"marker\": {\"colors\": [\"rgb(46, 204, 113)\", \"rgb(164, 16, 52)\"]}, \"domain\": {\"x\": [0, 0.32]}, \"hole\": 0.4, \"hoverinfo\": \"percent+name\", \"textinfo\": \"none\"}, {\"labels\": [\"Allston\", \"Harvard\"], \"values\": [94.3, 5.7], \"type\": \"pie\", \"name\": \"Allston\", \"marker\": {\"colors\": [\"rgb(52, 73, 94)\", \"rgb(164, 16, 52)\"]}, \"domain\": {\"x\": [0.33, 0.65]}, \"hole\": 0.4, \"hoverinfo\": \"percent+name\", \"textinfo\": \"none\"}, {\"labels\": [\"Boston\", \"Harvard\"], \"values\": [99.72, 0.28], \"type\": \"pie\", \"name\": \"Boston\", \"marker\": {\"colors\": [\"rgb(241, 196, 15)\", \"rgb(164, 16, 52)\"]}, \"domain\": {\"x\": [0.66, 1]}, \"hole\": 0.4, \"hoverinfo\": \"percent+name\", \"textinfo\": \"none\"}], {\"title\": \"Harvard's Presence In Cities\", \"annotations\": [{\"font\": {\"size\": 40}, \"showarrow\": false, \"text\": \"C\", \"x\": 0.143, \"y\": 0.5}, {\"font\": {\"size\": 40}, \"showarrow\": false, \"text\": \"A\", \"x\": 0.49, \"y\": 0.5}, {\"font\": {\"size\": 40}, \"showarrow\": false, \"text\": \"B\", \"x\": 0.85, \"y\": 0.5}]}, {\"showLink\": true, \"linkText\": \"Export to plot.ly\"})});</script>"
      ]
     },
     "metadata": {},
     "output_type": "display_data"
    }
   ],
   "source": [
    "labels1 = ['Cambridge','Harvard']\n",
    "labels2 = ['Allston', 'Harvard']\n",
    "labels3 = ['Boston', 'Harvard']\n",
    "values1 = [100 - 9.57, 9.57]\n",
    "values2 = [100 - 5.7, 5.7]\n",
    "values3 = [100 - 0.28, 0.28]\n",
    "\n",
    "trace1 = go.Pie(labels=labels1, values=values1)\n",
    "trace2 = go.Pie(labels=labels2, values=values2)\n",
    "trace3 = go.Pie(labels=labels3, values=values3)\n",
    "\n",
    "fig = {\n",
    "    'data': [\n",
    "        {\n",
    "            'labels': labels1,\n",
    "            'values': values1,\n",
    "            'type': 'pie',\n",
    "            'name': 'Cambridge',\n",
    "            'marker': {'colors': ['rgb(46, 204, 113)',\n",
    "                                  'rgb(164, 16, 52)']},\n",
    "            'domain': {'x': [0, .32]},\n",
    "            'hole': .4,\n",
    "            'hoverinfo':'percent+name',\n",
    "            'textinfo':'none'\n",
    "        },\n",
    "        {\n",
    "            'labels': labels2,\n",
    "            'values': values2,\n",
    "            'type': 'pie',\n",
    "            'name': 'Allston',\n",
    "            'marker': {'colors': ['rgb(52, 73, 94)',\n",
    "                                  'rgb(164, 16, 52)']},\n",
    "            'domain': {'x': [.33, .65]},\n",
    "            'hole': .4,\n",
    "            'hoverinfo':'percent+name',\n",
    "            'textinfo':'none'\n",
    "\n",
    "        },\n",
    "        {\n",
    "            'labels': labels3,\n",
    "            'values': values3,\n",
    "            'type': 'pie',\n",
    "            'name': 'Boston',\n",
    "            'marker': {'colors': ['rgb(241, 196, 15)',\n",
    "                                  'rgb(164, 16, 52)']},\n",
    "            'domain': {'x': [.66, 1]},\n",
    "            'hole': .4,\n",
    "            'hoverinfo':'percent+name',\n",
    "            'textinfo':'none'\n",
    "        }\n",
    "    ],\n",
    "    'layout': {'title': \"Harvard's Presence In Cities\",\n",
    "              \"annotations\": [\n",
    "                {\n",
    "                    \"font\": {\n",
    "                        \"size\": 40\n",
    "                    },\n",
    "                    \"showarrow\": False,\n",
    "                    \"text\": \"C\",\n",
    "                    \"x\": 0.143,\n",
    "                    \"y\": 0.5\n",
    "                },\n",
    "                {\n",
    "                    \"font\": {\n",
    "                        \"size\": 40\n",
    "                    },\n",
    "                    \"showarrow\": False,\n",
    "                    \"text\": \"A\",\n",
    "                    \"x\": 0.49,\n",
    "                    \"y\": 0.5\n",
    "                },\n",
    "                {\n",
    "                    \"font\": {\n",
    "                        \"size\": 40\n",
    "                    },\n",
    "                    \"showarrow\": False,\n",
    "                    \"text\": \"B\",\n",
    "                    \"x\": 0.85,\n",
    "                    \"y\": 0.5\n",
    "                }\n",
    "        ]}\n",
    "}\n",
    "\n",
    "\n",
    "iplot(fig)"
   ]
  },
  {
   "cell_type": "code",
   "execution_count": null,
   "metadata": {
    "collapsed": true
   },
   "outputs": [],
   "source": []
  }
 ],
 "metadata": {
  "kernelspec": {
   "display_name": "Python 3",
   "language": "python",
   "name": "python3"
  },
  "language_info": {
   "codemirror_mode": {
    "name": "ipython",
    "version": 3
   },
   "file_extension": ".py",
   "mimetype": "text/x-python",
   "name": "python",
   "nbconvert_exporter": "python",
   "pygments_lexer": "ipython3",
   "version": "3.6.0"
  },
  "varInspector": {
   "cols": {
    "lenName": 16,
    "lenType": 16,
    "lenVar": 40
   },
   "kernels_config": {
    "python": {
     "delete_cmd_postfix": "",
     "delete_cmd_prefix": "del ",
     "library": "var_list.py",
     "varRefreshCmd": "print(var_dic_list())"
    },
    "r": {
     "delete_cmd_postfix": ") ",
     "delete_cmd_prefix": "rm(",
     "library": "var_list.r",
     "varRefreshCmd": "cat(var_dic_list()) "
    }
   },
   "types_to_exclude": [
    "module",
    "function",
    "builtin_function_or_method",
    "instance",
    "_Feature"
   ],
   "window_display": false
  }
 },
 "nbformat": 4,
 "nbformat_minor": 2
}
