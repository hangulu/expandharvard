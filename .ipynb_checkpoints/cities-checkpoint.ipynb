{
 "cells": [
  {
   "cell_type": "markdown",
   "metadata": {},
   "source": [
    "## Data for Cambridge and Boston\n",
    "This document analyzes data available about Cambridge and Boston from the 1990, 2000 and 2010 censuses. "
   ]
  },
  {
   "cell_type": "code",
   "execution_count": 1,
   "metadata": {
    "collapsed": false
   },
   "outputs": [],
   "source": [
    "import numpy as np\n",
    "import pandas as pd\n",
    "from scipy import stats\n",
    "import pickle"
   ]
  },
  {
   "cell_type": "code",
   "execution_count": 2,
   "metadata": {
    "collapsed": false
   },
   "outputs": [
    {
     "data": {
      "text/html": [
       "<script>requirejs.config({paths: { 'plotly': ['https://cdn.plot.ly/plotly-latest.min']},});if(!window.Plotly) {{require(['plotly'],function(plotly) {window.Plotly=plotly;});}}</script>"
      ],
      "text/vnd.plotly.v1+html": [
       "<script>requirejs.config({paths: { 'plotly': ['https://cdn.plot.ly/plotly-latest.min']},});if(!window.Plotly) {{require(['plotly'],function(plotly) {window.Plotly=plotly;});}}</script>"
      ]
     },
     "metadata": {},
     "output_type": "display_data"
    }
   ],
   "source": [
    "import matplotlib.pyplot as plt\n",
    "import plotly\n",
    "import plotly.graph_objs as go\n",
    "from plotly.offline import download_plotlyjs, init_notebook_mode, plot, iplot\n",
    "init_notebook_mode(connected=True)"
   ]
  },
  {
   "cell_type": "markdown",
   "metadata": {},
   "source": [
    "## Analyzing Demographic Data\n",
    "Populations for white, Black, Native American, Asian, Pacific Islander, and other races of people in Cambridge and Boston."
   ]
  },
  {
   "cell_type": "code",
   "execution_count": 3,
   "metadata": {
    "collapsed": true
   },
   "outputs": [],
   "source": [
    "# Census API Key\n",
    "key = \"d923b916d08af136ade78b021cc31f162cbb2d2f\""
   ]
  },
  {
   "cell_type": "markdown",
   "metadata": {},
   "source": [
    "The function to fetch the census data."
   ]
  },
  {
   "cell_type": "code",
   "execution_count": 4,
   "metadata": {
    "collapsed": true
   },
   "outputs": [],
   "source": [
    "def fetch_census(year, census_codes, state_code, place):\n",
    "    results = {}\n",
    "    for category, variable in census_codes.items():\n",
    "        out = pd.read_json('https://api.census.gov/data/{}/sf1?get={}&in=state:{}&for=place:{}&key={}'.format(year, variable, state_code, place, key))\n",
    "        df = out.iloc[[1]][0]\n",
    "        results[category] = int(df)\n",
    "    return (results)"
   ]
  },
  {
   "cell_type": "markdown",
   "metadata": {},
   "source": [
    "The dictionaries containing the codes for accessing the census data."
   ]
  },
  {
   "cell_type": "code",
   "execution_count": 5,
   "metadata": {
    "collapsed": false
   },
   "outputs": [],
   "source": [
    "census_2010 = dict([(\"total population\", \"P0030001\"), (\"white population\", \"P0030002\"), (\"black population\", \"P0030003\"), (\"native population\", \"P0030004\"), (\"asian population\", \"P0030005\"), (\"pacific population\", \"P0030006\"), (\"other population\", \"P0030007\")])\n",
    "\n",
    "census_2000 = dict([(\"total population\", \"P003002\"), (\"white population\", \"P003003\"), (\"black population\", \"P003004\"), (\"native population\", \"P003005\"), (\"asian population\", \"P003006\"), (\"pacific population\", \"P003007\"), (\"other population\", \"P003008\")])\n",
    "\n",
    "census_1990 = dict([(\"total population\", \"P0010001\"), (\"white population\", \"P0060001\"), (\"black population\", \"P0060002\"), (\"native population\", \"P0060003\"), (\"asian population\", \"P0060004\"), (\"other population\", \"P0060005\")])"
   ]
  },
  {
   "cell_type": "markdown",
   "metadata": {},
   "source": [
    "Calculate and clean the data for the two cities."
   ]
  },
  {
   "cell_type": "code",
   "execution_count": 6,
   "metadata": {
    "collapsed": false
   },
   "outputs": [],
   "source": [
    "# Boston\n",
    "b2010 = fetch_census(2010, census_2010, 25, '07000')\n",
    "b2000 = fetch_census(2000, census_2000, 25, '07000')\n",
    "b1990 = fetch_census(1990, census_1990, 25, '07000')\n",
    "\n",
    "# Cambridge\n",
    "c2010 = fetch_census(2010, census_2010, 25, 11000)\n",
    "c2000 = fetch_census(2000, census_2000, 25, 11000)\n",
    "c1990 = fetch_census(1990, census_1990, 25, 11000)"
   ]
  },
  {
   "cell_type": "code",
   "execution_count": 7,
   "metadata": {
    "collapsed": false
   },
   "outputs": [],
   "source": [
    "boston = pd.DataFrame([b1990, b2000, b2010])\n",
    "boston.insert(loc=0, column='year', value=['1990', '2000', '2010'])\n",
    "boston = boston.fillna(0)\n",
    "boston['asian and pacific islander population'] = boston['asian population'] + boston['pacific population']\n",
    "boston['white and asian population'] = boston['asian and pacific islander population'] + boston['white population']\n",
    "boston['poc population'] = boston['asian and pacific islander population'] + boston['black population'] + boston['native population'] + boston['other population']\n",
    "boston = boston.apply(pd.to_numeric)"
   ]
  },
  {
   "cell_type": "code",
   "execution_count": 8,
   "metadata": {
    "collapsed": false
   },
   "outputs": [],
   "source": [
    "cambridge = pd.DataFrame([c1990, c2000, c2010])\n",
    "cambridge.insert(loc=0, column='year', value=[1990, 2000, 2010])\n",
    "cambridge = cambridge.fillna(0)\n",
    "cambridge['asian and pacific islander population'] = cambridge['asian population'] + cambridge['pacific population']\n",
    "cambridge['white and asian population'] = cambridge['asian and pacific islander population'] + cambridge['white population']\n",
    "cambridge['poc population'] = cambridge['asian and pacific islander population'] + cambridge['black population'] + cambridge['native population'] + cambridge['other population']\n",
    "cambridge = cambridge.apply(pd.to_numeric)"
   ]
  },
  {
   "cell_type": "markdown",
   "metadata": {},
   "source": [
    "Focus on the change in the populations over the years."
   ]
  },
  {
   "cell_type": "code",
   "execution_count": 9,
   "metadata": {
    "collapsed": false
   },
   "outputs": [],
   "source": [
    "c_change = cambridge.drop('year', axis=1).pct_change()\n",
    "b_change = boston.drop('year', axis=1).pct_change()"
   ]
  },
  {
   "cell_type": "code",
   "execution_count": 10,
   "metadata": {
    "collapsed": false
   },
   "outputs": [],
   "source": [
    "c_change2 = cambridge.drop('year', axis=1).pct_change(periods=2)\n",
    "b_change2 = boston.drop('year', axis=1).pct_change(periods=2)"
   ]
  },
  {
   "cell_type": "markdown",
   "metadata": {},
   "source": [
    "Now, the data for the change in these populations (Black, Asian, non-white, and white) will be visualized."
   ]
  },
  {
   "cell_type": "code",
   "execution_count": 11,
   "metadata": {
    "collapsed": false
   },
   "outputs": [
    {
     "data": {
      "application/vnd.plotly.v1+json": {
       "data": [
        {
         "name": "Boston",
         "type": "bar",
         "uid": "513d32",
         "x": [
          "Black",
          "AAPI",
          "Non-White",
          "White"
         ],
         "y": [
          [
           0.023763993330838007
          ],
          [
           0.8263788337501645
          ],
          [
           0.21939664867296438
          ],
          [
           -0.07715136820228607
          ],
          [
           -0.00697740394568358
          ]
         ]
        },
        {
         "name": "Cambridge",
         "type": "bar",
         "uid": "0c8c54",
         "x": [
          "Black",
          "AAPI",
          "Non-White",
          "White"
         ],
         "y": [
          [
           -0.05235885537509666
          ],
          [
           0.9696819700532113
          ],
          [
           0.2945523648648649
          ],
          [
           -0.02933917528632035
          ],
          [
           0.071319027966535
          ]
         ]
        }
       ],
       "layout": {
        "autosize": true,
        "barmode": "group",
        "title": "The Change In Population Demographics for Boston and Cambridge Since 1990",
        "xaxis": {
         "autorange": true,
         "range": [
          -0.5,
          3.5
         ],
         "type": "category"
        },
        "yaxis": {}
       }
      },
      "text/html": [
       "<div id=\"97d9978e-ee9e-4564-9492-15a9b357a3bb\" style=\"height: 525px; width: 100%;\" class=\"plotly-graph-div\"></div><script type=\"text/javascript\">require([\"plotly\"], function(Plotly) { window.PLOTLYENV=window.PLOTLYENV || {};window.PLOTLYENV.BASE_URL=\"https://plot.ly\";Plotly.newPlot(\"97d9978e-ee9e-4564-9492-15a9b357a3bb\", [{\"type\": \"bar\", \"x\": [\"Black\", \"AAPI\", \"Non-White\", \"White\"], \"y\": [[0.023763993330838007], [0.8263788337501645], [0.21939664867296438], [-0.07715136820228607], [-0.00697740394568358]], \"name\": \"Boston\"}, {\"type\": \"bar\", \"x\": [\"Black\", \"AAPI\", \"Non-White\", \"White\"], \"y\": [[-0.05235885537509666], [0.9696819700532113], [0.2945523648648649], [-0.02933917528632035], [0.071319027966535]], \"name\": \"Cambridge\"}], {\"title\": \"The Change In Population Demographics for Boston and Cambridge Since 1990\", \"barmode\": \"group\"}, {\"showLink\": true, \"linkText\": \"Export to plot.ly\"})});</script>"
      ],
      "text/vnd.plotly.v1+html": [
       "<div id=\"97d9978e-ee9e-4564-9492-15a9b357a3bb\" style=\"height: 525px; width: 100%;\" class=\"plotly-graph-div\"></div><script type=\"text/javascript\">require([\"plotly\"], function(Plotly) { window.PLOTLYENV=window.PLOTLYENV || {};window.PLOTLYENV.BASE_URL=\"https://plot.ly\";Plotly.newPlot(\"97d9978e-ee9e-4564-9492-15a9b357a3bb\", [{\"type\": \"bar\", \"x\": [\"Black\", \"AAPI\", \"Non-White\", \"White\"], \"y\": [[0.023763993330838007], [0.8263788337501645], [0.21939664867296438], [-0.07715136820228607], [-0.00697740394568358]], \"name\": \"Boston\"}, {\"type\": \"bar\", \"x\": [\"Black\", \"AAPI\", \"Non-White\", \"White\"], \"y\": [[-0.05235885537509666], [0.9696819700532113], [0.2945523648648649], [-0.02933917528632035], [0.071319027966535]], \"name\": \"Cambridge\"}], {\"title\": \"The Change In Population Demographics for Boston and Cambridge Since 1990\", \"barmode\": \"group\"}, {\"showLink\": true, \"linkText\": \"Export to plot.ly\"})});</script>"
      ]
     },
     "metadata": {},
     "output_type": "display_data"
    }
   ],
   "source": [
    "# Demographic changes (bars)\n",
    "trace1 = go.Bar(\n",
    "    x=['Black', 'AAPI', 'Non-White', 'White'],\n",
    "    y=[b_change2.iloc[[2]]['black population'], b_change2.iloc[[2]]['asian and pacific islander population'], b_change2.iloc[[2]]['poc population'], b_change2.iloc[[2]]['white population'], b_change2.iloc[[2]]['white and asian population']],\n",
    "    name='Boston'\n",
    ")\n",
    "trace2 = go.Bar(\n",
    "    x=['Black', 'AAPI', 'Non-White', 'White'],\n",
    "    y=[c_change2.iloc[[2]]['black population'], c_change2.iloc[[2]]['asian and pacific islander population'], c_change2.iloc[[2]]['poc population'], c_change2.iloc[[2]]['white population'], c_change2.iloc[[2]]['white and asian population']],\n",
    "    name='Cambridge'\n",
    ")\n",
    "\n",
    "data = [trace1, trace2]\n",
    "layout = go.Layout(\n",
    "    title = \"The Change In Population Demographics for Boston and Cambridge Since 1990\",\n",
    "    barmode='group'\n",
    ")\n",
    "\n",
    "fig = go.Figure(data=data, layout=layout)\n",
    "iplot(fig)"
   ]
  },
  {
   "cell_type": "markdown",
   "metadata": {},
   "source": [
    "Define a function to be used to perform linear regression."
   ]
  },
  {
   "cell_type": "code",
   "execution_count": 12,
   "metadata": {
    "collapsed": true
   },
   "outputs": [],
   "source": [
    "def fitter(x, y, regr_x):\n",
    "    \"\"\"\n",
    "    Use linear regression to make a best fit line for a set of data.\n",
    "    Args:\n",
    "        x (numpy array): The independent variable.\n",
    "        y (numpy array): The dependent variable.\n",
    "        regr_x (numpy array): The array used to extrapolate the regression.\n",
    "    \"\"\"\n",
    "    slope, intercept, r_value, p_value, std_err = stats.linregress(x, y)\n",
    "    return (slope * regr_x + intercept)"
   ]
  },
  {
   "cell_type": "code",
   "execution_count": 42,
   "metadata": {
    "collapsed": false
   },
   "outputs": [
    {
     "data": {
      "application/vnd.plotly.v1+json": {
       "data": [
        {
         "marker": {
          "color": "rgb(255, 63, 52)"
         },
         "mode": "markers",
         "name": "Black",
         "type": "scatter",
         "uid": "3cc6dd",
         "x": [
          1990,
          2000,
          2010
         ],
         "y": [
          146945,
          149202,
          150437
         ]
        },
        {
         "marker": {
          "color": "rgb(5, 196, 107)"
         },
         "mode": "markers",
         "name": "Asian",
         "type": "scatter",
         "uid": "86dbe0",
         "x": [
          1990,
          2000,
          2010
         ],
         "y": [
          30388,
          44284,
          55235
         ]
        },
        {
         "marker": {
          "color": "rgb(60, 64, 198)"
         },
         "mode": "markers",
         "name": "Non-White",
         "type": "scatter",
         "uid": "cca822",
         "x": [
          1990,
          2000,
          2010
         ],
         "y": [
          213408,
          242319,
          260229
         ]
        },
        {
         "marker": {
          "color": "rgb(255, 221, 89)"
         },
         "mode": "markers",
         "name": "White",
         "type": "scatter",
         "uid": "085c6b",
         "x": [
          1990,
          2000,
          2010
         ],
         "y": [
          360875,
          320944,
          333033
         ]
        },
        {
         "marker": {
          "color": "rgb(52, 231, 228)"
         },
         "mode": "markers",
         "name": "White and Asian",
         "type": "scatter",
         "uid": "8bde6b",
         "x": [
          1990,
          2000,
          2010
         ],
         "y": [
          391263,
          365594,
          388533
         ]
        },
        {
         "marker": {
          "color": "rgb(255, 63, 52)"
         },
         "mode": "lines",
         "name": "Black Fit",
         "type": "scatter",
         "uid": "4dd399",
         "x": [
          1990,
          1991,
          1992,
          1993,
          1994,
          1995,
          1996,
          1997,
          1998,
          1999,
          2000,
          2001,
          2002,
          2003,
          2004,
          2005,
          2006,
          2007,
          2008,
          2009,
          2010,
          2011,
          2012,
          2013,
          2014,
          2015,
          2016,
          2017,
          2018
         ],
         "y": [
          147115.33333333334,
          147289.93333333332,
          147464.53333333335,
          147639.13333333333,
          147813.7333333333,
          147988.33333333334,
          148162.93333333332,
          148337.53333333335,
          148512.13333333333,
          148686.7333333333,
          148861.33333333334,
          149035.93333333332,
          149210.53333333335,
          149385.13333333333,
          149559.7333333333,
          149734.33333333334,
          149908.93333333332,
          150083.53333333335,
          150258.13333333333,
          150432.7333333333,
          150607.33333333334,
          150781.93333333332,
          150956.53333333335,
          151131.13333333333,
          151305.7333333333,
          151480.33333333334,
          151654.93333333332,
          151829.53333333335,
          152004.13333333333
         ]
        },
        {
         "marker": {
          "color": "rgb(5, 196, 107)"
         },
         "mode": "lines",
         "name": "Asian Fit",
         "type": "scatter",
         "uid": "adc8b5",
         "x": [
          1990,
          1991,
          1992,
          1993,
          1994,
          1995,
          1996,
          1997,
          1998,
          1999,
          2000,
          2001,
          2002,
          2003,
          2004,
          2005,
          2006,
          2007,
          2008,
          2009,
          2010,
          2011,
          2012,
          2013,
          2014,
          2015,
          2016,
          2017,
          2018
         ],
         "y": [
          30878.83333333349,
          32121.183333333116,
          33363.53333333321,
          34605.8833333333,
          35848.233333333395,
          37090.58333333349,
          38332.933333333116,
          39575.28333333321,
          40817.6333333333,
          42059.983333333395,
          43302.33333333349,
          44544.683333333116,
          45787.03333333321,
          47029.3833333333,
          48271.733333333395,
          49514.08333333349,
          50756.433333333116,
          51998.78333333321,
          53241.1333333333,
          54483.483333333395,
          55725.83333333349,
          56968.183333333116,
          58210.53333333321,
          59452.8833333333,
          60695.233333333395,
          61937.58333333349,
          63179.933333333116,
          64422.28333333321,
          65664.6333333333
         ]
        },
        {
         "marker": {
          "color": "rgb(60, 64, 198)"
         },
         "mode": "lines",
         "name": "Non-White Fit",
         "type": "scatter",
         "uid": "dafc8a",
         "x": [
          1990,
          1991,
          1992,
          1993,
          1994,
          1995,
          1996,
          1997,
          1998,
          1999,
          2000,
          2001,
          2002,
          2003,
          2004,
          2005,
          2006,
          2007,
          2008,
          2009,
          2010,
          2011,
          2012,
          2013,
          2014,
          2015,
          2016,
          2017,
          2018
         ],
         "y": [
          215241.5,
          217582.55000000075,
          219923.60000000056,
          222264.65000000037,
          224605.7000000002,
          226946.75,
          229287.80000000075,
          231628.85000000056,
          233969.90000000037,
          236310.9500000002,
          238652,
          240993.05000000075,
          243334.10000000056,
          245675.15000000037,
          248016.2000000002,
          250357.25,
          252698.30000000075,
          255039.35000000056,
          257380.40000000037,
          259721.4500000002,
          262062.5,
          264403.55000000075,
          266744.60000000056,
          269085.6500000004,
          271426.7000000002,
          273767.75,
          276108.80000000075,
          278449.85000000056,
          280790.9000000004
         ]
        },
        {
         "marker": {
          "color": "rgb(255, 221, 89)"
         },
         "mode": "lines",
         "name": "White Fit",
         "type": "scatter",
         "uid": "c873cc",
         "x": [
          1990,
          1991,
          1992,
          1993,
          1994,
          1995,
          1996,
          1997,
          1998,
          1999,
          2000,
          2001,
          2002,
          2003,
          2004,
          2005,
          2006,
          2007,
          2008,
          2009,
          2010,
          2011,
          2012,
          2013,
          2014,
          2015,
          2016,
          2017,
          2018
         ],
         "y": [
          352205,
          350812.9000000004,
          349420.8000000003,
          348028.7000000002,
          346636.6000000001,
          345244.5,
          343852.4000000004,
          342460.3000000003,
          341068.2000000002,
          339676.1000000001,
          338284,
          336891.9000000004,
          335499.8000000003,
          334107.7000000002,
          332715.6000000001,
          331323.5,
          329931.4000000004,
          328539.3000000003,
          327147.2000000002,
          325755.1000000001,
          324363,
          322970.9000000004,
          321578.8000000003,
          320186.7000000002,
          318794.6000000001,
          317402.5,
          316010.4000000004,
          314618.3000000003,
          313226.2000000002
         ]
        },
        {
         "marker": {
          "color": "rgb(52, 231, 228)"
         },
         "mode": "lines",
         "name": "White and Asian Fit",
         "type": "scatter",
         "uid": "55d67e",
         "x": [
          1990,
          1991,
          1992,
          1993,
          1994,
          1995,
          1996,
          1997,
          1998,
          1999,
          2000,
          2001,
          2002,
          2003,
          2004,
          2005,
          2006,
          2007,
          2008,
          2009,
          2010,
          2011,
          2012,
          2013,
          2014,
          2015,
          2016,
          2017,
          2018
         ],
         "y": [
          383161.6666666667,
          383025.1666666667,
          382888.6666666667,
          382752.1666666667,
          382615.6666666667,
          382479.1666666667,
          382342.6666666667,
          382206.1666666667,
          382069.6666666667,
          381933.1666666667,
          381796.6666666667,
          381660.1666666667,
          381523.6666666667,
          381387.1666666667,
          381250.6666666667,
          381114.1666666667,
          380977.6666666667,
          380841.1666666667,
          380704.6666666667,
          380568.1666666667,
          380431.6666666667,
          380295.1666666667,
          380158.6666666667,
          380022.1666666667,
          379885.6666666667,
          379749.1666666667,
          379612.6666666667,
          379476.1666666667,
          379339.6666666667
         ]
        }
       ],
       "layout": {
        "autosize": true,
        "title": "The Change In Population Demographics for Boston Since 1990",
        "xaxis": {
         "autorange": true,
         "range": [
          1988.2889055955322,
          2018
         ],
         "title": "Year",
         "type": "linear"
        },
        "yaxis": {
         "autorange": true,
         "range": [
          3954.480891719748,
          417696.51910828025
         ],
         "title": "Population Levels",
         "type": "linear"
        }
       }
      },
      "text/html": [
       "<div id=\"721e7a04-f0c6-458b-a6fd-5e0577e1776e\" style=\"height: 525px; width: 100%;\" class=\"plotly-graph-div\"></div><script type=\"text/javascript\">require([\"plotly\"], function(Plotly) { window.PLOTLYENV=window.PLOTLYENV || {};window.PLOTLYENV.BASE_URL=\"https://plot.ly\";Plotly.newPlot(\"721e7a04-f0c6-458b-a6fd-5e0577e1776e\", [{\"type\": \"scatter\", \"x\": [1990, 2000, 2010], \"y\": [146945, 149202, 150437], \"name\": \"Black\", \"mode\": \"markers\", \"marker\": {\"color\": \"rgb(255, 63, 52)\"}}, {\"type\": \"scatter\", \"x\": [1990, 2000, 2010], \"y\": [30388, 44284, 55235], \"name\": \"Asian\", \"mode\": \"markers\", \"marker\": {\"color\": \"rgb(5, 196, 107)\"}}, {\"type\": \"scatter\", \"x\": [1990, 2000, 2010], \"y\": [213408.0, 242319.0, 260229.0], \"name\": \"Non-White\", \"mode\": \"markers\", \"marker\": {\"color\": \"rgb(60, 64, 198)\"}}, {\"type\": \"scatter\", \"x\": [1990, 2000, 2010], \"y\": [360875, 320944, 333033], \"name\": \"White\", \"mode\": \"markers\", \"marker\": {\"color\": \"rgb(255, 221, 89)\"}}, {\"type\": \"scatter\", \"x\": [1990, 2000, 2010], \"y\": [391263.0, 365594.0, 388533.0], \"name\": \"White and Asian\", \"mode\": \"markers\", \"marker\": {\"color\": \"rgb(52, 231, 228)\"}}, {\"type\": \"scatter\", \"x\": [1990, 1991, 1992, 1993, 1994, 1995, 1996, 1997, 1998, 1999, 2000, 2001, 2002, 2003, 2004, 2005, 2006, 2007, 2008, 2009, 2010, 2011, 2012, 2013, 2014, 2015, 2016, 2017, 2018], \"y\": [147115.33333333334, 147289.93333333332, 147464.53333333335, 147639.13333333333, 147813.7333333333, 147988.33333333334, 148162.93333333332, 148337.53333333335, 148512.13333333333, 148686.7333333333, 148861.33333333334, 149035.93333333332, 149210.53333333335, 149385.13333333333, 149559.7333333333, 149734.33333333334, 149908.93333333332, 150083.53333333335, 150258.13333333333, 150432.7333333333, 150607.33333333334, 150781.93333333332, 150956.53333333335, 151131.13333333333, 151305.7333333333, 151480.33333333334, 151654.93333333332, 151829.53333333335, 152004.13333333333], \"mode\": \"lines\", \"marker\": {\"color\": \"rgb(255, 63, 52)\"}, \"name\": \"Black Fit\"}, {\"type\": \"scatter\", \"x\": [1990, 1991, 1992, 1993, 1994, 1995, 1996, 1997, 1998, 1999, 2000, 2001, 2002, 2003, 2004, 2005, 2006, 2007, 2008, 2009, 2010, 2011, 2012, 2013, 2014, 2015, 2016, 2017, 2018], \"y\": [30878.83333333349, 32121.183333333116, 33363.53333333321, 34605.8833333333, 35848.233333333395, 37090.58333333349, 38332.933333333116, 39575.28333333321, 40817.6333333333, 42059.983333333395, 43302.33333333349, 44544.683333333116, 45787.03333333321, 47029.3833333333, 48271.733333333395, 49514.08333333349, 50756.433333333116, 51998.78333333321, 53241.1333333333, 54483.483333333395, 55725.83333333349, 56968.183333333116, 58210.53333333321, 59452.8833333333, 60695.233333333395, 61937.58333333349, 63179.933333333116, 64422.28333333321, 65664.6333333333], \"mode\": \"lines\", \"marker\": {\"color\": \"rgb(5, 196, 107)\"}, \"name\": \"Asian Fit\"}, {\"type\": \"scatter\", \"x\": [1990, 1991, 1992, 1993, 1994, 1995, 1996, 1997, 1998, 1999, 2000, 2001, 2002, 2003, 2004, 2005, 2006, 2007, 2008, 2009, 2010, 2011, 2012, 2013, 2014, 2015, 2016, 2017, 2018], \"y\": [215241.5, 217582.55000000075, 219923.60000000056, 222264.65000000037, 224605.7000000002, 226946.75, 229287.80000000075, 231628.85000000056, 233969.90000000037, 236310.9500000002, 238652.0, 240993.05000000075, 243334.10000000056, 245675.15000000037, 248016.2000000002, 250357.25, 252698.30000000075, 255039.35000000056, 257380.40000000037, 259721.4500000002, 262062.5, 264403.55000000075, 266744.60000000056, 269085.6500000004, 271426.7000000002, 273767.75, 276108.80000000075, 278449.85000000056, 280790.9000000004], \"mode\": \"lines\", \"marker\": {\"color\": \"rgb(60, 64, 198)\"}, \"name\": \"Non-White Fit\"}, {\"type\": \"scatter\", \"x\": [1990, 1991, 1992, 1993, 1994, 1995, 1996, 1997, 1998, 1999, 2000, 2001, 2002, 2003, 2004, 2005, 2006, 2007, 2008, 2009, 2010, 2011, 2012, 2013, 2014, 2015, 2016, 2017, 2018], \"y\": [352205.0, 350812.9000000004, 349420.8000000003, 348028.7000000002, 346636.6000000001, 345244.5, 343852.4000000004, 342460.3000000003, 341068.2000000002, 339676.1000000001, 338284.0, 336891.9000000004, 335499.8000000003, 334107.7000000002, 332715.6000000001, 331323.5, 329931.4000000004, 328539.3000000003, 327147.2000000002, 325755.1000000001, 324363.0, 322970.9000000004, 321578.8000000003, 320186.7000000002, 318794.6000000001, 317402.5, 316010.4000000004, 314618.3000000003, 313226.2000000002], \"mode\": \"lines\", \"marker\": {\"color\": \"rgb(255, 221, 89)\"}, \"name\": \"White Fit\"}, {\"type\": \"scatter\", \"x\": [1990, 1991, 1992, 1993, 1994, 1995, 1996, 1997, 1998, 1999, 2000, 2001, 2002, 2003, 2004, 2005, 2006, 2007, 2008, 2009, 2010, 2011, 2012, 2013, 2014, 2015, 2016, 2017, 2018], \"y\": [383161.6666666667, 383025.1666666667, 382888.6666666667, 382752.1666666667, 382615.6666666667, 382479.1666666667, 382342.6666666667, 382206.1666666667, 382069.6666666667, 381933.1666666667, 381796.6666666667, 381660.1666666667, 381523.6666666667, 381387.1666666667, 381250.6666666667, 381114.1666666667, 380977.6666666667, 380841.1666666667, 380704.6666666667, 380568.1666666667, 380431.6666666667, 380295.1666666667, 380158.6666666667, 380022.1666666667, 379885.6666666667, 379749.1666666667, 379612.6666666667, 379476.1666666667, 379339.6666666667], \"mode\": \"lines\", \"marker\": {\"color\": \"rgb(52, 231, 228)\"}, \"name\": \"White and Asian Fit\"}], {\"title\": \"The Change In Population Demographics for Boston Since 1990\", \"yaxis\": {\"title\": \"Population Levels\"}, \"xaxis\": {\"title\": \"Year\"}}, {\"showLink\": true, \"linkText\": \"Export to plot.ly\"})});</script>"
      ],
      "text/vnd.plotly.v1+html": [
       "<div id=\"721e7a04-f0c6-458b-a6fd-5e0577e1776e\" style=\"height: 525px; width: 100%;\" class=\"plotly-graph-div\"></div><script type=\"text/javascript\">require([\"plotly\"], function(Plotly) { window.PLOTLYENV=window.PLOTLYENV || {};window.PLOTLYENV.BASE_URL=\"https://plot.ly\";Plotly.newPlot(\"721e7a04-f0c6-458b-a6fd-5e0577e1776e\", [{\"type\": \"scatter\", \"x\": [1990, 2000, 2010], \"y\": [146945, 149202, 150437], \"name\": \"Black\", \"mode\": \"markers\", \"marker\": {\"color\": \"rgb(255, 63, 52)\"}}, {\"type\": \"scatter\", \"x\": [1990, 2000, 2010], \"y\": [30388, 44284, 55235], \"name\": \"Asian\", \"mode\": \"markers\", \"marker\": {\"color\": \"rgb(5, 196, 107)\"}}, {\"type\": \"scatter\", \"x\": [1990, 2000, 2010], \"y\": [213408.0, 242319.0, 260229.0], \"name\": \"Non-White\", \"mode\": \"markers\", \"marker\": {\"color\": \"rgb(60, 64, 198)\"}}, {\"type\": \"scatter\", \"x\": [1990, 2000, 2010], \"y\": [360875, 320944, 333033], \"name\": \"White\", \"mode\": \"markers\", \"marker\": {\"color\": \"rgb(255, 221, 89)\"}}, {\"type\": \"scatter\", \"x\": [1990, 2000, 2010], \"y\": [391263.0, 365594.0, 388533.0], \"name\": \"White and Asian\", \"mode\": \"markers\", \"marker\": {\"color\": \"rgb(52, 231, 228)\"}}, {\"type\": \"scatter\", \"x\": [1990, 1991, 1992, 1993, 1994, 1995, 1996, 1997, 1998, 1999, 2000, 2001, 2002, 2003, 2004, 2005, 2006, 2007, 2008, 2009, 2010, 2011, 2012, 2013, 2014, 2015, 2016, 2017, 2018], \"y\": [147115.33333333334, 147289.93333333332, 147464.53333333335, 147639.13333333333, 147813.7333333333, 147988.33333333334, 148162.93333333332, 148337.53333333335, 148512.13333333333, 148686.7333333333, 148861.33333333334, 149035.93333333332, 149210.53333333335, 149385.13333333333, 149559.7333333333, 149734.33333333334, 149908.93333333332, 150083.53333333335, 150258.13333333333, 150432.7333333333, 150607.33333333334, 150781.93333333332, 150956.53333333335, 151131.13333333333, 151305.7333333333, 151480.33333333334, 151654.93333333332, 151829.53333333335, 152004.13333333333], \"mode\": \"lines\", \"marker\": {\"color\": \"rgb(255, 63, 52)\"}, \"name\": \"Black Fit\"}, {\"type\": \"scatter\", \"x\": [1990, 1991, 1992, 1993, 1994, 1995, 1996, 1997, 1998, 1999, 2000, 2001, 2002, 2003, 2004, 2005, 2006, 2007, 2008, 2009, 2010, 2011, 2012, 2013, 2014, 2015, 2016, 2017, 2018], \"y\": [30878.83333333349, 32121.183333333116, 33363.53333333321, 34605.8833333333, 35848.233333333395, 37090.58333333349, 38332.933333333116, 39575.28333333321, 40817.6333333333, 42059.983333333395, 43302.33333333349, 44544.683333333116, 45787.03333333321, 47029.3833333333, 48271.733333333395, 49514.08333333349, 50756.433333333116, 51998.78333333321, 53241.1333333333, 54483.483333333395, 55725.83333333349, 56968.183333333116, 58210.53333333321, 59452.8833333333, 60695.233333333395, 61937.58333333349, 63179.933333333116, 64422.28333333321, 65664.6333333333], \"mode\": \"lines\", \"marker\": {\"color\": \"rgb(5, 196, 107)\"}, \"name\": \"Asian Fit\"}, {\"type\": \"scatter\", \"x\": [1990, 1991, 1992, 1993, 1994, 1995, 1996, 1997, 1998, 1999, 2000, 2001, 2002, 2003, 2004, 2005, 2006, 2007, 2008, 2009, 2010, 2011, 2012, 2013, 2014, 2015, 2016, 2017, 2018], \"y\": [215241.5, 217582.55000000075, 219923.60000000056, 222264.65000000037, 224605.7000000002, 226946.75, 229287.80000000075, 231628.85000000056, 233969.90000000037, 236310.9500000002, 238652.0, 240993.05000000075, 243334.10000000056, 245675.15000000037, 248016.2000000002, 250357.25, 252698.30000000075, 255039.35000000056, 257380.40000000037, 259721.4500000002, 262062.5, 264403.55000000075, 266744.60000000056, 269085.6500000004, 271426.7000000002, 273767.75, 276108.80000000075, 278449.85000000056, 280790.9000000004], \"mode\": \"lines\", \"marker\": {\"color\": \"rgb(60, 64, 198)\"}, \"name\": \"Non-White Fit\"}, {\"type\": \"scatter\", \"x\": [1990, 1991, 1992, 1993, 1994, 1995, 1996, 1997, 1998, 1999, 2000, 2001, 2002, 2003, 2004, 2005, 2006, 2007, 2008, 2009, 2010, 2011, 2012, 2013, 2014, 2015, 2016, 2017, 2018], \"y\": [352205.0, 350812.9000000004, 349420.8000000003, 348028.7000000002, 346636.6000000001, 345244.5, 343852.4000000004, 342460.3000000003, 341068.2000000002, 339676.1000000001, 338284.0, 336891.9000000004, 335499.8000000003, 334107.7000000002, 332715.6000000001, 331323.5, 329931.4000000004, 328539.3000000003, 327147.2000000002, 325755.1000000001, 324363.0, 322970.9000000004, 321578.8000000003, 320186.7000000002, 318794.6000000001, 317402.5, 316010.4000000004, 314618.3000000003, 313226.2000000002], \"mode\": \"lines\", \"marker\": {\"color\": \"rgb(255, 221, 89)\"}, \"name\": \"White Fit\"}, {\"type\": \"scatter\", \"x\": [1990, 1991, 1992, 1993, 1994, 1995, 1996, 1997, 1998, 1999, 2000, 2001, 2002, 2003, 2004, 2005, 2006, 2007, 2008, 2009, 2010, 2011, 2012, 2013, 2014, 2015, 2016, 2017, 2018], \"y\": [383161.6666666667, 383025.1666666667, 382888.6666666667, 382752.1666666667, 382615.6666666667, 382479.1666666667, 382342.6666666667, 382206.1666666667, 382069.6666666667, 381933.1666666667, 381796.6666666667, 381660.1666666667, 381523.6666666667, 381387.1666666667, 381250.6666666667, 381114.1666666667, 380977.6666666667, 380841.1666666667, 380704.6666666667, 380568.1666666667, 380431.6666666667, 380295.1666666667, 380158.6666666667, 380022.1666666667, 379885.6666666667, 379749.1666666667, 379612.6666666667, 379476.1666666667, 379339.6666666667], \"mode\": \"lines\", \"marker\": {\"color\": \"rgb(52, 231, 228)\"}, \"name\": \"White and Asian Fit\"}], {\"title\": \"The Change In Population Demographics for Boston Since 1990\", \"yaxis\": {\"title\": \"Population Levels\"}, \"xaxis\": {\"title\": \"Year\"}}, {\"showLink\": true, \"linkText\": \"Export to plot.ly\"})});</script>"
      ]
     },
     "metadata": {},
     "output_type": "display_data"
    }
   ],
   "source": [
    "# Demographic changes in Boston\n",
    "\n",
    "years = pd.to_numeric(boston['year']).as_matrix()\n",
    "regr = np.arange(1990, 2019)\n",
    "\n",
    "y0 = boston['black population'].as_matrix()\n",
    "y1 = boston['asian population'].as_matrix()\n",
    "y2 = boston['poc population'].as_matrix()\n",
    "y3 = boston['white population'].as_matrix()\n",
    "y4 = boston['white and asian population'].as_matrix()\n",
    "\n",
    "\n",
    "# Generate linear fits\n",
    "line0 = fitter(years, y0, regr)\n",
    "line1 = fitter(years, y1, regr)\n",
    "line2 = fitter(years, y2, regr)\n",
    "line3 = fitter(years, y3, regr)\n",
    "line4 = fitter(years, y4, regr)\n",
    "\n",
    "trace0 = go.Scatter(\n",
    "            x = years,\n",
    "            y = y0,\n",
    "            name='Black',\n",
    "            mode='markers',\n",
    "            marker=go.Marker(color='rgb(255, 63, 52)')\n",
    "        )\n",
    "fit0 = go.Scatter(\n",
    "                  x = regr,\n",
    "                  y = line0,\n",
    "                  mode='lines',\n",
    "                  marker=go.Marker(color='rgb(255, 63, 52)'),\n",
    "                  name='Black Fit'\n",
    "                  )\n",
    "trace1 = go.Scatter(\n",
    "            x = years,\n",
    "            y = y1,\n",
    "            name='Asian',\n",
    "            mode='markers',\n",
    "            marker=go.Marker(color='rgb(5, 196, 107)')\n",
    "        )\n",
    "fit1 = go.Scatter(\n",
    "                  x = regr,\n",
    "                  y = line1,\n",
    "                  mode='lines',\n",
    "                  marker=go.Marker(color='rgb(5, 196, 107)'),\n",
    "                  name='Asian Fit'\n",
    "                  )\n",
    "trace2 = go.Scatter(\n",
    "            x = years,\n",
    "            y = y2,\n",
    "            name='Non-White',\n",
    "            mode='markers',\n",
    "            marker=go.Marker(color='rgb(60, 64, 198)')\n",
    "        )\n",
    "fit2 = go.Scatter(\n",
    "                  x = regr,\n",
    "                  y = line2,\n",
    "                  mode='lines',\n",
    "                  marker=go.Marker(color='rgb(60, 64, 198)'),\n",
    "                  name='Non-White Fit'\n",
    "                  )\n",
    "trace3 = go.Scatter(\n",
    "            x = years,\n",
    "            y = y3,\n",
    "            name='White',\n",
    "            mode='markers',\n",
    "            marker=go.Marker(color='rgb(255, 221, 89)'),\n",
    "        )\n",
    "fit3 = go.Scatter(\n",
    "                  x = regr,\n",
    "                  y = line3,\n",
    "                  mode='lines',\n",
    "                  marker=go.Marker(color='rgb(255, 221, 89)'),\n",
    "                  name='White Fit'\n",
    "                  )\n",
    "trace4 = go.Scatter(\n",
    "            x = years,\n",
    "            y = y4,\n",
    "            name='White and Asian',\n",
    "            mode='markers',\n",
    "            marker=go.Marker(color='rgb(52, 231, 228)'),\n",
    "        )\n",
    "fit4 = go.Scatter(\n",
    "                  x = regr,\n",
    "                  y = line4,\n",
    "                  mode='lines',\n",
    "                  marker=go.Marker(color='rgb(52, 231, 228)'),\n",
    "                  name='White and Asian Fit'\n",
    "                  )\n",
    "data = [trace0, trace1, trace2, trace3, trace4, fit0, fit1, fit2, fit3, fit4]\n",
    "\n",
    "# Create dictionaries of the demographic estimates for later use.\n",
    "b_black = dict(zip(regr.T, line0.T))\n",
    "b_asian = dict(zip(regr.T, line1.T))\n",
    "b_poc = dict(zip(regr.T, line2.T))\n",
    "b_white = dict(zip(regr.T, line3.T))\n",
    "b_whasian = dict(zip(regr.T, line4.T))\n",
    "\n",
    "layout = go.Layout(\n",
    "            title = \"The Change In Population Demographics for Boston Since 1990\",\n",
    "            yaxis=dict(\n",
    "                title='Population Levels'\n",
    "            ),\n",
    "            xaxis=dict(\n",
    "                title='Year')\n",
    "        )\n",
    "\n",
    "fig = go.Figure(data=data, layout=layout)\n",
    "iplot(fig)"
   ]
  },
  {
   "cell_type": "code",
   "execution_count": 43,
   "metadata": {
    "collapsed": false
   },
   "outputs": [
    {
     "data": {
      "text/html": [
       "<iframe id=\"igraph\" scrolling=\"no\" style=\"border:none;\" seamless=\"seamless\" src=\"https://plot.ly/~hangulu/66.embed\" height=\"525px\" width=\"100%\"></iframe>"
      ],
      "text/plain": [
       "<plotly.tools.PlotlyDisplay object>"
      ]
     },
     "execution_count": 43,
     "metadata": {},
     "output_type": "execute_result"
    }
   ],
   "source": [
    "# Demographic changes in Cambridge\n",
    "\n",
    "years = pd.to_numeric(cambridge['year']).as_matrix()\n",
    "regr = np.arange(1990, 2019)\n",
    "\n",
    "y0 = cambridge['black population'].as_matrix()\n",
    "y1 = cambridge['asian population'].as_matrix()\n",
    "y2 = cambridge['poc population'].as_matrix()\n",
    "y3 = cambridge['white population'].as_matrix()\n",
    "y4 = cambridge['white and asian population'].as_matrix()\n",
    "\n",
    "\n",
    "# Generate linear fits\n",
    "line0 = fitter(years, y0, regr)\n",
    "line1 = fitter(years, y1, regr)\n",
    "line2 = fitter(years, y2, regr)\n",
    "line3 = fitter(years, y3, regr)\n",
    "line4 = fitter(years, y4, regr)\n",
    "\n",
    "trace0 = go.Scatter(\n",
    "            x = years,\n",
    "            y = y0,\n",
    "            name='Black',\n",
    "            mode='markers',\n",
    "            marker=go.Marker(color='rgb(255, 63, 52)')\n",
    "        )\n",
    "fit0 = go.Scatter(\n",
    "                  x = regr,\n",
    "                  y = line0,\n",
    "                  mode='lines',\n",
    "                  marker=go.Marker(color='rgb(255, 63, 52)'),\n",
    "                  name='Black Fit'\n",
    "                  )\n",
    "trace1 = go.Scatter(\n",
    "            x = years,\n",
    "            y = y1,\n",
    "            name='Asian',\n",
    "            mode='markers',\n",
    "            marker=go.Marker(color='rgb(5, 196, 107)')\n",
    "        )\n",
    "fit1 = go.Scatter(\n",
    "                  x = regr,\n",
    "                  y = line1,\n",
    "                  mode='lines',\n",
    "                  marker=go.Marker(color='rgb(5, 196, 107)'),\n",
    "                  name='Asian Fit'\n",
    "                  )\n",
    "trace2 = go.Scatter(\n",
    "            x = years,\n",
    "            y = y2,\n",
    "            name='Non-White',\n",
    "            mode='markers',\n",
    "            marker=go.Marker(color='rgb(60, 64, 198)')\n",
    "        )\n",
    "fit2 = go.Scatter(\n",
    "                  x = regr,\n",
    "                  y = line2,\n",
    "                  mode='lines',\n",
    "                  marker=go.Marker(color='rgb(60, 64, 198)'),\n",
    "                  name='Non-White Fit'\n",
    "                  )\n",
    "trace3 = go.Scatter(\n",
    "            x = years,\n",
    "            y = y3,\n",
    "            name='White',\n",
    "            mode='markers',\n",
    "            marker=go.Marker(color='rgb(255, 221, 89)'),\n",
    "        )\n",
    "fit3 = go.Scatter(\n",
    "                  x = regr,\n",
    "                  y = line3,\n",
    "                  mode='lines',\n",
    "                  marker=go.Marker(color='rgb(255, 221, 89)'),\n",
    "                  name='White Fit'\n",
    "                  )\n",
    "trace4 = go.Scatter(\n",
    "            x = years,\n",
    "            y = y4,\n",
    "            name='White and Asian',\n",
    "            mode='markers',\n",
    "            marker=go.Marker(color='rgb(52, 231, 228)'),\n",
    "        )\n",
    "fit4 = go.Scatter(\n",
    "                  x = regr,\n",
    "                  y = line4,\n",
    "                  mode='lines',\n",
    "                  marker=go.Marker(color='rgb(52, 231, 228)'),\n",
    "                  name='White and Asian Fit'\n",
    "                  )\n",
    "data = [trace0, trace1, trace2, trace3, trace4, fit0, fit1, fit2, fit3, fit4]\n",
    "\n",
    "# Create dictionaries of the demographic estimates for later use.\n",
    "c_black = dict(zip(regr.T, line0.T))\n",
    "c_asian = dict(zip(regr.T, line1.T))\n",
    "c_poc = dict(zip(regr.T, line2.T))\n",
    "c_white = dict(zip(regr.T, line3.T))\n",
    "c_whasian = dict(zip(regr.T, line4.T))\n",
    "\n",
    "layout = go.Layout(\n",
    "            title = \"The Change In Population Demographics for Cambridge Since 1990\",\n",
    "            yaxis=dict(\n",
    "                title='Population Levels'\n",
    "            ),\n",
    "            xaxis=dict(\n",
    "                title='Year')\n",
    "        )\n",
    "\n",
    "fig = go.Figure(data=data, layout=layout)\n",
    "plotly.plotly.iplot(fig, filename=\"Change in Population\")"
   ]
  },
  {
   "cell_type": "markdown",
   "metadata": {},
   "source": [
    "The following is summary data for the above operations. The dataframe contains the estimates for all of the years and demographics."
   ]
  },
  {
   "cell_type": "code",
   "execution_count": 44,
   "metadata": {
    "collapsed": false
   },
   "outputs": [],
   "source": [
    "boston_demdata = [b_black, b_asian, b_poc, b_white, b_whasian]\n",
    "cambridge_demdata = [c_black, c_asian, c_poc, c_white, c_whasian]\n",
    "\n",
    "popdata = pd.DataFrame(boston_demdata).T\n",
    "popdata2 = pd.DataFrame(cambridge_demdata).T\n",
    "\n",
    "popdata.reset_index(inplace=True)\n",
    "popdata2.reset_index(inplace=True)\n",
    "popdata2.drop('index', axis=1, inplace=True)\n",
    "\n",
    "popdata.columns = ['year', 'b_black', 'b_asian', 'b_poc', 'b_white', 'b_white and asian']\n",
    "popdata2.columns = ['c_black', 'c_asian', 'c_poc', 'c_white', 'c_white and asian']\n",
    "\n",
    "popdata = pd.concat([popdata, popdata2], axis=1, join_axes=[popdata.index])"
   ]
  },
  {
   "cell_type": "markdown",
   "metadata": {},
   "source": [
    "## Analyzing Monetary Data\n",
    "Income levels, rent, housing prices."
   ]
  },
  {
   "cell_type": "markdown",
   "metadata": {},
   "source": [
    "The housing in Cambridge was primarily built before 1939 ( 50.99%), making the housing stock in Cambridge some of the oldest overall in America, although there is a range of ages of homes in Cambridge. The next most important housing age is between 1970-1999 ( 20.24%), followed by between 1940-1969 ( 18.47%). There's also some housing in Cambridge built between 2000 and later ( 10.31%).\n",
    "\n",
    "In the last 10 years, Cambridge has experienced some of the highest home appreciation rates of any community in the nation. Cambridge real estate appreciated 62.57% over the last ten years, which is an average annual home appreciation rate of 4.98%, putting Cambridge in the top 10% nationally for real estate appreciation. If you are a home buyer or real estate investor, Cambridge definitely has a track record of being one of the best long term real estate investments in America through the last ten years.\n",
    "\n",
    "Appreciation rates are so strong in Cambridge that despite a nationwide downturn in the housing market, Cambridge real estate has continued to appreciate in value faster than most communities. Looking at just the latest twelve months, Cambridge appreciation rates continue to be some of the highest in America, at 9.83%, which is higher than appreciation rates in 89.78% of the cities and towns in the nation. Based on the last twelve months, short-term real estate investors have found good fortune in Cambridge. Cambridge appreciation rates in the latest quarter were at 1.75%, which equates to an annual appreciation rate of 7.19%.\n",
    "\n",
    "– https://www.neighborhoodscout.com/ma/cambridge/real-estate\n",
    "\n",
    "**These are the median income, housing sales prices, and rent prices in Cambridge and Boston.**"
   ]
  },
  {
   "cell_type": "markdown",
   "metadata": {},
   "source": [
    "### Cambridge Data"
   ]
  },
  {
   "cell_type": "code",
   "execution_count": 16,
   "metadata": {
    "collapsed": false
   },
   "outputs": [],
   "source": [
    "# http://www.deptofnumbers.com/income/massachusetts/boston/\n",
    "c_income2010 = 64865\n",
    "c_income2000 = 47979\n",
    "c_income1990 = 33140\n",
    "\n",
    "# http://www.cambridgema.gov/CDD/factsandmaps/demographicfaq\n",
    "c_house2010 = 739800\n",
    "# https://www.trulia.com/real_estate/Cambridge-Massachusetts/market-trends/\n",
    "c_house2000 = 297000\n",
    "\n",
    "# http://www.cambridgema.gov/CDD/factsandmaps/demographicfaq\n",
    "c_rent2010 = 2348\n",
    "# https://www.cambridgema.gov/~/media/Files/CDD/FactsandMaps/profiles/demo_profile_housing_2016.ashx\n",
    "c_rent2000 = 1100"
   ]
  },
  {
   "cell_type": "markdown",
   "metadata": {},
   "source": [
    "### Boston Data"
   ]
  },
  {
   "cell_type": "code",
   "execution_count": 17,
   "metadata": {
    "collapsed": true
   },
   "outputs": [],
   "source": [
    "# http://www.deptofnumbers.com/income/massachusetts/boston/\n",
    "b_income2010 = 55777\n",
    "b_income2000 = 39629\n",
    "b_income1990 = 12350\n",
    "\n",
    "# https://www.trulia.com/real_estate/Boston-Massachusetts/market-trends/\n",
    "b_house2010 = 575000\n",
    "b_house2000 = 190000\n",
    "\n",
    "# http://www.deptofnumbers.com/rent/massachusetts/boston/\n",
    "b_rent2010 = 1316\n",
    "# https://www.census.gov/hhes/www/housing/census/historic/grossrents.html\n",
    "b_rent2000 = 684"
   ]
  },
  {
   "cell_type": "markdown",
   "metadata": {},
   "source": [
    "#### Comparison Graphs\n",
    "The following graphs compare the median income of, housing prices in, and rent in the two cities. Since there is missing data for the housing prices and rent, a linear fit was used for estimates."
   ]
  },
  {
   "cell_type": "code",
   "execution_count": 40,
   "metadata": {
    "collapsed": false
   },
   "outputs": [
    {
     "data": {
      "text/html": [
       "<iframe id=\"igraph\" scrolling=\"no\" style=\"border:none;\" seamless=\"seamless\" src=\"https://plot.ly/~hangulu/74.embed\" height=\"525px\" width=\"100%\"></iframe>"
      ],
      "text/plain": [
       "<plotly.tools.PlotlyDisplay object>"
      ]
     },
     "execution_count": 40,
     "metadata": {},
     "output_type": "execute_result"
    }
   ],
   "source": [
    "# Income Graphs\n",
    "years = np.asarray([1990, 2000, 2010])\n",
    "regr = np.arange(1990, 2019)\n",
    "y0 = np.asarray([c_income1990, c_income2000, c_income2010])\n",
    "y1 = np.asarray([b_income1990, b_income2000, b_income2010])\n",
    "\n",
    "\n",
    "# Generate linear fits\n",
    "# Cambridge\n",
    "line0 = fitter(years, y0, regr)\n",
    "\n",
    "# Boston\n",
    "line1 = fitter(years, y1, regr)\n",
    "\n",
    "\n",
    "trace0 = go.Scatter(\n",
    "            x = years,\n",
    "            y = y0,\n",
    "            mode = 'markers',\n",
    "            name='Cambridge',\n",
    "            marker=go.Marker(color='rgb(30, 55, 153)')\n",
    "        )\n",
    "fit0 = go.Scatter(\n",
    "                  x = regr,\n",
    "                  y = line0,\n",
    "                  mode='lines',\n",
    "                  marker=go.Marker(color='rgb(255, 127, 14)'),\n",
    "                  name='Cambridge Fit'\n",
    "                  )\n",
    "trace1 = go.Scatter(\n",
    "            x = years,\n",
    "            y = y1,\n",
    "            mode = 'markers',\n",
    "            name='Boston',\n",
    "            marker=go.Marker(color='rgb(120, 224, 143)')\n",
    "        )\n",
    "fit1 = go.Scatter(\n",
    "                  x = regr,\n",
    "                  y = line1,\n",
    "                  mode='lines',\n",
    "                  marker=go.Marker(color='rgb(235, 47, 6)'),\n",
    "                  name='Boston Fit'\n",
    "                  )\n",
    "data = [trace0, trace1, fit0, fit1]\n",
    "\n",
    "# Create dictionaries of the income estimates for later use.\n",
    "cambridge_income = dict(zip(regr.T, line0.T))\n",
    "boston_income = dict(zip(regr.T, line1.T))\n",
    "\n",
    "layout = go.Layout(\n",
    "            title = \"The Change In Median Income of Cambridge and Boston Residents Since 1990\",\n",
    "            yaxis=dict(\n",
    "                title='Median Income ($)'\n",
    "            ),\n",
    "            xaxis=dict(\n",
    "                title='Year')\n",
    "        )\n",
    "\n",
    "fig = go.Figure(data=data, layout=layout)\n",
    "plotly.plotly.iplot(fig, filename=\"income_delta\")"
   ]
  },
  {
   "cell_type": "code",
   "execution_count": 36,
   "metadata": {
    "collapsed": false
   },
   "outputs": [
    {
     "data": {
      "text/html": [
       "<iframe id=\"igraph\" scrolling=\"no\" style=\"border:none;\" seamless=\"seamless\" src=\"https://plot.ly/~hangulu/68.embed\" height=\"525px\" width=\"100%\"></iframe>"
      ],
      "text/plain": [
       "<plotly.tools.PlotlyDisplay object>"
      ]
     },
     "execution_count": 36,
     "metadata": {},
     "output_type": "execute_result"
    }
   ],
   "source": [
    "# Housing Price Graphs\n",
    "years = np.asarray([2000, 2010])\n",
    "regr = np.arange(1997, 2019)\n",
    "y0 = np.asarray([c_house2000, c_house2010])\n",
    "y1 = np.asarray([b_house2000, b_house2010])\n",
    "\n",
    "\n",
    "# Generate linear fits\n",
    "# Cambridge\n",
    "line0 = fitter(years, y0, regr)\n",
    "\n",
    "# Boston\n",
    "line1 = fitter(years, y1, regr)\n",
    "\n",
    "\n",
    "trace0 = go.Scatter(\n",
    "            x = years,\n",
    "            y = y0,\n",
    "            mode = 'markers',\n",
    "            name='Cambridge',\n",
    "            marker=go.Marker(color='rgb(30, 55, 153)')\n",
    "        )\n",
    "fit0 = go.Scatter(\n",
    "                  x = regr,\n",
    "                  y = line0,\n",
    "                  mode='lines',\n",
    "                  marker=go.Marker(color='rgb(255, 127, 14)'),\n",
    "                  name='Cambridge Fit'\n",
    "                  )\n",
    "trace1 = go.Scatter(\n",
    "            x = years,\n",
    "            y = y1,\n",
    "            mode = 'markers',\n",
    "            name='Boston',\n",
    "            marker=go.Marker(color='rgb(120, 224, 143)')\n",
    "        )\n",
    "fit1 = go.Scatter(\n",
    "                  x = regr,\n",
    "                  y = line1,\n",
    "                  mode='lines',\n",
    "                  marker=go.Marker(color='rgb(235, 47, 6)'),\n",
    "                  name='Boston Fit'\n",
    "                  )\n",
    "data = [trace0, trace1, fit0, fit1]\n",
    "\n",
    "# Create dictionaries of the income estimates for later use.\n",
    "cambridge_houses = dict(zip(regr.T, line0.T))\n",
    "boston_houses = dict(zip(regr.T, line1.T))\n",
    "\n",
    "layout = go.Layout(\n",
    "            title = \"The Change In Housing Prices in Cambridge and Boston Since 2000\",\n",
    "            yaxis=dict(\n",
    "                title='Median House Price ($)'\n",
    "            ),\n",
    "            xaxis=dict(\n",
    "                title='Year')\n",
    "        )\n",
    "\n",
    "fig = go.Figure(data=data, layout=layout)\n",
    "plotly.plotly.iplot(fig, filename=\"housing_delta\")"
   ]
  },
  {
   "cell_type": "code",
   "execution_count": 38,
   "metadata": {
    "collapsed": false
   },
   "outputs": [
    {
     "data": {
      "text/html": [
       "<iframe id=\"igraph\" scrolling=\"no\" style=\"border:none;\" seamless=\"seamless\" src=\"https://plot.ly/~hangulu/72.embed\" height=\"525px\" width=\"100%\"></iframe>"
      ],
      "text/plain": [
       "<plotly.tools.PlotlyDisplay object>"
      ]
     },
     "execution_count": 38,
     "metadata": {},
     "output_type": "execute_result"
    }
   ],
   "source": [
    "# Housing Price Graphs\n",
    "years = np.asarray([2000, 2010])\n",
    "regr = np.arange(1997, 2019)\n",
    "y0 = np.asarray([c_rent2000, c_rent2010])\n",
    "y1 = np.asarray([b_rent2000, b_rent2010])\n",
    "\n",
    "\n",
    "# Generate linear fits\n",
    "# Cambridge\n",
    "line0 = fitter(years, y0, regr)\n",
    "\n",
    "# Boston\n",
    "line1 = fitter(years, y1, regr)\n",
    "\n",
    "\n",
    "trace0 = go.Scatter(\n",
    "            x = years,\n",
    "            y = y0,\n",
    "            mode = 'markers',\n",
    "            name='Cambridge',\n",
    "            marker=go.Marker(color='rgb(30, 55, 153)')\n",
    "        )\n",
    "fit0 = go.Scatter(\n",
    "                  x = regr,\n",
    "                  y = line0,\n",
    "                  mode='lines',\n",
    "                  marker=go.Marker(color='rgb(255, 127, 14)'),\n",
    "                  name='Cambridge Fit'\n",
    "                  )\n",
    "trace1 = go.Scatter(\n",
    "            x = years,\n",
    "            y = y1,\n",
    "            mode = 'markers',\n",
    "            name='Boston',\n",
    "            marker=go.Marker(color='rgb(120, 224, 143)')\n",
    "        )\n",
    "fit1 = go.Scatter(\n",
    "                  x = regr,\n",
    "                  y = line1,\n",
    "                  mode='lines',\n",
    "                  marker=go.Marker(color='rgb(235, 47, 6)'),\n",
    "                  name='Boston Fit'\n",
    "                  )\n",
    "data = [trace0, trace1, fit0, fit1]\n",
    "\n",
    "# Create dictionaries of the income estimates for later use.\n",
    "cambridge_rent = dict(zip(regr.T, line0.T))\n",
    "boston_rent = dict(zip(regr.T, line1.T))\n",
    "\n",
    "layout = go.Layout(\n",
    "            title = \"The Change In Rent in Cambridge and Boston Since 2000\",\n",
    "            yaxis=dict(\n",
    "                title='Median Rent ($)'\n",
    "            ),\n",
    "            xaxis=dict(\n",
    "                title='Year')\n",
    "        )\n",
    "\n",
    "fig = go.Figure(data=data, layout=layout)\n",
    "plotly.plotly.iplot(fig, filename=\"rent_delta\")"
   ]
  },
  {
   "cell_type": "markdown",
   "metadata": {},
   "source": [
    "The following is summary data for the above operations. The dataframes contain the estimates for all of the years and incomes/housing prices/rent."
   ]
  },
  {
   "cell_type": "code",
   "execution_count": 45,
   "metadata": {
    "collapsed": false
   },
   "outputs": [],
   "source": [
    "city_income = [boston_income, cambridge_income]\n",
    "city_housing = [boston_houses, cambridge_houses]\n",
    "city_rent = [boston_rent, cambridge_rent]\n",
    "\n",
    "income_data = pd.DataFrame(city_income).T\n",
    "housing_data = pd.DataFrame(city_housing).T\n",
    "rent_data = pd.DataFrame(city_rent).T\n",
    "\n",
    "income_data.reset_index(inplace=True)\n",
    "housing_data.reset_index(inplace=True)\n",
    "rent_data.reset_index(inplace=True)\n",
    "\n",
    "income_data.columns = ['year', 'boston', 'cambridge']\n",
    "housing_data.columns = ['year', 'boston', 'cambridge']\n",
    "rent_data.columns = ['year', 'boston', 'cambridge']\n",
    "money_data = [income_data, housing_data, rent_data]"
   ]
  },
  {
   "cell_type": "markdown",
   "metadata": {},
   "source": [
    "Save the data for use in another notebook."
   ]
  },
  {
   "cell_type": "code",
   "execution_count": 46,
   "metadata": {
    "collapsed": true
   },
   "outputs": [],
   "source": [
    "with open('VariableData/money_data.pickle', 'wb') as f:\n",
    "    pickle.dump(money_data, f)\n",
    "with open('VariableData/demographic_data.pickle', 'wb') as f:\n",
    "    pickle.dump(popdata, f)"
   ]
  },
  {
   "cell_type": "code",
   "execution_count": null,
   "metadata": {
    "collapsed": true
   },
   "outputs": [],
   "source": []
  }
 ],
 "metadata": {
  "kernelspec": {
   "display_name": "Python 3",
   "language": "python",
   "name": "python3"
  },
  "language_info": {
   "codemirror_mode": {
    "name": "ipython",
    "version": 3
   },
   "file_extension": ".py",
   "mimetype": "text/x-python",
   "name": "python",
   "nbconvert_exporter": "python",
   "pygments_lexer": "ipython3",
   "version": "3.6.0"
  },
  "varInspector": {
   "cols": {
    "lenName": 16,
    "lenType": 16,
    "lenVar": 40
   },
   "kernels_config": {
    "python": {
     "delete_cmd_postfix": "",
     "delete_cmd_prefix": "del ",
     "library": "var_list.py",
     "varRefreshCmd": "print(var_dic_list())"
    },
    "r": {
     "delete_cmd_postfix": ") ",
     "delete_cmd_prefix": "rm(",
     "library": "var_list.r",
     "varRefreshCmd": "cat(var_dic_list()) "
    }
   },
   "types_to_exclude": [
    "module",
    "function",
    "builtin_function_or_method",
    "instance",
    "_Feature"
   ],
   "window_display": false
  }
 },
 "nbformat": 4,
 "nbformat_minor": 2
}
