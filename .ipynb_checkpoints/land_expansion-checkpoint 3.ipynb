{
 "cells": [
  {
   "cell_type": "code",
   "execution_count": 1,
   "metadata": {},
   "outputs": [],
   "source": [
    "%matplotlib inline"
   ]
  },
  {
   "cell_type": "code",
   "execution_count": 2,
   "metadata": {},
   "outputs": [],
   "source": [
    "import numpy as np\n",
    "import pandas as pd\n",
    "import math\n",
    "from scipy import stats\n",
    "import pickle\n",
    "from causality.analysis.dataframe import CausalDataFrame\n",
    "from sklearn.linear_model import LinearRegression\n",
    "import datetime"
   ]
  },
  {
   "cell_type": "code",
   "execution_count": 3,
   "metadata": {},
   "outputs": [
    {
     "data": {
      "text/html": [
       "<script>requirejs.config({paths: { 'plotly': ['https://cdn.plot.ly/plotly-latest.min']},});if(!window.Plotly) {{require(['plotly'],function(plotly) {window.Plotly=plotly;});}}</script>"
      ],
      "text/vnd.plotly.v1+html": [
       "<script>requirejs.config({paths: { 'plotly': ['https://cdn.plot.ly/plotly-latest.min']},});if(!window.Plotly) {{require(['plotly'],function(plotly) {window.Plotly=plotly;});}}</script>"
      ]
     },
     "metadata": {},
     "output_type": "display_data"
    }
   ],
   "source": [
    "import matplotlib\n",
    "import matplotlib.pyplot as plt\n",
    "matplotlib.rcParams['font.sans-serif'] = \"Gotham\"\n",
    "matplotlib.rcParams['font.family'] = \"sans-serif\"\n",
    "import plotly\n",
    "import plotly.graph_objs as go\n",
    "from plotly.offline import download_plotlyjs, init_notebook_mode, plot, iplot\n",
    "init_notebook_mode(connected=True)"
   ]
  },
  {
   "cell_type": "markdown",
   "metadata": {},
   "source": [
    "Open the data from past notebooks and correct them to only include years that are common between the data structures (>1999)."
   ]
  },
  {
   "cell_type": "code",
   "execution_count": 4,
   "metadata": {},
   "outputs": [],
   "source": [
    "with open('VariableData/money_data.pickle', 'rb') as f:\n",
    "    income_data, housing_data, rent_data = pickle.load(f)\n",
    "with open('VariableData/demographic_data.pickle', 'rb') as f:\n",
    "    demographic_data = pickle.load(f)\n",
    "with open('VariableData/endowment.pickle', 'rb') as f:\n",
    "    endowment = pickle.load(f)\n",
    "with open('VariableData/expander.pickle', 'rb') as f:\n",
    "    expander = pickle.load(f)"
   ]
  },
  {
   "cell_type": "code",
   "execution_count": 5,
   "metadata": {},
   "outputs": [],
   "source": [
    "endowment = endowment[endowment['FY'] > 1997].reset_index()\n",
    "endowment.drop('index', axis=1, inplace=True)\n",
    "\n",
    "demographic_data = demographic_data[demographic_data['year'] > 1999].reset_index()\n",
    "demographic_data.drop('index', axis=1, inplace=True)\n",
    "\n",
    "income_data = income_data[income_data['year'] > 1999].reset_index()\n",
    "income_data.drop('index', axis=1, inplace=True)\n",
    "\n",
    "housing_data = housing_data[housing_data['year'] > 1999].reset_index()\n",
    "housing_data.drop('index', axis=1, inplace=True)\n",
    "\n",
    "rent_data = rent_data[rent_data['year'] > 1999].reset_index()\n",
    "rent_data.drop('index', axis=1, inplace=True)"
   ]
  },
  {
   "cell_type": "markdown",
   "metadata": {},
   "source": [
    "Read in the data on Harvard owned land and Cambridge's property records. Restrict the Harvard data to Cambridge, MA."
   ]
  },
  {
   "cell_type": "code",
   "execution_count": 6,
   "metadata": {},
   "outputs": [],
   "source": [
    "harvard_land = pd.read_excel(\"Spreadsheets/2018_building_reference_list.xlsx\", header=3)\n",
    "harvard_land = harvard_land[harvard_land['City'] == 'Cambridge']"
   ]
  },
  {
   "cell_type": "code",
   "execution_count": 7,
   "metadata": {},
   "outputs": [],
   "source": [
    "cambridge_property = pd.read_excel(\"Spreadsheets/cambridge_properties.xlsx\")"
   ]
  },
  {
   "cell_type": "markdown",
   "metadata": {},
   "source": [
    "Restrict the Cambridge data to Harvard properties, and only use relevant columns."
   ]
  },
  {
   "cell_type": "code",
   "execution_count": 8,
   "metadata": {},
   "outputs": [],
   "source": [
    "cambridge_property = cambridge_property[cambridge_property['Owner_Name'].isin(['PRESIDENT & FELLOWS OF HARVARD COLLEGE', 'PRESIDENT & FELLOW OF HARVARD COLLEGE'])]"
   ]
  },
  {
   "cell_type": "code",
   "execution_count": 9,
   "metadata": {},
   "outputs": [],
   "source": [
    "cambridge_property = cambridge_property[['Address', 'PropertyClass', 'LandArea', 'BuildingValue', 'LandValue', 'AssessedValue', 'SalePrice', 'SaleDate', 'Owner_Name']]"
   ]
  },
  {
   "cell_type": "markdown",
   "metadata": {},
   "source": [
    "Fix the time data."
   ]
  },
  {
   "cell_type": "code",
   "execution_count": 10,
   "metadata": {},
   "outputs": [],
   "source": [
    "cambridge_property['SaleDate'] = pd.to_datetime(cambridge_property['SaleDate'], infer_datetime_format=True)"
   ]
  },
  {
   "cell_type": "code",
   "execution_count": 11,
   "metadata": {},
   "outputs": [],
   "source": [
    "clean_property = cambridge_property.drop_duplicates(subset=['Address'])"
   ]
  },
  {
   "cell_type": "markdown",
   "metadata": {},
   "source": [
    "Only look at properties purchased after 2000."
   ]
  },
  {
   "cell_type": "code",
   "execution_count": 12,
   "metadata": {},
   "outputs": [],
   "source": [
    "recent_property = clean_property[clean_property['SaleDate'] > datetime.date(2000, 1, 1)]"
   ]
  },
  {
   "cell_type": "code",
   "execution_count": 13,
   "metadata": {},
   "outputs": [],
   "source": [
    "property_numbers = recent_property[['LandArea', 'AssessedValue', 'SalePrice']]\n",
    "num_recent = recent_property['Address'].count()\n",
    "sum_properties = property_numbers.sum()"
   ]
  },
  {
   "cell_type": "code",
   "execution_count": 14,
   "metadata": {},
   "outputs": [
    {
     "data": {
      "text/plain": [
       "LandArea            289391\n",
       "AssessedValue    115226500\n",
       "SalePrice         57548900\n",
       "dtype: int64"
      ]
     },
     "execution_count": 14,
     "metadata": {},
     "output_type": "execute_result"
    }
   ],
   "source": [
    "sum_properties"
   ]
  },
  {
   "cell_type": "code",
   "execution_count": 15,
   "metadata": {},
   "outputs": [],
   "source": [
    "full_property_numbers = clean_property[['LandArea', 'AssessedValue', 'SalePrice']]\n",
    "sum_full = full_property_numbers.sum()"
   ]
  },
  {
   "cell_type": "code",
   "execution_count": 16,
   "metadata": {},
   "outputs": [],
   "source": [
    "delta_property = sum_properties / sum_full"
   ]
  },
  {
   "cell_type": "code",
   "execution_count": 17,
   "metadata": {},
   "outputs": [
    {
     "data": {
      "text/plain": [
       "LandArea         0.029169\n",
       "AssessedValue    0.017518\n",
       "SalePrice        0.428483\n",
       "dtype: float64"
      ]
     },
     "execution_count": 17,
     "metadata": {},
     "output_type": "execute_result"
    }
   ],
   "source": [
    "delta_property"
   ]
  },
  {
   "cell_type": "markdown",
   "metadata": {},
   "source": [
    "What can be gathered from above?\n",
    "\n",
    "Since the year 2000, Harvard has increased its presence in Cambridge by about 3%, corresponding to about 2% of its overall assessed value, an increase of 281,219 square feet and \\$115,226,500. Although the assessed value increase is so high, Harvard only paid \\$57,548,900 for the property at their times of purchase.\n",
    "\n",
    "To make some adjustments for inflation:\n",
    "\n",
    "Note that the inflation rate since 2000 is ~37.8% (https://data.bls.gov/timeseries/CUUR0000SA0L1E?output_view=pct_12mths)."
   ]
  },
  {
   "cell_type": "code",
   "execution_count": 18,
   "metadata": {},
   "outputs": [
    {
     "name": "stderr",
     "output_type": "stream",
     "text": [
      "/anaconda/lib/python3.6/site-packages/ipykernel/__main__.py:6: SettingWithCopyWarning:\n",
      "\n",
      "\n",
      "A value is trying to be set on a copy of a slice from a DataFrame.\n",
      "Try using .loc[row_indexer,col_indexer] = value instead\n",
      "\n",
      "See the caveats in the documentation: http://pandas.pydata.org/pandas-docs/stable/indexing.html#indexing-view-versus-copy\n",
      "\n"
     ]
    }
   ],
   "source": [
    "inflation_data = pd.read_excel(\"Spreadsheets/inflation.xlsx\", header=11)\n",
    "inflation_data = inflation_data[['Year', 'Jan']]\n",
    "inflation_data['Year'] = pd.to_datetime(inflation_data['Year'], format='%Y')\n",
    "inflation_data['CumulativeInflation'] = inflation_data['Jan'].cumsum()\n",
    "inflation_data.rename(columns={'Year' : 'SaleDate'}, inplace=True)\n",
    "recent_property['SaleDate'] = recent_property['SaleDate'].dt.year\n",
    "inflation_data['SaleDate'] = inflation_data['SaleDate'].dt.year"
   ]
  },
  {
   "cell_type": "code",
   "execution_count": 19,
   "metadata": {},
   "outputs": [],
   "source": [
    "recent_property = pd.merge(recent_property, inflation_data, how=\"left\", on=['SaleDate'])\n",
    "recent_property = recent_property.drop('Jan', 1)"
   ]
  },
  {
   "cell_type": "code",
   "execution_count": 20,
   "metadata": {},
   "outputs": [],
   "source": [
    "recent_property['TodaySale'] = (1 + (recent_property['CumulativeInflation'] / 100)) * recent_property['SalePrice']"
   ]
  },
  {
   "cell_type": "code",
   "execution_count": 21,
   "metadata": {},
   "outputs": [],
   "source": [
    "today_sale_sum = recent_property['TodaySale'].sum()"
   ]
  },
  {
   "cell_type": "code",
   "execution_count": 22,
   "metadata": {},
   "outputs": [
    {
     "data": {
      "text/plain": [
       "65929240.0"
      ]
     },
     "execution_count": 22,
     "metadata": {},
     "output_type": "execute_result"
    }
   ],
   "source": [
    "today_sale_sum"
   ]
  },
  {
   "cell_type": "code",
   "execution_count": 23,
   "metadata": {},
   "outputs": [
    {
     "data": {
      "text/plain": [
       "49297260.0"
      ]
     },
     "execution_count": 23,
     "metadata": {},
     "output_type": "execute_result"
    }
   ],
   "source": [
    "sum_properties['AssessedValue'] - today_sale_sum"
   ]
  },
  {
   "cell_type": "markdown",
   "metadata": {},
   "source": [
    "Hence, adjusted for inflation, the sale price of the property Harvard has acquired since 2000 is \\$65,929,240.\n",
    "\n",
    "The difference between this value and the assessed value of the property (in 2018) is: \\$49,297,260, showing that Harvard's property has appreciated in value even more than (twice more than) inflation would account for, illustrating a clear advantageous dynamic for Harvard."
   ]
  },
  {
   "cell_type": "code",
   "execution_count": 24,
   "metadata": {},
   "outputs": [
    {
     "data": {
      "text/html": [
       "<div>\n",
       "<style>\n",
       "    .dataframe thead tr:only-child th {\n",
       "        text-align: right;\n",
       "    }\n",
       "\n",
       "    .dataframe thead th {\n",
       "        text-align: left;\n",
       "    }\n",
       "\n",
       "    .dataframe tbody tr th {\n",
       "        vertical-align: top;\n",
       "    }\n",
       "</style>\n",
       "<table border=\"1\" class=\"dataframe\">\n",
       "  <thead>\n",
       "    <tr style=\"text-align: right;\">\n",
       "      <th></th>\n",
       "      <th>Address</th>\n",
       "      <th>PropertyClass</th>\n",
       "      <th>LandArea</th>\n",
       "      <th>BuildingValue</th>\n",
       "      <th>LandValue</th>\n",
       "      <th>AssessedValue</th>\n",
       "      <th>SalePrice</th>\n",
       "      <th>SaleDate</th>\n",
       "      <th>Owner_Name</th>\n",
       "      <th>CumulativeInflation</th>\n",
       "      <th>TodaySale</th>\n",
       "      <th>CumLand</th>\n",
       "      <th>CumValue</th>\n",
       "    </tr>\n",
       "  </thead>\n",
       "  <tbody>\n",
       "    <tr>\n",
       "      <th>0</th>\n",
       "      <td>113 Walker St</td>\n",
       "      <td>SNGL-FAM-RES</td>\n",
       "      <td>9121</td>\n",
       "      <td>2973800</td>\n",
       "      <td>1740000</td>\n",
       "      <td>4713800</td>\n",
       "      <td>1600000</td>\n",
       "      <td>2000</td>\n",
       "      <td>PRESIDENT &amp; FELLOWS OF HARVARD COLLEGE</td>\n",
       "      <td>2.0</td>\n",
       "      <td>1632000.0</td>\n",
       "      <td>9121</td>\n",
       "      <td>4713800</td>\n",
       "    </tr>\n",
       "    <tr>\n",
       "      <th>1</th>\n",
       "      <td>100 Land Blvd</td>\n",
       "      <td>Private College, University</td>\n",
       "      <td>65683</td>\n",
       "      <td>43883200</td>\n",
       "      <td>19941400</td>\n",
       "      <td>63824600</td>\n",
       "      <td>100</td>\n",
       "      <td>2002</td>\n",
       "      <td>PRESIDENT &amp; FELLOWS OF HARVARD COLLEGE</td>\n",
       "      <td>7.2</td>\n",
       "      <td>107.2</td>\n",
       "      <td>74804</td>\n",
       "      <td>68538400</td>\n",
       "    </tr>\n",
       "    <tr>\n",
       "      <th>2</th>\n",
       "      <td>24 Blackstone St</td>\n",
       "      <td>Private College, University</td>\n",
       "      <td>109943</td>\n",
       "      <td>3784300</td>\n",
       "      <td>8000000</td>\n",
       "      <td>11784300</td>\n",
       "      <td>14118000</td>\n",
       "      <td>2003</td>\n",
       "      <td>PRESIDENT &amp; FELLOWS OF HARVARD COLLEGE</td>\n",
       "      <td>9.1</td>\n",
       "      <td>15402738.0</td>\n",
       "      <td>184747</td>\n",
       "      <td>80322700</td>\n",
       "    </tr>\n",
       "    <tr>\n",
       "      <th>3</th>\n",
       "      <td>45 Blackstone St</td>\n",
       "      <td>CONDO-BLDG</td>\n",
       "      <td>43988</td>\n",
       "      <td>0</td>\n",
       "      <td>0</td>\n",
       "      <td>0</td>\n",
       "      <td>14118000</td>\n",
       "      <td>2003</td>\n",
       "      <td>PRESIDENT &amp; FELLOWS OF HARVARD COLLEGE</td>\n",
       "      <td>9.1</td>\n",
       "      <td>15402738.0</td>\n",
       "      <td>228735</td>\n",
       "      <td>80322700</td>\n",
       "    </tr>\n",
       "    <tr>\n",
       "      <th>4</th>\n",
       "      <td>153 Mt Auburn St</td>\n",
       "      <td>Private College, University</td>\n",
       "      <td>10233</td>\n",
       "      <td>1228800</td>\n",
       "      <td>484700</td>\n",
       "      <td>1713500</td>\n",
       "      <td>0</td>\n",
       "      <td>2003</td>\n",
       "      <td>PRESIDENT &amp; FELLOWS OF HARVARD COLLEGE</td>\n",
       "      <td>9.1</td>\n",
       "      <td>0.0</td>\n",
       "      <td>238968</td>\n",
       "      <td>82036200</td>\n",
       "    </tr>\n",
       "    <tr>\n",
       "      <th>5</th>\n",
       "      <td>0 Arrow St</td>\n",
       "      <td>Private College, University</td>\n",
       "      <td>0</td>\n",
       "      <td>8753600</td>\n",
       "      <td>0</td>\n",
       "      <td>8753600</td>\n",
       "      <td>5700000</td>\n",
       "      <td>2004</td>\n",
       "      <td>PRESIDENT &amp; FELLOWS OF HARVARD COLLEGE</td>\n",
       "      <td>10.2</td>\n",
       "      <td>6281400.0</td>\n",
       "      <td>238968</td>\n",
       "      <td>90789800</td>\n",
       "    </tr>\n",
       "    <tr>\n",
       "      <th>6</th>\n",
       "      <td>20 Sumner Rd</td>\n",
       "      <td>Private College, University</td>\n",
       "      <td>8184</td>\n",
       "      <td>607000</td>\n",
       "      <td>1152400</td>\n",
       "      <td>1759400</td>\n",
       "      <td>1288000</td>\n",
       "      <td>2010</td>\n",
       "      <td>PRESIDENT &amp; FELLOWS OF HARVARD COLLEGE</td>\n",
       "      <td>23.1</td>\n",
       "      <td>1585528.0</td>\n",
       "      <td>247152</td>\n",
       "      <td>92549200</td>\n",
       "    </tr>\n",
       "    <tr>\n",
       "      <th>7</th>\n",
       "      <td>40 Kirkland St</td>\n",
       "      <td>Private College, University</td>\n",
       "      <td>8172</td>\n",
       "      <td>1404300</td>\n",
       "      <td>1150800</td>\n",
       "      <td>2555100</td>\n",
       "      <td>4112400</td>\n",
       "      <td>2010</td>\n",
       "      <td>PRESIDENT &amp; FELLOW OF HARVARD COLLEGE</td>\n",
       "      <td>23.1</td>\n",
       "      <td>5062364.4</td>\n",
       "      <td>255324</td>\n",
       "      <td>95104300</td>\n",
       "    </tr>\n",
       "    <tr>\n",
       "      <th>8</th>\n",
       "      <td>42 Kirkland St</td>\n",
       "      <td>Private College, University</td>\n",
       "      <td>10518</td>\n",
       "      <td>1564400</td>\n",
       "      <td>925600</td>\n",
       "      <td>2490000</td>\n",
       "      <td>4112400</td>\n",
       "      <td>2010</td>\n",
       "      <td>PRESIDENT &amp; FELLOWS OF HARVARD COLLEGE</td>\n",
       "      <td>23.1</td>\n",
       "      <td>5062364.4</td>\n",
       "      <td>265842</td>\n",
       "      <td>97594300</td>\n",
       "    </tr>\n",
       "    <tr>\n",
       "      <th>9</th>\n",
       "      <td>9 Ash St</td>\n",
       "      <td>SNGL-FAM-RES</td>\n",
       "      <td>4800</td>\n",
       "      <td>303200</td>\n",
       "      <td>1426200</td>\n",
       "      <td>1729400</td>\n",
       "      <td>1250000</td>\n",
       "      <td>2010</td>\n",
       "      <td>PRESIDENT &amp; FELLOWS OF HARVARD COLLEGE</td>\n",
       "      <td>23.1</td>\n",
       "      <td>1538750.0</td>\n",
       "      <td>270642</td>\n",
       "      <td>99323700</td>\n",
       "    </tr>\n",
       "    <tr>\n",
       "      <th>10</th>\n",
       "      <td>122 Mt Auburn St</td>\n",
       "      <td>MULTIUSE-RES</td>\n",
       "      <td>18749</td>\n",
       "      <td>9884800</td>\n",
       "      <td>6018000</td>\n",
       "      <td>15902800</td>\n",
       "      <td>11250000</td>\n",
       "      <td>2011</td>\n",
       "      <td>PRESIDENT &amp; FELLOWS OF HARVARD COLLEGE</td>\n",
       "      <td>24.1</td>\n",
       "      <td>13961250.0</td>\n",
       "      <td>289391</td>\n",
       "      <td>115226500</td>\n",
       "    </tr>\n",
       "  </tbody>\n",
       "</table>\n",
       "</div>"
      ],
      "text/plain": [
       "             Address                PropertyClass  LandArea  BuildingValue  \\\n",
       "0      113 Walker St                 SNGL-FAM-RES      9121        2973800   \n",
       "1      100 Land Blvd  Private College, University     65683       43883200   \n",
       "2   24 Blackstone St  Private College, University    109943        3784300   \n",
       "3   45 Blackstone St                   CONDO-BLDG     43988              0   \n",
       "4   153 Mt Auburn St  Private College, University     10233        1228800   \n",
       "5         0 Arrow St  Private College, University         0        8753600   \n",
       "6       20 Sumner Rd  Private College, University      8184         607000   \n",
       "7     40 Kirkland St  Private College, University      8172        1404300   \n",
       "8     42 Kirkland St  Private College, University     10518        1564400   \n",
       "9           9 Ash St                 SNGL-FAM-RES      4800         303200   \n",
       "10  122 Mt Auburn St                 MULTIUSE-RES     18749        9884800   \n",
       "\n",
       "    LandValue  AssessedValue  SalePrice  SaleDate  \\\n",
       "0     1740000        4713800    1600000      2000   \n",
       "1    19941400       63824600        100      2002   \n",
       "2     8000000       11784300   14118000      2003   \n",
       "3           0              0   14118000      2003   \n",
       "4      484700        1713500          0      2003   \n",
       "5           0        8753600    5700000      2004   \n",
       "6     1152400        1759400    1288000      2010   \n",
       "7     1150800        2555100    4112400      2010   \n",
       "8      925600        2490000    4112400      2010   \n",
       "9     1426200        1729400    1250000      2010   \n",
       "10    6018000       15902800   11250000      2011   \n",
       "\n",
       "                                Owner_Name  CumulativeInflation   TodaySale  \\\n",
       "0   PRESIDENT & FELLOWS OF HARVARD COLLEGE                  2.0   1632000.0   \n",
       "1   PRESIDENT & FELLOWS OF HARVARD COLLEGE                  7.2       107.2   \n",
       "2   PRESIDENT & FELLOWS OF HARVARD COLLEGE                  9.1  15402738.0   \n",
       "3   PRESIDENT & FELLOWS OF HARVARD COLLEGE                  9.1  15402738.0   \n",
       "4   PRESIDENT & FELLOWS OF HARVARD COLLEGE                  9.1         0.0   \n",
       "5   PRESIDENT & FELLOWS OF HARVARD COLLEGE                 10.2   6281400.0   \n",
       "6   PRESIDENT & FELLOWS OF HARVARD COLLEGE                 23.1   1585528.0   \n",
       "7    PRESIDENT & FELLOW OF HARVARD COLLEGE                 23.1   5062364.4   \n",
       "8   PRESIDENT & FELLOWS OF HARVARD COLLEGE                 23.1   5062364.4   \n",
       "9   PRESIDENT & FELLOWS OF HARVARD COLLEGE                 23.1   1538750.0   \n",
       "10  PRESIDENT & FELLOWS OF HARVARD COLLEGE                 24.1  13961250.0   \n",
       "\n",
       "    CumLand   CumValue  \n",
       "0      9121    4713800  \n",
       "1     74804   68538400  \n",
       "2    184747   80322700  \n",
       "3    228735   80322700  \n",
       "4    238968   82036200  \n",
       "5    238968   90789800  \n",
       "6    247152   92549200  \n",
       "7    255324   95104300  \n",
       "8    265842   97594300  \n",
       "9    270642   99323700  \n",
       "10   289391  115226500  "
      ]
     },
     "execution_count": 24,
     "metadata": {},
     "output_type": "execute_result"
    }
   ],
   "source": [
    "sorted_df = recent_property.sort_values(by=['SaleDate'])\n",
    "sorted_df = sorted_df.reset_index().drop('index', 1)\n",
    "sorted_df['CumLand'] = sorted_df['LandArea'].cumsum()\n",
    "sorted_df['CumValue'] = sorted_df['AssessedValue'].cumsum()\n",
    "sorted_df"
   ]
  },
  {
   "cell_type": "markdown",
   "metadata": {},
   "source": [
    "Graph the results."
   ]
  },
  {
   "cell_type": "code",
   "execution_count": 25,
   "metadata": {},
   "outputs": [],
   "source": [
    "def fitter(x, y, regr_x):\n",
    "    \"\"\"\n",
    "    Use linear regression to make a best fit line for a set of data.\n",
    "    Args:\n",
    "        x (numpy array): The independent variable.\n",
    "        y (numpy array): The dependent variable.\n",
    "        regr_x (numpy array): The array used to extrapolate the regression.\n",
    "    \"\"\"\n",
    "    slope, intercept, r_value, p_value, std_err = stats.linregress(x, y)\n",
    "    return (slope * regr_x + intercept)"
   ]
  },
  {
   "cell_type": "code",
   "execution_count": 26,
   "metadata": {},
   "outputs": [
    {
     "data": {
      "application/vnd.plotly.v1+json": {
       "data": [
        {
         "marker": {
          "color": "#601014"
         },
         "mode": "markers",
         "name": "Harvard Land\n In Cambridge",
         "type": "scatter",
         "uid": "03423a",
         "x": [
          2000,
          2002,
          2003,
          2003,
          2003,
          2004,
          2010,
          2010,
          2010,
          2010,
          2011
         ],
         "y": [
          9121,
          74804,
          184747,
          228735,
          238968,
          238968,
          247152,
          255324,
          265842,
          270642,
          289391
         ]
        },
        {
         "marker": {
          "color": "#D2232A"
         },
         "mode": "lines",
         "name": "Fit",
         "type": "scatter",
         "uid": "f5a2a2",
         "x": [
          2000,
          2001,
          2002,
          2003,
          2004,
          2005,
          2006,
          2007,
          2008,
          2009,
          2010,
          2011
         ],
         "y": [
          111279.04122621566,
          127636.98890063167,
          143994.9365750514,
          160352.88424947113,
          176710.83192388713,
          193068.77959830686,
          209426.7272727266,
          225784.6749471426,
          242142.62262156233,
          258500.57029598206,
          274858.5179704018,
          291216.4656448178
         ]
        }
       ],
       "layout": {
        "autosize": true,
        "font": {
         "family": "Gotham",
         "size": 18
        },
        "title": "The Change In Harvard's Land in Cambridge Since 2000",
        "xaxis": {
         "autorange": true,
         "range": [
          1999.3038233110617,
          2011.6961766889383
         ],
         "title": "Year",
         "type": "linear"
        },
        "yaxis": {
         "autorange": true,
         "range": [
          -11408.331210191081,
          309920.33121019107
         ],
         "title": "Land Accumulated Since 2000 (Sq. Feet)",
         "type": "linear"
        }
       }
      },
      "text/html": [
       "<div id=\"100fd09f-7153-4293-8f81-13674c446254\" style=\"height: 525px; width: 100%;\" class=\"plotly-graph-div\"></div><script type=\"text/javascript\">require([\"plotly\"], function(Plotly) { window.PLOTLYENV=window.PLOTLYENV || {};window.PLOTLYENV.BASE_URL=\"https://plot.ly\";Plotly.newPlot(\"100fd09f-7153-4293-8f81-13674c446254\", [{\"type\": \"scatter\", \"x\": [2000, 2002, 2003, 2003, 2003, 2004, 2010, 2010, 2010, 2010, 2011], \"y\": [9121, 74804, 184747, 228735, 238968, 238968, 247152, 255324, 265842, 270642, 289391], \"mode\": \"markers\", \"name\": \"Harvard Land\\n In Cambridge\", \"marker\": {\"color\": \"#601014\"}}, {\"type\": \"scatter\", \"x\": [2000, 2001, 2002, 2003, 2004, 2005, 2006, 2007, 2008, 2009, 2010, 2011], \"y\": [111279.04122621566, 127636.98890063167, 143994.9365750514, 160352.88424947113, 176710.83192388713, 193068.77959830686, 209426.7272727266, 225784.6749471426, 242142.62262156233, 258500.57029598206, 274858.5179704018, 291216.4656448178], \"mode\": \"lines\", \"marker\": {\"color\": \"#D2232A\"}, \"name\": \"Fit\"}], {\"title\": \"The Change In Harvard's Land in Cambridge Since 2000\", \"font\": {\"family\": \"Gotham\", \"size\": 18}, \"yaxis\": {\"title\": \"Land Accumulated Since 2000 (Sq. Feet)\"}, \"xaxis\": {\"title\": \"Year\"}}, {\"showLink\": true, \"linkText\": \"Export to plot.ly\"})});</script>"
      ],
      "text/vnd.plotly.v1+html": [
       "<div id=\"100fd09f-7153-4293-8f81-13674c446254\" style=\"height: 525px; width: 100%;\" class=\"plotly-graph-div\"></div><script type=\"text/javascript\">require([\"plotly\"], function(Plotly) { window.PLOTLYENV=window.PLOTLYENV || {};window.PLOTLYENV.BASE_URL=\"https://plot.ly\";Plotly.newPlot(\"100fd09f-7153-4293-8f81-13674c446254\", [{\"type\": \"scatter\", \"x\": [2000, 2002, 2003, 2003, 2003, 2004, 2010, 2010, 2010, 2010, 2011], \"y\": [9121, 74804, 184747, 228735, 238968, 238968, 247152, 255324, 265842, 270642, 289391], \"mode\": \"markers\", \"name\": \"Harvard Land\\n In Cambridge\", \"marker\": {\"color\": \"#601014\"}}, {\"type\": \"scatter\", \"x\": [2000, 2001, 2002, 2003, 2004, 2005, 2006, 2007, 2008, 2009, 2010, 2011], \"y\": [111279.04122621566, 127636.98890063167, 143994.9365750514, 160352.88424947113, 176710.83192388713, 193068.77959830686, 209426.7272727266, 225784.6749471426, 242142.62262156233, 258500.57029598206, 274858.5179704018, 291216.4656448178], \"mode\": \"lines\", \"marker\": {\"color\": \"#D2232A\"}, \"name\": \"Fit\"}], {\"title\": \"The Change In Harvard's Land in Cambridge Since 2000\", \"font\": {\"family\": \"Gotham\", \"size\": 18}, \"yaxis\": {\"title\": \"Land Accumulated Since 2000 (Sq. Feet)\"}, \"xaxis\": {\"title\": \"Year\"}}, {\"showLink\": true, \"linkText\": \"Export to plot.ly\"})});</script>"
      ]
     },
     "metadata": {},
     "output_type": "display_data"
    }
   ],
   "source": [
    "years = sorted_df['SaleDate'].as_matrix()\n",
    "cum_land = sorted_df['CumLand'].as_matrix()\n",
    "cum_value = sorted_df['CumValue'].as_matrix()\n",
    "regr = np.arange(2000, 2012)\n",
    "\n",
    "line0 = fitter(years, cum_land, regr)\n",
    "\n",
    "trace0 = go.Scatter(\n",
    "            x = years,\n",
    "            y = cum_land,\n",
    "            mode = 'markers',\n",
    "            name='Harvard Land\\n In Cambridge',\n",
    "            marker=go.Marker(color='#601014')\n",
    "        )\n",
    "fit0 = go.Scatter(\n",
    "                  x = regr,\n",
    "                  y = line0,\n",
    "                  mode='lines',\n",
    "                  marker=go.Marker(color='#D2232A'),\n",
    "                  name='Fit'\n",
    "                  )\n",
    "\n",
    "data = [trace0, fit0]\n",
    "\n",
    "layout = go.Layout(\n",
    "            title = \"The Change In Harvard's Land in Cambridge Since 2000\",\n",
    "            font = dict(family='Gotham', size=18),\n",
    "            yaxis=dict(\n",
    "                title='Land Accumulated Since 2000 (Sq. Feet)'\n",
    "            ),\n",
    "            xaxis=dict(\n",
    "                title='Year')\n",
    "        )\n",
    "\n",
    "fig = go.Figure(data=data, layout=layout)\n",
    "iplot(fig, filename=\"land_changes\")"
   ]
  },
  {
   "cell_type": "code",
   "execution_count": 27,
   "metadata": {},
   "outputs": [],
   "source": [
    "graph2_df = pd.DataFrame(list(zip(regr, line0)))\n",
    "graph2_df.to_csv('graph2.csv')"
   ]
  },
  {
   "cell_type": "code",
   "execution_count": 28,
   "metadata": {},
   "outputs": [],
   "source": [
    "def grapher(x, y, city, title, ytitle, xtitle, filename):\n",
    "    slope, intercept, r_value, p_value, std_err = stats.linregress(x, y)\n",
    "    fit = slope * x + intercept\n",
    "\n",
    "    trace0 = go.Scatter(\n",
    "                x = x,\n",
    "                y = y,\n",
    "                mode = 'markers',\n",
    "                name=city,\n",
    "                marker=go.Marker(color='#D2232A')\n",
    "            )\n",
    "    fit0 = go.Scatter(\n",
    "                      x = x,\n",
    "                      y = fit,\n",
    "                      mode='lines',\n",
    "                      marker=go.Marker(color='#AC1D23'),\n",
    "                      name='Linear Fit'\n",
    "                      )\n",
    "\n",
    "    data = [trace0, fit0]\n",
    "\n",
    "    layout = go.Layout(\n",
    "                title = title,\n",
    "                font = dict(family='Gotham', size=12),\n",
    "                yaxis=dict(\n",
    "                    title=ytitle\n",
    "                ),\n",
    "                xaxis=dict(\n",
    "                    title=xtitle)\n",
    "            )\n",
    "\n",
    "    fig = go.Figure(data=data, layout=layout)\n",
    "    return iplot(fig, filename=filename)"
   ]
  },
  {
   "cell_type": "code",
   "execution_count": 29,
   "metadata": {},
   "outputs": [
    {
     "data": {
      "text/plain": [
       "12"
      ]
     },
     "execution_count": 29,
     "metadata": {},
     "output_type": "execute_result"
    }
   ],
   "source": [
    "len(line0)"
   ]
  },
  {
   "cell_type": "markdown",
   "metadata": {},
   "source": [
    "Restrict the demographic data to certain years (up to 2012) in order to fit the data well."
   ]
  },
  {
   "cell_type": "code",
   "execution_count": 35,
   "metadata": {},
   "outputs": [],
   "source": [
    "demographic_data = demographic_data[demographic_data['year'] < 2011]\n",
    "rent_data = rent_data[rent_data['year'] < 2011]\n",
    "housing_data = housing_data[housing_data['year'] < 2011]\n",
    "x = cum_land\n",
    "y = pd.to_numeric(demographic_data['c_black']).as_matrix()\n",
    "z1 = pd.to_numeric(rent_data['cambridge']).as_matrix()\n",
    "z2 = pd.to_numeric(housing_data['cambridge']).as_matrix()"
   ]
  },
  {
   "cell_type": "code",
   "execution_count": 36,
   "metadata": {},
   "outputs": [
    {
     "data": {
      "application/vnd.plotly.v1+json": {
       "data": [
        {
         "marker": {
          "color": "#D2232A"
         },
         "mode": "markers",
         "name": "Cambridge",
         "type": "scatter",
         "uid": "8388ba",
         "x": [
          9121,
          74804,
          184747,
          228735,
          238968,
          238968,
          247152,
          255324,
          265842,
          270642,
          289391
         ],
         "y": [
          12420.666666666672,
          12386.816666666666,
          12352.966666666674,
          12319.116666666669,
          12285.266666666663,
          12251.416666666672,
          12217.566666666666,
          12183.716666666674,
          12149.866666666669,
          12116.016666666663,
          12082.166666666672
         ]
        },
        {
         "marker": {
          "color": "#AC1D23"
         },
         "mode": "lines",
         "name": "Linear Fit",
         "type": "scatter",
         "uid": "4782a0",
         "x": [
          9121,
          74804,
          184747,
          228735,
          238968,
          238968,
          247152,
          255324,
          265842,
          270642,
          289391
         ],
         "y": [
          12468.290778920107,
          12397.174777849666,
          12278.137789501276,
          12230.511300834702,
          12219.431873297077,
          12219.431873297077,
          12210.570929784137,
          12201.722978856991,
          12190.33497740671,
          12185.13794308827,
          12164.838110497345
         ]
        }
       ],
       "layout": {
        "autosize": true,
        "font": {
         "family": "Gotham",
         "size": 12
        },
        "title": "The Correlation Between Harvard Land Change and Black Population",
        "xaxis": {
         "autorange": true,
         "range": [
          -8178.080817051512,
          306690.0808170515
         ],
         "title": "Land Change (Sq. Feet)",
         "type": "linear"
        },
        "yaxis": {
         "autorange": true,
         "range": [
          12054.326997131157,
          12490.078346382683
         ],
         "title": "Black Population of Cambridge",
         "type": "linear"
        }
       }
      },
      "text/html": [
       "<div id=\"ce084fc5-84b6-4b3b-95d5-4fb09c23d299\" style=\"height: 525px; width: 100%;\" class=\"plotly-graph-div\"></div><script type=\"text/javascript\">require([\"plotly\"], function(Plotly) { window.PLOTLYENV=window.PLOTLYENV || {};window.PLOTLYENV.BASE_URL=\"https://plot.ly\";Plotly.newPlot(\"ce084fc5-84b6-4b3b-95d5-4fb09c23d299\", [{\"type\": \"scatter\", \"x\": [9121, 74804, 184747, 228735, 238968, 238968, 247152, 255324, 265842, 270642, 289391], \"y\": [12420.666666666672, 12386.816666666666, 12352.966666666674, 12319.116666666669, 12285.266666666663, 12251.416666666672, 12217.566666666666, 12183.716666666674, 12149.866666666669, 12116.016666666663, 12082.166666666672], \"mode\": \"markers\", \"name\": \"Cambridge\", \"marker\": {\"color\": \"#D2232A\"}}, {\"type\": \"scatter\", \"x\": [9121, 74804, 184747, 228735, 238968, 238968, 247152, 255324, 265842, 270642, 289391], \"y\": [12468.290778920107, 12397.174777849666, 12278.137789501276, 12230.511300834702, 12219.431873297077, 12219.431873297077, 12210.570929784137, 12201.722978856991, 12190.33497740671, 12185.13794308827, 12164.838110497345], \"mode\": \"lines\", \"marker\": {\"color\": \"#AC1D23\"}, \"name\": \"Linear Fit\"}], {\"title\": \"The Correlation Between Harvard Land Change and Black Population\", \"font\": {\"family\": \"Gotham\", \"size\": 12}, \"yaxis\": {\"title\": \"Black Population of Cambridge\"}, \"xaxis\": {\"title\": \"Land Change (Sq. Feet)\"}}, {\"showLink\": true, \"linkText\": \"Export to plot.ly\"})});</script>"
      ],
      "text/vnd.plotly.v1+html": [
       "<div id=\"ce084fc5-84b6-4b3b-95d5-4fb09c23d299\" style=\"height: 525px; width: 100%;\" class=\"plotly-graph-div\"></div><script type=\"text/javascript\">require([\"plotly\"], function(Plotly) { window.PLOTLYENV=window.PLOTLYENV || {};window.PLOTLYENV.BASE_URL=\"https://plot.ly\";Plotly.newPlot(\"ce084fc5-84b6-4b3b-95d5-4fb09c23d299\", [{\"type\": \"scatter\", \"x\": [9121, 74804, 184747, 228735, 238968, 238968, 247152, 255324, 265842, 270642, 289391], \"y\": [12420.666666666672, 12386.816666666666, 12352.966666666674, 12319.116666666669, 12285.266666666663, 12251.416666666672, 12217.566666666666, 12183.716666666674, 12149.866666666669, 12116.016666666663, 12082.166666666672], \"mode\": \"markers\", \"name\": \"Cambridge\", \"marker\": {\"color\": \"#D2232A\"}}, {\"type\": \"scatter\", \"x\": [9121, 74804, 184747, 228735, 238968, 238968, 247152, 255324, 265842, 270642, 289391], \"y\": [12468.290778920107, 12397.174777849666, 12278.137789501276, 12230.511300834702, 12219.431873297077, 12219.431873297077, 12210.570929784137, 12201.722978856991, 12190.33497740671, 12185.13794308827, 12164.838110497345], \"mode\": \"lines\", \"marker\": {\"color\": \"#AC1D23\"}, \"name\": \"Linear Fit\"}], {\"title\": \"The Correlation Between Harvard Land Change and Black Population\", \"font\": {\"family\": \"Gotham\", \"size\": 12}, \"yaxis\": {\"title\": \"Black Population of Cambridge\"}, \"xaxis\": {\"title\": \"Land Change (Sq. Feet)\"}}, {\"showLink\": true, \"linkText\": \"Export to plot.ly\"})});</script>"
      ]
     },
     "metadata": {},
     "output_type": "display_data"
    }
   ],
   "source": [
    "endow_black = grapher(x, y, \"Cambridge\", \"The Correlation Between Harvard Land Change and Black Population\", \"Black Population of Cambridge\", \"Land Change (Sq. Feet)\", \"land_black\")"
   ]
  },
  {
   "cell_type": "code",
   "execution_count": 37,
   "metadata": {},
   "outputs": [
    {
     "name": "stderr",
     "output_type": "stream",
     "text": [
      "/anaconda/lib/python3.6/site-packages/matplotlib/font_manager.py:1297: UserWarning:\n",
      "\n",
      "findfont: Font family ['sans-serif'] not found. Falling back to DejaVu Sans\n",
      "\n"
     ]
    },
    {
     "data": {
      "image/png": "[encoded data removed]",
      "text/plain": [
       "<matplotlib.figure.Figure at 0x1159513c8>"
      ]
     },
     "metadata": {},
     "output_type": "display_data"
    }
   ],
   "source": [
    "X  = CausalDataFrame({'x': x, 'y': y, 'z1': z1, 'z2': z2})\n",
    "causal_land_black = X.zplot(x='x', y='y', z=['z1', 'z2'], z_types={'z1': 'c', 'z2': 'c'}, kind='line', title='The Controlled Correlation Between Land Use (Square Feet) and Black Population', color=\"#D2232A\")\n",
    "\n",
    "fig = causal_land_black.get_figure()\n",
    "fig.set_size_inches(9, 5.5)\n",
    "ax = plt.gca()\n",
    "ax.set_frame_on(False)\n",
    "ax.get_yaxis().set_visible(False)\n",
    "ax.legend_.remove()\n",
    "\n",
    "ax.set_title(\"The Controlled Correlation Between Endowment (Billions of Dollars) and Housing Prices\", fontproperties=gotham_black, size=10, color=\"#595959\")\n",
    "ax.set_xlabel(\"Land Use\", fontproperties=gotham_book, fontsize=10, color=\"#595959\")\n",
    "for tick in ax.get_xticklabels():\n",
    "    tick.set_fontproperties(gotham_book)\n",
    "    tick.set_fontsize(10)\n",
    "    tick.set_color(\"#595959\")\n",
    "    \n",
    "fig.savefig('images/black_land.svg', format='svg', dpi=2400, bbox_inches='tight')"
   ]
  },
  {
   "cell_type": "code",
   "execution_count": 43,
   "metadata": {},
   "outputs": [
    {
     "data": {
      "text/plain": [
       "array([ 297000.,  341280.,  385560.,  429840.,  474120.,  518400.,\n",
       "        562680.,  606960.,  651240.,  695520.,  739800.])"
      ]
     },
     "execution_count": 43,
     "metadata": {},
     "output_type": "execute_result"
    }
   ],
   "source": [
    "z2"
   ]
  },
  {
   "cell_type": "code",
   "execution_count": 33,
   "metadata": {},
   "outputs": [],
   "source": [
    "graph9_df = pd.DataFrame(X)\n",
    "graph9_df.to_csv('graph9.csv')"
   ]
  },
  {
   "cell_type": "code",
   "execution_count": 34,
   "metadata": {},
   "outputs": [
    {
     "name": "stderr",
     "output_type": "stream",
     "text": [
      "/anaconda/lib/python3.6/site-packages/matplotlib/font_manager.py:1297: UserWarning:\n",
      "\n",
      "findfont: Font family ['sans-serif'] not found. Falling back to DejaVu Sans\n",
      "\n"
     ]
    },
    {
     "data": {
      "image/png": "[encoded data removed]",
      "text/plain": [
       "<matplotlib.figure.Figure at 0x1159625f8>"
      ]
     },
     "metadata": {},
     "output_type": "display_data"
    }
   ],
   "source": [
    "y = pd.to_numeric(rent_data['cambridge']).as_matrix()\n",
    "z1 = pd.to_numeric(housing_data['cambridge']).as_matrix()\n",
    "\n",
    "X  = CausalDataFrame({'x': x, 'y': y, 'z1': z1})\n",
    "causal_land_rent = X.zplot(x='x', y='y', z=['z1'], z_types={'z1': 'c'}, kind='line', title='The Controlled Correlation Between Land Use (Square Feet) and Rent', color=\"#D2232A\")\n",
    "fig = causal_land_rent.get_figure()\n",
    "fig.set_size_inches(9, 5.5)\n",
    "\n",
    "ax = plt.gca()\n",
    "ax.set_frame_on(False)\n",
    "ax.get_yaxis().set_visible(False)\n",
    "ax.legend_.remove()\n",
    "\n",
    "ax.set_title(\"The Controlled Correlation Between Endowment (Billions of Dollars) and Housing Prices\", fontproperties=gotham_black, size=10, color=\"#595959\")\n",
    "ax.set_xlabel(\"Land Use\", fontproperties=gotham_book, fontsize=10, color=\"#595959\")\n",
    "for tick in ax.get_xticklabels():\n",
    "    tick.set_fontproperties(gotham_book)\n",
    "    tick.set_fontsize(10)\n",
    "    tick.set_color(\"#595959\")\n",
    "    \n",
    "fig.savefig('images/rent_land.svg', format='svg', dpi=1200, bbox_inches='tight')"
   ]
  },
  {
   "cell_type": "code",
   "execution_count": null,
   "metadata": {},
   "outputs": [],
   "source": []
  }
 ],
 "metadata": {
  "kernelspec": {
   "display_name": "Python 3",
   "language": "python",
   "name": "python3"
  },
  "language_info": {
   "codemirror_mode": {
    "name": "ipython",
    "version": 3
   },
   "file_extension": ".py",
   "mimetype": "text/x-python",
   "name": "python",
   "nbconvert_exporter": "python",
   "pygments_lexer": "ipython3",
   "version": "3.6.5"
  }
 },
 "nbformat": 4,
 "nbformat_minor": 2
}
