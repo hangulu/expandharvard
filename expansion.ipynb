{
 "cells": [
  {
   "cell_type": "markdown",
   "metadata": {},
   "source": [
    "## Harvard's Expansion\n",
    "A continuation/complication of the physical impact document, this document will outline how Harvard has changed over the past 2 decades, starting in the year 2000 and ending in the year 2016.\n",
    "\n",
    "The majority of the data for this expansion was pulled from: http://www.cambridgema.gov/CDD/planud/institutionalplanning/oldertowngownreports.\n",
    "\n",
    "The \"change\" will focus on Cambridge, where the data is most readily available and complete. Future projects may focus on other key places for Harvard's expansion, like Allston. Harvard's change is found in its taxable and tax-exempt property growth, its student population growth, and the taxes and PILOT (Payment in Lieu of Taxes) paid to Cambridge."
   ]
  },
  {
   "cell_type": "code",
   "execution_count": 1,
   "metadata": {
    "collapsed": true
   },
   "outputs": [],
   "source": [
    "import numpy as np\n",
    "import pandas as pd\n",
    "from scipy import stats\n",
    "import pickle"
   ]
  },
  {
   "cell_type": "code",
   "execution_count": 2,
   "metadata": {
    "collapsed": false
   },
   "outputs": [
    {
     "data": {
      "text/html": [
       "<script>requirejs.config({paths: { 'plotly': ['https://cdn.plot.ly/plotly-latest.min']},});if(!window.Plotly) {{require(['plotly'],function(plotly) {window.Plotly=plotly;});}}</script>"
      ],
      "text/vnd.plotly.v1+html": [
       "<script>requirejs.config({paths: { 'plotly': ['https://cdn.plot.ly/plotly-latest.min']},});if(!window.Plotly) {{require(['plotly'],function(plotly) {window.Plotly=plotly;});}}</script>"
      ]
     },
     "metadata": {},
     "output_type": "display_data"
    }
   ],
   "source": [
    "import matplotlib.pyplot as plt\n",
    "import plotly\n",
    "import plotly.graph_objs as go\n",
    "from plotly.offline import download_plotlyjs, init_notebook_mode, plot, iplot\n",
    "init_notebook_mode(connected=True)"
   ]
  },
  {
   "cell_type": "code",
   "execution_count": 3,
   "metadata": {
    "collapsed": false
   },
   "outputs": [
    {
     "data": {
      "text/html": [
       "<div>\n",
       "<style>\n",
       "    .dataframe thead tr:only-child th {\n",
       "        text-align: right;\n",
       "    }\n",
       "\n",
       "    .dataframe thead th {\n",
       "        text-align: left;\n",
       "    }\n",
       "\n",
       "    .dataframe tbody tr th {\n",
       "        vertical-align: top;\n",
       "    }\n",
       "</style>\n",
       "<table border=\"1\" class=\"dataframe\">\n",
       "  <thead>\n",
       "    <tr style=\"text-align: right;\">\n",
       "      <th></th>\n",
       "      <th>Year</th>\n",
       "      <th>Student Population</th>\n",
       "      <th>Tax Exempt Property (SF)</th>\n",
       "      <th>Tax Exempt Property (A)</th>\n",
       "      <th>Taxable Property (SF)</th>\n",
       "      <th>Taxable Property (A)</th>\n",
       "      <th>Payments to City</th>\n",
       "    </tr>\n",
       "  </thead>\n",
       "  <tbody>\n",
       "    <tr>\n",
       "      <th>0</th>\n",
       "      <td>2000</td>\n",
       "      <td>20529</td>\n",
       "      <td>11800000</td>\n",
       "      <td>271.0</td>\n",
       "      <td>900000</td>\n",
       "      <td>21.0</td>\n",
       "      <td>8467151</td>\n",
       "    </tr>\n",
       "    <tr>\n",
       "      <th>1</th>\n",
       "      <td>2001</td>\n",
       "      <td>20975</td>\n",
       "      <td>11500000</td>\n",
       "      <td>264.0</td>\n",
       "      <td>995100</td>\n",
       "      <td>23.0</td>\n",
       "      <td>8751365</td>\n",
       "    </tr>\n",
       "    <tr>\n",
       "      <th>2</th>\n",
       "      <td>2002</td>\n",
       "      <td>20791</td>\n",
       "      <td>11640000</td>\n",
       "      <td>267.0</td>\n",
       "      <td>1130000</td>\n",
       "      <td>26.0</td>\n",
       "      <td>10366585</td>\n",
       "    </tr>\n",
       "    <tr>\n",
       "      <th>3</th>\n",
       "      <td>2003</td>\n",
       "      <td>21273</td>\n",
       "      <td>11640000</td>\n",
       "      <td>267.0</td>\n",
       "      <td>1300000</td>\n",
       "      <td>30.0</td>\n",
       "      <td>10233641</td>\n",
       "    </tr>\n",
       "    <tr>\n",
       "      <th>4</th>\n",
       "      <td>2004</td>\n",
       "      <td>21201</td>\n",
       "      <td>8450640</td>\n",
       "      <td>194.0</td>\n",
       "      <td>1263240</td>\n",
       "      <td>29.0</td>\n",
       "      <td>12083442</td>\n",
       "    </tr>\n",
       "    <tr>\n",
       "      <th>5</th>\n",
       "      <td>2005</td>\n",
       "      <td>20991</td>\n",
       "      <td>8624880</td>\n",
       "      <td>198.0</td>\n",
       "      <td>1263240</td>\n",
       "      <td>29.0</td>\n",
       "      <td>13771156</td>\n",
       "    </tr>\n",
       "    <tr>\n",
       "      <th>6</th>\n",
       "      <td>2006</td>\n",
       "      <td>21332</td>\n",
       "      <td>8624880</td>\n",
       "      <td>198.0</td>\n",
       "      <td>1219680</td>\n",
       "      <td>28.0</td>\n",
       "      <td>14592500</td>\n",
       "    </tr>\n",
       "    <tr>\n",
       "      <th>7</th>\n",
       "      <td>2007</td>\n",
       "      <td>22086</td>\n",
       "      <td>12980880</td>\n",
       "      <td>298.0</td>\n",
       "      <td>1219680</td>\n",
       "      <td>28.0</td>\n",
       "      <td>15173863</td>\n",
       "    </tr>\n",
       "    <tr>\n",
       "      <th>8</th>\n",
       "      <td>2008</td>\n",
       "      <td>21972</td>\n",
       "      <td>8799120</td>\n",
       "      <td>202.0</td>\n",
       "      <td>1089000</td>\n",
       "      <td>25.0</td>\n",
       "      <td>13388612</td>\n",
       "    </tr>\n",
       "    <tr>\n",
       "      <th>9</th>\n",
       "      <td>2009</td>\n",
       "      <td>22814</td>\n",
       "      <td>8755560</td>\n",
       "      <td>201.0</td>\n",
       "      <td>1089000</td>\n",
       "      <td>25.0</td>\n",
       "      <td>13366092</td>\n",
       "    </tr>\n",
       "    <tr>\n",
       "      <th>10</th>\n",
       "      <td>2010</td>\n",
       "      <td>23897</td>\n",
       "      <td>8799120</td>\n",
       "      <td>202.0</td>\n",
       "      <td>1089000</td>\n",
       "      <td>25.0</td>\n",
       "      <td>14282663</td>\n",
       "    </tr>\n",
       "    <tr>\n",
       "      <th>11</th>\n",
       "      <td>2011</td>\n",
       "      <td>23820</td>\n",
       "      <td>8842680</td>\n",
       "      <td>203.0</td>\n",
       "      <td>1089000</td>\n",
       "      <td>25.0</td>\n",
       "      <td>15987554</td>\n",
       "    </tr>\n",
       "    <tr>\n",
       "      <th>12</th>\n",
       "      <td>2012</td>\n",
       "      <td>23668</td>\n",
       "      <td>8276400</td>\n",
       "      <td>190.0</td>\n",
       "      <td>1001880</td>\n",
       "      <td>23.0</td>\n",
       "      <td>14216649</td>\n",
       "    </tr>\n",
       "    <tr>\n",
       "      <th>13</th>\n",
       "      <td>2013</td>\n",
       "      <td>23758</td>\n",
       "      <td>8276400</td>\n",
       "      <td>190.0</td>\n",
       "      <td>1001880</td>\n",
       "      <td>23.0</td>\n",
       "      <td>14120766</td>\n",
       "    </tr>\n",
       "    <tr>\n",
       "      <th>14</th>\n",
       "      <td>2014</td>\n",
       "      <td>24357</td>\n",
       "      <td>8319960</td>\n",
       "      <td>191.0</td>\n",
       "      <td>1001880</td>\n",
       "      <td>23.0</td>\n",
       "      <td>11023666</td>\n",
       "    </tr>\n",
       "    <tr>\n",
       "      <th>15</th>\n",
       "      <td>2015</td>\n",
       "      <td>24827</td>\n",
       "      <td>8407080</td>\n",
       "      <td>193.0</td>\n",
       "      <td>958320</td>\n",
       "      <td>22.0</td>\n",
       "      <td>15266613</td>\n",
       "    </tr>\n",
       "    <tr>\n",
       "      <th>16</th>\n",
       "      <td>2016</td>\n",
       "      <td>25547</td>\n",
       "      <td>8363520</td>\n",
       "      <td>192.0</td>\n",
       "      <td>958320</td>\n",
       "      <td>22.0</td>\n",
       "      <td>18472321</td>\n",
       "    </tr>\n",
       "  </tbody>\n",
       "</table>\n",
       "</div>"
      ],
      "text/plain": [
       "    Year  Student Population  Tax Exempt Property (SF)  \\\n",
       "0   2000               20529                  11800000   \n",
       "1   2001               20975                  11500000   \n",
       "2   2002               20791                  11640000   \n",
       "3   2003               21273                  11640000   \n",
       "4   2004               21201                   8450640   \n",
       "5   2005               20991                   8624880   \n",
       "6   2006               21332                   8624880   \n",
       "7   2007               22086                  12980880   \n",
       "8   2008               21972                   8799120   \n",
       "9   2009               22814                   8755560   \n",
       "10  2010               23897                   8799120   \n",
       "11  2011               23820                   8842680   \n",
       "12  2012               23668                   8276400   \n",
       "13  2013               23758                   8276400   \n",
       "14  2014               24357                   8319960   \n",
       "15  2015               24827                   8407080   \n",
       "16  2016               25547                   8363520   \n",
       "\n",
       "    Tax Exempt Property (A)  Taxable Property (SF)  Taxable Property (A)  \\\n",
       "0                     271.0                 900000                  21.0   \n",
       "1                     264.0                 995100                  23.0   \n",
       "2                     267.0                1130000                  26.0   \n",
       "3                     267.0                1300000                  30.0   \n",
       "4                     194.0                1263240                  29.0   \n",
       "5                     198.0                1263240                  29.0   \n",
       "6                     198.0                1219680                  28.0   \n",
       "7                     298.0                1219680                  28.0   \n",
       "8                     202.0                1089000                  25.0   \n",
       "9                     201.0                1089000                  25.0   \n",
       "10                    202.0                1089000                  25.0   \n",
       "11                    203.0                1089000                  25.0   \n",
       "12                    190.0                1001880                  23.0   \n",
       "13                    190.0                1001880                  23.0   \n",
       "14                    191.0                1001880                  23.0   \n",
       "15                    193.0                 958320                  22.0   \n",
       "16                    192.0                 958320                  22.0   \n",
       "\n",
       "    Payments to City  \n",
       "0            8467151  \n",
       "1            8751365  \n",
       "2           10366585  \n",
       "3           10233641  \n",
       "4           12083442  \n",
       "5           13771156  \n",
       "6           14592500  \n",
       "7           15173863  \n",
       "8           13388612  \n",
       "9           13366092  \n",
       "10          14282663  \n",
       "11          15987554  \n",
       "12          14216649  \n",
       "13          14120766  \n",
       "14          11023666  \n",
       "15          15266613  \n",
       "16          18472321  "
      ]
     },
     "execution_count": 3,
     "metadata": {},
     "output_type": "execute_result"
    }
   ],
   "source": [
    "expander = pd.read_excel(\"towngown_data.xlsx\", header=1)\n",
    "expander = expander.round(0)\n",
    "expander"
   ]
  },
  {
   "cell_type": "code",
   "execution_count": 4,
   "metadata": {
    "collapsed": false
   },
   "outputs": [
    {
     "data": {
      "application/vnd.plotly.v1+json": {
       "data": [
        {
         "type": "scatter",
         "uid": "f6c771",
         "x": [
          2000,
          2001,
          2002,
          2003,
          2004,
          2005,
          2006,
          2007,
          2008,
          2009,
          2010,
          2011,
          2012,
          2013,
          2014,
          2015,
          2016
         ],
         "y": [
          20529,
          20975,
          20791,
          21273,
          21201,
          20991,
          21332,
          22086,
          21972,
          22814,
          23897,
          23820,
          23668,
          23758,
          24357,
          24827,
          25547
         ]
        },
        {
         "marker": {
          "color": "rgb(255, 63, 52)"
         },
         "mode": "lines",
         "name": "Fit",
         "type": "scatter",
         "uid": "996b22",
         "x": [
          2000,
          2001,
          2002,
          2003,
          2004,
          2005,
          2006,
          2007,
          2008,
          2009,
          2010,
          2011,
          2012,
          2013,
          2014,
          2015,
          2016
         ],
         "y": [
          20124.941176470602,
          20431.661764705903,
          20738.382352941204,
          21045.102941176505,
          21351.823529411806,
          21658.544117647107,
          21965.26470588229,
          22271.985294117592,
          22578.705882352893,
          22885.426470588194,
          23192.147058823495,
          23498.867647058796,
          23805.588235294097,
          24112.308823529398,
          24419.0294117647,
          24725.75,
          25032.4705882353
         ]
        }
       ],
       "layout": {
        "autosize": true,
        "title": "The Growth of Harvard's Student Population",
        "xaxis": {
         "autorange": true,
         "range": [
          1998.9257714762302,
          2017.0742285237698
         ],
         "title": "Year",
         "type": "linear"
        },
        "yaxis": {
         "autorange": true,
         "range": [
          19818.994283606873,
          25937.93214088143
         ],
         "title": "Number of Students",
         "type": "linear"
        }
       }
      },
      "text/html": [
       "<div id=\"e0695295-8573-4dc5-80a1-f230708bf53c\" style=\"height: 525px; width: 100%;\" class=\"plotly-graph-div\"></div><script type=\"text/javascript\">require([\"plotly\"], function(Plotly) { window.PLOTLYENV=window.PLOTLYENV || {};window.PLOTLYENV.BASE_URL=\"https://plot.ly\";Plotly.newPlot(\"e0695295-8573-4dc5-80a1-f230708bf53c\", [{\"type\": \"scatter\", \"x\": [2000, 2001, 2002, 2003, 2004, 2005, 2006, 2007, 2008, 2009, 2010, 2011, 2012, 2013, 2014, 2015, 2016], \"y\": [20529, 20975, 20791, 21273, 21201, 20991, 21332, 22086, 21972, 22814, 23897, 23820, 23668, 23758, 24357, 24827, 25547]}, {\"type\": \"scatter\", \"x\": [2000, 2001, 2002, 2003, 2004, 2005, 2006, 2007, 2008, 2009, 2010, 2011, 2012, 2013, 2014, 2015, 2016], \"y\": [20124.941176470602, 20431.661764705903, 20738.382352941204, 21045.102941176505, 21351.823529411806, 21658.544117647107, 21965.26470588229, 22271.985294117592, 22578.705882352893, 22885.426470588194, 23192.147058823495, 23498.867647058796, 23805.588235294097, 24112.308823529398, 24419.0294117647, 24725.75, 25032.4705882353], \"mode\": \"lines\", \"marker\": {\"color\": \"rgb(255, 63, 52)\"}, \"name\": \"Fit\"}], {\"title\": \"The Growth of Harvard's Student Population\", \"yaxis\": {\"title\": \"Number of Students\"}, \"xaxis\": {\"title\": \"Year\"}}, {\"showLink\": true, \"linkText\": \"Export to plot.ly\"})});</script>"
      ],
      "text/vnd.plotly.v1+html": [
       "<div id=\"e0695295-8573-4dc5-80a1-f230708bf53c\" style=\"height: 525px; width: 100%;\" class=\"plotly-graph-div\"></div><script type=\"text/javascript\">require([\"plotly\"], function(Plotly) { window.PLOTLYENV=window.PLOTLYENV || {};window.PLOTLYENV.BASE_URL=\"https://plot.ly\";Plotly.newPlot(\"e0695295-8573-4dc5-80a1-f230708bf53c\", [{\"type\": \"scatter\", \"x\": [2000, 2001, 2002, 2003, 2004, 2005, 2006, 2007, 2008, 2009, 2010, 2011, 2012, 2013, 2014, 2015, 2016], \"y\": [20529, 20975, 20791, 21273, 21201, 20991, 21332, 22086, 21972, 22814, 23897, 23820, 23668, 23758, 24357, 24827, 25547]}, {\"type\": \"scatter\", \"x\": [2000, 2001, 2002, 2003, 2004, 2005, 2006, 2007, 2008, 2009, 2010, 2011, 2012, 2013, 2014, 2015, 2016], \"y\": [20124.941176470602, 20431.661764705903, 20738.382352941204, 21045.102941176505, 21351.823529411806, 21658.544117647107, 21965.26470588229, 22271.985294117592, 22578.705882352893, 22885.426470588194, 23192.147058823495, 23498.867647058796, 23805.588235294097, 24112.308823529398, 24419.0294117647, 24725.75, 25032.4705882353], \"mode\": \"lines\", \"marker\": {\"color\": \"rgb(255, 63, 52)\"}, \"name\": \"Fit\"}], {\"title\": \"The Growth of Harvard's Student Population\", \"yaxis\": {\"title\": \"Number of Students\"}, \"xaxis\": {\"title\": \"Year\"}}, {\"showLink\": true, \"linkText\": \"Export to plot.ly\"})});</script>"
      ]
     },
     "metadata": {},
     "output_type": "display_data"
    }
   ],
   "source": [
    "# Growth of student population\n",
    "years = pd.to_numeric(expander['Year']).as_matrix()\n",
    "stud_pop = pd.to_numeric(expander['Student Population']).as_matrix()\n",
    "\n",
    "slope, intercept, r_value, p_value, std_err = stats.linregress(years, stud_pop)\n",
    "studpop_fit = slope * years + intercept\n",
    "\n",
    "data = go.Data([\n",
    "        go.Scatter(\n",
    "            x = years,\n",
    "            y = stud_pop\n",
    "        ),\n",
    "        go.Scatter(\n",
    "            x = years,\n",
    "            y = studpop_fit,\n",
    "            mode='lines',\n",
    "            marker=go.Marker(color='rgb(255, 63, 52)'),\n",
    "            name='Fit'\n",
    "            )])\n",
    "layout = go.Layout(\n",
    "            title = \"The Growth of Harvard's Student Population\",\n",
    "            yaxis=dict(\n",
    "                title='Number of Students'),\n",
    "            xaxis=dict(\n",
    "                title='Year')\n",
    ")\n",
    "\n",
    "fig = go.Figure(data=data, layout=layout)\n",
    "iplot(fig)"
   ]
  },
  {
   "cell_type": "code",
   "execution_count": 10,
   "metadata": {
    "collapsed": false,
    "scrolled": false
   },
   "outputs": [
    {
     "data": {
      "text/html": [
       "<iframe id=\"igraph\" scrolling=\"no\" style=\"border:none;\" seamless=\"seamless\" src=\"https://plot.ly/~hangulu/76.embed\" height=\"525px\" width=\"100%\"></iframe>"
      ],
      "text/plain": [
       "<plotly.tools.PlotlyDisplay object>"
      ]
     },
     "execution_count": 10,
     "metadata": {},
     "output_type": "execute_result"
    }
   ],
   "source": [
    "# Growth of property\n",
    "years = np.arange(2003, 2017)\n",
    "post_2000 = expander[expander['Year'] > 2002]\n",
    "props = pd.to_numeric(post_2000['Taxable Property (A)']).as_matrix()\n",
    "\n",
    "slope, intercept, r_value, p_value, std_err = stats.linregress(years, props)\n",
    "props_fit = slope * years + intercept\n",
    "\n",
    "trace0 = go.Scatter(\n",
    "            x = expander['Year'],\n",
    "            y = expander['Tax Exempt Property (A)'],\n",
    "            name='Tax Exempt'\n",
    "        )\n",
    "trace1 = go.Scatter(\n",
    "            x = expander['Year'],\n",
    "            y = expander['Taxable Property (A)'],\n",
    "            name='Taxable',\n",
    "            yaxis='y2'\n",
    "        )\n",
    "fit0 = go.Scatter(\n",
    "            x = years,\n",
    "            y = props_fit,\n",
    "            mode='lines',\n",
    "            marker=go.Marker(color='rgb(255, 63, 52)'),\n",
    "            name='Taxable Fit',\n",
    "            yaxis='y2'\n",
    "        )\n",
    "\n",
    "data = [trace0, trace1]\n",
    "\n",
    "layout = go.Layout(\n",
    "            title = \"The Growth of Harvard's Property in Cambridge Since 2000\",\n",
    "            yaxis=dict(\n",
    "                title='Tax Exempt Property (Acres)'\n",
    "            ),\n",
    "            yaxis2=dict(\n",
    "                title='Taxable Property (Acres)',\n",
    "                overlaying='y',\n",
    "                side='right'\n",
    "            ),\n",
    "            xaxis=dict(\n",
    "                title='Year')\n",
    "        )\n",
    "\n",
    "fig = go.Figure(data=data, layout=layout)\n",
    "plotly.plotly.iplot(fig, filename=\"cambridge_property\")"
   ]
  },
  {
   "cell_type": "code",
   "execution_count": 12,
   "metadata": {
    "collapsed": false
   },
   "outputs": [
    {
     "data": {
      "application/vnd.plotly.v1+json": {
       "data": [
        {
         "name": "Data",
         "type": "scatter",
         "uid": "9a441a",
         "x": [
          2000,
          2001,
          2002,
          2003,
          2004,
          2005,
          2006,
          2007,
          2008,
          2009,
          2010,
          2011,
          2012,
          2013,
          2014,
          2015,
          2016
         ],
         "y": [
          8467151,
          8751365,
          10366585,
          10233641,
          12083442,
          13771156,
          14592500,
          15173863,
          13388612,
          13366092,
          14282663,
          15987554,
          14216649,
          14120766,
          11023666,
          15266613,
          18472321
         ]
        }
       ],
       "layout": {
        "autosize": true,
        "title": "How Harvard Pays Cambridge Annually",
        "xaxis": {
         "autorange": true,
         "range": [
          1998.9379059495973,
          2017.0620940504027
         ],
         "title": "Year",
         "type": "linear"
        },
        "yaxis": {
         "autorange": true,
         "range": [
          7734288.229299363,
          19205183.770700637
         ],
         "title": "Payments to Cambridge ($)",
         "type": "linear"
        }
       }
      },
      "text/html": [
       "<div id=\"e50cc5c3-8705-45e4-8f4c-a843d6fb8df6\" style=\"height: 525px; width: 100%;\" class=\"plotly-graph-div\"></div><script type=\"text/javascript\">require([\"plotly\"], function(Plotly) { window.PLOTLYENV=window.PLOTLYENV || {};window.PLOTLYENV.BASE_URL=\"https://plot.ly\";Plotly.newPlot(\"e50cc5c3-8705-45e4-8f4c-a843d6fb8df6\", [{\"type\": \"scatter\", \"x\": [2000, 2001, 2002, 2003, 2004, 2005, 2006, 2007, 2008, 2009, 2010, 2011, 2012, 2013, 2014, 2015, 2016], \"y\": [8467151, 8751365, 10366585, 10233641, 12083442, 13771156, 14592500, 15173863, 13388612, 13366092, 14282663, 15987554, 14216649, 14120766, 11023666, 15266613, 18472321], \"name\": \"Data\"}], {\"title\": \"How Harvard Pays Cambridge Annually\", \"yaxis\": {\"title\": \"Payments to Cambridge ($)\"}, \"xaxis\": {\"title\": \"Year\"}}, {\"showLink\": true, \"linkText\": \"Export to plot.ly\"})});</script>"
      ],
      "text/vnd.plotly.v1+html": [
       "<div id=\"e50cc5c3-8705-45e4-8f4c-a843d6fb8df6\" style=\"height: 525px; width: 100%;\" class=\"plotly-graph-div\"></div><script type=\"text/javascript\">require([\"plotly\"], function(Plotly) { window.PLOTLYENV=window.PLOTLYENV || {};window.PLOTLYENV.BASE_URL=\"https://plot.ly\";Plotly.newPlot(\"e50cc5c3-8705-45e4-8f4c-a843d6fb8df6\", [{\"type\": \"scatter\", \"x\": [2000, 2001, 2002, 2003, 2004, 2005, 2006, 2007, 2008, 2009, 2010, 2011, 2012, 2013, 2014, 2015, 2016], \"y\": [8467151, 8751365, 10366585, 10233641, 12083442, 13771156, 14592500, 15173863, 13388612, 13366092, 14282663, 15987554, 14216649, 14120766, 11023666, 15266613, 18472321], \"name\": \"Data\"}], {\"title\": \"How Harvard Pays Cambridge Annually\", \"yaxis\": {\"title\": \"Payments to Cambridge ($)\"}, \"xaxis\": {\"title\": \"Year\"}}, {\"showLink\": true, \"linkText\": \"Export to plot.ly\"})});</script>"
      ]
     },
     "metadata": {},
     "output_type": "display_data"
    }
   ],
   "source": [
    "# Change in payments to Cambridge\n",
    "\n",
    "years = pd.to_numeric(expander['Year']).as_matrix()\n",
    "pay_city = pd.to_numeric(expander['Payments to City']).as_matrix()\n",
    "\n",
    "poly_fit = np.polyfit(years, pay_city, 3)\n",
    "f = np.poly1d(poly_fit)\n",
    "\n",
    "data = go.Data([\n",
    "        go.Scatter(\n",
    "            x = years,\n",
    "            y = pay_city,\n",
    "            name='Data'\n",
    "        )])\n",
    "layout = go.Layout(\n",
    "            title = \"How Harvard Pays Cambridge Annually\",\n",
    "            yaxis=dict(\n",
    "                title='Payments to Cambridge ($)'),\n",
    "            xaxis=dict(\n",
    "                title='Year')\n",
    ")\n",
    "\n",
    "\n",
    "\n",
    "fig = go.Figure(data=data, layout=layout)\n",
    "iplot(fig)"
   ]
  },
  {
   "cell_type": "markdown",
   "metadata": {},
   "source": [
    "Save the data for use in another notebook."
   ]
  },
  {
   "cell_type": "code",
   "execution_count": 7,
   "metadata": {
    "collapsed": false
   },
   "outputs": [],
   "source": [
    "with open('VariableData/expander.pickle', 'wb') as f:\n",
    "    pickle.dump(expander, f)"
   ]
  },
  {
   "cell_type": "code",
   "execution_count": null,
   "metadata": {
    "collapsed": true
   },
   "outputs": [],
   "source": []
  }
 ],
 "metadata": {
  "kernelspec": {
   "display_name": "Python 3",
   "language": "python",
   "name": "python3"
  },
  "language_info": {
   "codemirror_mode": {
    "name": "ipython",
    "version": 3
   },
   "file_extension": ".py",
   "mimetype": "text/x-python",
   "name": "python",
   "nbconvert_exporter": "python",
   "pygments_lexer": "ipython3",
   "version": "3.6.0"
  },
  "varInspector": {
   "cols": {
    "lenName": 16,
    "lenType": 16,
    "lenVar": 40
   },
   "kernels_config": {
    "python": {
     "delete_cmd_postfix": "",
     "delete_cmd_prefix": "del ",
     "library": "var_list.py",
     "varRefreshCmd": "print(var_dic_list())"
    },
    "r": {
     "delete_cmd_postfix": ") ",
     "delete_cmd_prefix": "rm(",
     "library": "var_list.r",
     "varRefreshCmd": "cat(var_dic_list()) "
    }
   },
   "types_to_exclude": [
    "module",
    "function",
    "builtin_function_or_method",
    "instance",
    "_Feature"
   ],
   "window_display": false
  }
 },
 "nbformat": 4,
 "nbformat_minor": 2
}
