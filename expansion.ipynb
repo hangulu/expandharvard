{
 "cells": [
  {
   "cell_type": "markdown",
   "metadata": {},
   "source": [
    "## Harvard's Expansion\n",
    "A continuation/complication of the physical impact document, this document will outline how Harvard has changed over the past 2 decades, starting in the year 2000 and ending in the year 2016.\n",
    "\n",
    "The majority of the data for this expansion was pulled from: http://www.cambridgema.gov/CDD/planud/institutionalplanning/oldertowngownreports.\n",
    "\n",
    "The \"change\" will focus on Cambridge, where the data is most readily available and complete. Future projects may focus on other key places for Harvard's expansion, like Allston. Harvard's change is found in its taxable and tax-exempt property growth, its student population growth, and the taxes and PILOT (Payment in Lieu of Taxes) paid to Cambridge."
   ]
  },
  {
   "cell_type": "code",
   "execution_count": 1,
   "metadata": {
    "collapsed": true
   },
   "outputs": [],
   "source": [
    "import numpy as np\n",
    "import pandas as pd\n",
    "from scipy import stats\n",
    "import pickle"
   ]
  },
  {
   "cell_type": "code",
   "execution_count": 2,
   "metadata": {
    "collapsed": false
   },
   "outputs": [
    {
     "data": {
      "text/html": [
       "<script>requirejs.config({paths: { 'plotly': ['https://cdn.plot.ly/plotly-latest.min']},});if(!window.Plotly) {{require(['plotly'],function(plotly) {window.Plotly=plotly;});}}</script>"
      ],
      "text/vnd.plotly.v1+html": [
       "<script>requirejs.config({paths: { 'plotly': ['https://cdn.plot.ly/plotly-latest.min']},});if(!window.Plotly) {{require(['plotly'],function(plotly) {window.Plotly=plotly;});}}</script>"
      ]
     },
     "metadata": {},
     "output_type": "display_data"
    }
   ],
   "source": [
    "import matplotlib.pyplot as plt\n",
    "import plotly\n",
    "import plotly.graph_objs as go\n",
    "from plotly.offline import download_plotlyjs, init_notebook_mode, plot, iplot\n",
    "init_notebook_mode(connected=True)"
   ]
  },
  {
   "cell_type": "code",
   "execution_count": 3,
   "metadata": {
    "collapsed": false
   },
   "outputs": [],
   "source": [
    "expander = pd.read_excel(\"towngown_data.xlsx\", header=1)\n",
    "expander = expander.round(0)"
   ]
  },
  {
   "cell_type": "code",
   "execution_count": 4,
   "metadata": {
    "collapsed": false
   },
   "outputs": [
    {
     "data": {
      "application/vnd.plotly.v1+json": {
       "data": [
        {
         "type": "scatter",
         "x": [
          2000,
          2001,
          2002,
          2003,
          2004,
          2005,
          2006,
          2007,
          2008,
          2009,
          2010,
          2011,
          2012,
          2013,
          2014,
          2015,
          2016
         ],
         "y": [
          20529,
          20975,
          20791,
          21273,
          21201,
          20991,
          21332,
          22086,
          21972,
          22814,
          23897,
          23820,
          23668,
          23758,
          24357,
          24827,
          25547
         ]
        },
        {
         "marker": {
          "color": "rgb(255, 63, 52)"
         },
         "mode": "lines",
         "name": "Fit",
         "type": "scatter",
         "x": [
          2000,
          2001,
          2002,
          2003,
          2004,
          2005,
          2006,
          2007,
          2008,
          2009,
          2010,
          2011,
          2012,
          2013,
          2014,
          2015,
          2016
         ],
         "y": [
          20124.941176470602,
          20431.661764705903,
          20738.382352941204,
          21045.102941176505,
          21351.823529411806,
          21658.544117647107,
          21965.26470588229,
          22271.985294117592,
          22578.705882352893,
          22885.426470588194,
          23192.147058823495,
          23498.867647058796,
          23805.588235294097,
          24112.308823529398,
          24419.0294117647,
          24725.75,
          25032.4705882353
         ]
        }
       ],
       "layout": {
        "title": "The Growth of Harvard's Student Population",
        "xaxis": {
         "title": "Year"
        },
        "yaxis": {
         "title": "Number of Students"
        }
       }
      },
      "text/html": [
       "<div id=\"4ba1c9cd-fa74-4049-8359-30b22475274e\" style=\"height: 525px; width: 100%;\" class=\"plotly-graph-div\"></div><script type=\"text/javascript\">require([\"plotly\"], function(Plotly) { window.PLOTLYENV=window.PLOTLYENV || {};window.PLOTLYENV.BASE_URL=\"https://plot.ly\";Plotly.newPlot(\"4ba1c9cd-fa74-4049-8359-30b22475274e\", [{\"type\": \"scatter\", \"x\": [2000, 2001, 2002, 2003, 2004, 2005, 2006, 2007, 2008, 2009, 2010, 2011, 2012, 2013, 2014, 2015, 2016], \"y\": [20529, 20975, 20791, 21273, 21201, 20991, 21332, 22086, 21972, 22814, 23897, 23820, 23668, 23758, 24357, 24827, 25547]}, {\"type\": \"scatter\", \"x\": [2000, 2001, 2002, 2003, 2004, 2005, 2006, 2007, 2008, 2009, 2010, 2011, 2012, 2013, 2014, 2015, 2016], \"y\": [20124.941176470602, 20431.661764705903, 20738.382352941204, 21045.102941176505, 21351.823529411806, 21658.544117647107, 21965.26470588229, 22271.985294117592, 22578.705882352893, 22885.426470588194, 23192.147058823495, 23498.867647058796, 23805.588235294097, 24112.308823529398, 24419.0294117647, 24725.75, 25032.4705882353], \"mode\": \"lines\", \"marker\": {\"color\": \"rgb(255, 63, 52)\"}, \"name\": \"Fit\"}], {\"title\": \"The Growth of Harvard's Student Population\", \"yaxis\": {\"title\": \"Number of Students\"}, \"xaxis\": {\"title\": \"Year\"}}, {\"showLink\": true, \"linkText\": \"Export to plot.ly\"})});</script>"
      ],
      "text/vnd.plotly.v1+html": [
       "<div id=\"4ba1c9cd-fa74-4049-8359-30b22475274e\" style=\"height: 525px; width: 100%;\" class=\"plotly-graph-div\"></div><script type=\"text/javascript\">require([\"plotly\"], function(Plotly) { window.PLOTLYENV=window.PLOTLYENV || {};window.PLOTLYENV.BASE_URL=\"https://plot.ly\";Plotly.newPlot(\"4ba1c9cd-fa74-4049-8359-30b22475274e\", [{\"type\": \"scatter\", \"x\": [2000, 2001, 2002, 2003, 2004, 2005, 2006, 2007, 2008, 2009, 2010, 2011, 2012, 2013, 2014, 2015, 2016], \"y\": [20529, 20975, 20791, 21273, 21201, 20991, 21332, 22086, 21972, 22814, 23897, 23820, 23668, 23758, 24357, 24827, 25547]}, {\"type\": \"scatter\", \"x\": [2000, 2001, 2002, 2003, 2004, 2005, 2006, 2007, 2008, 2009, 2010, 2011, 2012, 2013, 2014, 2015, 2016], \"y\": [20124.941176470602, 20431.661764705903, 20738.382352941204, 21045.102941176505, 21351.823529411806, 21658.544117647107, 21965.26470588229, 22271.985294117592, 22578.705882352893, 22885.426470588194, 23192.147058823495, 23498.867647058796, 23805.588235294097, 24112.308823529398, 24419.0294117647, 24725.75, 25032.4705882353], \"mode\": \"lines\", \"marker\": {\"color\": \"rgb(255, 63, 52)\"}, \"name\": \"Fit\"}], {\"title\": \"The Growth of Harvard's Student Population\", \"yaxis\": {\"title\": \"Number of Students\"}, \"xaxis\": {\"title\": \"Year\"}}, {\"showLink\": true, \"linkText\": \"Export to plot.ly\"})});</script>"
      ]
     },
     "metadata": {},
     "output_type": "display_data"
    }
   ],
   "source": [
    "# Growth of student population\n",
    "years = pd.to_numeric(expander['Year']).as_matrix()\n",
    "stud_pop = pd.to_numeric(expander['Student Population']).as_matrix()\n",
    "\n",
    "slope, intercept, r_value, p_value, std_err = stats.linregress(years, stud_pop)\n",
    "studpop_fit = slope * years + intercept\n",
    "\n",
    "data = go.Data([\n",
    "        go.Scatter(\n",
    "            x = years,\n",
    "            y = stud_pop\n",
    "        ),\n",
    "        go.Scatter(\n",
    "            x = years,\n",
    "            y = studpop_fit,\n",
    "            mode='lines',\n",
    "            marker=go.Marker(color='rgb(255, 63, 52)'),\n",
    "            name='Fit'\n",
    "            )])\n",
    "layout = go.Layout(\n",
    "            title = \"The Growth of Harvard's Student Population\",\n",
    "            yaxis=dict(\n",
    "                title='Number of Students'),\n",
    "            xaxis=dict(\n",
    "                title='Year')\n",
    ")\n",
    "\n",
    "fig = go.Figure(data=data, layout=layout)\n",
    "iplot(fig)"
   ]
  },
  {
   "cell_type": "code",
   "execution_count": 5,
   "metadata": {
    "collapsed": false,
    "scrolled": false
   },
   "outputs": [
    {
     "data": {
      "application/vnd.plotly.v1+json": {
       "data": [
        {
         "name": "Tax Exempt",
         "type": "scatter",
         "x": [
          2000,
          2001,
          2002,
          2003,
          2004,
          2005,
          2006,
          2007,
          2008,
          2009,
          2010,
          2011,
          2012,
          2013,
          2014,
          2015,
          2016
         ],
         "y": [
          271,
          264,
          267,
          267,
          194,
          198,
          198,
          298,
          202,
          201,
          202,
          203,
          190,
          190,
          191,
          193,
          192
         ]
        },
        {
         "name": "Taxable",
         "type": "scatter",
         "x": [
          2000,
          2001,
          2002,
          2003,
          2004,
          2005,
          2006,
          2007,
          2008,
          2009,
          2010,
          2011,
          2012,
          2013,
          2014,
          2015,
          2016
         ],
         "y": [
          21,
          23,
          26,
          30,
          29,
          29,
          28,
          28,
          25,
          25,
          25,
          25,
          23,
          23,
          23,
          22,
          22
         ],
         "yaxis": "y2"
        },
        {
         "marker": {
          "color": "rgb(76, 209, 55)"
         },
         "mode": "lines",
         "name": "Taxable Fit",
         "type": "scatter",
         "x": [
          2003,
          2004,
          2005,
          2006,
          2007,
          2008,
          2009,
          2010,
          2011,
          2012,
          2013,
          2014,
          2015,
          2016
         ],
         "y": [
          29.714285714285552,
          29.065934065934016,
          28.417582417582253,
          27.769230769230717,
          27.120879120878953,
          26.472527472527418,
          25.824175824175654,
          25.17582417582412,
          24.527472527472355,
          23.87912087912082,
          23.230769230769056,
          22.58241758241752,
          21.934065934065757,
          21.28571428571422
         ],
         "yaxis": "y2"
        }
       ],
       "layout": {
        "title": "The Growth of Harvard's Property in Cambridge Since 2000",
        "xaxis": {
         "title": "Year"
        },
        "yaxis": {
         "title": "Tax Exempt Property (Acres)"
        },
        "yaxis2": {
         "overlaying": "y",
         "side": "right",
         "title": "Taxable Property (Acres)"
        }
       }
      },
      "text/html": [
       "<div id=\"0297b89c-c148-4cb1-a319-cb449bdb082a\" style=\"height: 525px; width: 100%;\" class=\"plotly-graph-div\"></div><script type=\"text/javascript\">require([\"plotly\"], function(Plotly) { window.PLOTLYENV=window.PLOTLYENV || {};window.PLOTLYENV.BASE_URL=\"https://plot.ly\";Plotly.newPlot(\"0297b89c-c148-4cb1-a319-cb449bdb082a\", [{\"type\": \"scatter\", \"x\": [2000, 2001, 2002, 2003, 2004, 2005, 2006, 2007, 2008, 2009, 2010, 2011, 2012, 2013, 2014, 2015, 2016], \"y\": [271.0, 264.0, 267.0, 267.0, 194.0, 198.0, 198.0, 298.0, 202.0, 201.0, 202.0, 203.0, 190.0, 190.0, 191.0, 193.0, 192.0], \"name\": \"Tax Exempt\"}, {\"type\": \"scatter\", \"x\": [2000, 2001, 2002, 2003, 2004, 2005, 2006, 2007, 2008, 2009, 2010, 2011, 2012, 2013, 2014, 2015, 2016], \"y\": [21.0, 23.0, 26.0, 30.0, 29.0, 29.0, 28.0, 28.0, 25.0, 25.0, 25.0, 25.0, 23.0, 23.0, 23.0, 22.0, 22.0], \"name\": \"Taxable\", \"yaxis\": \"y2\"}, {\"type\": \"scatter\", \"x\": [2003, 2004, 2005, 2006, 2007, 2008, 2009, 2010, 2011, 2012, 2013, 2014, 2015, 2016], \"y\": [29.714285714285552, 29.065934065934016, 28.417582417582253, 27.769230769230717, 27.120879120878953, 26.472527472527418, 25.824175824175654, 25.17582417582412, 24.527472527472355, 23.87912087912082, 23.230769230769056, 22.58241758241752, 21.934065934065757, 21.28571428571422], \"mode\": \"lines\", \"marker\": {\"color\": \"rgb(76, 209, 55)\"}, \"name\": \"Taxable Fit\", \"yaxis\": \"y2\"}], {\"title\": \"The Growth of Harvard's Property in Cambridge Since 2000\", \"yaxis\": {\"title\": \"Tax Exempt Property (Acres)\"}, \"yaxis2\": {\"title\": \"Taxable Property (Acres)\", \"overlaying\": \"y\", \"side\": \"right\"}, \"xaxis\": {\"title\": \"Year\"}}, {\"showLink\": true, \"linkText\": \"Export to plot.ly\"})});</script>"
      ],
      "text/vnd.plotly.v1+html": [
       "<div id=\"0297b89c-c148-4cb1-a319-cb449bdb082a\" style=\"height: 525px; width: 100%;\" class=\"plotly-graph-div\"></div><script type=\"text/javascript\">require([\"plotly\"], function(Plotly) { window.PLOTLYENV=window.PLOTLYENV || {};window.PLOTLYENV.BASE_URL=\"https://plot.ly\";Plotly.newPlot(\"0297b89c-c148-4cb1-a319-cb449bdb082a\", [{\"type\": \"scatter\", \"x\": [2000, 2001, 2002, 2003, 2004, 2005, 2006, 2007, 2008, 2009, 2010, 2011, 2012, 2013, 2014, 2015, 2016], \"y\": [271.0, 264.0, 267.0, 267.0, 194.0, 198.0, 198.0, 298.0, 202.0, 201.0, 202.0, 203.0, 190.0, 190.0, 191.0, 193.0, 192.0], \"name\": \"Tax Exempt\"}, {\"type\": \"scatter\", \"x\": [2000, 2001, 2002, 2003, 2004, 2005, 2006, 2007, 2008, 2009, 2010, 2011, 2012, 2013, 2014, 2015, 2016], \"y\": [21.0, 23.0, 26.0, 30.0, 29.0, 29.0, 28.0, 28.0, 25.0, 25.0, 25.0, 25.0, 23.0, 23.0, 23.0, 22.0, 22.0], \"name\": \"Taxable\", \"yaxis\": \"y2\"}, {\"type\": \"scatter\", \"x\": [2003, 2004, 2005, 2006, 2007, 2008, 2009, 2010, 2011, 2012, 2013, 2014, 2015, 2016], \"y\": [29.714285714285552, 29.065934065934016, 28.417582417582253, 27.769230769230717, 27.120879120878953, 26.472527472527418, 25.824175824175654, 25.17582417582412, 24.527472527472355, 23.87912087912082, 23.230769230769056, 22.58241758241752, 21.934065934065757, 21.28571428571422], \"mode\": \"lines\", \"marker\": {\"color\": \"rgb(76, 209, 55)\"}, \"name\": \"Taxable Fit\", \"yaxis\": \"y2\"}], {\"title\": \"The Growth of Harvard's Property in Cambridge Since 2000\", \"yaxis\": {\"title\": \"Tax Exempt Property (Acres)\"}, \"yaxis2\": {\"title\": \"Taxable Property (Acres)\", \"overlaying\": \"y\", \"side\": \"right\"}, \"xaxis\": {\"title\": \"Year\"}}, {\"showLink\": true, \"linkText\": \"Export to plot.ly\"})});</script>"
      ]
     },
     "metadata": {},
     "output_type": "display_data"
    }
   ],
   "source": [
    "# Growth of property\n",
    "years = np.arange(2003, 2017)\n",
    "post_2000 = expander[expander['Year'] > 2002]\n",
    "props = pd.to_numeric(post_2000['Taxable Property (A)']).as_matrix()\n",
    "\n",
    "slope, intercept, r_value, p_value, std_err = stats.linregress(years, props)\n",
    "props_fit = slope * years + intercept\n",
    "\n",
    "trace0 = go.Scatter(\n",
    "            x = expander['Year'],\n",
    "            y = expander['Tax Exempt Property (A)'],\n",
    "            name='Tax Exempt'\n",
    "        )\n",
    "trace1 = go.Scatter(\n",
    "            x = expander['Year'],\n",
    "            y = expander['Taxable Property (A)'],\n",
    "            name='Taxable',\n",
    "            yaxis='y2'\n",
    "        )\n",
    "fit0 = go.Scatter(\n",
    "            x = years,\n",
    "            y = props_fit,\n",
    "            mode='lines',\n",
    "            marker=go.Marker(color='rgb(76, 209, 55)'),\n",
    "            name='Taxable Fit',\n",
    "            yaxis='y2'\n",
    "        )\n",
    "\n",
    "data = [trace0, trace1, fit0]\n",
    "\n",
    "layout = go.Layout(\n",
    "            title = \"The Growth of Harvard's Property in Cambridge Since 2000\",\n",
    "            yaxis=dict(\n",
    "                title='Tax Exempt Property (Acres)'\n",
    "            ),\n",
    "            yaxis2=dict(\n",
    "                title='Taxable Property (Acres)',\n",
    "                overlaying='y',\n",
    "                side='right'\n",
    "            ),\n",
    "            xaxis=dict(\n",
    "                title='Year')\n",
    "        )\n",
    "\n",
    "fig = go.Figure(data=data, layout=layout)\n",
    "iplot(fig)"
   ]
  },
  {
   "cell_type": "code",
   "execution_count": 6,
   "metadata": {
    "collapsed": false
   },
   "outputs": [
    {
     "data": {
      "application/vnd.plotly.v1+json": {
       "data": [
        {
         "name": "Data",
         "type": "scatter",
         "x": [
          2000,
          2001,
          2002,
          2003,
          2004,
          2005,
          2006,
          2007,
          2008,
          2009,
          2010,
          2011,
          2012,
          2013,
          2014,
          2015,
          2016
         ],
         "y": [
          8467151,
          8751365,
          10366585,
          10233641,
          12083442,
          13771156,
          14592500,
          15173863,
          13388612,
          13366092,
          14282663,
          15987554,
          14216649,
          14120766,
          11023666,
          15266613,
          18472321
         ]
        },
        {
         "marker": {
          "color": "rgb(255, 63, 52)"
         },
         "mode": "lines",
         "name": "Fit",
         "type": "scatter",
         "x": [
          2000,
          2001,
          2002,
          2003,
          2004,
          2005,
          2006,
          2007,
          2008,
          2009,
          2010,
          2011,
          2012,
          2013,
          2014,
          2015,
          2016
         ],
         "y": [
          7203685.046875,
          9191976.921875,
          10747575.171875,
          11922969.703125,
          12770650.40625,
          13343107.203125,
          13692830,
          13872308.59375,
          13934033.015625,
          13930493.109375,
          13914178.734375,
          13937579.875,
          14053186.359375,
          14313488.078125,
          14770974.984375,
          15478136.96875,
          16487463.859375
         ]
        }
       ],
       "layout": {
        "title": "How Harvard Pays Cambridge Annually",
        "xaxis": {
         "title": "Year"
        },
        "yaxis": {
         "title": "Payments to Cambridge (USD)"
        }
       }
      },
      "text/html": [
       "<div id=\"868de714-a10f-45f5-b946-a8ef69357775\" style=\"height: 525px; width: 100%;\" class=\"plotly-graph-div\"></div><script type=\"text/javascript\">require([\"plotly\"], function(Plotly) { window.PLOTLYENV=window.PLOTLYENV || {};window.PLOTLYENV.BASE_URL=\"https://plot.ly\";Plotly.newPlot(\"868de714-a10f-45f5-b946-a8ef69357775\", [{\"type\": \"scatter\", \"x\": [2000, 2001, 2002, 2003, 2004, 2005, 2006, 2007, 2008, 2009, 2010, 2011, 2012, 2013, 2014, 2015, 2016], \"y\": [8467151, 8751365, 10366585, 10233641, 12083442, 13771156, 14592500, 15173863, 13388612, 13366092, 14282663, 15987554, 14216649, 14120766, 11023666, 15266613, 18472321], \"name\": \"Data\"}, {\"type\": \"scatter\", \"x\": [2000, 2001, 2002, 2003, 2004, 2005, 2006, 2007, 2008, 2009, 2010, 2011, 2012, 2013, 2014, 2015, 2016], \"y\": [7203685.046875, 9191976.921875, 10747575.171875, 11922969.703125, 12770650.40625, 13343107.203125, 13692830.0, 13872308.59375, 13934033.015625, 13930493.109375, 13914178.734375, 13937579.875, 14053186.359375, 14313488.078125, 14770974.984375, 15478136.96875, 16487463.859375], \"mode\": \"lines\", \"marker\": {\"color\": \"rgb(255, 63, 52)\"}, \"name\": \"Fit\"}], {\"title\": \"How Harvard Pays Cambridge Annually\", \"yaxis\": {\"title\": \"Payments to Cambridge (USD)\"}, \"xaxis\": {\"title\": \"Year\"}}, {\"showLink\": true, \"linkText\": \"Export to plot.ly\"})});</script>"
      ],
      "text/vnd.plotly.v1+html": [
       "<div id=\"868de714-a10f-45f5-b946-a8ef69357775\" style=\"height: 525px; width: 100%;\" class=\"plotly-graph-div\"></div><script type=\"text/javascript\">require([\"plotly\"], function(Plotly) { window.PLOTLYENV=window.PLOTLYENV || {};window.PLOTLYENV.BASE_URL=\"https://plot.ly\";Plotly.newPlot(\"868de714-a10f-45f5-b946-a8ef69357775\", [{\"type\": \"scatter\", \"x\": [2000, 2001, 2002, 2003, 2004, 2005, 2006, 2007, 2008, 2009, 2010, 2011, 2012, 2013, 2014, 2015, 2016], \"y\": [8467151, 8751365, 10366585, 10233641, 12083442, 13771156, 14592500, 15173863, 13388612, 13366092, 14282663, 15987554, 14216649, 14120766, 11023666, 15266613, 18472321], \"name\": \"Data\"}, {\"type\": \"scatter\", \"x\": [2000, 2001, 2002, 2003, 2004, 2005, 2006, 2007, 2008, 2009, 2010, 2011, 2012, 2013, 2014, 2015, 2016], \"y\": [7203685.046875, 9191976.921875, 10747575.171875, 11922969.703125, 12770650.40625, 13343107.203125, 13692830.0, 13872308.59375, 13934033.015625, 13930493.109375, 13914178.734375, 13937579.875, 14053186.359375, 14313488.078125, 14770974.984375, 15478136.96875, 16487463.859375], \"mode\": \"lines\", \"marker\": {\"color\": \"rgb(255, 63, 52)\"}, \"name\": \"Fit\"}], {\"title\": \"How Harvard Pays Cambridge Annually\", \"yaxis\": {\"title\": \"Payments to Cambridge (USD)\"}, \"xaxis\": {\"title\": \"Year\"}}, {\"showLink\": true, \"linkText\": \"Export to plot.ly\"})});</script>"
      ]
     },
     "metadata": {},
     "output_type": "display_data"
    }
   ],
   "source": [
    "# Change in payments to Cambridge\n",
    "\n",
    "years = pd.to_numeric(expander['Year']).as_matrix()\n",
    "pay_city = pd.to_numeric(expander['Payments to City']).as_matrix()\n",
    "\n",
    "poly_fit = np.polyfit(years, pay_city, 3)\n",
    "f = np.poly1d(poly_fit)\n",
    "\n",
    "data = go.Data([\n",
    "        go.Scatter(\n",
    "            x = years,\n",
    "            y = pay_city,\n",
    "            name='Data'\n",
    "        ),\n",
    "        go.Scatter(\n",
    "            x = years,\n",
    "            y = f(years),\n",
    "            mode='lines',\n",
    "            marker=go.Marker(color='rgb(255, 63, 52)'),\n",
    "            name='Fit'\n",
    "            )])\n",
    "layout = go.Layout(\n",
    "            title = \"How Harvard Pays Cambridge Annually\",\n",
    "            yaxis=dict(\n",
    "                title='Payments to Cambridge (USD)'),\n",
    "            xaxis=dict(\n",
    "                title='Year')\n",
    ")\n",
    "\n",
    "\n",
    "\n",
    "fig = go.Figure(data=data, layout=layout)\n",
    "iplot(fig)"
   ]
  },
  {
   "cell_type": "markdown",
   "metadata": {
    "collapsed": true
   },
   "source": [
    "Save the data for use in another notebook."
   ]
  },
  {
   "cell_type": "code",
   "execution_count": 7,
   "metadata": {
    "collapsed": false
   },
   "outputs": [],
   "source": [
    "with open('VariableData/expander.pickle', 'wb') as f:\n",
    "    pickle.dump(expander, f)"
   ]
  },
  {
   "cell_type": "code",
   "execution_count": null,
   "metadata": {
    "collapsed": true
   },
   "outputs": [],
   "source": []
  }
 ],
 "metadata": {
  "kernelspec": {
   "display_name": "Python 3",
   "language": "python",
   "name": "python3"
  },
  "language_info": {
   "codemirror_mode": {
    "name": "ipython",
    "version": 3
   },
   "file_extension": ".py",
   "mimetype": "text/x-python",
   "name": "python",
   "nbconvert_exporter": "python",
   "pygments_lexer": "ipython3",
   "version": "3.6.0"
  },
  "varInspector": {
   "cols": {
    "lenName": 16,
    "lenType": 16,
    "lenVar": 40
   },
   "kernels_config": {
    "python": {
     "delete_cmd_postfix": "",
     "delete_cmd_prefix": "del ",
     "library": "var_list.py",
     "varRefreshCmd": "print(var_dic_list())"
    },
    "r": {
     "delete_cmd_postfix": ") ",
     "delete_cmd_prefix": "rm(",
     "library": "var_list.r",
     "varRefreshCmd": "cat(var_dic_list()) "
    }
   },
   "types_to_exclude": [
    "module",
    "function",
    "builtin_function_or_method",
    "instance",
    "_Feature"
   ],
   "window_display": false
  }
 },
 "nbformat": 4,
 "nbformat_minor": 2
}
