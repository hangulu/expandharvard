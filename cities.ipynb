{
 "cells": [
  {
   "cell_type": "markdown",
   "metadata": {},
   "source": [
    "## Data for Cambridge and Boston\n",
    "This document analyzes data available about Cambridge and Boston from the 1990, 2000 and 2010 censuses. "
   ]
  },
  {
   "cell_type": "code",
   "execution_count": 1,
   "metadata": {
    "collapsed": false
   },
   "outputs": [],
   "source": [
    "import numpy as np\n",
    "import pandas as pd\n",
    "from scipy import stats\n",
    "import pickle"
   ]
  },
  {
   "cell_type": "code",
   "execution_count": 2,
   "metadata": {
    "collapsed": false
   },
   "outputs": [
    {
     "data": {
      "text/html": [
       "<script>requirejs.config({paths: { 'plotly': ['https://cdn.plot.ly/plotly-latest.min']},});if(!window.Plotly) {{require(['plotly'],function(plotly) {window.Plotly=plotly;});}}</script>"
      ],
      "text/vnd.plotly.v1+html": [
       "<script>requirejs.config({paths: { 'plotly': ['https://cdn.plot.ly/plotly-latest.min']},});if(!window.Plotly) {{require(['plotly'],function(plotly) {window.Plotly=plotly;});}}</script>"
      ]
     },
     "metadata": {},
     "output_type": "display_data"
    }
   ],
   "source": [
    "import matplotlib.pyplot as plt\n",
    "import plotly\n",
    "import plotly.graph_objs as go\n",
    "from plotly.offline import download_plotlyjs, init_notebook_mode, plot, iplot\n",
    "init_notebook_mode(connected=True)"
   ]
  },
  {
   "cell_type": "markdown",
   "metadata": {},
   "source": [
    "## Analyzing Demographic Data\n",
    "Populations for white, Black, Native American, Asian, Pacific Islander, and other races of people in Cambridge and Boston."
   ]
  },
  {
   "cell_type": "code",
   "execution_count": 3,
   "metadata": {
    "collapsed": true
   },
   "outputs": [],
   "source": [
    "# Census API Key\n",
    "key = \"d923b916d08af136ade78b021cc31f162cbb2d2f\""
   ]
  },
  {
   "cell_type": "markdown",
   "metadata": {},
   "source": [
    "The function to fetch the census data."
   ]
  },
  {
   "cell_type": "code",
   "execution_count": 4,
   "metadata": {
    "collapsed": true
   },
   "outputs": [],
   "source": [
    "def fetch_census(year, census_codes, state_code, place):\n",
    "    results = {}\n",
    "    for category, variable in census_codes.items():\n",
    "        out = pd.read_json('https://api.census.gov/data/{}/sf1?get={}&in=state:{}&for=place:{}&key={}'.format(year, variable, state_code, place, key))\n",
    "        df = out.iloc[[1]][0]\n",
    "        results[category] = int(df)\n",
    "    return (results)"
   ]
  },
  {
   "cell_type": "markdown",
   "metadata": {},
   "source": [
    "The dictionaries containing the codes for accessing the census data."
   ]
  },
  {
   "cell_type": "code",
   "execution_count": 5,
   "metadata": {
    "collapsed": false
   },
   "outputs": [],
   "source": [
    "census_2010 = dict([(\"total population\", \"P0030001\"), (\"white population\", \"P0030002\"), (\"black population\", \"P0030003\"), (\"native population\", \"P0030004\"), (\"asian population\", \"P0030005\"), (\"pacific population\", \"P0030006\"), (\"other population\", \"P0030007\")])\n",
    "\n",
    "census_2000 = dict([(\"total population\", \"P003002\"), (\"white population\", \"P003003\"), (\"black population\", \"P003004\"), (\"native population\", \"P003005\"), (\"asian population\", \"P003006\"), (\"pacific population\", \"P003007\"), (\"other population\", \"P003008\")])\n",
    "\n",
    "census_1990 = dict([(\"total population\", \"P0010001\"), (\"white population\", \"P0060001\"), (\"black population\", \"P0060002\"), (\"native population\", \"P0060003\"), (\"asian population\", \"P0060004\"), (\"other population\", \"P0060005\")])"
   ]
  },
  {
   "cell_type": "markdown",
   "metadata": {},
   "source": [
    "Calculate and clean the data for the two cities."
   ]
  },
  {
   "cell_type": "code",
   "execution_count": 10,
   "metadata": {
    "collapsed": false
   },
   "outputs": [
    {
     "ename": "URLError",
     "evalue": "<urlopen error [SSL: CERTIFICATE_VERIFY_FAILED] certificate verify failed (_ssl.c:749)>",
     "output_type": "error",
     "traceback": [
      "\u001b[0;31m---------------------------------------------------------------------------\u001b[0m",
      "\u001b[0;31mSSLError\u001b[0m                                  Traceback (most recent call last)",
      "\u001b[0;32m/anaconda/lib/python3.6/urllib/request.py\u001b[0m in \u001b[0;36mdo_open\u001b[0;34m(self, http_class, req, **http_conn_args)\u001b[0m\n\u001b[1;32m   1317\u001b[0m                 h.request(req.get_method(), req.selector, req.data, headers,\n\u001b[0;32m-> 1318\u001b[0;31m                           encode_chunked=req.has_header('Transfer-encoding'))\n\u001b[0m\u001b[1;32m   1319\u001b[0m             \u001b[0;32mexcept\u001b[0m \u001b[0mOSError\u001b[0m \u001b[0;32mas\u001b[0m \u001b[0merr\u001b[0m\u001b[0;34m:\u001b[0m \u001b[0;31m# timeout error\u001b[0m\u001b[0;34m\u001b[0m\u001b[0m\n",
      "\u001b[0;32m/anaconda/lib/python3.6/http/client.py\u001b[0m in \u001b[0;36mrequest\u001b[0;34m(self, method, url, body, headers, encode_chunked)\u001b[0m\n\u001b[1;32m   1238\u001b[0m         \u001b[0;34m\"\"\"Send a complete request to the server.\"\"\"\u001b[0m\u001b[0;34m\u001b[0m\u001b[0m\n\u001b[0;32m-> 1239\u001b[0;31m         \u001b[0mself\u001b[0m\u001b[0;34m.\u001b[0m\u001b[0m_send_request\u001b[0m\u001b[0;34m(\u001b[0m\u001b[0mmethod\u001b[0m\u001b[0;34m,\u001b[0m \u001b[0murl\u001b[0m\u001b[0;34m,\u001b[0m \u001b[0mbody\u001b[0m\u001b[0;34m,\u001b[0m \u001b[0mheaders\u001b[0m\u001b[0;34m,\u001b[0m \u001b[0mencode_chunked\u001b[0m\u001b[0;34m)\u001b[0m\u001b[0;34m\u001b[0m\u001b[0m\n\u001b[0m\u001b[1;32m   1240\u001b[0m \u001b[0;34m\u001b[0m\u001b[0m\n",
      "\u001b[0;32m/anaconda/lib/python3.6/http/client.py\u001b[0m in \u001b[0;36m_send_request\u001b[0;34m(self, method, url, body, headers, encode_chunked)\u001b[0m\n\u001b[1;32m   1284\u001b[0m             \u001b[0mbody\u001b[0m \u001b[0;34m=\u001b[0m \u001b[0m_encode\u001b[0m\u001b[0;34m(\u001b[0m\u001b[0mbody\u001b[0m\u001b[0;34m,\u001b[0m \u001b[0;34m'body'\u001b[0m\u001b[0;34m)\u001b[0m\u001b[0;34m\u001b[0m\u001b[0m\n\u001b[0;32m-> 1285\u001b[0;31m         \u001b[0mself\u001b[0m\u001b[0;34m.\u001b[0m\u001b[0mendheaders\u001b[0m\u001b[0;34m(\u001b[0m\u001b[0mbody\u001b[0m\u001b[0;34m,\u001b[0m \u001b[0mencode_chunked\u001b[0m\u001b[0;34m=\u001b[0m\u001b[0mencode_chunked\u001b[0m\u001b[0;34m)\u001b[0m\u001b[0;34m\u001b[0m\u001b[0m\n\u001b[0m\u001b[1;32m   1286\u001b[0m \u001b[0;34m\u001b[0m\u001b[0m\n",
      "\u001b[0;32m/anaconda/lib/python3.6/http/client.py\u001b[0m in \u001b[0;36mendheaders\u001b[0;34m(self, message_body, encode_chunked)\u001b[0m\n\u001b[1;32m   1233\u001b[0m             \u001b[0;32mraise\u001b[0m \u001b[0mCannotSendHeader\u001b[0m\u001b[0;34m(\u001b[0m\u001b[0;34m)\u001b[0m\u001b[0;34m\u001b[0m\u001b[0m\n\u001b[0;32m-> 1234\u001b[0;31m         \u001b[0mself\u001b[0m\u001b[0;34m.\u001b[0m\u001b[0m_send_output\u001b[0m\u001b[0;34m(\u001b[0m\u001b[0mmessage_body\u001b[0m\u001b[0;34m,\u001b[0m \u001b[0mencode_chunked\u001b[0m\u001b[0;34m=\u001b[0m\u001b[0mencode_chunked\u001b[0m\u001b[0;34m)\u001b[0m\u001b[0;34m\u001b[0m\u001b[0m\n\u001b[0m\u001b[1;32m   1235\u001b[0m \u001b[0;34m\u001b[0m\u001b[0m\n",
      "\u001b[0;32m/anaconda/lib/python3.6/http/client.py\u001b[0m in \u001b[0;36m_send_output\u001b[0;34m(self, message_body, encode_chunked)\u001b[0m\n\u001b[1;32m   1025\u001b[0m         \u001b[0;32mdel\u001b[0m \u001b[0mself\u001b[0m\u001b[0;34m.\u001b[0m\u001b[0m_buffer\u001b[0m\u001b[0;34m[\u001b[0m\u001b[0;34m:\u001b[0m\u001b[0;34m]\u001b[0m\u001b[0;34m\u001b[0m\u001b[0m\n\u001b[0;32m-> 1026\u001b[0;31m         \u001b[0mself\u001b[0m\u001b[0;34m.\u001b[0m\u001b[0msend\u001b[0m\u001b[0;34m(\u001b[0m\u001b[0mmsg\u001b[0m\u001b[0;34m)\u001b[0m\u001b[0;34m\u001b[0m\u001b[0m\n\u001b[0m\u001b[1;32m   1027\u001b[0m \u001b[0;34m\u001b[0m\u001b[0m\n",
      "\u001b[0;32m/anaconda/lib/python3.6/http/client.py\u001b[0m in \u001b[0;36msend\u001b[0;34m(self, data)\u001b[0m\n\u001b[1;32m    963\u001b[0m             \u001b[0;32mif\u001b[0m \u001b[0mself\u001b[0m\u001b[0;34m.\u001b[0m\u001b[0mauto_open\u001b[0m\u001b[0;34m:\u001b[0m\u001b[0;34m\u001b[0m\u001b[0m\n\u001b[0;32m--> 964\u001b[0;31m                 \u001b[0mself\u001b[0m\u001b[0;34m.\u001b[0m\u001b[0mconnect\u001b[0m\u001b[0;34m(\u001b[0m\u001b[0;34m)\u001b[0m\u001b[0;34m\u001b[0m\u001b[0m\n\u001b[0m\u001b[1;32m    965\u001b[0m             \u001b[0;32melse\u001b[0m\u001b[0;34m:\u001b[0m\u001b[0;34m\u001b[0m\u001b[0m\n",
      "\u001b[0;32m/anaconda/lib/python3.6/http/client.py\u001b[0m in \u001b[0;36mconnect\u001b[0;34m(self)\u001b[0m\n\u001b[1;32m   1399\u001b[0m             self.sock = self._context.wrap_socket(self.sock,\n\u001b[0;32m-> 1400\u001b[0;31m                                                   server_hostname=server_hostname)\n\u001b[0m\u001b[1;32m   1401\u001b[0m             \u001b[0;32mif\u001b[0m \u001b[0;32mnot\u001b[0m \u001b[0mself\u001b[0m\u001b[0;34m.\u001b[0m\u001b[0m_context\u001b[0m\u001b[0;34m.\u001b[0m\u001b[0mcheck_hostname\u001b[0m \u001b[0;32mand\u001b[0m \u001b[0mself\u001b[0m\u001b[0;34m.\u001b[0m\u001b[0m_check_hostname\u001b[0m\u001b[0;34m:\u001b[0m\u001b[0;34m\u001b[0m\u001b[0m\n",
      "\u001b[0;32m/anaconda/lib/python3.6/ssl.py\u001b[0m in \u001b[0;36mwrap_socket\u001b[0;34m(self, sock, server_side, do_handshake_on_connect, suppress_ragged_eofs, server_hostname, session)\u001b[0m\n\u001b[1;32m    400\u001b[0m                          \u001b[0mserver_hostname\u001b[0m\u001b[0;34m=\u001b[0m\u001b[0mserver_hostname\u001b[0m\u001b[0;34m,\u001b[0m\u001b[0;34m\u001b[0m\u001b[0m\n\u001b[0;32m--> 401\u001b[0;31m                          _context=self, _session=session)\n\u001b[0m\u001b[1;32m    402\u001b[0m \u001b[0;34m\u001b[0m\u001b[0m\n",
      "\u001b[0;32m/anaconda/lib/python3.6/ssl.py\u001b[0m in \u001b[0;36m__init__\u001b[0;34m(self, sock, keyfile, certfile, server_side, cert_reqs, ssl_version, ca_certs, do_handshake_on_connect, family, type, proto, fileno, suppress_ragged_eofs, npn_protocols, ciphers, server_hostname, _context, _session)\u001b[0m\n\u001b[1;32m    807\u001b[0m                         \u001b[0;32mraise\u001b[0m \u001b[0mValueError\u001b[0m\u001b[0;34m(\u001b[0m\u001b[0;34m\"do_handshake_on_connect should not be specified for non-blocking sockets\"\u001b[0m\u001b[0;34m)\u001b[0m\u001b[0;34m\u001b[0m\u001b[0m\n\u001b[0;32m--> 808\u001b[0;31m                     \u001b[0mself\u001b[0m\u001b[0;34m.\u001b[0m\u001b[0mdo_handshake\u001b[0m\u001b[0;34m(\u001b[0m\u001b[0;34m)\u001b[0m\u001b[0;34m\u001b[0m\u001b[0m\n\u001b[0m\u001b[1;32m    809\u001b[0m \u001b[0;34m\u001b[0m\u001b[0m\n",
      "\u001b[0;32m/anaconda/lib/python3.6/ssl.py\u001b[0m in \u001b[0;36mdo_handshake\u001b[0;34m(self, block)\u001b[0m\n\u001b[1;32m   1060\u001b[0m                 \u001b[0mself\u001b[0m\u001b[0;34m.\u001b[0m\u001b[0msettimeout\u001b[0m\u001b[0;34m(\u001b[0m\u001b[0;32mNone\u001b[0m\u001b[0;34m)\u001b[0m\u001b[0;34m\u001b[0m\u001b[0m\n\u001b[0;32m-> 1061\u001b[0;31m             \u001b[0mself\u001b[0m\u001b[0;34m.\u001b[0m\u001b[0m_sslobj\u001b[0m\u001b[0;34m.\u001b[0m\u001b[0mdo_handshake\u001b[0m\u001b[0;34m(\u001b[0m\u001b[0;34m)\u001b[0m\u001b[0;34m\u001b[0m\u001b[0m\n\u001b[0m\u001b[1;32m   1062\u001b[0m         \u001b[0;32mfinally\u001b[0m\u001b[0;34m:\u001b[0m\u001b[0;34m\u001b[0m\u001b[0m\n",
      "\u001b[0;32m/anaconda/lib/python3.6/ssl.py\u001b[0m in \u001b[0;36mdo_handshake\u001b[0;34m(self)\u001b[0m\n\u001b[1;32m    682\u001b[0m         \u001b[0;34m\"\"\"Start the SSL/TLS handshake.\"\"\"\u001b[0m\u001b[0;34m\u001b[0m\u001b[0m\n\u001b[0;32m--> 683\u001b[0;31m         \u001b[0mself\u001b[0m\u001b[0;34m.\u001b[0m\u001b[0m_sslobj\u001b[0m\u001b[0;34m.\u001b[0m\u001b[0mdo_handshake\u001b[0m\u001b[0;34m(\u001b[0m\u001b[0;34m)\u001b[0m\u001b[0;34m\u001b[0m\u001b[0m\n\u001b[0m\u001b[1;32m    684\u001b[0m         \u001b[0;32mif\u001b[0m \u001b[0mself\u001b[0m\u001b[0;34m.\u001b[0m\u001b[0mcontext\u001b[0m\u001b[0;34m.\u001b[0m\u001b[0mcheck_hostname\u001b[0m\u001b[0;34m:\u001b[0m\u001b[0;34m\u001b[0m\u001b[0m\n",
      "\u001b[0;31mSSLError\u001b[0m: [SSL: CERTIFICATE_VERIFY_FAILED] certificate verify failed (_ssl.c:749)",
      "\nDuring handling of the above exception, another exception occurred:\n",
      "\u001b[0;31mURLError\u001b[0m                                  Traceback (most recent call last)",
      "\u001b[0;32m<ipython-input-10-48c1320d4644>\u001b[0m in \u001b[0;36m<module>\u001b[0;34m()\u001b[0m\n\u001b[1;32m      1\u001b[0m \u001b[0;31m# Boston\u001b[0m\u001b[0;34m\u001b[0m\u001b[0;34m\u001b[0m\u001b[0m\n\u001b[0;32m----> 2\u001b[0;31m \u001b[0mb2010\u001b[0m \u001b[0;34m=\u001b[0m \u001b[0mfetch_census\u001b[0m\u001b[0;34m(\u001b[0m\u001b[0;36m2010\u001b[0m\u001b[0;34m,\u001b[0m \u001b[0mcensus_2010\u001b[0m\u001b[0;34m,\u001b[0m \u001b[0;36m25\u001b[0m\u001b[0;34m,\u001b[0m \u001b[0;34m'07000'\u001b[0m\u001b[0;34m)\u001b[0m\u001b[0;34m\u001b[0m\u001b[0m\n\u001b[0m\u001b[1;32m      3\u001b[0m \u001b[0mb2000\u001b[0m \u001b[0;34m=\u001b[0m \u001b[0mfetch_census\u001b[0m\u001b[0;34m(\u001b[0m\u001b[0;36m2000\u001b[0m\u001b[0;34m,\u001b[0m \u001b[0mcensus_2000\u001b[0m\u001b[0;34m,\u001b[0m \u001b[0;36m25\u001b[0m\u001b[0;34m,\u001b[0m \u001b[0;34m'07000'\u001b[0m\u001b[0;34m)\u001b[0m\u001b[0;34m\u001b[0m\u001b[0m\n\u001b[1;32m      4\u001b[0m \u001b[0mb1990\u001b[0m \u001b[0;34m=\u001b[0m \u001b[0mfetch_census\u001b[0m\u001b[0;34m(\u001b[0m\u001b[0;36m1990\u001b[0m\u001b[0;34m,\u001b[0m \u001b[0mcensus_1990\u001b[0m\u001b[0;34m,\u001b[0m \u001b[0;36m25\u001b[0m\u001b[0;34m,\u001b[0m \u001b[0;34m'07000'\u001b[0m\u001b[0;34m)\u001b[0m\u001b[0;34m\u001b[0m\u001b[0m\n\u001b[1;32m      5\u001b[0m \u001b[0;34m\u001b[0m\u001b[0m\n",
      "\u001b[0;32m<ipython-input-4-f11c31b6edbf>\u001b[0m in \u001b[0;36mfetch_census\u001b[0;34m(year, census_codes, state_code, place)\u001b[0m\n\u001b[1;32m      2\u001b[0m     \u001b[0mresults\u001b[0m \u001b[0;34m=\u001b[0m \u001b[0;34m{\u001b[0m\u001b[0;34m}\u001b[0m\u001b[0;34m\u001b[0m\u001b[0m\n\u001b[1;32m      3\u001b[0m     \u001b[0;32mfor\u001b[0m \u001b[0mcategory\u001b[0m\u001b[0;34m,\u001b[0m \u001b[0mvariable\u001b[0m \u001b[0;32min\u001b[0m \u001b[0mcensus_codes\u001b[0m\u001b[0;34m.\u001b[0m\u001b[0mitems\u001b[0m\u001b[0;34m(\u001b[0m\u001b[0;34m)\u001b[0m\u001b[0;34m:\u001b[0m\u001b[0;34m\u001b[0m\u001b[0m\n\u001b[0;32m----> 4\u001b[0;31m         \u001b[0mout\u001b[0m \u001b[0;34m=\u001b[0m \u001b[0mpd\u001b[0m\u001b[0;34m.\u001b[0m\u001b[0mread_json\u001b[0m\u001b[0;34m(\u001b[0m\u001b[0;34m'https://api.census.gov/data/{}/sf1?get={}&in=state:{}&for=place:{}&key={}'\u001b[0m\u001b[0;34m.\u001b[0m\u001b[0mformat\u001b[0m\u001b[0;34m(\u001b[0m\u001b[0myear\u001b[0m\u001b[0;34m,\u001b[0m \u001b[0mvariable\u001b[0m\u001b[0;34m,\u001b[0m \u001b[0mstate_code\u001b[0m\u001b[0;34m,\u001b[0m \u001b[0mplace\u001b[0m\u001b[0;34m,\u001b[0m \u001b[0mkey\u001b[0m\u001b[0;34m)\u001b[0m\u001b[0;34m)\u001b[0m\u001b[0;34m\u001b[0m\u001b[0m\n\u001b[0m\u001b[1;32m      5\u001b[0m         \u001b[0mdf\u001b[0m \u001b[0;34m=\u001b[0m \u001b[0mout\u001b[0m\u001b[0;34m.\u001b[0m\u001b[0miloc\u001b[0m\u001b[0;34m[\u001b[0m\u001b[0;34m[\u001b[0m\u001b[0;36m1\u001b[0m\u001b[0;34m]\u001b[0m\u001b[0;34m]\u001b[0m\u001b[0;34m[\u001b[0m\u001b[0;36m0\u001b[0m\u001b[0;34m]\u001b[0m\u001b[0;34m\u001b[0m\u001b[0m\n\u001b[1;32m      6\u001b[0m         \u001b[0mresults\u001b[0m\u001b[0;34m[\u001b[0m\u001b[0mcategory\u001b[0m\u001b[0;34m]\u001b[0m \u001b[0;34m=\u001b[0m \u001b[0mint\u001b[0m\u001b[0;34m(\u001b[0m\u001b[0mdf\u001b[0m\u001b[0;34m)\u001b[0m\u001b[0;34m\u001b[0m\u001b[0m\n",
      "\u001b[0;32m/anaconda/lib/python3.6/site-packages/pandas/io/json/json.py\u001b[0m in \u001b[0;36mread_json\u001b[0;34m(path_or_buf, orient, typ, dtype, convert_axes, convert_dates, keep_default_dates, numpy, precise_float, date_unit, encoding, lines)\u001b[0m\n\u001b[1;32m    320\u001b[0m \u001b[0;34m\u001b[0m\u001b[0m\n\u001b[1;32m    321\u001b[0m     filepath_or_buffer, _, _ = get_filepath_or_buffer(path_or_buf,\n\u001b[0;32m--> 322\u001b[0;31m                                                       encoding=encoding)\n\u001b[0m\u001b[1;32m    323\u001b[0m     \u001b[0;32mif\u001b[0m \u001b[0misinstance\u001b[0m\u001b[0;34m(\u001b[0m\u001b[0mfilepath_or_buffer\u001b[0m\u001b[0;34m,\u001b[0m \u001b[0mcompat\u001b[0m\u001b[0;34m.\u001b[0m\u001b[0mstring_types\u001b[0m\u001b[0;34m)\u001b[0m\u001b[0;34m:\u001b[0m\u001b[0;34m\u001b[0m\u001b[0m\n\u001b[1;32m    324\u001b[0m         \u001b[0;32mtry\u001b[0m\u001b[0;34m:\u001b[0m\u001b[0;34m\u001b[0m\u001b[0m\n",
      "\u001b[0;32m/anaconda/lib/python3.6/site-packages/pandas/io/common.py\u001b[0m in \u001b[0;36mget_filepath_or_buffer\u001b[0;34m(filepath_or_buffer, encoding, compression)\u001b[0m\n\u001b[1;32m    184\u001b[0m     \u001b[0;32mif\u001b[0m \u001b[0m_is_url\u001b[0m\u001b[0;34m(\u001b[0m\u001b[0mfilepath_or_buffer\u001b[0m\u001b[0;34m)\u001b[0m\u001b[0;34m:\u001b[0m\u001b[0;34m\u001b[0m\u001b[0m\n\u001b[1;32m    185\u001b[0m         \u001b[0murl\u001b[0m \u001b[0;34m=\u001b[0m \u001b[0mstr\u001b[0m\u001b[0;34m(\u001b[0m\u001b[0mfilepath_or_buffer\u001b[0m\u001b[0;34m)\u001b[0m\u001b[0;34m\u001b[0m\u001b[0m\n\u001b[0;32m--> 186\u001b[0;31m         \u001b[0mreq\u001b[0m \u001b[0;34m=\u001b[0m \u001b[0m_urlopen\u001b[0m\u001b[0;34m(\u001b[0m\u001b[0murl\u001b[0m\u001b[0;34m)\u001b[0m\u001b[0;34m\u001b[0m\u001b[0m\n\u001b[0m\u001b[1;32m    187\u001b[0m         \u001b[0mcontent_encoding\u001b[0m \u001b[0;34m=\u001b[0m \u001b[0mreq\u001b[0m\u001b[0;34m.\u001b[0m\u001b[0mheaders\u001b[0m\u001b[0;34m.\u001b[0m\u001b[0mget\u001b[0m\u001b[0;34m(\u001b[0m\u001b[0;34m'Content-Encoding'\u001b[0m\u001b[0;34m,\u001b[0m \u001b[0;32mNone\u001b[0m\u001b[0;34m)\u001b[0m\u001b[0;34m\u001b[0m\u001b[0m\n\u001b[1;32m    188\u001b[0m         \u001b[0;32mif\u001b[0m \u001b[0mcontent_encoding\u001b[0m \u001b[0;34m==\u001b[0m \u001b[0;34m'gzip'\u001b[0m\u001b[0;34m:\u001b[0m\u001b[0;34m\u001b[0m\u001b[0m\n",
      "\u001b[0;32m/anaconda/lib/python3.6/urllib/request.py\u001b[0m in \u001b[0;36murlopen\u001b[0;34m(url, data, timeout, cafile, capath, cadefault, context)\u001b[0m\n\u001b[1;32m    221\u001b[0m     \u001b[0;32melse\u001b[0m\u001b[0;34m:\u001b[0m\u001b[0;34m\u001b[0m\u001b[0m\n\u001b[1;32m    222\u001b[0m         \u001b[0mopener\u001b[0m \u001b[0;34m=\u001b[0m \u001b[0m_opener\u001b[0m\u001b[0;34m\u001b[0m\u001b[0m\n\u001b[0;32m--> 223\u001b[0;31m     \u001b[0;32mreturn\u001b[0m \u001b[0mopener\u001b[0m\u001b[0;34m.\u001b[0m\u001b[0mopen\u001b[0m\u001b[0;34m(\u001b[0m\u001b[0murl\u001b[0m\u001b[0;34m,\u001b[0m \u001b[0mdata\u001b[0m\u001b[0;34m,\u001b[0m \u001b[0mtimeout\u001b[0m\u001b[0;34m)\u001b[0m\u001b[0;34m\u001b[0m\u001b[0m\n\u001b[0m\u001b[1;32m    224\u001b[0m \u001b[0;34m\u001b[0m\u001b[0m\n\u001b[1;32m    225\u001b[0m \u001b[0;32mdef\u001b[0m \u001b[0minstall_opener\u001b[0m\u001b[0;34m(\u001b[0m\u001b[0mopener\u001b[0m\u001b[0;34m)\u001b[0m\u001b[0;34m:\u001b[0m\u001b[0;34m\u001b[0m\u001b[0m\n",
      "\u001b[0;32m/anaconda/lib/python3.6/urllib/request.py\u001b[0m in \u001b[0;36mopen\u001b[0;34m(self, fullurl, data, timeout)\u001b[0m\n\u001b[1;32m    524\u001b[0m             \u001b[0mreq\u001b[0m \u001b[0;34m=\u001b[0m \u001b[0mmeth\u001b[0m\u001b[0;34m(\u001b[0m\u001b[0mreq\u001b[0m\u001b[0;34m)\u001b[0m\u001b[0;34m\u001b[0m\u001b[0m\n\u001b[1;32m    525\u001b[0m \u001b[0;34m\u001b[0m\u001b[0m\n\u001b[0;32m--> 526\u001b[0;31m         \u001b[0mresponse\u001b[0m \u001b[0;34m=\u001b[0m \u001b[0mself\u001b[0m\u001b[0;34m.\u001b[0m\u001b[0m_open\u001b[0m\u001b[0;34m(\u001b[0m\u001b[0mreq\u001b[0m\u001b[0;34m,\u001b[0m \u001b[0mdata\u001b[0m\u001b[0;34m)\u001b[0m\u001b[0;34m\u001b[0m\u001b[0m\n\u001b[0m\u001b[1;32m    527\u001b[0m \u001b[0;34m\u001b[0m\u001b[0m\n\u001b[1;32m    528\u001b[0m         \u001b[0;31m# post-process response\u001b[0m\u001b[0;34m\u001b[0m\u001b[0;34m\u001b[0m\u001b[0m\n",
      "\u001b[0;32m/anaconda/lib/python3.6/urllib/request.py\u001b[0m in \u001b[0;36m_open\u001b[0;34m(self, req, data)\u001b[0m\n\u001b[1;32m    542\u001b[0m         \u001b[0mprotocol\u001b[0m \u001b[0;34m=\u001b[0m \u001b[0mreq\u001b[0m\u001b[0;34m.\u001b[0m\u001b[0mtype\u001b[0m\u001b[0;34m\u001b[0m\u001b[0m\n\u001b[1;32m    543\u001b[0m         result = self._call_chain(self.handle_open, protocol, protocol +\n\u001b[0;32m--> 544\u001b[0;31m                                   '_open', req)\n\u001b[0m\u001b[1;32m    545\u001b[0m         \u001b[0;32mif\u001b[0m \u001b[0mresult\u001b[0m\u001b[0;34m:\u001b[0m\u001b[0;34m\u001b[0m\u001b[0m\n\u001b[1;32m    546\u001b[0m             \u001b[0;32mreturn\u001b[0m \u001b[0mresult\u001b[0m\u001b[0;34m\u001b[0m\u001b[0m\n",
      "\u001b[0;32m/anaconda/lib/python3.6/urllib/request.py\u001b[0m in \u001b[0;36m_call_chain\u001b[0;34m(self, chain, kind, meth_name, *args)\u001b[0m\n\u001b[1;32m    502\u001b[0m         \u001b[0;32mfor\u001b[0m \u001b[0mhandler\u001b[0m \u001b[0;32min\u001b[0m \u001b[0mhandlers\u001b[0m\u001b[0;34m:\u001b[0m\u001b[0;34m\u001b[0m\u001b[0m\n\u001b[1;32m    503\u001b[0m             \u001b[0mfunc\u001b[0m \u001b[0;34m=\u001b[0m \u001b[0mgetattr\u001b[0m\u001b[0;34m(\u001b[0m\u001b[0mhandler\u001b[0m\u001b[0;34m,\u001b[0m \u001b[0mmeth_name\u001b[0m\u001b[0;34m)\u001b[0m\u001b[0;34m\u001b[0m\u001b[0m\n\u001b[0;32m--> 504\u001b[0;31m             \u001b[0mresult\u001b[0m \u001b[0;34m=\u001b[0m \u001b[0mfunc\u001b[0m\u001b[0;34m(\u001b[0m\u001b[0;34m*\u001b[0m\u001b[0margs\u001b[0m\u001b[0;34m)\u001b[0m\u001b[0;34m\u001b[0m\u001b[0m\n\u001b[0m\u001b[1;32m    505\u001b[0m             \u001b[0;32mif\u001b[0m \u001b[0mresult\u001b[0m \u001b[0;32mis\u001b[0m \u001b[0;32mnot\u001b[0m \u001b[0;32mNone\u001b[0m\u001b[0;34m:\u001b[0m\u001b[0;34m\u001b[0m\u001b[0m\n\u001b[1;32m    506\u001b[0m                 \u001b[0;32mreturn\u001b[0m \u001b[0mresult\u001b[0m\u001b[0;34m\u001b[0m\u001b[0m\n",
      "\u001b[0;32m/anaconda/lib/python3.6/urllib/request.py\u001b[0m in \u001b[0;36mhttps_open\u001b[0;34m(self, req)\u001b[0m\n\u001b[1;32m   1359\u001b[0m         \u001b[0;32mdef\u001b[0m \u001b[0mhttps_open\u001b[0m\u001b[0;34m(\u001b[0m\u001b[0mself\u001b[0m\u001b[0;34m,\u001b[0m \u001b[0mreq\u001b[0m\u001b[0;34m)\u001b[0m\u001b[0;34m:\u001b[0m\u001b[0;34m\u001b[0m\u001b[0m\n\u001b[1;32m   1360\u001b[0m             return self.do_open(http.client.HTTPSConnection, req,\n\u001b[0;32m-> 1361\u001b[0;31m                 context=self._context, check_hostname=self._check_hostname)\n\u001b[0m\u001b[1;32m   1362\u001b[0m \u001b[0;34m\u001b[0m\u001b[0m\n\u001b[1;32m   1363\u001b[0m         \u001b[0mhttps_request\u001b[0m \u001b[0;34m=\u001b[0m \u001b[0mAbstractHTTPHandler\u001b[0m\u001b[0;34m.\u001b[0m\u001b[0mdo_request_\u001b[0m\u001b[0;34m\u001b[0m\u001b[0m\n",
      "\u001b[0;32m/anaconda/lib/python3.6/urllib/request.py\u001b[0m in \u001b[0;36mdo_open\u001b[0;34m(self, http_class, req, **http_conn_args)\u001b[0m\n\u001b[1;32m   1318\u001b[0m                           encode_chunked=req.has_header('Transfer-encoding'))\n\u001b[1;32m   1319\u001b[0m             \u001b[0;32mexcept\u001b[0m \u001b[0mOSError\u001b[0m \u001b[0;32mas\u001b[0m \u001b[0merr\u001b[0m\u001b[0;34m:\u001b[0m \u001b[0;31m# timeout error\u001b[0m\u001b[0;34m\u001b[0m\u001b[0m\n\u001b[0;32m-> 1320\u001b[0;31m                 \u001b[0;32mraise\u001b[0m \u001b[0mURLError\u001b[0m\u001b[0;34m(\u001b[0m\u001b[0merr\u001b[0m\u001b[0;34m)\u001b[0m\u001b[0;34m\u001b[0m\u001b[0m\n\u001b[0m\u001b[1;32m   1321\u001b[0m             \u001b[0mr\u001b[0m \u001b[0;34m=\u001b[0m \u001b[0mh\u001b[0m\u001b[0;34m.\u001b[0m\u001b[0mgetresponse\u001b[0m\u001b[0;34m(\u001b[0m\u001b[0;34m)\u001b[0m\u001b[0;34m\u001b[0m\u001b[0m\n\u001b[1;32m   1322\u001b[0m         \u001b[0;32mexcept\u001b[0m\u001b[0;34m:\u001b[0m\u001b[0;34m\u001b[0m\u001b[0m\n",
      "\u001b[0;31mURLError\u001b[0m: <urlopen error [SSL: CERTIFICATE_VERIFY_FAILED] certificate verify failed (_ssl.c:749)>"
     ]
    }
   ],
   "source": [
    "# Boston\n",
    "b2010 = fetch_census(2010, census_2010, 25, '07000')\n",
    "b2000 = fetch_census(2000, census_2000, 25, '07000')\n",
    "b1990 = fetch_census(1990, census_1990, 25, '07000')\n",
    "\n",
    "# Cambridge\n",
    "c2010 = fetch_census(2010, census_2010, 25, 11000)\n",
    "c2000 = fetch_census(2000, census_2000, 25, 11000)\n",
    "c1990 = fetch_census(1990, census_1990, 25, 11000)"
   ]
  },
  {
   "cell_type": "code",
   "execution_count": 8,
   "metadata": {
    "collapsed": false
   },
   "outputs": [
    {
     "ename": "NameError",
     "evalue": "name 'b1990' is not defined",
     "output_type": "error",
     "traceback": [
      "\u001b[0;31m---------------------------------------------------------------------------\u001b[0m",
      "\u001b[0;31mNameError\u001b[0m                                 Traceback (most recent call last)",
      "\u001b[0;32m<ipython-input-8-285a7ebe40e7>\u001b[0m in \u001b[0;36m<module>\u001b[0;34m()\u001b[0m\n\u001b[0;32m----> 1\u001b[0;31m \u001b[0mboston\u001b[0m \u001b[0;34m=\u001b[0m \u001b[0mpd\u001b[0m\u001b[0;34m.\u001b[0m\u001b[0mDataFrame\u001b[0m\u001b[0;34m(\u001b[0m\u001b[0;34m[\u001b[0m\u001b[0mb1990\u001b[0m\u001b[0;34m,\u001b[0m \u001b[0mb2000\u001b[0m\u001b[0;34m,\u001b[0m \u001b[0mb2010\u001b[0m\u001b[0;34m]\u001b[0m\u001b[0;34m)\u001b[0m\u001b[0;34m\u001b[0m\u001b[0m\n\u001b[0m\u001b[1;32m      2\u001b[0m \u001b[0mboston\u001b[0m\u001b[0;34m.\u001b[0m\u001b[0minsert\u001b[0m\u001b[0;34m(\u001b[0m\u001b[0mloc\u001b[0m\u001b[0;34m=\u001b[0m\u001b[0;36m0\u001b[0m\u001b[0;34m,\u001b[0m \u001b[0mcolumn\u001b[0m\u001b[0;34m=\u001b[0m\u001b[0;34m'year'\u001b[0m\u001b[0;34m,\u001b[0m \u001b[0mvalue\u001b[0m\u001b[0;34m=\u001b[0m\u001b[0;34m[\u001b[0m\u001b[0;34m'1990'\u001b[0m\u001b[0;34m,\u001b[0m \u001b[0;34m'2000'\u001b[0m\u001b[0;34m,\u001b[0m \u001b[0;34m'2010'\u001b[0m\u001b[0;34m]\u001b[0m\u001b[0;34m)\u001b[0m\u001b[0;34m\u001b[0m\u001b[0m\n\u001b[1;32m      3\u001b[0m \u001b[0mboston\u001b[0m \u001b[0;34m=\u001b[0m \u001b[0mboston\u001b[0m\u001b[0;34m.\u001b[0m\u001b[0mfillna\u001b[0m\u001b[0;34m(\u001b[0m\u001b[0;36m0\u001b[0m\u001b[0;34m)\u001b[0m\u001b[0;34m\u001b[0m\u001b[0m\n\u001b[1;32m      4\u001b[0m \u001b[0mboston\u001b[0m\u001b[0;34m[\u001b[0m\u001b[0;34m'asian and pacific islander population'\u001b[0m\u001b[0;34m]\u001b[0m \u001b[0;34m=\u001b[0m \u001b[0mboston\u001b[0m\u001b[0;34m[\u001b[0m\u001b[0;34m'asian population'\u001b[0m\u001b[0;34m]\u001b[0m \u001b[0;34m+\u001b[0m \u001b[0mboston\u001b[0m\u001b[0;34m[\u001b[0m\u001b[0;34m'pacific population'\u001b[0m\u001b[0;34m]\u001b[0m\u001b[0;34m\u001b[0m\u001b[0m\n\u001b[1;32m      5\u001b[0m \u001b[0mboston\u001b[0m\u001b[0;34m[\u001b[0m\u001b[0;34m'white and asian population'\u001b[0m\u001b[0;34m]\u001b[0m \u001b[0;34m=\u001b[0m \u001b[0mboston\u001b[0m\u001b[0;34m[\u001b[0m\u001b[0;34m'asian and pacific islander population'\u001b[0m\u001b[0;34m]\u001b[0m \u001b[0;34m+\u001b[0m \u001b[0mboston\u001b[0m\u001b[0;34m[\u001b[0m\u001b[0;34m'white population'\u001b[0m\u001b[0;34m]\u001b[0m\u001b[0;34m\u001b[0m\u001b[0m\n",
      "\u001b[0;31mNameError\u001b[0m: name 'b1990' is not defined"
     ]
    }
   ],
   "source": [
    "boston = pd.DataFrame([b1990, b2000, b2010])\n",
    "boston.insert(loc=0, column='year', value=['1990', '2000', '2010'])\n",
    "boston = boston.fillna(0)\n",
    "boston['asian and pacific islander population'] = boston['asian population'] + boston['pacific population']\n",
    "boston['white and asian population'] = boston['asian and pacific islander population'] + boston['white population']\n",
    "boston['poc population'] = boston['asian and pacific islander population'] + boston['black population'] + boston['native population'] + boston['other population']\n",
    "boston = boston.apply(pd.to_numeric)"
   ]
  },
  {
   "cell_type": "code",
   "execution_count": null,
   "metadata": {
    "collapsed": false
   },
   "outputs": [],
   "source": [
    "cambridge = pd.DataFrame([c1990, c2000, c2010])\n",
    "cambridge.insert(loc=0, column='year', value=[1990, 2000, 2010])\n",
    "cambridge = cambridge.fillna(0)\n",
    "cambridge['asian and pacific islander population'] = cambridge['asian population'] + cambridge['pacific population']\n",
    "cambridge['white and asian population'] = cambridge['asian and pacific islander population'] + cambridge['white population']\n",
    "cambridge['poc population'] = cambridge['asian and pacific islander population'] + cambridge['black population'] + cambridge['native population'] + cambridge['other population']\n",
    "cambridge = cambridge.apply(pd.to_numeric)"
   ]
  },
  {
   "cell_type": "markdown",
   "metadata": {},
   "source": [
    "Focus on the change in the populations over the years."
   ]
  },
  {
   "cell_type": "code",
   "execution_count": null,
   "metadata": {
    "collapsed": false
   },
   "outputs": [],
   "source": [
    "c_change = cambridge.drop('year', axis=1).pct_change()\n",
    "b_change = boston.drop('year', axis=1).pct_change()"
   ]
  },
  {
   "cell_type": "code",
   "execution_count": null,
   "metadata": {
    "collapsed": false
   },
   "outputs": [],
   "source": [
    "c_change2 = cambridge.drop('year', axis=1).pct_change(periods=2)\n",
    "b_change2 = boston.drop('year', axis=1).pct_change(periods=2)"
   ]
  },
  {
   "cell_type": "markdown",
   "metadata": {},
   "source": [
    "Now, the data for the change in these populations (Black, Asian, non-white, and white) will be visualized."
   ]
  },
  {
   "cell_type": "code",
   "execution_count": null,
   "metadata": {
    "collapsed": false
   },
   "outputs": [],
   "source": [
    "# Demographic changes (bars)\n",
    "trace1 = go.Bar(\n",
    "    x=['Black', 'AAPI', 'Non-White', 'White'],\n",
    "    y=[b_change2.iloc[[2]]['black population'], b_change2.iloc[[2]]['asian and pacific islander population'], b_change2.iloc[[2]]['poc population'], b_change2.iloc[[2]]['white population'], b_change2.iloc[[2]]['white and asian population']],\n",
    "    name='Boston'\n",
    ")\n",
    "trace2 = go.Bar(\n",
    "    x=['Black', 'AAPI', 'Non-White', 'White'],\n",
    "    y=[c_change2.iloc[[2]]['black population'], c_change2.iloc[[2]]['asian and pacific islander population'], c_change2.iloc[[2]]['poc population'], c_change2.iloc[[2]]['white population'], c_change2.iloc[[2]]['white and asian population']],\n",
    "    name='Cambridge'\n",
    ")\n",
    "\n",
    "data = [trace1, trace2]\n",
    "layout = go.Layout(\n",
    "    title = \"The Change In Population Demographics for Boston and Cambridge Since 1990\",\n",
    "    barmode='group'\n",
    ")\n",
    "\n",
    "fig = go.Figure(data=data, layout=layout)\n",
    "iplot(fig)"
   ]
  },
  {
   "cell_type": "markdown",
   "metadata": {},
   "source": [
    "Define a function to be used to perform linear regression."
   ]
  },
  {
   "cell_type": "code",
   "execution_count": null,
   "metadata": {
    "collapsed": true
   },
   "outputs": [],
   "source": [
    "def fitter(x, y, regr_x):\n",
    "    \"\"\"\n",
    "    Use linear regression to make a best fit line for a set of data.\n",
    "    Args:\n",
    "        x (numpy array): The independent variable.\n",
    "        y (numpy array): The dependent variable.\n",
    "        regr_x (numpy array): The array used to extrapolate the regression.\n",
    "    \"\"\"\n",
    "    slope, intercept, r_value, p_value, std_err = stats.linregress(x, y)\n",
    "    return (slope * regr_x + intercept)"
   ]
  },
  {
   "cell_type": "code",
   "execution_count": null,
   "metadata": {
    "collapsed": false
   },
   "outputs": [],
   "source": [
    "# Demographic changes in Boston\n",
    "\n",
    "years = pd.to_numeric(boston['year']).as_matrix()\n",
    "regr = np.arange(1990, 2019)\n",
    "\n",
    "y0 = boston['black population'].as_matrix()\n",
    "y1 = boston['asian population'].as_matrix()\n",
    "y2 = boston['poc population'].as_matrix()\n",
    "y3 = boston['white population'].as_matrix()\n",
    "y4 = boston['white and asian population'].as_matrix()\n",
    "\n",
    "\n",
    "# Generate linear fits\n",
    "line0 = fitter(years, y0, regr)\n",
    "line1 = fitter(years, y1, regr)\n",
    "line2 = fitter(years, y2, regr)\n",
    "line3 = fitter(years, y3, regr)\n",
    "line4 = fitter(years, y4, regr)\n",
    "\n",
    "trace0 = go.Scatter(\n",
    "            x = years,\n",
    "            y = y0,\n",
    "            name='Black',\n",
    "            mode='markers',\n",
    "            marker=go.Marker(color='rgb(255, 63, 52)')\n",
    "        )\n",
    "fit0 = go.Scatter(\n",
    "                  x = regr,\n",
    "                  y = line0,\n",
    "                  mode='lines',\n",
    "                  marker=go.Marker(color='rgb(255, 63, 52)'),\n",
    "                  name='Black Fit'\n",
    "                  )\n",
    "trace1 = go.Scatter(\n",
    "            x = years,\n",
    "            y = y1,\n",
    "            name='Asian',\n",
    "            mode='markers',\n",
    "            marker=go.Marker(color='rgb(5, 196, 107)')\n",
    "        )\n",
    "fit1 = go.Scatter(\n",
    "                  x = regr,\n",
    "                  y = line1,\n",
    "                  mode='lines',\n",
    "                  marker=go.Marker(color='rgb(5, 196, 107)'),\n",
    "                  name='Asian Fit'\n",
    "                  )\n",
    "trace2 = go.Scatter(\n",
    "            x = years,\n",
    "            y = y2,\n",
    "            name='Non-White',\n",
    "            mode='markers',\n",
    "            marker=go.Marker(color='rgb(60, 64, 198)')\n",
    "        )\n",
    "fit2 = go.Scatter(\n",
    "                  x = regr,\n",
    "                  y = line2,\n",
    "                  mode='lines',\n",
    "                  marker=go.Marker(color='rgb(60, 64, 198)'),\n",
    "                  name='Non-White Fit'\n",
    "                  )\n",
    "trace3 = go.Scatter(\n",
    "            x = years,\n",
    "            y = y3,\n",
    "            name='White',\n",
    "            mode='markers',\n",
    "            marker=go.Marker(color='rgb(255, 221, 89)'),\n",
    "        )\n",
    "fit3 = go.Scatter(\n",
    "                  x = regr,\n",
    "                  y = line3,\n",
    "                  mode='lines',\n",
    "                  marker=go.Marker(color='rgb(255, 221, 89)'),\n",
    "                  name='White Fit'\n",
    "                  )\n",
    "trace4 = go.Scatter(\n",
    "            x = years,\n",
    "            y = y4,\n",
    "            name='White and Asian',\n",
    "            mode='markers',\n",
    "            marker=go.Marker(color='rgb(52, 231, 228)'),\n",
    "        )\n",
    "fit4 = go.Scatter(\n",
    "                  x = regr,\n",
    "                  y = line4,\n",
    "                  mode='lines',\n",
    "                  marker=go.Marker(color='rgb(52, 231, 228)'),\n",
    "                  name='White and Asian Fit'\n",
    "                  )\n",
    "data = [trace0, trace1, trace2, trace3, trace4, fit0, fit1, fit2, fit3, fit4]\n",
    "\n",
    "# Create dictionaries of the demographic estimates for later use.\n",
    "b_black = dict(zip(regr.T, line0.T))\n",
    "b_asian = dict(zip(regr.T, line1.T))\n",
    "b_poc = dict(zip(regr.T, line2.T))\n",
    "b_white = dict(zip(regr.T, line3.T))\n",
    "b_whasian = dict(zip(regr.T, line4.T))\n",
    "\n",
    "layout = go.Layout(\n",
    "            title = \"The Change In Population Demographics for Boston Since 1990\",\n",
    "            font = dict(family='Gotham', size=18),\n",
    "            yaxis=dict(\n",
    "                title='Population Levels',\n",
    "            ),\n",
    "            xaxis=dict(\n",
    "                title='Year')\n",
    "        )\n",
    "\n",
    "fig = go.Figure(data=data, layout=layout)\n",
    "iplot(fig)"
   ]
  },
  {
   "cell_type": "code",
   "execution_count": null,
   "metadata": {
    "collapsed": false
   },
   "outputs": [],
   "source": [
    "# Demographic changes in Cambridge\n",
    "\n",
    "years = pd.to_numeric(cambridge['year']).as_matrix()\n",
    "regr = np.arange(1990, 2019)\n",
    "\n",
    "y0 = cambridge['black population'].as_matrix()\n",
    "y1 = cambridge['asian population'].as_matrix()\n",
    "y2 = cambridge['poc population'].as_matrix()\n",
    "y3 = cambridge['white population'].as_matrix()\n",
    "y4 = cambridge['white and asian population'].as_matrix()\n",
    "\n",
    "\n",
    "# Generate linear fits\n",
    "line0 = fitter(years, y0, regr)\n",
    "line1 = fitter(years, y1, regr)\n",
    "line2 = fitter(years, y2, regr)\n",
    "line3 = fitter(years, y3, regr)\n",
    "line4 = fitter(years, y4, regr)\n",
    "\n",
    "trace0 = go.Scatter(\n",
    "            x = years,\n",
    "            y = y0,\n",
    "            name='Black',\n",
    "            mode='markers',\n",
    "            marker=go.Marker(color='rgb(255, 63, 52)')\n",
    "        )\n",
    "fit0 = go.Scatter(\n",
    "                  x = regr,\n",
    "                  y = line0,\n",
    "                  mode='lines',\n",
    "                  marker=go.Marker(color='rgb(255, 63, 52)'),\n",
    "                  name='Black Fit'\n",
    "                  )\n",
    "trace1 = go.Scatter(\n",
    "            x = years,\n",
    "            y = y1,\n",
    "            name='Asian',\n",
    "            mode='markers',\n",
    "            marker=go.Marker(color='rgb(5, 196, 107)')\n",
    "        )\n",
    "fit1 = go.Scatter(\n",
    "                  x = regr,\n",
    "                  y = line1,\n",
    "                  mode='lines',\n",
    "                  marker=go.Marker(color='rgb(5, 196, 107)'),\n",
    "                  name='Asian Fit'\n",
    "                  )\n",
    "trace2 = go.Scatter(\n",
    "            x = years,\n",
    "            y = y2,\n",
    "            name='Non-White',\n",
    "            mode='markers',\n",
    "            marker=go.Marker(color='rgb(60, 64, 198)')\n",
    "        )\n",
    "fit2 = go.Scatter(\n",
    "                  x = regr,\n",
    "                  y = line2,\n",
    "                  mode='lines',\n",
    "                  marker=go.Marker(color='rgb(60, 64, 198)'),\n",
    "                  name='Non-White Fit'\n",
    "                  )\n",
    "trace3 = go.Scatter(\n",
    "            x = years,\n",
    "            y = y3,\n",
    "            name='White',\n",
    "            mode='markers',\n",
    "            marker=go.Marker(color='rgb(255, 221, 89)'),\n",
    "        )\n",
    "fit3 = go.Scatter(\n",
    "                  x = regr,\n",
    "                  y = line3,\n",
    "                  mode='lines',\n",
    "                  marker=go.Marker(color='rgb(255, 221, 89)'),\n",
    "                  name='White Fit'\n",
    "                  )\n",
    "trace4 = go.Scatter(\n",
    "            x = years,\n",
    "            y = y4,\n",
    "            name='White and Asian',\n",
    "            mode='markers',\n",
    "            marker=go.Marker(color='rgb(52, 231, 228)'),\n",
    "        )\n",
    "fit4 = go.Scatter(\n",
    "                  x = regr,\n",
    "                  y = line4,\n",
    "                  mode='lines',\n",
    "                  marker=go.Marker(color='rgb(52, 231, 228)'),\n",
    "                  name='White and Asian Fit'\n",
    "                  )\n",
    "data = [trace0, trace1, trace2, trace3, trace4, fit0, fit1, fit2, fit3, fit4]\n",
    "\n",
    "# Create dictionaries of the demographic estimates for later use.\n",
    "c_black = dict(zip(regr.T, line0.T))\n",
    "c_asian = dict(zip(regr.T, line1.T))\n",
    "c_poc = dict(zip(regr.T, line2.T))\n",
    "c_white = dict(zip(regr.T, line3.T))\n",
    "c_whasian = dict(zip(regr.T, line4.T))\n",
    "\n",
    "layout = go.Layout(\n",
    "            title = \"The Change In Population Demographics for Cambridge Since 1990\",\n",
    "            yaxis=dict(\n",
    "                title='Population Levels'\n",
    "            ),\n",
    "            xaxis=dict(\n",
    "                title='Year')\n",
    "        )\n",
    "\n",
    "fig = go.Figure(data=data, layout=layout)\n",
    "plotly.plotly.iplot(fig, filename=\"Change in Population\")"
   ]
  },
  {
   "cell_type": "markdown",
   "metadata": {},
   "source": [
    "The following is summary data for the above operations. The dataframe contains the estimates for all of the years and demographics."
   ]
  },
  {
   "cell_type": "code",
   "execution_count": null,
   "metadata": {
    "collapsed": false
   },
   "outputs": [],
   "source": [
    "boston_demdata = [b_black, b_asian, b_poc, b_white, b_whasian]\n",
    "cambridge_demdata = [c_black, c_asian, c_poc, c_white, c_whasian]\n",
    "\n",
    "popdata = pd.DataFrame(boston_demdata).T\n",
    "popdata2 = pd.DataFrame(cambridge_demdata).T\n",
    "\n",
    "popdata.reset_index(inplace=True)\n",
    "popdata2.reset_index(inplace=True)\n",
    "popdata2.drop('index', axis=1, inplace=True)\n",
    "\n",
    "popdata.columns = ['year', 'b_black', 'b_asian', 'b_poc', 'b_white', 'b_white and asian']\n",
    "popdata2.columns = ['c_black', 'c_asian', 'c_poc', 'c_white', 'c_white and asian']\n",
    "\n",
    "popdata = pd.concat([popdata, popdata2], axis=1, join_axes=[popdata.index])"
   ]
  },
  {
   "cell_type": "markdown",
   "metadata": {},
   "source": [
    "## Analyzing Monetary Data\n",
    "Income levels, rent, housing prices."
   ]
  },
  {
   "cell_type": "markdown",
   "metadata": {},
   "source": [
    "The housing in Cambridge was primarily built before 1939 ( 50.99%), making the housing stock in Cambridge some of the oldest overall in America, although there is a range of ages of homes in Cambridge. The next most important housing age is between 1970-1999 ( 20.24%), followed by between 1940-1969 ( 18.47%). There's also some housing in Cambridge built between 2000 and later ( 10.31%).\n",
    "\n",
    "In the last 10 years, Cambridge has experienced some of the highest home appreciation rates of any community in the nation. Cambridge real estate appreciated 62.57% over the last ten years, which is an average annual home appreciation rate of 4.98%, putting Cambridge in the top 10% nationally for real estate appreciation. If you are a home buyer or real estate investor, Cambridge definitely has a track record of being one of the best long term real estate investments in America through the last ten years.\n",
    "\n",
    "Appreciation rates are so strong in Cambridge that despite a nationwide downturn in the housing market, Cambridge real estate has continued to appreciate in value faster than most communities. Looking at just the latest twelve months, Cambridge appreciation rates continue to be some of the highest in America, at 9.83%, which is higher than appreciation rates in 89.78% of the cities and towns in the nation. Based on the last twelve months, short-term real estate investors have found good fortune in Cambridge. Cambridge appreciation rates in the latest quarter were at 1.75%, which equates to an annual appreciation rate of 7.19%.\n",
    "\n",
    "– https://www.neighborhoodscout.com/ma/cambridge/real-estate\n",
    "\n",
    "**These are the median income, housing sales prices, and rent prices in Cambridge and Boston.**"
   ]
  },
  {
   "cell_type": "markdown",
   "metadata": {},
   "source": [
    "### Cambridge Data"
   ]
  },
  {
   "cell_type": "code",
   "execution_count": null,
   "metadata": {
    "collapsed": false
   },
   "outputs": [],
   "source": [
    "# http://www.deptofnumbers.com/income/massachusetts/boston/\n",
    "c_income2010 = 64865\n",
    "c_income2000 = 47979\n",
    "c_income1990 = 33140\n",
    "\n",
    "# http://www.cambridgema.gov/CDD/factsandmaps/demographicfaq\n",
    "c_house2010 = 739800\n",
    "# https://www.trulia.com/real_estate/Cambridge-Massachusetts/market-trends/\n",
    "c_house2000 = 297000\n",
    "\n",
    "# http://www.cambridgema.gov/CDD/factsandmaps/demographicfaq\n",
    "c_rent2010 = 2348\n",
    "# https://www.cambridgema.gov/~/media/Files/CDD/FactsandMaps/profiles/demo_profile_housing_2016.ashx\n",
    "c_rent2000 = 1100"
   ]
  },
  {
   "cell_type": "markdown",
   "metadata": {},
   "source": [
    "### Boston Data"
   ]
  },
  {
   "cell_type": "code",
   "execution_count": null,
   "metadata": {
    "collapsed": true
   },
   "outputs": [],
   "source": [
    "# http://www.deptofnumbers.com/income/massachusetts/boston/\n",
    "b_income2010 = 55777\n",
    "b_income2000 = 39629\n",
    "b_income1990 = 12350\n",
    "\n",
    "# https://www.trulia.com/real_estate/Boston-Massachusetts/market-trends/\n",
    "b_house2010 = 575000\n",
    "b_house2000 = 190000\n",
    "\n",
    "# http://www.deptofnumbers.com/rent/massachusetts/boston/\n",
    "b_rent2010 = 1316\n",
    "# https://www.census.gov/hhes/www/housing/census/historic/grossrents.html\n",
    "b_rent2000 = 684"
   ]
  },
  {
   "cell_type": "markdown",
   "metadata": {},
   "source": [
    "#### Comparison Graphs\n",
    "The following graphs compare the median income of, housing prices in, and rent in the two cities. Since there is missing data for the housing prices and rent, a linear fit was used for estimates."
   ]
  },
  {
   "cell_type": "code",
   "execution_count": null,
   "metadata": {
    "collapsed": false
   },
   "outputs": [],
   "source": [
    "# Income Graphs\n",
    "years = np.asarray([1990, 2000, 2010])\n",
    "regr = np.arange(1990, 2019)\n",
    "y0 = np.asarray([c_income1990, c_income2000, c_income2010])\n",
    "y1 = np.asarray([b_income1990, b_income2000, b_income2010])\n",
    "\n",
    "\n",
    "# Generate linear fits\n",
    "# Cambridge\n",
    "line0 = fitter(years, y0, regr)\n",
    "\n",
    "# Boston\n",
    "line1 = fitter(years, y1, regr)\n",
    "\n",
    "\n",
    "trace0 = go.Scatter(\n",
    "            x = years,\n",
    "            y = y0,\n",
    "            mode = 'markers',\n",
    "            name='Cambridge',\n",
    "            marker=go.Marker(color='#601014')\n",
    "        )\n",
    "fit0 = go.Scatter(\n",
    "                  x = regr,\n",
    "                  y = line0,\n",
    "                  mode='lines',\n",
    "                  marker=go.Marker(color='#601014'),\n",
    "                  name='Cambridge Fit'\n",
    "                  )\n",
    "trace1 = go.Scatter(\n",
    "            x = years,\n",
    "            y = y1,\n",
    "            mode = 'markers',\n",
    "            name='Boston',\n",
    "            marker=go.Marker(color='#D2232A')\n",
    "        )\n",
    "fit1 = go.Scatter(\n",
    "                  x = regr,\n",
    "                  y = line1,\n",
    "                  mode='lines',\n",
    "                  marker=go.Marker(color='#D2232A'),\n",
    "                  name='Boston Fit'\n",
    "                  )\n",
    "data = [trace0, trace1, fit0, fit1]\n",
    "\n",
    "# Create dictionaries of the income estimates for later use.\n",
    "cambridge_income = dict(zip(regr.T, line0.T))\n",
    "boston_income = dict(zip(regr.T, line1.T))\n",
    "\n",
    "layout = go.Layout(\n",
    "            title = \"The Change In Median Income of Cambridge and Boston Residents Since 1990\",\n",
    "            font = dict(family='Gotham', size=18),\n",
    "            yaxis=dict(\n",
    "                title='Median Income ($)'\n",
    "            ),\n",
    "            xaxis=dict(\n",
    "                title='Year')\n",
    "        )\n",
    "\n",
    "fig = go.Figure(data=data, layout=layout)\n",
    "iplot(fig, filename=\"income_delta\")"
   ]
  },
  {
   "cell_type": "code",
   "execution_count": null,
   "metadata": {
    "collapsed": false
   },
   "outputs": [],
   "source": [
    "# Housing Price Graphs\n",
    "years = np.asarray([2000, 2010])\n",
    "regr = np.arange(1997, 2019)\n",
    "y0 = np.asarray([c_house2000, c_house2010])\n",
    "y1 = np.asarray([b_house2000, b_house2010])\n",
    "\n",
    "\n",
    "# Generate linear fits\n",
    "# Cambridge\n",
    "line0 = fitter(years, y0, regr)\n",
    "\n",
    "# Boston\n",
    "line1 = fitter(years, y1, regr)\n",
    "\n",
    "\n",
    "trace0 = go.Scatter(\n",
    "            x = years,\n",
    "            y = y0,\n",
    "            mode = 'markers',\n",
    "            name='Cambridge',\n",
    "            marker=go.Marker(color='#601014')\n",
    "        )\n",
    "fit0 = go.Scatter(\n",
    "                  x = regr,\n",
    "                  y = line0,\n",
    "                  mode='lines',\n",
    "                  marker=go.Marker(color='#601014'),\n",
    "                  name='Cambridge Fit'\n",
    "                  )\n",
    "trace1 = go.Scatter(\n",
    "            x = years,\n",
    "            y = y1,\n",
    "            mode = 'markers',\n",
    "            name='Boston',\n",
    "            marker=go.Marker(color='#D2232A')\n",
    "        )\n",
    "fit1 = go.Scatter(\n",
    "                  x = regr,\n",
    "                  y = line1,\n",
    "                  mode='lines',\n",
    "                  marker=go.Marker(color='#D2232A'),\n",
    "                  name='Boston Fit'\n",
    "                  )\n",
    "data = [trace0, trace1, fit0, fit1]\n",
    "\n",
    "# Create dictionaries of the income estimates for later use.\n",
    "cambridge_houses = dict(zip(regr.T, line0.T))\n",
    "boston_houses = dict(zip(regr.T, line1.T))\n",
    "\n",
    "layout = go.Layout(\n",
    "            title = \"The Change In Housing Prices in Cambridge and Boston Since 2000\",\n",
    "            font = dict(family='Gotham', size=18),\n",
    "            yaxis=dict(\n",
    "                title='Median House Price ($)'\n",
    "            ),\n",
    "            xaxis=dict(\n",
    "                title='Year')\n",
    "        )\n",
    "\n",
    "fig = go.Figure(data=data, layout=layout)\n",
    "iplot(fig, filename=\"housing_delta\")"
   ]
  },
  {
   "cell_type": "code",
   "execution_count": null,
   "metadata": {
    "collapsed": false
   },
   "outputs": [],
   "source": [
    "# Housing Price Graphs\n",
    "years = np.asarray([2000, 2010])\n",
    "regr = np.arange(1997, 2019)\n",
    "y0 = np.asarray([c_rent2000, c_rent2010])\n",
    "y1 = np.asarray([b_rent2000, b_rent2010])\n",
    "\n",
    "\n",
    "# Generate linear fits\n",
    "# Cambridge\n",
    "line0 = fitter(years, y0, regr)\n",
    "\n",
    "# Boston\n",
    "line1 = fitter(years, y1, regr)\n",
    "\n",
    "\n",
    "trace0 = go.Scatter(\n",
    "            x = years,\n",
    "            y = y0,\n",
    "            mode = 'markers',\n",
    "            name='Cambridge',\n",
    "            marker=go.Marker(color='#601014')\n",
    "        )\n",
    "fit0 = go.Scatter(\n",
    "                  x = regr,\n",
    "                  y = line0,\n",
    "                  mode='lines',\n",
    "                  marker=go.Marker(color='#601014'),\n",
    "                  name='Cambridge Fit'\n",
    "                  )\n",
    "trace1 = go.Scatter(\n",
    "            x = years,\n",
    "            y = y1,\n",
    "            mode = 'markers',\n",
    "            name='Boston',\n",
    "            marker=go.Marker(color='#D2232A')\n",
    "        )\n",
    "fit1 = go.Scatter(\n",
    "                  x = regr,\n",
    "                  y = line1,\n",
    "                  mode='lines',\n",
    "                  marker=go.Marker(color='#D2232A'),\n",
    "                  name='Boston Fit'\n",
    "                  )\n",
    "data = [trace0, trace1, fit0, fit1]\n",
    "\n",
    "# Create dictionaries of the income estimates for later use.\n",
    "cambridge_rent = dict(zip(regr.T, line0.T))\n",
    "boston_rent = dict(zip(regr.T, line1.T))\n",
    "\n",
    "layout = go.Layout(\n",
    "            title = \"The Change In Rent in Cambridge and Boston Since 2000\",\n",
    "            font = dict(family='Gotham', size=18),\n",
    "            yaxis=dict(\n",
    "                title='Median Rent ($)'\n",
    "            ),\n",
    "            xaxis=dict(\n",
    "                title='Year')\n",
    "        )\n",
    "\n",
    "fig = go.Figure(data=data, layout=layout)\n",
    "iplot(fig, filename=\"rent_delta\")"
   ]
  },
  {
   "cell_type": "markdown",
   "metadata": {},
   "source": [
    "The following is summary data for the above operations. The dataframes contain the estimates for all of the years and incomes/housing prices/rent."
   ]
  },
  {
   "cell_type": "code",
   "execution_count": null,
   "metadata": {
    "collapsed": false
   },
   "outputs": [],
   "source": [
    "city_income = [boston_income, cambridge_income]\n",
    "city_housing = [boston_houses, cambridge_houses]\n",
    "city_rent = [boston_rent, cambridge_rent]\n",
    "\n",
    "income_data = pd.DataFrame(city_income).T\n",
    "housing_data = pd.DataFrame(city_housing).T\n",
    "rent_data = pd.DataFrame(city_rent).T\n",
    "\n",
    "income_data.reset_index(inplace=True)\n",
    "housing_data.reset_index(inplace=True)\n",
    "rent_data.reset_index(inplace=True)\n",
    "\n",
    "income_data.columns = ['year', 'boston', 'cambridge']\n",
    "housing_data.columns = ['year', 'boston', 'cambridge']\n",
    "rent_data.columns = ['year', 'boston', 'cambridge']\n",
    "money_data = [income_data, housing_data, rent_data]"
   ]
  },
  {
   "cell_type": "markdown",
   "metadata": {},
   "source": [
    "Save the data for use in another notebook."
   ]
  },
  {
   "cell_type": "code",
   "execution_count": null,
   "metadata": {
    "collapsed": true
   },
   "outputs": [],
   "source": [
    "with open('VariableData/money_data.pickle', 'wb') as f:\n",
    "    pickle.dump(money_data, f)\n",
    "with open('VariableData/demographic_data.pickle', 'wb') as f:\n",
    "    pickle.dump(popdata, f)"
   ]
  },
  {
   "cell_type": "code",
   "execution_count": null,
   "metadata": {
    "collapsed": true
   },
   "outputs": [],
   "source": []
  }
 ],
 "metadata": {
  "kernelspec": {
   "display_name": "Python 3",
   "language": "python",
   "name": "python3"
  },
  "language_info": {
   "codemirror_mode": {
    "name": "ipython",
    "version": 3
   },
   "file_extension": ".py",
   "mimetype": "text/x-python",
   "name": "python",
   "nbconvert_exporter": "python",
   "pygments_lexer": "ipython3",
   "version": "3.6.0"
  },
  "varInspector": {
   "cols": {
    "lenName": 16,
    "lenType": 16,
    "lenVar": 40
   },
   "kernels_config": {
    "python": {
     "delete_cmd_postfix": "",
     "delete_cmd_prefix": "del ",
     "library": "var_list.py",
     "varRefreshCmd": "print(var_dic_list())"
    },
    "r": {
     "delete_cmd_postfix": ") ",
     "delete_cmd_prefix": "rm(",
     "library": "var_list.r",
     "varRefreshCmd": "cat(var_dic_list()) "
    }
   },
   "types_to_exclude": [
    "module",
    "function",
    "builtin_function_or_method",
    "instance",
    "_Feature"
   ],
   "window_display": false
  }
 },
 "nbformat": 4,
 "nbformat_minor": 2
}
