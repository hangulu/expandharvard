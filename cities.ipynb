{
 "cells": [
  {
   "cell_type": "markdown",
   "metadata": {},
   "source": [
    "## Data for Cambridge and Boston\n",
    "This document analyzes data available about Cambridge and Boston from the 1990, 2000 and 2010 censuses. "
   ]
  },
  {
   "cell_type": "code",
   "execution_count": 74,
   "metadata": {
    "collapsed": false
   },
   "outputs": [],
   "source": [
    "import numpy as np\n",
    "import pandas as pd\n",
    "from scipy import stats\n",
    "import pickle"
   ]
  },
  {
   "cell_type": "code",
   "execution_count": 2,
   "metadata": {
    "collapsed": true
   },
   "outputs": [],
   "source": [
    "import matplotlib.pyplot as plt\n",
    "import plotly\n",
    "import plotly.plotly as py\n",
    "import plotly.graph_objs as go\n",
    "plotly.tools.set_credentials_file(username='hangulu', api_key='78VR3oagCeoHkdYiKB4b')"
   ]
  },
  {
   "cell_type": "markdown",
   "metadata": {},
   "source": [
    "## Analyzing Demographic Data\n",
    "Populations for white, Black, Native American, Asian, Pacific Islander, and other races of people in Cambridge and Boston."
   ]
  },
  {
   "cell_type": "code",
   "execution_count": 3,
   "metadata": {
    "collapsed": true
   },
   "outputs": [],
   "source": [
    "# Census API Key\n",
    "key = \"d923b916d08af136ade78b021cc31f162cbb2d2f\""
   ]
  },
  {
   "cell_type": "markdown",
   "metadata": {},
   "source": [
    "The function to fetch the census data."
   ]
  },
  {
   "cell_type": "code",
   "execution_count": 4,
   "metadata": {
    "collapsed": true
   },
   "outputs": [],
   "source": [
    "def fetch_census(year, census_codes, state_code, place):\n",
    "    results = {}\n",
    "    for category, variable in census_codes.items():\n",
    "        out = pd.read_json('https://api.census.gov/data/{}/sf1?get={}&in=state:{}&for=place:{}&key={}'.format(year, variable, state_code, place, key))\n",
    "        df = out.iloc[[1]][0]\n",
    "        results[category] = int(df)\n",
    "    return (results)"
   ]
  },
  {
   "cell_type": "markdown",
   "metadata": {},
   "source": [
    "The dictionaries containing the codes for accessing the census data."
   ]
  },
  {
   "cell_type": "code",
   "execution_count": 5,
   "metadata": {
    "collapsed": false
   },
   "outputs": [],
   "source": [
    "census_2010 = dict([(\"total population\", \"P0030001\"), (\"white population\", \"P0030002\"), (\"black population\", \"P0030003\"), (\"native population\", \"P0030004\"), (\"asian population\", \"P0030005\"), (\"pacific population\", \"P0030006\"), (\"other population\", \"P0030007\")])\n",
    "\n",
    "census_2000 = dict([(\"total population\", \"P003002\"), (\"white population\", \"P003003\"), (\"black population\", \"P003004\"), (\"native population\", \"P003005\"), (\"asian population\", \"P003006\"), (\"pacific population\", \"P003007\"), (\"other population\", \"P003008\")])\n",
    "\n",
    "census_1990 = dict([(\"total population\", \"P0010001\"), (\"white population\", \"P0060001\"), (\"black population\", \"P0060002\"), (\"native population\", \"P0060003\"), (\"asian population\", \"P0060004\"), (\"other population\", \"P0060005\")])"
   ]
  },
  {
   "cell_type": "markdown",
   "metadata": {},
   "source": [
    "Calculate and clean the data for the two cities."
   ]
  },
  {
   "cell_type": "code",
   "execution_count": 6,
   "metadata": {
    "collapsed": false
   },
   "outputs": [],
   "source": [
    "# Boston\n",
    "b2010 = fetch_census(2010, census_2010, 25, '07000')\n",
    "b2000 = fetch_census(2000, census_2000, 25, '07000')\n",
    "b1990 = fetch_census(1990, census_1990, 25, '07000')\n",
    "\n",
    "# Cambridge\n",
    "c2010 = fetch_census(2010, census_2010, 25, 11000)\n",
    "c2000 = fetch_census(2000, census_2000, 25, 11000)\n",
    "c1990 = fetch_census(1990, census_1990, 25, 11000)"
   ]
  },
  {
   "cell_type": "code",
   "execution_count": 7,
   "metadata": {
    "collapsed": false
   },
   "outputs": [
    {
     "data": {
      "text/html": [
       "<div>\n",
       "<style>\n",
       "    .dataframe thead tr:only-child th {\n",
       "        text-align: right;\n",
       "    }\n",
       "\n",
       "    .dataframe thead th {\n",
       "        text-align: left;\n",
       "    }\n",
       "\n",
       "    .dataframe tbody tr th {\n",
       "        vertical-align: top;\n",
       "    }\n",
       "</style>\n",
       "<table border=\"1\" class=\"dataframe\">\n",
       "  <thead>\n",
       "    <tr style=\"text-align: right;\">\n",
       "      <th></th>\n",
       "      <th>year</th>\n",
       "      <th>asian population</th>\n",
       "      <th>black population</th>\n",
       "      <th>native population</th>\n",
       "      <th>other population</th>\n",
       "      <th>pacific population</th>\n",
       "      <th>total population</th>\n",
       "      <th>white population</th>\n",
       "      <th>asian and pacific islander population</th>\n",
       "      <th>white and asian population</th>\n",
       "      <th>poc population</th>\n",
       "    </tr>\n",
       "  </thead>\n",
       "  <tbody>\n",
       "    <tr>\n",
       "      <th>0</th>\n",
       "      <td>1990</td>\n",
       "      <td>30388</td>\n",
       "      <td>146945</td>\n",
       "      <td>1884</td>\n",
       "      <td>34191</td>\n",
       "      <td>0.0</td>\n",
       "      <td>574283</td>\n",
       "      <td>360875</td>\n",
       "      <td>30388.0</td>\n",
       "      <td>391263.0</td>\n",
       "      <td>213408.0</td>\n",
       "    </tr>\n",
       "    <tr>\n",
       "      <th>1</th>\n",
       "      <td>2000</td>\n",
       "      <td>44284</td>\n",
       "      <td>149202</td>\n",
       "      <td>2365</td>\n",
       "      <td>46102</td>\n",
       "      <td>366.0</td>\n",
       "      <td>563263</td>\n",
       "      <td>320944</td>\n",
       "      <td>44650.0</td>\n",
       "      <td>365594.0</td>\n",
       "      <td>242319.0</td>\n",
       "    </tr>\n",
       "    <tr>\n",
       "      <th>2</th>\n",
       "      <td>2010</td>\n",
       "      <td>55235</td>\n",
       "      <td>150437</td>\n",
       "      <td>2399</td>\n",
       "      <td>51893</td>\n",
       "      <td>265.0</td>\n",
       "      <td>617594</td>\n",
       "      <td>333033</td>\n",
       "      <td>55500.0</td>\n",
       "      <td>388533.0</td>\n",
       "      <td>260229.0</td>\n",
       "    </tr>\n",
       "  </tbody>\n",
       "</table>\n",
       "</div>"
      ],
      "text/plain": [
       "   year  asian population  black population  native population  \\\n",
       "0  1990             30388            146945               1884   \n",
       "1  2000             44284            149202               2365   \n",
       "2  2010             55235            150437               2399   \n",
       "\n",
       "   other population  pacific population  total population  white population  \\\n",
       "0             34191                 0.0            574283            360875   \n",
       "1             46102               366.0            563263            320944   \n",
       "2             51893               265.0            617594            333033   \n",
       "\n",
       "   asian and pacific islander population  white and asian population  \\\n",
       "0                                30388.0                    391263.0   \n",
       "1                                44650.0                    365594.0   \n",
       "2                                55500.0                    388533.0   \n",
       "\n",
       "   poc population  \n",
       "0        213408.0  \n",
       "1        242319.0  \n",
       "2        260229.0  "
      ]
     },
     "execution_count": 7,
     "metadata": {},
     "output_type": "execute_result"
    }
   ],
   "source": [
    "boston = pd.DataFrame([b1990, b2000, b2010])\n",
    "boston.insert(loc=0, column='year', value=['1990', '2000', '2010'])\n",
    "boston = boston.fillna(0)\n",
    "boston['asian and pacific islander population'] = boston['asian population'] + boston['pacific population']\n",
    "boston['white and asian population'] = boston['asian and pacific islander population'] + boston['white population']\n",
    "boston['poc population'] = boston['asian and pacific islander population'] + boston['black population'] + boston['native population'] + boston['other population']\n",
    "boston.apply(pd.to_numeric)"
   ]
  },
  {
   "cell_type": "code",
   "execution_count": 8,
   "metadata": {
    "collapsed": false
   },
   "outputs": [
    {
     "data": {
      "text/html": [
       "<div>\n",
       "<style>\n",
       "    .dataframe thead tr:only-child th {\n",
       "        text-align: right;\n",
       "    }\n",
       "\n",
       "    .dataframe thead th {\n",
       "        text-align: left;\n",
       "    }\n",
       "\n",
       "    .dataframe tbody tr th {\n",
       "        vertical-align: top;\n",
       "    }\n",
       "</style>\n",
       "<table border=\"1\" class=\"dataframe\">\n",
       "  <thead>\n",
       "    <tr style=\"text-align: right;\">\n",
       "      <th></th>\n",
       "      <th>year</th>\n",
       "      <th>asian population</th>\n",
       "      <th>black population</th>\n",
       "      <th>native population</th>\n",
       "      <th>other population</th>\n",
       "      <th>pacific population</th>\n",
       "      <th>total population</th>\n",
       "      <th>white population</th>\n",
       "      <th>asian and pacific islander population</th>\n",
       "      <th>white and asian population</th>\n",
       "      <th>poc population</th>\n",
       "    </tr>\n",
       "  </thead>\n",
       "  <tbody>\n",
       "    <tr>\n",
       "      <th>0</th>\n",
       "      <td>1990</td>\n",
       "      <td>8081</td>\n",
       "      <td>12930</td>\n",
       "      <td>288</td>\n",
       "      <td>2381</td>\n",
       "      <td>0.0</td>\n",
       "      <td>95802</td>\n",
       "      <td>72122</td>\n",
       "      <td>8081.0</td>\n",
       "      <td>80203.0</td>\n",
       "      <td>23680.0</td>\n",
       "    </tr>\n",
       "    <tr>\n",
       "      <th>1</th>\n",
       "      <td>2000</td>\n",
       "      <td>12036</td>\n",
       "      <td>12079</td>\n",
       "      <td>290</td>\n",
       "      <td>3230</td>\n",
       "      <td>77.0</td>\n",
       "      <td>96734</td>\n",
       "      <td>69022</td>\n",
       "      <td>12113.0</td>\n",
       "      <td>81135.0</td>\n",
       "      <td>27712.0</td>\n",
       "    </tr>\n",
       "    <tr>\n",
       "      <th>2</th>\n",
       "      <td>2010</td>\n",
       "      <td>15879</td>\n",
       "      <td>12253</td>\n",
       "      <td>244</td>\n",
       "      <td>2241</td>\n",
       "      <td>38.0</td>\n",
       "      <td>105162</td>\n",
       "      <td>70006</td>\n",
       "      <td>15917.0</td>\n",
       "      <td>85923.0</td>\n",
       "      <td>30655.0</td>\n",
       "    </tr>\n",
       "  </tbody>\n",
       "</table>\n",
       "</div>"
      ],
      "text/plain": [
       "   year  asian population  black population  native population  \\\n",
       "0  1990              8081             12930                288   \n",
       "1  2000             12036             12079                290   \n",
       "2  2010             15879             12253                244   \n",
       "\n",
       "   other population  pacific population  total population  white population  \\\n",
       "0              2381                 0.0             95802             72122   \n",
       "1              3230                77.0             96734             69022   \n",
       "2              2241                38.0            105162             70006   \n",
       "\n",
       "   asian and pacific islander population  white and asian population  \\\n",
       "0                                 8081.0                     80203.0   \n",
       "1                                12113.0                     81135.0   \n",
       "2                                15917.0                     85923.0   \n",
       "\n",
       "   poc population  \n",
       "0         23680.0  \n",
       "1         27712.0  \n",
       "2         30655.0  "
      ]
     },
     "execution_count": 8,
     "metadata": {},
     "output_type": "execute_result"
    }
   ],
   "source": [
    "cambridge = pd.DataFrame([c1990, c2000, c2010])\n",
    "cambridge.insert(loc=0, column='year', value=[1990, 2000, 2010])\n",
    "cambridge = cambridge.fillna(0)\n",
    "cambridge['asian and pacific islander population'] = cambridge['asian population'] + cambridge['pacific population']\n",
    "cambridge['white and asian population'] = cambridge['asian and pacific islander population'] + cambridge['white population']\n",
    "cambridge['poc population'] = cambridge['asian and pacific islander population'] + cambridge['black population'] + cambridge['native population'] + cambridge['other population']\n",
    "cambridge.apply(pd.to_numeric)"
   ]
  },
  {
   "cell_type": "markdown",
   "metadata": {},
   "source": [
    "Focus on the change in the populations over the years."
   ]
  },
  {
   "cell_type": "code",
   "execution_count": 9,
   "metadata": {
    "collapsed": false
   },
   "outputs": [
    {
     "data": {
      "text/html": [
       "<div>\n",
       "<style>\n",
       "    .dataframe thead tr:only-child th {\n",
       "        text-align: right;\n",
       "    }\n",
       "\n",
       "    .dataframe thead th {\n",
       "        text-align: left;\n",
       "    }\n",
       "\n",
       "    .dataframe tbody tr th {\n",
       "        vertical-align: top;\n",
       "    }\n",
       "</style>\n",
       "<table border=\"1\" class=\"dataframe\">\n",
       "  <thead>\n",
       "    <tr style=\"text-align: right;\">\n",
       "      <th></th>\n",
       "      <th>asian population</th>\n",
       "      <th>black population</th>\n",
       "      <th>native population</th>\n",
       "      <th>other population</th>\n",
       "      <th>pacific population</th>\n",
       "      <th>total population</th>\n",
       "      <th>white population</th>\n",
       "      <th>asian and pacific islander population</th>\n",
       "      <th>white and asian population</th>\n",
       "      <th>poc population</th>\n",
       "    </tr>\n",
       "  </thead>\n",
       "  <tbody>\n",
       "    <tr>\n",
       "      <th>0</th>\n",
       "      <td>NaN</td>\n",
       "      <td>NaN</td>\n",
       "      <td>NaN</td>\n",
       "      <td>NaN</td>\n",
       "      <td>NaN</td>\n",
       "      <td>NaN</td>\n",
       "      <td>NaN</td>\n",
       "      <td>NaN</td>\n",
       "      <td>NaN</td>\n",
       "      <td>NaN</td>\n",
       "    </tr>\n",
       "    <tr>\n",
       "      <th>1</th>\n",
       "      <td>0.489420</td>\n",
       "      <td>-0.065816</td>\n",
       "      <td>0.006944</td>\n",
       "      <td>0.356573</td>\n",
       "      <td>inf</td>\n",
       "      <td>0.009728</td>\n",
       "      <td>-0.042983</td>\n",
       "      <td>0.498948</td>\n",
       "      <td>0.011621</td>\n",
       "      <td>0.170270</td>\n",
       "    </tr>\n",
       "    <tr>\n",
       "      <th>2</th>\n",
       "      <td>0.319292</td>\n",
       "      <td>0.014405</td>\n",
       "      <td>-0.158621</td>\n",
       "      <td>-0.306192</td>\n",
       "      <td>-0.506494</td>\n",
       "      <td>0.087126</td>\n",
       "      <td>0.014256</td>\n",
       "      <td>0.314043</td>\n",
       "      <td>0.059013</td>\n",
       "      <td>0.106199</td>\n",
       "    </tr>\n",
       "  </tbody>\n",
       "</table>\n",
       "</div>"
      ],
      "text/plain": [
       "   asian population  black population  native population  other population  \\\n",
       "0               NaN               NaN                NaN               NaN   \n",
       "1          0.489420         -0.065816           0.006944          0.356573   \n",
       "2          0.319292          0.014405          -0.158621         -0.306192   \n",
       "\n",
       "   pacific population  total population  white population  \\\n",
       "0                 NaN               NaN               NaN   \n",
       "1                 inf          0.009728         -0.042983   \n",
       "2           -0.506494          0.087126          0.014256   \n",
       "\n",
       "   asian and pacific islander population  white and asian population  \\\n",
       "0                                    NaN                         NaN   \n",
       "1                               0.498948                    0.011621   \n",
       "2                               0.314043                    0.059013   \n",
       "\n",
       "   poc population  \n",
       "0             NaN  \n",
       "1        0.170270  \n",
       "2        0.106199  "
      ]
     },
     "execution_count": 9,
     "metadata": {},
     "output_type": "execute_result"
    }
   ],
   "source": [
    "c_change = cambridge.drop('year', axis=1).pct_change()\n",
    "b_change = boston.drop('year', axis=1).pct_change()\n",
    "c_change"
   ]
  },
  {
   "cell_type": "code",
   "execution_count": 10,
   "metadata": {
    "collapsed": false
   },
   "outputs": [
    {
     "data": {
      "text/html": [
       "<div>\n",
       "<style>\n",
       "    .dataframe thead tr:only-child th {\n",
       "        text-align: right;\n",
       "    }\n",
       "\n",
       "    .dataframe thead th {\n",
       "        text-align: left;\n",
       "    }\n",
       "\n",
       "    .dataframe tbody tr th {\n",
       "        vertical-align: top;\n",
       "    }\n",
       "</style>\n",
       "<table border=\"1\" class=\"dataframe\">\n",
       "  <thead>\n",
       "    <tr style=\"text-align: right;\">\n",
       "      <th></th>\n",
       "      <th>asian population</th>\n",
       "      <th>black population</th>\n",
       "      <th>native population</th>\n",
       "      <th>other population</th>\n",
       "      <th>pacific population</th>\n",
       "      <th>total population</th>\n",
       "      <th>white population</th>\n",
       "      <th>asian and pacific islander population</th>\n",
       "      <th>white and asian population</th>\n",
       "      <th>poc population</th>\n",
       "    </tr>\n",
       "  </thead>\n",
       "  <tbody>\n",
       "    <tr>\n",
       "      <th>0</th>\n",
       "      <td>NaN</td>\n",
       "      <td>NaN</td>\n",
       "      <td>NaN</td>\n",
       "      <td>NaN</td>\n",
       "      <td>NaN</td>\n",
       "      <td>NaN</td>\n",
       "      <td>NaN</td>\n",
       "      <td>NaN</td>\n",
       "      <td>NaN</td>\n",
       "      <td>NaN</td>\n",
       "    </tr>\n",
       "    <tr>\n",
       "      <th>1</th>\n",
       "      <td>NaN</td>\n",
       "      <td>NaN</td>\n",
       "      <td>NaN</td>\n",
       "      <td>NaN</td>\n",
       "      <td>NaN</td>\n",
       "      <td>NaN</td>\n",
       "      <td>NaN</td>\n",
       "      <td>NaN</td>\n",
       "      <td>NaN</td>\n",
       "      <td>NaN</td>\n",
       "    </tr>\n",
       "    <tr>\n",
       "      <th>2</th>\n",
       "      <td>0.96498</td>\n",
       "      <td>-0.052359</td>\n",
       "      <td>-0.152778</td>\n",
       "      <td>-0.058799</td>\n",
       "      <td>inf</td>\n",
       "      <td>0.097702</td>\n",
       "      <td>-0.029339</td>\n",
       "      <td>0.969682</td>\n",
       "      <td>0.071319</td>\n",
       "      <td>0.294552</td>\n",
       "    </tr>\n",
       "  </tbody>\n",
       "</table>\n",
       "</div>"
      ],
      "text/plain": [
       "   asian population  black population  native population  other population  \\\n",
       "0               NaN               NaN                NaN               NaN   \n",
       "1               NaN               NaN                NaN               NaN   \n",
       "2           0.96498         -0.052359          -0.152778         -0.058799   \n",
       "\n",
       "   pacific population  total population  white population  \\\n",
       "0                 NaN               NaN               NaN   \n",
       "1                 NaN               NaN               NaN   \n",
       "2                 inf          0.097702         -0.029339   \n",
       "\n",
       "   asian and pacific islander population  white and asian population  \\\n",
       "0                                    NaN                         NaN   \n",
       "1                                    NaN                         NaN   \n",
       "2                               0.969682                    0.071319   \n",
       "\n",
       "   poc population  \n",
       "0             NaN  \n",
       "1             NaN  \n",
       "2        0.294552  "
      ]
     },
     "execution_count": 10,
     "metadata": {},
     "output_type": "execute_result"
    }
   ],
   "source": [
    "c_change2 = cambridge.drop('year', axis=1).pct_change(periods=2)\n",
    "b_change2 = boston.drop('year', axis=1).pct_change(periods=2)\n",
    "c_change2"
   ]
  },
  {
   "cell_type": "markdown",
   "metadata": {},
   "source": [
    "Now, the data for the change in these populations (Black, Asian, non-white, and white) will be visualized."
   ]
  },
  {
   "cell_type": "code",
   "execution_count": 11,
   "metadata": {
    "collapsed": false
   },
   "outputs": [
    {
     "data": {
      "text/html": [
       "<iframe id=\"igraph\" scrolling=\"no\" style=\"border:none;\" seamless=\"seamless\" src=\"https://plot.ly/~hangulu/16.embed\" height=\"525px\" width=\"100%\"></iframe>"
      ],
      "text/plain": [
       "<plotly.tools.PlotlyDisplay object>"
      ]
     },
     "execution_count": 11,
     "metadata": {},
     "output_type": "execute_result"
    }
   ],
   "source": [
    "# Demographic changes (bars)\n",
    "trace1 = go.Bar(\n",
    "    x=['Black', 'AAPI', 'Non-White', 'White'],\n",
    "    y=[b_change2.iloc[[2]]['black population'], b_change2.iloc[[2]]['asian and pacific islander population'], b_change2.iloc[[2]]['poc population'], b_change2.iloc[[2]]['white population'], b_change2.iloc[[2]]['white and asian population']],\n",
    "    name='Boston'\n",
    ")\n",
    "trace2 = go.Bar(\n",
    "    x=['Black', 'AAPI', 'Non-White', 'White'],\n",
    "    y=[c_change2.iloc[[2]]['black population'], c_change2.iloc[[2]]['asian and pacific islander population'], c_change2.iloc[[2]]['poc population'], c_change2.iloc[[2]]['white population'], c_change2.iloc[[2]]['white and asian population']],\n",
    "    name='Cambridge'\n",
    ")\n",
    "\n",
    "data = [trace1, trace2]\n",
    "layout = go.Layout(\n",
    "    title = \"The Change In Population Demographics for Boston and Cambridge Since 1990\",\n",
    "    barmode='group'\n",
    ")\n",
    "\n",
    "fig = go.Figure(data=data, layout=layout)\n",
    "py.iplot(fig, filename='demographic_changes')"
   ]
  },
  {
   "cell_type": "markdown",
   "metadata": {},
   "source": [
    "Define a function to be used to perform linear regression."
   ]
  },
  {
   "cell_type": "code",
   "execution_count": 12,
   "metadata": {
    "collapsed": true
   },
   "outputs": [],
   "source": [
    "def fitter(x, y, regr_x):\n",
    "    \"\"\"\n",
    "    Use linear regression to make a best fit line for a set of data.\n",
    "    Args:\n",
    "        x (numpy array): The independent variable.\n",
    "        y (numpy array): The dependent variable.\n",
    "        regr_x (numpy array): The array used to extrapolate the regression.\n",
    "    \"\"\"\n",
    "    slope, intercept, r_value, p_value, std_err = stats.linregress(x, y)\n",
    "    return (slope * regr_x + intercept)"
   ]
  },
  {
   "cell_type": "code",
   "execution_count": 35,
   "metadata": {
    "collapsed": false
   },
   "outputs": [
    {
     "data": {
      "text/html": [
       "<iframe id=\"igraph\" scrolling=\"no\" style=\"border:none;\" seamless=\"seamless\" src=\"https://plot.ly/~hangulu/18.embed\" height=\"525px\" width=\"100%\"></iframe>"
      ],
      "text/plain": [
       "<plotly.tools.PlotlyDisplay object>"
      ]
     },
     "execution_count": 35,
     "metadata": {},
     "output_type": "execute_result"
    }
   ],
   "source": [
    "# Demographic changes in Boston\n",
    "\n",
    "years = pd.to_numeric(boston['year']).as_matrix()\n",
    "regr = np.arange(1990, 2019)\n",
    "\n",
    "y0 = boston['black population'].as_matrix()\n",
    "y1 = boston['asian population'].as_matrix()\n",
    "y2 = boston['poc population'].as_matrix()\n",
    "y3 = boston['white population'].as_matrix()\n",
    "y4 = boston['white and asian population'].as_matrix()\n",
    "\n",
    "\n",
    "# Generate linear fits\n",
    "line0 = fitter(years, y0, regr)\n",
    "line1 = fitter(years, y1, regr)\n",
    "line2 = fitter(years, y2, regr)\n",
    "line3 = fitter(years, y3, regr)\n",
    "line4 = fitter(years, y4, regr)\n",
    "\n",
    "trace0 = go.Scatter(\n",
    "            x = years,\n",
    "            y = y0,\n",
    "            name='Black',\n",
    "            mode='markers',\n",
    "            marker=go.Marker(color='rgb(255, 63, 52)')\n",
    "        )\n",
    "fit0 = go.Scatter(\n",
    "                  x = regr,\n",
    "                  y = line0,\n",
    "                  mode='lines',\n",
    "                  marker=go.Marker(color='rgb(255, 63, 52)'),\n",
    "                  name='Black Fit'\n",
    "                  )\n",
    "trace1 = go.Scatter(\n",
    "            x = years,\n",
    "            y = y1,\n",
    "            name='Asian',\n",
    "            mode='markers',\n",
    "            marker=go.Marker(color='rgb(5, 196, 107)')\n",
    "        )\n",
    "fit1 = go.Scatter(\n",
    "                  x = regr,\n",
    "                  y = line1,\n",
    "                  mode='lines',\n",
    "                  marker=go.Marker(color='rgb(5, 196, 107)'),\n",
    "                  name='Asian Fit'\n",
    "                  )\n",
    "trace2 = go.Scatter(\n",
    "            x = years,\n",
    "            y = y2,\n",
    "            name='Non-White',\n",
    "            mode='markers',\n",
    "            marker=go.Marker(color='rgb(60, 64, 198)')\n",
    "        )\n",
    "fit2 = go.Scatter(\n",
    "                  x = regr,\n",
    "                  y = line2,\n",
    "                  mode='lines',\n",
    "                  marker=go.Marker(color='rgb(60, 64, 198)'),\n",
    "                  name='Non-White Fit'\n",
    "                  )\n",
    "trace3 = go.Scatter(\n",
    "            x = years,\n",
    "            y = y3,\n",
    "            name='White',\n",
    "            mode='markers',\n",
    "            marker=go.Marker(color='rgb(255, 221, 89)'),\n",
    "        )\n",
    "fit3 = go.Scatter(\n",
    "                  x = regr,\n",
    "                  y = line3,\n",
    "                  mode='lines',\n",
    "                  marker=go.Marker(color='rgb(255, 221, 89)'),\n",
    "                  name='White Fit'\n",
    "                  )\n",
    "trace4 = go.Scatter(\n",
    "            x = years,\n",
    "            y = y4,\n",
    "            name='White and Asian',\n",
    "            mode='markers',\n",
    "            marker=go.Marker(color='rgb(52, 231, 228)'),\n",
    "        )\n",
    "fit4 = go.Scatter(\n",
    "                  x = regr,\n",
    "                  y = line4,\n",
    "                  mode='lines',\n",
    "                  marker=go.Marker(color='rgb(52, 231, 228)'),\n",
    "                  name='White and Asian Fit'\n",
    "                  )\n",
    "data = [trace0, trace1, trace2, trace3, trace4, fit0, fit1, fit2, fit3, fit4]\n",
    "\n",
    "# Create dictionaries of the demographic estimates for later use.\n",
    "c_black = dict(zip(regr.T, line0.T))\n",
    "c_asian = dict(zip(regr.T, line1.T))\n",
    "c_poc = dict(zip(regr.T, line2.T))\n",
    "c_white = dict(zip(regr.T, line3.T))\n",
    "c_whasian = dict(zip(regr.T, line4.T))\n",
    "\n",
    "layout = go.Layout(\n",
    "            title = \"The Change In Population Demographics for Boston Since 1990\",\n",
    "            yaxis=dict(\n",
    "                title='Population Levels'\n",
    "            ),\n",
    "            xaxis=dict(\n",
    "                title='Year')\n",
    "        )\n",
    "\n",
    "fig = go.Figure(data=data, layout=layout)\n",
    "py.iplot(fig, filename='demographic_changes_line')"
   ]
  },
  {
   "cell_type": "code",
   "execution_count": 36,
   "metadata": {
    "collapsed": false
   },
   "outputs": [
    {
     "data": {
      "text/html": [
       "<iframe id=\"igraph\" scrolling=\"no\" style=\"border:none;\" seamless=\"seamless\" src=\"https://plot.ly/~hangulu/20.embed\" height=\"525px\" width=\"100%\"></iframe>"
      ],
      "text/plain": [
       "<plotly.tools.PlotlyDisplay object>"
      ]
     },
     "execution_count": 36,
     "metadata": {},
     "output_type": "execute_result"
    }
   ],
   "source": [
    "# Demographic changes in Cambridge\n",
    "\n",
    "years = pd.to_numeric(cambridge['year']).as_matrix()\n",
    "regr = np.arange(1990, 2019)\n",
    "\n",
    "y0 = cambridge['black population'].as_matrix()\n",
    "y1 = cambridge['asian population'].as_matrix()\n",
    "y2 = cambridge['poc population'].as_matrix()\n",
    "y3 = cambridge['white population'].as_matrix()\n",
    "y4 = cambridge['white and asian population'].as_matrix()\n",
    "\n",
    "\n",
    "# Generate linear fits\n",
    "line0 = fitter(years, y0, regr)\n",
    "line1 = fitter(years, y1, regr)\n",
    "line2 = fitter(years, y2, regr)\n",
    "line3 = fitter(years, y3, regr)\n",
    "line4 = fitter(years, y4, regr)\n",
    "\n",
    "trace0 = go.Scatter(\n",
    "            x = years,\n",
    "            y = y0,\n",
    "            name='Black',\n",
    "            mode='markers',\n",
    "            marker=go.Marker(color='rgb(255, 63, 52)')\n",
    "        )\n",
    "fit0 = go.Scatter(\n",
    "                  x = regr,\n",
    "                  y = line0,\n",
    "                  mode='lines',\n",
    "                  marker=go.Marker(color='rgb(255, 63, 52)'),\n",
    "                  name='Black Fit'\n",
    "                  )\n",
    "trace1 = go.Scatter(\n",
    "            x = years,\n",
    "            y = y1,\n",
    "            name='Asian',\n",
    "            mode='markers',\n",
    "            marker=go.Marker(color='rgb(5, 196, 107)')\n",
    "        )\n",
    "fit1 = go.Scatter(\n",
    "                  x = regr,\n",
    "                  y = line1,\n",
    "                  mode='lines',\n",
    "                  marker=go.Marker(color='rgb(5, 196, 107)'),\n",
    "                  name='Asian Fit'\n",
    "                  )\n",
    "trace2 = go.Scatter(\n",
    "            x = years,\n",
    "            y = y2,\n",
    "            name='Non-White',\n",
    "            mode='markers',\n",
    "            marker=go.Marker(color='rgb(60, 64, 198)')\n",
    "        )\n",
    "fit2 = go.Scatter(\n",
    "                  x = regr,\n",
    "                  y = line2,\n",
    "                  mode='lines',\n",
    "                  marker=go.Marker(color='rgb(60, 64, 198)'),\n",
    "                  name='Non-White Fit'\n",
    "                  )\n",
    "trace3 = go.Scatter(\n",
    "            x = years,\n",
    "            y = y3,\n",
    "            name='White',\n",
    "            mode='markers',\n",
    "            marker=go.Marker(color='rgb(255, 221, 89)'),\n",
    "        )\n",
    "fit3 = go.Scatter(\n",
    "                  x = regr,\n",
    "                  y = line3,\n",
    "                  mode='lines',\n",
    "                  marker=go.Marker(color='rgb(255, 221, 89)'),\n",
    "                  name='White Fit'\n",
    "                  )\n",
    "trace4 = go.Scatter(\n",
    "            x = years,\n",
    "            y = y4,\n",
    "            name='White and Asian',\n",
    "            mode='markers',\n",
    "            marker=go.Marker(color='rgb(52, 231, 228)'),\n",
    "        )\n",
    "fit4 = go.Scatter(\n",
    "                  x = regr,\n",
    "                  y = line4,\n",
    "                  mode='lines',\n",
    "                  marker=go.Marker(color='rgb(52, 231, 228)'),\n",
    "                  name='White and Asian Fit'\n",
    "                  )\n",
    "data = [trace0, trace1, trace2, trace3, trace4, fit0, fit1, fit2, fit3, fit4]\n",
    "\n",
    "# Create dictionaries of the demographic estimates for later use.\n",
    "b_black = dict(zip(regr.T, line0.T))\n",
    "b_asian = dict(zip(regr.T, line1.T))\n",
    "b_poc = dict(zip(regr.T, line2.T))\n",
    "b_white = dict(zip(regr.T, line3.T))\n",
    "b_whasian = dict(zip(regr.T, line4.T))\n",
    "\n",
    "layout = go.Layout(\n",
    "            title = \"The Change In Population Demographics for Cambridge Since 1990\",\n",
    "            yaxis=dict(\n",
    "                title='Population Levels'\n",
    "            ),\n",
    "            xaxis=dict(\n",
    "                title='Year')\n",
    "        )\n",
    "\n",
    "fig = go.Figure(data=data, layout=layout)\n",
    "py.iplot(fig, filename='cam_demographic_changes_line')"
   ]
  },
  {
   "cell_type": "markdown",
   "metadata": {},
   "source": [
    "The following is summary data for the above operations. The dataframe contains the estimates for all of the years and demographics."
   ]
  },
  {
   "cell_type": "code",
   "execution_count": 68,
   "metadata": {
    "collapsed": false
   },
   "outputs": [],
   "source": [
    "boston_demdata = [b_black, b_asian, b_poc, b_white, b_whasian]\n",
    "cambridge_demdata = [c_black, c_asian, c_poc, c_white, c_whasian]\n",
    "\n",
    "popdata = pd.DataFrame(boston_demdata).T\n",
    "popdata2 = pd.DataFrame(cambridge_demdata).T\n",
    "\n",
    "popdata.reset_index(inplace=True)\n",
    "popdata2.reset_index(inplace=True)\n",
    "popdata2.drop('index', axis=1, inplace=True)\n",
    "\n",
    "popdata.columns = ['year', 'b_black', 'b_asian', 'b_poc', 'b_white', 'b_white and asian']\n",
    "popdata2.columns = ['c_black', 'c_asian', 'c_poc', 'c_white', 'c_white and asian']\n",
    "\n",
    "popdata = pd.concat([popdata, popdata2], axis=1, join_axes=[popdata.index])"
   ]
  },
  {
   "cell_type": "markdown",
   "metadata": {},
   "source": [
    "## Analyzing Monetary Data\n",
    "Income levels, rent, housing prices."
   ]
  },
  {
   "cell_type": "markdown",
   "metadata": {},
   "source": [
    "The housing in Cambridge was primarily built before 1939 ( 50.99%), making the housing stock in Cambridge some of the oldest overall in America, although there is a range of ages of homes in Cambridge. The next most important housing age is between 1970-1999 ( 20.24%), followed by between 1940-1969 ( 18.47%). There's also some housing in Cambridge built between 2000 and later ( 10.31%).\n",
    "\n",
    "In the last 10 years, Cambridge has experienced some of the highest home appreciation rates of any community in the nation. Cambridge real estate appreciated 62.57% over the last ten years, which is an average annual home appreciation rate of 4.98%, putting Cambridge in the top 10% nationally for real estate appreciation. If you are a home buyer or real estate investor, Cambridge definitely has a track record of being one of the best long term real estate investments in America through the last ten years.\n",
    "\n",
    "Appreciation rates are so strong in Cambridge that despite a nationwide downturn in the housing market, Cambridge real estate has continued to appreciate in value faster than most communities. Looking at just the latest twelve months, Cambridge appreciation rates continue to be some of the highest in America, at 9.83%, which is higher than appreciation rates in 89.78% of the cities and towns in the nation. Based on the last twelve months, short-term real estate investors have found good fortune in Cambridge. Cambridge appreciation rates in the latest quarter were at 1.75%, which equates to an annual appreciation rate of 7.19%.\n",
    "\n",
    "– https://www.neighborhoodscout.com/ma/cambridge/real-estate\n",
    "\n",
    "**These are the median income, housing sales prices, and rent prices in Cambridge and Boston.**"
   ]
  },
  {
   "cell_type": "markdown",
   "metadata": {},
   "source": [
    "### Cambridge Data"
   ]
  },
  {
   "cell_type": "code",
   "execution_count": 15,
   "metadata": {
    "collapsed": false
   },
   "outputs": [],
   "source": [
    "# http://www.deptofnumbers.com/income/massachusetts/boston/\n",
    "c_income2010 = 64865\n",
    "c_income2000 = 47979\n",
    "c_income1990 = 33140\n",
    "\n",
    "# http://www.cambridgema.gov/CDD/factsandmaps/demographicfaq\n",
    "c_house2010 = 739800\n",
    "# https://www.trulia.com/real_estate/Cambridge-Massachusetts/market-trends/\n",
    "c_house2000 = 297000\n",
    "\n",
    "# http://www.cambridgema.gov/CDD/factsandmaps/demographicfaq\n",
    "c_rent2010 = 2348\n",
    "# https://www.cambridgema.gov/~/media/Files/CDD/FactsandMaps/profiles/demo_profile_housing_2016.ashx\n",
    "c_rent2000 = 1100"
   ]
  },
  {
   "cell_type": "markdown",
   "metadata": {},
   "source": [
    "### Boston Data"
   ]
  },
  {
   "cell_type": "code",
   "execution_count": 16,
   "metadata": {
    "collapsed": true
   },
   "outputs": [],
   "source": [
    "# http://www.deptofnumbers.com/income/massachusetts/boston/\n",
    "b_income2010 = 55777\n",
    "b_income2000 = 39629\n",
    "b_income1990 = 12350\n",
    "\n",
    "# https://www.trulia.com/real_estate/Boston-Massachusetts/market-trends/\n",
    "b_house2010 = 575000\n",
    "b_house2000 = 190000\n",
    "\n",
    "# http://www.deptofnumbers.com/rent/massachusetts/boston/\n",
    "b_rent2010 = 1316\n",
    "# https://www.census.gov/hhes/www/housing/census/historic/grossrents.html\n",
    "b_rent2000 = 684"
   ]
  },
  {
   "cell_type": "markdown",
   "metadata": {},
   "source": [
    "#### Comparison Graphs\n",
    "The following graphs compare the median income of, housing prices in, and rent in the two cities. Since there is missing data for the housing prices and rent, a linear fit was used for estimates."
   ]
  },
  {
   "cell_type": "code",
   "execution_count": 17,
   "metadata": {
    "collapsed": false
   },
   "outputs": [
    {
     "data": {
      "text/html": [
       "<iframe id=\"igraph\" scrolling=\"no\" style=\"border:none;\" seamless=\"seamless\" src=\"https://plot.ly/~hangulu/22.embed\" height=\"525px\" width=\"100%\"></iframe>"
      ],
      "text/plain": [
       "<plotly.tools.PlotlyDisplay object>"
      ]
     },
     "execution_count": 17,
     "metadata": {},
     "output_type": "execute_result"
    }
   ],
   "source": [
    "# Income Graphs\n",
    "years = np.asarray([1990, 2000, 2010])\n",
    "regr = np.arange(1990, 2019)\n",
    "y0 = np.asarray([c_income1990, c_income2000, c_income2010])\n",
    "y1 = np.asarray([b_income1990, b_income2000, b_income2010])\n",
    "\n",
    "\n",
    "# Generate linear fits\n",
    "# Cambridge\n",
    "line0 = fitter(years, y0, regr)\n",
    "\n",
    "# Boston\n",
    "line1 = fitter(years, y1, regr)\n",
    "\n",
    "\n",
    "trace0 = go.Scatter(\n",
    "            x = years,\n",
    "            y = y0,\n",
    "            mode = 'markers',\n",
    "            name='Cambridge',\n",
    "            marker=go.Marker(color='rgb(255, 127, 14)')\n",
    "        )\n",
    "fit0 = go.Scatter(\n",
    "                  x = regr,\n",
    "                  y = line0,\n",
    "                  mode='lines',\n",
    "                  marker=go.Marker(color='rgb(30, 55, 153)'),\n",
    "                  name='Cambridge Fit'\n",
    "                  )\n",
    "trace1 = go.Scatter(\n",
    "            x = years,\n",
    "            y = y1,\n",
    "            mode = 'markers',\n",
    "            name='Boston',\n",
    "            marker=go.Marker(color='rgb(235, 47, 6)')\n",
    "        )\n",
    "fit1 = go.Scatter(\n",
    "                  x = regr,\n",
    "                  y = line1,\n",
    "                  mode='lines',\n",
    "                  marker=go.Marker(color='rgb(120, 224, 143)'),\n",
    "                  name='Boston Fit'\n",
    "                  )\n",
    "data = [trace0, trace1, fit0, fit1]\n",
    "\n",
    "# Create dictionaries of the income estimates for later use.\n",
    "cambridge_income = dict(zip(regr.T, line0.T))\n",
    "boston_income = dict(zip(regr.T, line1.T))\n",
    "\n",
    "layout = go.Layout(\n",
    "            title = \"The Change In Median Income of Cambridge and Boston Residents Since 1990\",\n",
    "            yaxis=dict(\n",
    "                title='Median Income ($)'\n",
    "            ),\n",
    "            xaxis=dict(\n",
    "                title='Year')\n",
    "        )\n",
    "\n",
    "fig = go.Figure(data=data, layout=layout)\n",
    "py.iplot(fig, filename='city_income')"
   ]
  },
  {
   "cell_type": "code",
   "execution_count": 18,
   "metadata": {
    "collapsed": false
   },
   "outputs": [
    {
     "data": {
      "text/html": [
       "<iframe id=\"igraph\" scrolling=\"no\" style=\"border:none;\" seamless=\"seamless\" src=\"https://plot.ly/~hangulu/26.embed\" height=\"525px\" width=\"100%\"></iframe>"
      ],
      "text/plain": [
       "<plotly.tools.PlotlyDisplay object>"
      ]
     },
     "execution_count": 18,
     "metadata": {},
     "output_type": "execute_result"
    }
   ],
   "source": [
    "# Housing Price Graphs\n",
    "years = np.asarray([2000, 2010])\n",
    "regr = np.arange(1997, 2019)\n",
    "y0 = np.asarray([c_house2000, c_house2010])\n",
    "y1 = np.asarray([b_house2000, b_house2010])\n",
    "\n",
    "\n",
    "# Generate linear fits\n",
    "# Cambridge\n",
    "line0 = fitter(years, y0, regr)\n",
    "\n",
    "# Boston\n",
    "line1 = fitter(years, y1, regr)\n",
    "\n",
    "\n",
    "trace0 = go.Scatter(\n",
    "            x = years,\n",
    "            y = y0,\n",
    "            mode = 'markers',\n",
    "            name='Cambridge',\n",
    "            marker=go.Marker(color='rgb(255, 127, 14)')\n",
    "        )\n",
    "fit0 = go.Scatter(\n",
    "                  x = regr,\n",
    "                  y = line0,\n",
    "                  mode='lines',\n",
    "                  marker=go.Marker(color='rgb(30, 55, 153)'),\n",
    "                  name='Cambridge Fit'\n",
    "                  )\n",
    "trace1 = go.Scatter(\n",
    "            x = years,\n",
    "            y = y1,\n",
    "            mode = 'markers',\n",
    "            name='Boston',\n",
    "            marker=go.Marker(color='rgb(235, 47, 6)')\n",
    "        )\n",
    "fit1 = go.Scatter(\n",
    "                  x = regr,\n",
    "                  y = line1,\n",
    "                  mode='lines',\n",
    "                  marker=go.Marker(color='rgb(120, 224, 143)'),\n",
    "                  name='Boston Fit'\n",
    "                  )\n",
    "data = [trace0, trace1, fit0, fit1]\n",
    "\n",
    "# Create dictionaries of the income estimates for later use.\n",
    "cambridge_houses = dict(zip(regr.T, line0.T))\n",
    "boston_houses = dict(zip(regr.T, line1.T))\n",
    "\n",
    "layout = go.Layout(\n",
    "            title = \"The Change In Housing Prices in Cambridge and Boston Since 2000\",\n",
    "            yaxis=dict(\n",
    "                title='Median Income ($)'\n",
    "            ),\n",
    "            xaxis=dict(\n",
    "                title='Year')\n",
    "        )\n",
    "\n",
    "fig = go.Figure(data=data, layout=layout)\n",
    "py.iplot(fig, filename='city_housing')"
   ]
  },
  {
   "cell_type": "code",
   "execution_count": 19,
   "metadata": {
    "collapsed": false
   },
   "outputs": [
    {
     "data": {
      "text/html": [
       "<iframe id=\"igraph\" scrolling=\"no\" style=\"border:none;\" seamless=\"seamless\" src=\"https://plot.ly/~hangulu/28.embed\" height=\"525px\" width=\"100%\"></iframe>"
      ],
      "text/plain": [
       "<plotly.tools.PlotlyDisplay object>"
      ]
     },
     "execution_count": 19,
     "metadata": {},
     "output_type": "execute_result"
    }
   ],
   "source": [
    "# Housing Price Graphs\n",
    "years = np.asarray([2000, 2010])\n",
    "regr = np.arange(1997, 2019)\n",
    "y0 = np.asarray([c_rent2000, c_rent2010])\n",
    "y1 = np.asarray([b_rent2000, b_rent2010])\n",
    "\n",
    "\n",
    "# Generate linear fits\n",
    "# Cambridge\n",
    "line0 = fitter(years, y0, regr)\n",
    "\n",
    "# Boston\n",
    "line1 = fitter(years, y1, regr)\n",
    "\n",
    "\n",
    "trace0 = go.Scatter(\n",
    "            x = years,\n",
    "            y = y0,\n",
    "            mode = 'markers',\n",
    "            name='Cambridge',\n",
    "            marker=go.Marker(color='rgb(255, 127, 14)')\n",
    "        )\n",
    "fit0 = go.Scatter(\n",
    "                  x = regr,\n",
    "                  y = line0,\n",
    "                  mode='lines',\n",
    "                  marker=go.Marker(color='rgb(30, 55, 153)'),\n",
    "                  name='Cambridge Fit'\n",
    "                  )\n",
    "trace1 = go.Scatter(\n",
    "            x = years,\n",
    "            y = y1,\n",
    "            mode = 'markers',\n",
    "            name='Boston',\n",
    "            marker=go.Marker(color='rgb(235, 47, 6)')\n",
    "        )\n",
    "fit1 = go.Scatter(\n",
    "                  x = regr,\n",
    "                  y = line1,\n",
    "                  mode='lines',\n",
    "                  marker=go.Marker(color='rgb(120, 224, 143)'),\n",
    "                  name='Boston Fit'\n",
    "                  )\n",
    "data = [trace0, trace1, fit0, fit1]\n",
    "\n",
    "# Create dictionaries of the income estimates for later use.\n",
    "cambridge_rent = dict(zip(regr.T, line0.T))\n",
    "boston_rent = dict(zip(regr.T, line1.T))\n",
    "\n",
    "layout = go.Layout(\n",
    "            title = \"The Change In Rent in Cambridge and Boston Since 2000\",\n",
    "            yaxis=dict(\n",
    "                title='Median Income ($)'\n",
    "            ),\n",
    "            xaxis=dict(\n",
    "                title='Year')\n",
    "        )\n",
    "\n",
    "fig = go.Figure(data=data, layout=layout)\n",
    "py.iplot(fig, filename='city_rent')"
   ]
  },
  {
   "cell_type": "markdown",
   "metadata": {},
   "source": [
    "The following is summary data for the above operations. The dataframes contain the estimates for all of the years and incomes/housing prices/rent."
   ]
  },
  {
   "cell_type": "code",
   "execution_count": 71,
   "metadata": {
    "collapsed": false
   },
   "outputs": [],
   "source": [
    "city_income = [boston_income, cambridge_income]\n",
    "city_housing = [boston_houses, cambridge_houses]\n",
    "city_rent = [boston_rent, cambridge_rent]\n",
    "\n",
    "income_data = pd.DataFrame(city_income).T\n",
    "housing_data = pd.DataFrame(city_housing).T\n",
    "rent_data = pd.DataFrame(city_rent).T\n",
    "\n",
    "income_data.reset_index(inplace=True)\n",
    "housing_data.reset_index(inplace=True)\n",
    "rent_data.reset_index(inplace=True)\n",
    "\n",
    "income_data.columns = ['year', 'boston', 'cambridge']\n",
    "housing_data.columns = ['year', 'boston', 'cambridge']\n",
    "rent_data.columns = ['year', 'boston', 'cambridge']\n",
    "money_data = [income_data, housing_data, rent_data]"
   ]
  },
  {
   "cell_type": "markdown",
   "metadata": {},
   "source": [
    "Save the data for use in another notebook."
   ]
  },
  {
   "cell_type": "code",
   "execution_count": 72,
   "metadata": {
    "collapsed": true
   },
   "outputs": [],
   "source": [
    "with open('VariableData/money_data.pickle', 'wb') as f:\n",
    "    pickle.dump(money_data, f)\n",
    "with open('VariableData/demographic_data.pickle', 'wb') as f:\n",
    "    pickle.dump(popdata, f)"
   ]
  },
  {
   "cell_type": "code",
   "execution_count": null,
   "metadata": {
    "collapsed": true
   },
   "outputs": [],
   "source": []
  }
 ],
 "metadata": {
  "kernelspec": {
   "display_name": "Python 3",
   "language": "python",
   "name": "python3"
  },
  "language_info": {
   "codemirror_mode": {
    "name": "ipython",
    "version": 3
   },
   "file_extension": ".py",
   "mimetype": "text/x-python",
   "name": "python",
   "nbconvert_exporter": "python",
   "pygments_lexer": "ipython3",
   "version": "3.6.0"
  },
  "varInspector": {
   "cols": {
    "lenName": 16,
    "lenType": 16,
    "lenVar": 40
   },
   "kernels_config": {
    "python": {
     "delete_cmd_postfix": "",
     "delete_cmd_prefix": "del ",
     "library": "var_list.py",
     "varRefreshCmd": "print(var_dic_list())"
    },
    "r": {
     "delete_cmd_postfix": ") ",
     "delete_cmd_prefix": "rm(",
     "library": "var_list.r",
     "varRefreshCmd": "cat(var_dic_list()) "
    }
   },
   "types_to_exclude": [
    "module",
    "function",
    "builtin_function_or_method",
    "instance",
    "_Feature"
   ],
   "window_display": false
  }
 },
 "nbformat": 4,
 "nbformat_minor": 2
}
