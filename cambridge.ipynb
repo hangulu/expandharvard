{
 "cells": [
  {
   "cell_type": "markdown",
   "metadata": {},
   "source": [
    "## Data for the City of Cambridge\n",
    "This document analyzes data available about the City of Cambridge from the 2010 and 2000 censuses. "
   ]
  },
  {
   "cell_type": "code",
   "execution_count": 1,
   "metadata": {
    "collapsed": true
   },
   "outputs": [],
   "source": [
    "import numpy as np\n",
    "import pandas as pd\n",
    "import math"
   ]
  },
  {
   "cell_type": "code",
   "execution_count": 2,
   "metadata": {
    "collapsed": true
   },
   "outputs": [],
   "source": [
    "import matplotlib.pyplot as plt\n",
    "import plotly\n",
    "import plotly.plotly as py\n",
    "import plotly.graph_objs as go"
   ]
  },
  {
   "cell_type": "code",
   "execution_count": 3,
   "metadata": {
    "collapsed": false
   },
   "outputs": [
    {
     "data": {
      "text/html": [
       "<div>\n",
       "<style>\n",
       "    .dataframe thead tr:only-child th {\n",
       "        text-align: right;\n",
       "    }\n",
       "\n",
       "    .dataframe thead th {\n",
       "        text-align: left;\n",
       "    }\n",
       "\n",
       "    .dataframe tbody tr th {\n",
       "        vertical-align: top;\n",
       "    }\n",
       "</style>\n",
       "<table border=\"1\" class=\"dataframe\">\n",
       "  <thead>\n",
       "    <tr style=\"text-align: right;\">\n",
       "      <th></th>\n",
       "      <th>_18_24</th>\n",
       "      <th>_25_34</th>\n",
       "      <th>_35_44</th>\n",
       "      <th>_45_54</th>\n",
       "      <th>_55_64</th>\n",
       "      <th>_5_to_17</th>\n",
       "      <th>_65</th>\n",
       "      <th>age_18_to_24_yrs</th>\n",
       "      <th>age_18_yrs</th>\n",
       "      <th>age_25_to_34_yrs</th>\n",
       "      <th>...</th>\n",
       "      <th>total_population</th>\n",
       "      <th>total_units</th>\n",
       "      <th>under_5</th>\n",
       "      <th>unit_density</th>\n",
       "      <th>units_of_city_total</th>\n",
       "      <th>unmarried_women_w_o_kids</th>\n",
       "      <th>vacant_occupied_units</th>\n",
       "      <th>vacant_units</th>\n",
       "      <th>white</th>\n",
       "      <th>white_population</th>\n",
       "    </tr>\n",
       "  </thead>\n",
       "  <tbody>\n",
       "    <tr>\n",
       "      <th>0</th>\n",
       "      <td>21855</td>\n",
       "      <td>30166</td>\n",
       "      <td>12543</td>\n",
       "      <td>9338</td>\n",
       "      <td>9244</td>\n",
       "      <td>7502</td>\n",
       "      <td>200338</td>\n",
       "      <td>0.208</td>\n",
       "      <td>0.114</td>\n",
       "      <td>0.287</td>\n",
       "      <td>...</td>\n",
       "      <td>105162</td>\n",
       "      <td>47291</td>\n",
       "      <td>4526</td>\n",
       "      <td>11.6</td>\n",
       "      <td>1.0</td>\n",
       "      <td>1497</td>\n",
       "      <td>0.069</td>\n",
       "      <td>3259</td>\n",
       "      <td>0.666</td>\n",
       "      <td>70006</td>\n",
       "    </tr>\n",
       "  </tbody>\n",
       "</table>\n",
       "<p>1 rows × 74 columns</p>\n",
       "</div>"
      ],
      "text/plain": [
       "   _18_24  _25_34  _35_44  _45_54  _55_64  _5_to_17     _65  age_18_to_24_yrs  \\\n",
       "0   21855   30166   12543    9338    9244      7502  200338             0.208   \n",
       "\n",
       "   age_18_yrs  age_25_to_34_yrs        ...         total_population  \\\n",
       "0       0.114             0.287        ...                   105162   \n",
       "\n",
       "   total_units  under_5  unit_density  units_of_city_total  \\\n",
       "0        47291     4526          11.6                  1.0   \n",
       "\n",
       "   unmarried_women_w_o_kids  vacant_occupied_units  vacant_units  white  \\\n",
       "0                      1497                  0.069          3259  0.666   \n",
       "\n",
       "   white_population  \n",
       "0             70006  \n",
       "\n",
       "[1 rows x 74 columns]"
      ]
     },
     "execution_count": 3,
     "metadata": {},
     "output_type": "execute_result"
    }
   ],
   "source": [
    "census2010 = pd.read_json('https://data.cambridgema.gov/resource/phr4-6r29.json')\n",
    "cambridge = census2010[census2010['neighborhood_1'] == 'City of Cambridge']\n",
    "cambridge"
   ]
  },
  {
   "cell_type": "markdown",
   "metadata": {},
   "source": [
    "Distill the data into dataframes for demographic information."
   ]
  },
  {
   "cell_type": "code",
   "execution_count": 4,
   "metadata": {
    "collapsed": false
   },
   "outputs": [
    {
     "data": {
      "text/plain": [
       "0    0.665697\n",
       "dtype: float64"
      ]
     },
     "execution_count": 4,
     "metadata": {},
     "output_type": "execute_result"
    }
   ],
   "source": [
    "black = cambridge['black_population']\n",
    "asian = cambridge['asian_population']\n",
    "hispanic = cambridge['hispanic_population']\n",
    "white = cambridge['white_population']\n",
    "total_pop = cambridge['total_population']\n",
    "white/total_pop"
   ]
  },
  {
   "cell_type": "code",
   "execution_count": 5,
   "metadata": {
    "collapsed": false
   },
   "outputs": [
    {
     "data": {
      "text/html": [
       "<div>\n",
       "<style>\n",
       "    .dataframe thead tr:only-child th {\n",
       "        text-align: right;\n",
       "    }\n",
       "\n",
       "    .dataframe thead th {\n",
       "        text-align: left;\n",
       "    }\n",
       "\n",
       "    .dataframe tbody tr th {\n",
       "        vertical-align: top;\n",
       "    }\n",
       "</style>\n",
       "<table border=\"1\" class=\"dataframe\">\n",
       "  <thead>\n",
       "    <tr style=\"text-align: right;\">\n",
       "      <th></th>\n",
       "      <th>_1980_2010_change_in_units</th>\n",
       "      <th>_1980_owner_occupied</th>\n",
       "      <th>_1980_owner_occupied_units</th>\n",
       "      <th>_1980_owner_occupied_units_as_of_city_total</th>\n",
       "      <th>_1980_renter_occupied_units</th>\n",
       "      <th>_1980_renter_occupied_units_2</th>\n",
       "      <th>_1990_2000_change</th>\n",
       "      <th>_1990_owner_occupied</th>\n",
       "      <th>_1990_owner_occupied_units</th>\n",
       "      <th>_1990_owner_occupied_units_as_of_city_total</th>\n",
       "      <th>...</th>\n",
       "      <th>neighborhood_1</th>\n",
       "      <th>neighborhood_2</th>\n",
       "      <th>population_1980</th>\n",
       "      <th>population_1980_of_city_total</th>\n",
       "      <th>population_1990</th>\n",
       "      <th>population_1990_of_city_total</th>\n",
       "      <th>population_2000</th>\n",
       "      <th>population_2000_of_city_total</th>\n",
       "      <th>population_2010</th>\n",
       "      <th>population_2010_of_city_total</th>\n",
       "    </tr>\n",
       "  </thead>\n",
       "  <tbody>\n",
       "    <tr>\n",
       "      <th>0</th>\n",
       "      <td>5991</td>\n",
       "      <td>0.2152</td>\n",
       "      <td>8889</td>\n",
       "      <td>1.0000</td>\n",
       "      <td>29947</td>\n",
       "      <td>0.7251</td>\n",
       "      <td>9840</td>\n",
       "      <td>0.2849</td>\n",
       "      <td>11959</td>\n",
       "      <td>1.0000</td>\n",
       "      <td>...</td>\n",
       "      <td>City of Cambridge</td>\n",
       "      <td>100</td>\n",
       "      <td>95322</td>\n",
       "      <td>1.0000</td>\n",
       "      <td>95802</td>\n",
       "      <td>1.0000</td>\n",
       "      <td>101355</td>\n",
       "      <td>1.0000</td>\n",
       "      <td>105162</td>\n",
       "      <td>1.0000</td>\n",
       "    </tr>\n",
       "    <tr>\n",
       "      <th>1</th>\n",
       "      <td>3519</td>\n",
       "      <td>0.2191</td>\n",
       "      <td>530</td>\n",
       "      <td>0.0596</td>\n",
       "      <td>1769</td>\n",
       "      <td>0.7313</td>\n",
       "      <td>3854</td>\n",
       "      <td>0.2712</td>\n",
       "      <td>867</td>\n",
       "      <td>0.0725</td>\n",
       "      <td>...</td>\n",
       "      <td>East Cambridge</td>\n",
       "      <td>1</td>\n",
       "      <td>5380</td>\n",
       "      <td>0.0564</td>\n",
       "      <td>5780</td>\n",
       "      <td>0.0603</td>\n",
       "      <td>7294</td>\n",
       "      <td>0.0720</td>\n",
       "      <td>9234</td>\n",
       "      <td>0.0878</td>\n",
       "    </tr>\n",
       "    <tr>\n",
       "      <th>2</th>\n",
       "      <td>-531</td>\n",
       "      <td>0.0012</td>\n",
       "      <td>1</td>\n",
       "      <td>0.0001</td>\n",
       "      <td>853</td>\n",
       "      <td>0.9839</td>\n",
       "      <td>321</td>\n",
       "      <td>0.0000</td>\n",
       "      <td>0</td>\n",
       "      <td>0.0000</td>\n",
       "      <td>...</td>\n",
       "      <td>Area 2/MIT</td>\n",
       "      <td>2</td>\n",
       "      <td>4736</td>\n",
       "      <td>0.0497</td>\n",
       "      <td>5071</td>\n",
       "      <td>0.0529</td>\n",
       "      <td>5486</td>\n",
       "      <td>0.0541</td>\n",
       "      <td>5057</td>\n",
       "      <td>0.0481</td>\n",
       "    </tr>\n",
       "    <tr>\n",
       "      <th>3</th>\n",
       "      <td>107</td>\n",
       "      <td>0.1779</td>\n",
       "      <td>514</td>\n",
       "      <td>0.0578</td>\n",
       "      <td>2171</td>\n",
       "      <td>0.7515</td>\n",
       "      <td>-786</td>\n",
       "      <td>0.2461</td>\n",
       "      <td>719</td>\n",
       "      <td>0.0601</td>\n",
       "      <td>...</td>\n",
       "      <td>Wellington-Harrington</td>\n",
       "      <td>3</td>\n",
       "      <td>7302</td>\n",
       "      <td>0.0766</td>\n",
       "      <td>7105</td>\n",
       "      <td>0.0742</td>\n",
       "      <td>7345</td>\n",
       "      <td>0.0725</td>\n",
       "      <td>6516</td>\n",
       "      <td>0.0620</td>\n",
       "    </tr>\n",
       "    <tr>\n",
       "      <th>4</th>\n",
       "      <td>-35</td>\n",
       "      <td>0.1288</td>\n",
       "      <td>364</td>\n",
       "      <td>0.0409</td>\n",
       "      <td>2083</td>\n",
       "      <td>0.7371</td>\n",
       "      <td>260</td>\n",
       "      <td>0.1767</td>\n",
       "      <td>476</td>\n",
       "      <td>0.0398</td>\n",
       "      <td>...</td>\n",
       "      <td>Area Four</td>\n",
       "      <td>4</td>\n",
       "      <td>6532</td>\n",
       "      <td>0.0685</td>\n",
       "      <td>6886</td>\n",
       "      <td>0.0719</td>\n",
       "      <td>7263</td>\n",
       "      <td>0.0717</td>\n",
       "      <td>6792</td>\n",
       "      <td>0.0646</td>\n",
       "    </tr>\n",
       "  </tbody>\n",
       "</table>\n",
       "<p>5 rows × 42 columns</p>\n",
       "</div>"
      ],
      "text/plain": [
       "   _1980_2010_change_in_units  _1980_owner_occupied  \\\n",
       "0                        5991                0.2152   \n",
       "1                        3519                0.2191   \n",
       "2                        -531                0.0012   \n",
       "3                         107                0.1779   \n",
       "4                         -35                0.1288   \n",
       "\n",
       "   _1980_owner_occupied_units  _1980_owner_occupied_units_as_of_city_total  \\\n",
       "0                        8889                                       1.0000   \n",
       "1                         530                                       0.0596   \n",
       "2                           1                                       0.0001   \n",
       "3                         514                                       0.0578   \n",
       "4                         364                                       0.0409   \n",
       "\n",
       "   _1980_renter_occupied_units  _1980_renter_occupied_units_2  \\\n",
       "0                        29947                         0.7251   \n",
       "1                         1769                         0.7313   \n",
       "2                          853                         0.9839   \n",
       "3                         2171                         0.7515   \n",
       "4                         2083                         0.7371   \n",
       "\n",
       "   _1990_2000_change  _1990_owner_occupied  _1990_owner_occupied_units  \\\n",
       "0               9840                0.2849                       11959   \n",
       "1               3854                0.2712                         867   \n",
       "2                321                0.0000                           0   \n",
       "3               -786                0.2461                         719   \n",
       "4                260                0.1767                         476   \n",
       "\n",
       "   _1990_owner_occupied_units_as_of_city_total              ...                \\\n",
       "0                                       1.0000              ...                 \n",
       "1                                       0.0725              ...                 \n",
       "2                                       0.0000              ...                 \n",
       "3                                       0.0601              ...                 \n",
       "4                                       0.0398              ...                 \n",
       "\n",
       "          neighborhood_1  neighborhood_2  population_1980  \\\n",
       "0      City of Cambridge             100            95322   \n",
       "1         East Cambridge               1             5380   \n",
       "2             Area 2/MIT               2             4736   \n",
       "3  Wellington-Harrington               3             7302   \n",
       "4              Area Four               4             6532   \n",
       "\n",
       "   population_1980_of_city_total  population_1990  \\\n",
       "0                         1.0000            95802   \n",
       "1                         0.0564             5780   \n",
       "2                         0.0497             5071   \n",
       "3                         0.0766             7105   \n",
       "4                         0.0685             6886   \n",
       "\n",
       "   population_1990_of_city_total  population_2000  \\\n",
       "0                         1.0000           101355   \n",
       "1                         0.0603             7294   \n",
       "2                         0.0529             5486   \n",
       "3                         0.0742             7345   \n",
       "4                         0.0719             7263   \n",
       "\n",
       "   population_2000_of_city_total  population_2010  \\\n",
       "0                         1.0000           105162   \n",
       "1                         0.0720             9234   \n",
       "2                         0.0541             5057   \n",
       "3                         0.0725             6516   \n",
       "4                         0.0717             6792   \n",
       "\n",
       "   population_2010_of_city_total  \n",
       "0                         1.0000  \n",
       "1                         0.0878  \n",
       "2                         0.0481  \n",
       "3                         0.0620  \n",
       "4                         0.0646  \n",
       "\n",
       "[5 rows x 42 columns]"
      ]
     },
     "execution_count": 5,
     "metadata": {},
     "output_type": "execute_result"
    }
   ],
   "source": [
    "census = pd.read_json('https://data.cambridgema.gov/resource/mfgg-pwyw.json')\n",
    "census.head()"
   ]
  },
  {
   "cell_type": "markdown",
   "metadata": {},
   "source": [
    "Total population: P0030001\n",
    "\n",
    "White population = P0030002\n",
    "\n",
    "Black population = P0030003"
   ]
  },
  {
   "cell_type": "code",
   "execution_count": 12,
   "metadata": {
    "collapsed": false
   },
   "outputs": [
    {
     "data": {
      "text/html": [
       "<div>\n",
       "<style>\n",
       "    .dataframe thead tr:only-child th {\n",
       "        text-align: right;\n",
       "    }\n",
       "\n",
       "    .dataframe thead th {\n",
       "        text-align: left;\n",
       "    }\n",
       "\n",
       "    .dataframe tbody tr th {\n",
       "        vertical-align: top;\n",
       "    }\n",
       "</style>\n",
       "<table border=\"1\" class=\"dataframe\">\n",
       "  <thead>\n",
       "    <tr style=\"text-align: right;\">\n",
       "      <th></th>\n",
       "      <th>0</th>\n",
       "      <th>1</th>\n",
       "      <th>2</th>\n",
       "    </tr>\n",
       "  </thead>\n",
       "  <tbody>\n",
       "    <tr>\n",
       "      <th>0</th>\n",
       "      <td>P0030001</td>\n",
       "      <td>state</td>\n",
       "      <td>place</td>\n",
       "    </tr>\n",
       "    <tr>\n",
       "      <th>1</th>\n",
       "      <td>105162</td>\n",
       "      <td>25</td>\n",
       "      <td>11000</td>\n",
       "    </tr>\n",
       "  </tbody>\n",
       "</table>\n",
       "</div>"
      ],
      "text/plain": [
       "          0      1      2\n",
       "0  P0030001  state  place\n",
       "1    105162     25  11000"
      ]
     },
     "execution_count": 12,
     "metadata": {},
     "output_type": "execute_result"
    }
   ],
   "source": [
    "key = \"d923b916d08af136ade78b021cc31f162cbb2d2f\"\n",
    "test2 = pd.read_json('https://api.census.gov/data/2010/sf1?get=P0030001&in=state:25&for=place:11000&key={}'.format(key))\n",
    "test2"
   ]
  },
  {
   "cell_type": "code",
   "execution_count": null,
   "metadata": {
    "collapsed": true
   },
   "outputs": [],
   "source": [
    "H0060002\n",
    "P0010001"
   ]
  }
 ],
 "metadata": {
  "kernelspec": {
   "display_name": "Python 3",
   "language": "python",
   "name": "python3"
  },
  "language_info": {
   "codemirror_mode": {
    "name": "ipython",
    "version": 3
   },
   "file_extension": ".py",
   "mimetype": "text/x-python",
   "name": "python",
   "nbconvert_exporter": "python",
   "pygments_lexer": "ipython3",
   "version": "3.6.0"
  },
  "varInspector": {
   "cols": {
    "lenName": 16,
    "lenType": 16,
    "lenVar": 40
   },
   "kernels_config": {
    "python": {
     "delete_cmd_postfix": "",
     "delete_cmd_prefix": "del ",
     "library": "var_list.py",
     "varRefreshCmd": "print(var_dic_list())"
    },
    "r": {
     "delete_cmd_postfix": ") ",
     "delete_cmd_prefix": "rm(",
     "library": "var_list.r",
     "varRefreshCmd": "cat(var_dic_list()) "
    }
   },
   "types_to_exclude": [
    "module",
    "function",
    "builtin_function_or_method",
    "instance",
    "_Feature"
   ],
   "window_display": false
  }
 },
 "nbformat": 4,
 "nbformat_minor": 2
}
