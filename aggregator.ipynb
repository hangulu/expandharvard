{
 "cells": [
  {
   "cell_type": "code",
   "execution_count": 1,
   "metadata": {
    "collapsed": true
   },
   "outputs": [],
   "source": [
    "%matplotlib inline"
   ]
  },
  {
   "cell_type": "code",
   "execution_count": 2,
   "metadata": {
    "collapsed": false
   },
   "outputs": [],
   "source": [
    "import numpy as np\n",
    "import pandas as pd\n",
    "import math\n",
    "from scipy import stats\n",
    "import pickle\n",
    "from causality.analysis.dataframe import CausalDataFrame\n",
    "from sklearn.linear_model import LinearRegression"
   ]
  },
  {
   "cell_type": "code",
   "execution_count": 3,
   "metadata": {
    "collapsed": false
   },
   "outputs": [
    {
     "data": {
      "text/html": [
       "<script>requirejs.config({paths: { 'plotly': ['https://cdn.plot.ly/plotly-latest.min']},});if(!window.Plotly) {{require(['plotly'],function(plotly) {window.Plotly=plotly;});}}</script>"
      ],
      "text/vnd.plotly.v1+html": [
       "<script>requirejs.config({paths: { 'plotly': ['https://cdn.plot.ly/plotly-latest.min']},});if(!window.Plotly) {{require(['plotly'],function(plotly) {window.Plotly=plotly;});}}</script>"
      ]
     },
     "metadata": {},
     "output_type": "display_data"
    }
   ],
   "source": [
    "import matplotlib.pyplot as plt\n",
    "import plotly\n",
    "import plotly.graph_objs as go\n",
    "from plotly.offline import download_plotlyjs, init_notebook_mode, plot, iplot\n",
    "init_notebook_mode(connected=True)"
   ]
  },
  {
   "cell_type": "markdown",
   "metadata": {},
   "source": [
    "Open the data from past notebooks and correct them to only include years that are common between the data structures (>1999)."
   ]
  },
  {
   "cell_type": "code",
   "execution_count": 4,
   "metadata": {
    "collapsed": true
   },
   "outputs": [],
   "source": [
    "with open('VariableData/money_data.pickle', 'rb') as f:\n",
    "    income_data, housing_data, rent_data = pickle.load(f)\n",
    "with open('VariableData/demographic_data.pickle', 'rb') as f:\n",
    "    demographic_data = pickle.load(f)\n",
    "with open('VariableData/endowment.pickle', 'rb') as f:\n",
    "    endowment = pickle.load(f)\n",
    "with open('VariableData/expander.pickle', 'rb') as f:\n",
    "    expander = pickle.load(f)"
   ]
  },
  {
   "cell_type": "code",
   "execution_count": 5,
   "metadata": {
    "collapsed": false
   },
   "outputs": [],
   "source": [
    "endowment = endowment[endowment['FY'] > 1997].reset_index()\n",
    "endowment.drop('index', axis=1, inplace=True)\n",
    "\n",
    "demographic_data = demographic_data[demographic_data['year'] > 1999].reset_index()\n",
    "demographic_data.drop('index', axis=1, inplace=True)\n",
    "\n",
    "income_data = income_data[income_data['year'] > 1999].reset_index()\n",
    "income_data.drop('index', axis=1, inplace=True)\n",
    "\n",
    "housing_data = housing_data[housing_data['year'] > 1999].reset_index()\n",
    "housing_data.drop('index', axis=1, inplace=True)\n",
    "\n",
    "rent_data = rent_data[rent_data['year'] > 1999].reset_index()\n",
    "rent_data.drop('index', axis=1, inplace=True)"
   ]
  },
  {
   "cell_type": "markdown",
   "metadata": {},
   "source": [
    "Define a function to graph (and perform linear regression on) a given set of data."
   ]
  },
  {
   "cell_type": "code",
   "execution_count": 6,
   "metadata": {
    "collapsed": false
   },
   "outputs": [],
   "source": [
    "def grapher(x, y, city, title, ytitle, xtitle, filename):\n",
    "    slope, intercept, r_value, p_value, std_err = stats.linregress(x, y)\n",
    "    fit = slope * x + intercept\n",
    "\n",
    "    trace0 = go.Scatter(\n",
    "                x = x,\n",
    "                y = y,\n",
    "                mode = 'markers',\n",
    "                name=city,\n",
    "                marker=go.Marker(color='rgb(255, 127, 14)')\n",
    "            )\n",
    "    fit0 = go.Scatter(\n",
    "                      x = x,\n",
    "                      y = fit,\n",
    "                      mode='lines',\n",
    "                      marker=go.Marker(color='rgb(30, 55, 153)'),\n",
    "                      name='Fit'\n",
    "                      )\n",
    "\n",
    "    data = [trace0, fit0]\n",
    "\n",
    "    layout = go.Layout(\n",
    "                title = title,\n",
    "                yaxis=dict(\n",
    "                    title=ytitle\n",
    "                ),\n",
    "                xaxis=dict(\n",
    "                    title=xtitle)\n",
    "            )\n",
    "\n",
    "    fig = go.Figure(data=data, layout=layout)\n",
    "    return iplot(fig)"
   ]
  },
  {
   "cell_type": "markdown",
   "metadata": {},
   "source": [
    "Investigate the connection between the endowment's value and the Black population in Cambridge, controlling for rent and housing prices."
   ]
  },
  {
   "cell_type": "code",
   "execution_count": 7,
   "metadata": {
    "collapsed": false
   },
   "outputs": [],
   "source": [
    "x = pd.to_numeric(endowment['Value ($B)']).as_matrix()\n",
    "y = pd.to_numeric(demographic_data['c_black']).as_matrix()\n",
    "z1 = pd.to_numeric(rent_data['cambridge']).as_matrix()\n",
    "z2 = pd.to_numeric(housing_data['cambridge']).as_matrix()\n",
    "X  = CausalDataFrame({'x': x, 'y': y, 'z1': z1, 'z2': z2})"
   ]
  },
  {
   "cell_type": "code",
   "execution_count": 8,
   "metadata": {
    "collapsed": false
   },
   "outputs": [
    {
     "data": {
      "application/vnd.plotly.v1+json": {
       "data": [
        {
         "marker": {
          "color": "rgb(255, 127, 14)"
         },
         "mode": "markers",
         "name": "Cambridge",
         "type": "scatter",
         "uid": "6ea212",
         "x": [
          13.3,
          14.5,
          19.1,
          18.3,
          17.5,
          19.3,
          22.6,
          25.8999999999999,
          29.1999999999999,
          34.8999999999999,
          36.8999999999999,
          26.1,
          27.6,
          32,
          30.6999999999999,
          32.7,
          36.3999999999999,
          37.6,
          35.7
         ],
         "y": [
          148861.33333333334,
          149035.93333333332,
          149210.53333333335,
          149385.13333333333,
          149559.7333333333,
          149734.33333333334,
          149908.93333333332,
          150083.53333333335,
          150258.13333333333,
          150432.7333333333,
          150607.33333333334,
          150781.93333333332,
          150956.53333333335,
          151131.13333333333,
          151305.7333333333,
          151480.33333333334,
          151654.93333333332,
          151829.53333333335,
          152004.13333333333
         ]
        },
        {
         "marker": {
          "color": "rgb(30, 55, 153)"
         },
         "mode": "lines",
         "name": "Fit",
         "type": "scatter",
         "uid": "370667",
         "x": [
          13.3,
          14.5,
          19.1,
          18.3,
          17.5,
          19.3,
          22.6,
          25.8999999999999,
          29.1999999999999,
          34.8999999999999,
          36.8999999999999,
          26.1,
          27.6,
          32,
          30.6999999999999,
          32.7,
          36.3999999999999,
          37.6,
          35.7
         ],
         "y": [
          148942.702513927,
          149074.5841237192,
          149580.13029458918,
          149492.2092213944,
          149404.28814819962,
          149602.1105628879,
          149964.78498981634,
          150327.45941674482,
          150690.13384367328,
          151316.5714901861,
          151536.37417317304,
          150349.43968504353,
          150514.29169728374,
          150997.85759985502,
          150854.9858559135,
          151074.78853890047,
          151481.4235024263,
          151613.30511221848,
          151404.4925633809
         ]
        }
       ],
       "layout": {
        "autosize": true,
        "title": "The Connection Between Endowment and Black Population",
        "xaxis": {
         "autorange": true,
         "range": [
          11.797698555956678,
          39.10230144404332
         ],
         "title": "Endowment ($B)",
         "type": "linear"
        },
        "yaxis": {
         "autorange": true,
         "range": [
          148631.12823779194,
          152234.33842887473
         ],
         "title": "Black Population of Cambridge",
         "type": "linear"
        }
       }
      },
      "text/html": [
       "<div id=\"644211e1-b8a8-4b2d-944a-a9d2f31664e7\" style=\"height: 525px; width: 100%;\" class=\"plotly-graph-div\"></div><script type=\"text/javascript\">require([\"plotly\"], function(Plotly) { window.PLOTLYENV=window.PLOTLYENV || {};window.PLOTLYENV.BASE_URL=\"https://plot.ly\";Plotly.newPlot(\"644211e1-b8a8-4b2d-944a-a9d2f31664e7\", [{\"type\": \"scatter\", \"x\": [13.3, 14.5, 19.1, 18.3, 17.5, 19.3, 22.6, 25.8999999999999, 29.1999999999999, 34.8999999999999, 36.8999999999999, 26.1, 27.6, 32.0, 30.6999999999999, 32.7, 36.3999999999999, 37.6, 35.7], \"y\": [148861.33333333334, 149035.93333333332, 149210.53333333335, 149385.13333333333, 149559.7333333333, 149734.33333333334, 149908.93333333332, 150083.53333333335, 150258.13333333333, 150432.7333333333, 150607.33333333334, 150781.93333333332, 150956.53333333335, 151131.13333333333, 151305.7333333333, 151480.33333333334, 151654.93333333332, 151829.53333333335, 152004.13333333333], \"mode\": \"markers\", \"name\": \"Cambridge\", \"marker\": {\"color\": \"rgb(255, 127, 14)\"}}, {\"type\": \"scatter\", \"x\": [13.3, 14.5, 19.1, 18.3, 17.5, 19.3, 22.6, 25.8999999999999, 29.1999999999999, 34.8999999999999, 36.8999999999999, 26.1, 27.6, 32.0, 30.6999999999999, 32.7, 36.3999999999999, 37.6, 35.7], \"y\": [148942.702513927, 149074.5841237192, 149580.13029458918, 149492.2092213944, 149404.28814819962, 149602.1105628879, 149964.78498981634, 150327.45941674482, 150690.13384367328, 151316.5714901861, 151536.37417317304, 150349.43968504353, 150514.29169728374, 150997.85759985502, 150854.9858559135, 151074.78853890047, 151481.4235024263, 151613.30511221848, 151404.4925633809], \"mode\": \"lines\", \"marker\": {\"color\": \"rgb(30, 55, 153)\"}, \"name\": \"Fit\"}], {\"title\": \"The Connection Between Endowment and Black Population\", \"yaxis\": {\"title\": \"Black Population of Cambridge\"}, \"xaxis\": {\"title\": \"Endowment ($B)\"}}, {\"showLink\": true, \"linkText\": \"Export to plot.ly\"})});</script>"
      ],
      "text/vnd.plotly.v1+html": [
       "<div id=\"644211e1-b8a8-4b2d-944a-a9d2f31664e7\" style=\"height: 525px; width: 100%;\" class=\"plotly-graph-div\"></div><script type=\"text/javascript\">require([\"plotly\"], function(Plotly) { window.PLOTLYENV=window.PLOTLYENV || {};window.PLOTLYENV.BASE_URL=\"https://plot.ly\";Plotly.newPlot(\"644211e1-b8a8-4b2d-944a-a9d2f31664e7\", [{\"type\": \"scatter\", \"x\": [13.3, 14.5, 19.1, 18.3, 17.5, 19.3, 22.6, 25.8999999999999, 29.1999999999999, 34.8999999999999, 36.8999999999999, 26.1, 27.6, 32.0, 30.6999999999999, 32.7, 36.3999999999999, 37.6, 35.7], \"y\": [148861.33333333334, 149035.93333333332, 149210.53333333335, 149385.13333333333, 149559.7333333333, 149734.33333333334, 149908.93333333332, 150083.53333333335, 150258.13333333333, 150432.7333333333, 150607.33333333334, 150781.93333333332, 150956.53333333335, 151131.13333333333, 151305.7333333333, 151480.33333333334, 151654.93333333332, 151829.53333333335, 152004.13333333333], \"mode\": \"markers\", \"name\": \"Cambridge\", \"marker\": {\"color\": \"rgb(255, 127, 14)\"}}, {\"type\": \"scatter\", \"x\": [13.3, 14.5, 19.1, 18.3, 17.5, 19.3, 22.6, 25.8999999999999, 29.1999999999999, 34.8999999999999, 36.8999999999999, 26.1, 27.6, 32.0, 30.6999999999999, 32.7, 36.3999999999999, 37.6, 35.7], \"y\": [148942.702513927, 149074.5841237192, 149580.13029458918, 149492.2092213944, 149404.28814819962, 149602.1105628879, 149964.78498981634, 150327.45941674482, 150690.13384367328, 151316.5714901861, 151536.37417317304, 150349.43968504353, 150514.29169728374, 150997.85759985502, 150854.9858559135, 151074.78853890047, 151481.4235024263, 151613.30511221848, 151404.4925633809], \"mode\": \"lines\", \"marker\": {\"color\": \"rgb(30, 55, 153)\"}, \"name\": \"Fit\"}], {\"title\": \"The Connection Between Endowment and Black Population\", \"yaxis\": {\"title\": \"Black Population of Cambridge\"}, \"xaxis\": {\"title\": \"Endowment ($B)\"}}, {\"showLink\": true, \"linkText\": \"Export to plot.ly\"})});</script>"
      ]
     },
     "metadata": {},
     "output_type": "display_data"
    },
    {
     "data": {
      "image/png": "[encoded data removed]",
      "text/plain": [
       "<matplotlib.figure.Figure at 0x11ae43d68>"
      ]
     },
     "metadata": {},
     "output_type": "display_data"
    }
   ],
   "source": [
    "endow_black = grapher(x, y, \"Cambridge\", \"The Connection Between Endowment and Black Population\", \"Black Population of Cambridge\", \"Endowment ($B)\", \"endow_black\")\n",
    "causal_endow_black = X.zplot(x='x', y='y', z=['z1', 'z2'], z_types={'z1': 'c', 'z2': 'c'}, kind='line')"
   ]
  },
  {
   "cell_type": "markdown",
   "metadata": {},
   "source": [
    "Investigate the connection between the endowment's value and the housing prices in Cambridge, controlling for growth of the population."
   ]
  },
  {
   "cell_type": "code",
   "execution_count": 9,
   "metadata": {
    "collapsed": true
   },
   "outputs": [],
   "source": [
    "x = pd.to_numeric(endowment['Value ($B)']).as_matrix()\n",
    "y = pd.to_numeric(housing_data['cambridge']).as_matrix()\n",
    "z1 = pd.to_numeric(demographic_data['c_white']).as_matrix()\n",
    "z2 = pd.to_numeric(demographic_data['c_poc']).as_matrix()\n",
    "X  = CausalDataFrame({'x': x, 'y': y, 'z1': z1, 'z2': z2})"
   ]
  },
  {
   "cell_type": "code",
   "execution_count": 10,
   "metadata": {
    "collapsed": false
   },
   "outputs": [
    {
     "data": {
      "application/vnd.plotly.v1+json": {
       "data": [
        {
         "marker": {
          "color": "rgb(255, 127, 14)"
         },
         "mode": "markers",
         "name": "Cambridge",
         "type": "scatter",
         "uid": "5d87d5",
         "x": [
          13.3,
          14.5,
          19.1,
          18.3,
          17.5,
          19.3,
          22.6,
          25.8999999999999,
          29.1999999999999,
          34.8999999999999,
          36.8999999999999,
          26.1,
          27.6,
          32,
          30.6999999999999,
          32.7,
          36.3999999999999,
          37.6,
          35.7
         ],
         "y": [
          297000,
          341280,
          385560,
          429840,
          474120,
          518400,
          562680,
          606960,
          651240,
          695520,
          739800,
          784080,
          828360,
          872640,
          916920,
          961200,
          1005480,
          1049760,
          1094040
         ]
        },
        {
         "marker": {
          "color": "rgb(30, 55, 153)"
         },
         "mode": "lines",
         "name": "Fit",
         "type": "scatter",
         "uid": "af82b6",
         "x": [
          13.3,
          14.5,
          19.1,
          18.3,
          17.5,
          19.3,
          22.6,
          25.8999999999999,
          29.1999999999999,
          34.8999999999999,
          36.8999999999999,
          26.1,
          27.6,
          32,
          30.6999999999999,
          32.7,
          36.3999999999999,
          37.6,
          35.7
         ],
         "y": [
          317635.89528459136,
          351082.1592112658,
          479292.83759685117,
          456995.3283124015,
          434697.81902795186,
          484867.2149179635,
          576844.4407163182,
          668821.6665146701,
          760798.8923130248,
          919668.6459647283,
          975412.4191758524,
          674396.0438357854,
          716203.8737441284,
          838840.1748086013,
          802606.7222213679,
          858350.4954324948,
          961476.4758730714,
          994922.7397997486,
          941966.1552491809
         ]
        }
       ],
       "layout": {
        "autosize": true,
        "title": "The Connection Between Endowment and Housing Prices",
        "xaxis": {
         "autorange": true,
         "range": [
          11.797698555956678,
          39.10230144404332
         ],
         "title": "Endowment ($B)",
         "type": "linear"
        },
        "yaxis": {
         "autorange": true,
         "range": [
          238618.0891719745,
          1152421.9108280255
         ],
         "title": "Housing Prices in Cambridge",
         "type": "linear"
        }
       }
      },
      "text/html": [
       "<div id=\"4998559e-bc97-4965-922e-9af96bd972cb\" style=\"height: 525px; width: 100%;\" class=\"plotly-graph-div\"></div><script type=\"text/javascript\">require([\"plotly\"], function(Plotly) { window.PLOTLYENV=window.PLOTLYENV || {};window.PLOTLYENV.BASE_URL=\"https://plot.ly\";Plotly.newPlot(\"4998559e-bc97-4965-922e-9af96bd972cb\", [{\"type\": \"scatter\", \"x\": [13.3, 14.5, 19.1, 18.3, 17.5, 19.3, 22.6, 25.8999999999999, 29.1999999999999, 34.8999999999999, 36.8999999999999, 26.1, 27.6, 32.0, 30.6999999999999, 32.7, 36.3999999999999, 37.6, 35.7], \"y\": [297000.0, 341280.0, 385560.0, 429840.0, 474120.0, 518400.0, 562680.0, 606960.0, 651240.0, 695520.0, 739800.0, 784080.0, 828360.0, 872640.0, 916920.0, 961200.0, 1005480.0, 1049760.0, 1094040.0], \"mode\": \"markers\", \"name\": \"Cambridge\", \"marker\": {\"color\": \"rgb(255, 127, 14)\"}}, {\"type\": \"scatter\", \"x\": [13.3, 14.5, 19.1, 18.3, 17.5, 19.3, 22.6, 25.8999999999999, 29.1999999999999, 34.8999999999999, 36.8999999999999, 26.1, 27.6, 32.0, 30.6999999999999, 32.7, 36.3999999999999, 37.6, 35.7], \"y\": [317635.89528459136, 351082.1592112658, 479292.83759685117, 456995.3283124015, 434697.81902795186, 484867.2149179635, 576844.4407163182, 668821.6665146701, 760798.8923130248, 919668.6459647283, 975412.4191758524, 674396.0438357854, 716203.8737441284, 838840.1748086013, 802606.7222213679, 858350.4954324948, 961476.4758730714, 994922.7397997486, 941966.1552491809], \"mode\": \"lines\", \"marker\": {\"color\": \"rgb(30, 55, 153)\"}, \"name\": \"Fit\"}], {\"title\": \"The Connection Between Endowment and Housing Prices\", \"yaxis\": {\"title\": \"Housing Prices in Cambridge\"}, \"xaxis\": {\"title\": \"Endowment ($B)\"}}, {\"showLink\": true, \"linkText\": \"Export to plot.ly\"})});</script>"
      ],
      "text/vnd.plotly.v1+html": [
       "<div id=\"4998559e-bc97-4965-922e-9af96bd972cb\" style=\"height: 525px; width: 100%;\" class=\"plotly-graph-div\"></div><script type=\"text/javascript\">require([\"plotly\"], function(Plotly) { window.PLOTLYENV=window.PLOTLYENV || {};window.PLOTLYENV.BASE_URL=\"https://plot.ly\";Plotly.newPlot(\"4998559e-bc97-4965-922e-9af96bd972cb\", [{\"type\": \"scatter\", \"x\": [13.3, 14.5, 19.1, 18.3, 17.5, 19.3, 22.6, 25.8999999999999, 29.1999999999999, 34.8999999999999, 36.8999999999999, 26.1, 27.6, 32.0, 30.6999999999999, 32.7, 36.3999999999999, 37.6, 35.7], \"y\": [297000.0, 341280.0, 385560.0, 429840.0, 474120.0, 518400.0, 562680.0, 606960.0, 651240.0, 695520.0, 739800.0, 784080.0, 828360.0, 872640.0, 916920.0, 961200.0, 1005480.0, 1049760.0, 1094040.0], \"mode\": \"markers\", \"name\": \"Cambridge\", \"marker\": {\"color\": \"rgb(255, 127, 14)\"}}, {\"type\": \"scatter\", \"x\": [13.3, 14.5, 19.1, 18.3, 17.5, 19.3, 22.6, 25.8999999999999, 29.1999999999999, 34.8999999999999, 36.8999999999999, 26.1, 27.6, 32.0, 30.6999999999999, 32.7, 36.3999999999999, 37.6, 35.7], \"y\": [317635.89528459136, 351082.1592112658, 479292.83759685117, 456995.3283124015, 434697.81902795186, 484867.2149179635, 576844.4407163182, 668821.6665146701, 760798.8923130248, 919668.6459647283, 975412.4191758524, 674396.0438357854, 716203.8737441284, 838840.1748086013, 802606.7222213679, 858350.4954324948, 961476.4758730714, 994922.7397997486, 941966.1552491809], \"mode\": \"lines\", \"marker\": {\"color\": \"rgb(30, 55, 153)\"}, \"name\": \"Fit\"}], {\"title\": \"The Connection Between Endowment and Housing Prices\", \"yaxis\": {\"title\": \"Housing Prices in Cambridge\"}, \"xaxis\": {\"title\": \"Endowment ($B)\"}}, {\"showLink\": true, \"linkText\": \"Export to plot.ly\"})});</script>"
      ]
     },
     "metadata": {},
     "output_type": "display_data"
    },
    {
     "data": {
      "image/png": "[encoded data removed]",
      "text/plain": [
       "<matplotlib.figure.Figure at 0x11e64d048>"
      ]
     },
     "metadata": {},
     "output_type": "display_data"
    }
   ],
   "source": [
    "endow_housing = grapher(x, y, \"Cambridge\", \"The Connection Between Endowment and Housing Prices\", \"Housing Prices in Cambridge\", \"Endowment ($B)\", \"endow_housing\")\n",
    "causal_endow_housing = X.zplot(x='x', y='y', z=['z1', 'z2'], z_types={'z1': 'c', 'z2': 'c'}, kind='line')"
   ]
  },
  {
   "cell_type": "markdown",
   "metadata": {},
   "source": [
    "Investigate the connection between the endowment's value and the rent prices in Cambridge, controlling for growth of the population."
   ]
  },
  {
   "cell_type": "code",
   "execution_count": 11,
   "metadata": {
    "collapsed": true
   },
   "outputs": [],
   "source": [
    "x = pd.to_numeric(endowment['Value ($B)']).as_matrix()\n",
    "y = pd.to_numeric(rent_data['cambridge']).as_matrix()\n",
    "z1 = pd.to_numeric(demographic_data['c_white']).as_matrix()\n",
    "z2 = pd.to_numeric(demographic_data['c_poc']).as_matrix()\n",
    "X  = CausalDataFrame({'x': x, 'y': y, 'z1': z1, 'z2': z2})"
   ]
  },
  {
   "cell_type": "code",
   "execution_count": 12,
   "metadata": {
    "collapsed": false
   },
   "outputs": [
    {
     "data": {
      "application/vnd.plotly.v1+json": {
       "data": [
        {
         "marker": {
          "color": "rgb(255, 127, 14)"
         },
         "mode": "markers",
         "name": "Cambridge",
         "type": "scatter",
         "uid": "cc3248",
         "x": [
          13.3,
          14.5,
          19.1,
          18.3,
          17.5,
          19.3,
          22.6,
          25.8999999999999,
          29.1999999999999,
          34.8999999999999,
          36.8999999999999,
          26.1,
          27.6,
          32,
          30.6999999999999,
          32.7,
          36.3999999999999,
          37.6,
          35.7
         ],
         "y": [
          1100,
          1224.7999999999884,
          1349.6000000000058,
          1474.3999999999942,
          1599.1999999999825,
          1724,
          1848.7999999999884,
          1973.6000000000058,
          2098.399999999994,
          2223.1999999999825,
          2348,
          2472.7999999999884,
          2597.600000000006,
          2722.399999999994,
          2847.1999999999825,
          2972,
          3096.7999999999884,
          3221.600000000006,
          3346.399999999994
         ]
        },
        {
         "marker": {
          "color": "rgb(30, 55, 153)"
         },
         "mode": "lines",
         "name": "Fit",
         "type": "scatter",
         "uid": "88fe54",
         "x": [
          13.3,
          14.5,
          19.1,
          18.3,
          17.5,
          19.3,
          22.6,
          25.8999999999999,
          29.1999999999999,
          34.8999999999999,
          36.8999999999999,
          26.1,
          27.6,
          32,
          30.6999999999999,
          32.7,
          36.3999999999999,
          37.6,
          35.7
         ],
         "y": [
          1158.1607888779754,
          1252.4266817878438,
          1613.7792712756725,
          1550.9353426690936,
          1488.0914140625146,
          1629.4902534273172,
          1888.7214589294551,
          2147.9526644315847,
          2407.183869933723,
          2854.9468612555975,
          3012.056682772045,
          2163.663646583238,
          2281.496012720573,
          2627.137620056757,
          2525.0162360710583,
          2682.1260575875135,
          2972.779227392933,
          3067.045120302809,
          2917.7907898621847
         ]
        }
       ],
       "layout": {
        "autosize": true,
        "title": "The Connection Between Endowment and Rent",
        "xaxis": {
         "autorange": true,
         "range": [
          11.797698555956678,
          39.10230144404332
         ],
         "title": "Endowment ($B)",
         "type": "linear"
        },
        "yaxis": {
         "autorange": true,
         "range": [
          935.4547770700641,
          3510.94522292993
         ],
         "title": "Rent in Cambridge",
         "type": "linear"
        }
       }
      },
      "text/html": [
       "<div id=\"01c9e6cc-492f-4233-9603-c297869715e9\" style=\"height: 525px; width: 100%;\" class=\"plotly-graph-div\"></div><script type=\"text/javascript\">require([\"plotly\"], function(Plotly) { window.PLOTLYENV=window.PLOTLYENV || {};window.PLOTLYENV.BASE_URL=\"https://plot.ly\";Plotly.newPlot(\"01c9e6cc-492f-4233-9603-c297869715e9\", [{\"type\": \"scatter\", \"x\": [13.3, 14.5, 19.1, 18.3, 17.5, 19.3, 22.6, 25.8999999999999, 29.1999999999999, 34.8999999999999, 36.8999999999999, 26.1, 27.6, 32.0, 30.6999999999999, 32.7, 36.3999999999999, 37.6, 35.7], \"y\": [1100.0, 1224.7999999999884, 1349.6000000000058, 1474.3999999999942, 1599.1999999999825, 1724.0, 1848.7999999999884, 1973.6000000000058, 2098.399999999994, 2223.1999999999825, 2348.0, 2472.7999999999884, 2597.600000000006, 2722.399999999994, 2847.1999999999825, 2972.0, 3096.7999999999884, 3221.600000000006, 3346.399999999994], \"mode\": \"markers\", \"name\": \"Cambridge\", \"marker\": {\"color\": \"rgb(255, 127, 14)\"}}, {\"type\": \"scatter\", \"x\": [13.3, 14.5, 19.1, 18.3, 17.5, 19.3, 22.6, 25.8999999999999, 29.1999999999999, 34.8999999999999, 36.8999999999999, 26.1, 27.6, 32.0, 30.6999999999999, 32.7, 36.3999999999999, 37.6, 35.7], \"y\": [1158.1607888779754, 1252.4266817878438, 1613.7792712756725, 1550.9353426690936, 1488.0914140625146, 1629.4902534273172, 1888.7214589294551, 2147.9526644315847, 2407.183869933723, 2854.9468612555975, 3012.056682772045, 2163.663646583238, 2281.496012720573, 2627.137620056757, 2525.0162360710583, 2682.1260575875135, 2972.779227392933, 3067.045120302809, 2917.7907898621847], \"mode\": \"lines\", \"marker\": {\"color\": \"rgb(30, 55, 153)\"}, \"name\": \"Fit\"}], {\"title\": \"The Connection Between Endowment and Rent\", \"yaxis\": {\"title\": \"Rent in Cambridge\"}, \"xaxis\": {\"title\": \"Endowment ($B)\"}}, {\"showLink\": true, \"linkText\": \"Export to plot.ly\"})});</script>"
      ],
      "text/vnd.plotly.v1+html": [
       "<div id=\"01c9e6cc-492f-4233-9603-c297869715e9\" style=\"height: 525px; width: 100%;\" class=\"plotly-graph-div\"></div><script type=\"text/javascript\">require([\"plotly\"], function(Plotly) { window.PLOTLYENV=window.PLOTLYENV || {};window.PLOTLYENV.BASE_URL=\"https://plot.ly\";Plotly.newPlot(\"01c9e6cc-492f-4233-9603-c297869715e9\", [{\"type\": \"scatter\", \"x\": [13.3, 14.5, 19.1, 18.3, 17.5, 19.3, 22.6, 25.8999999999999, 29.1999999999999, 34.8999999999999, 36.8999999999999, 26.1, 27.6, 32.0, 30.6999999999999, 32.7, 36.3999999999999, 37.6, 35.7], \"y\": [1100.0, 1224.7999999999884, 1349.6000000000058, 1474.3999999999942, 1599.1999999999825, 1724.0, 1848.7999999999884, 1973.6000000000058, 2098.399999999994, 2223.1999999999825, 2348.0, 2472.7999999999884, 2597.600000000006, 2722.399999999994, 2847.1999999999825, 2972.0, 3096.7999999999884, 3221.600000000006, 3346.399999999994], \"mode\": \"markers\", \"name\": \"Cambridge\", \"marker\": {\"color\": \"rgb(255, 127, 14)\"}}, {\"type\": \"scatter\", \"x\": [13.3, 14.5, 19.1, 18.3, 17.5, 19.3, 22.6, 25.8999999999999, 29.1999999999999, 34.8999999999999, 36.8999999999999, 26.1, 27.6, 32.0, 30.6999999999999, 32.7, 36.3999999999999, 37.6, 35.7], \"y\": [1158.1607888779754, 1252.4266817878438, 1613.7792712756725, 1550.9353426690936, 1488.0914140625146, 1629.4902534273172, 1888.7214589294551, 2147.9526644315847, 2407.183869933723, 2854.9468612555975, 3012.056682772045, 2163.663646583238, 2281.496012720573, 2627.137620056757, 2525.0162360710583, 2682.1260575875135, 2972.779227392933, 3067.045120302809, 2917.7907898621847], \"mode\": \"lines\", \"marker\": {\"color\": \"rgb(30, 55, 153)\"}, \"name\": \"Fit\"}], {\"title\": \"The Connection Between Endowment and Rent\", \"yaxis\": {\"title\": \"Rent in Cambridge\"}, \"xaxis\": {\"title\": \"Endowment ($B)\"}}, {\"showLink\": true, \"linkText\": \"Export to plot.ly\"})});</script>"
      ]
     },
     "metadata": {},
     "output_type": "display_data"
    },
    {
     "data": {
      "image/png": "[encoded data removed]",
      "text/plain": [
       "<matplotlib.figure.Figure at 0x11e685780>"
      ]
     },
     "metadata": {},
     "output_type": "display_data"
    }
   ],
   "source": [
    "endow_rent = grapher(x, y, \"Cambridge\", \"The Connection Between Endowment and Rent\", \"Rent in Cambridge\", \"Endowment ($B)\", \"endow_rent\")\n",
    "causal_endow_rent = X.zplot(x='x', y='y', z=['z1', 'z2'], z_types={'z1': 'c', 'z2': 'c'}, kind='line')"
   ]
  },
  {
   "cell_type": "markdown",
   "metadata": {},
   "source": [
    "Investigate the connection between the amount Harvard pays the city of Cambridge per year (PILOT) and the rent prices in Cambridge, controlling for growth of the population."
   ]
  },
  {
   "cell_type": "code",
   "execution_count": 13,
   "metadata": {
    "collapsed": false
   },
   "outputs": [],
   "source": [
    "x = pd.to_numeric(expander['Payments to City']).as_matrix()\n",
    "y = pd.to_numeric(rent_data['cambridge']).as_matrix()\n",
    "# Remove the last two elements of the other arrays – PILOT data is not sufficient otherwise.\n",
    "y = y[:-2].copy()\n",
    "z1 = pd.to_numeric(demographic_data['c_white']).as_matrix()\n",
    "z1 = z1[:-2].copy()\n",
    "z2 = pd.to_numeric(demographic_data['c_poc']).as_matrix()\n",
    "z2 = z2[:-2].copy()\n",
    "X  = CausalDataFrame({'x': x, 'y': y, 'z1': z1, 'z2': z2})"
   ]
  },
  {
   "cell_type": "code",
   "execution_count": 14,
   "metadata": {
    "collapsed": false
   },
   "outputs": [
    {
     "data": {
      "application/vnd.plotly.v1+json": {
       "data": [
        {
         "marker": {
          "color": "rgb(255, 127, 14)"
         },
         "mode": "markers",
         "name": "Cambridge",
         "type": "scatter",
         "uid": "836e2b",
         "x": [
          8467151,
          8751365,
          10366585,
          10233641,
          12083442,
          13771156,
          14592500,
          15173863,
          13388612,
          13366092,
          14282663,
          15987554,
          14216649,
          14120766,
          11023666,
          15266613,
          18472321
         ],
         "y": [
          1100,
          1224.7999999999884,
          1349.6000000000058,
          1474.3999999999942,
          1599.1999999999825,
          1724,
          1848.7999999999884,
          1973.6000000000058,
          2098.399999999994,
          2223.1999999999825,
          2348,
          2472.7999999999884,
          2597.600000000006,
          2722.399999999994,
          2847.1999999999825,
          2972,
          3096.7999999999884
         ]
        },
        {
         "marker": {
          "color": "rgb(30, 55, 153)"
         },
         "mode": "lines",
         "name": "Fit",
         "type": "scatter",
         "uid": "0a0847",
         "x": [
          8467151,
          8751365,
          10366585,
          10233641,
          12083442,
          13771156,
          14592500,
          15173863,
          13388612,
          13366092,
          14282663,
          15987554,
          14216649,
          14120766,
          11023666,
          15266613,
          18472321
         ],
         "y": [
          1269.4377433463935,
          1319.7403182057672,
          1605.6154860875652,
          1582.0859431653143,
          1909.479221742176,
          2208.184985097298,
          2353.5533274213826,
          2456.4478218093086,
          2140.479143031094,
          2136.493364758971,
          2298.7157793530123,
          2600.4616720767076,
          2287.032068569002,
          2270.06189192309,
          1721.911186479425,
          2472.8634938670075,
          3040.236553066388
         ]
        }
       ],
       "layout": {
        "autosize": true,
        "title": "The Connection Between Harvard's PILOT and Rent",
        "xaxis": {
         "autorange": true,
         "range": [
          7848600.327617329,
          19090871.67238267
         ],
         "title": "PILOT ($)",
         "type": "linear"
        },
        "yaxis": {
         "autorange": true,
         "range": [
          953.7375796178353,
          3243.062420382153
         ],
         "title": "Rent in Cambridge",
         "type": "linear"
        }
       }
      },
      "text/html": [
       "<div id=\"76675368-a239-4ed8-b1f9-f207418e5aa1\" style=\"height: 525px; width: 100%;\" class=\"plotly-graph-div\"></div><script type=\"text/javascript\">require([\"plotly\"], function(Plotly) { window.PLOTLYENV=window.PLOTLYENV || {};window.PLOTLYENV.BASE_URL=\"https://plot.ly\";Plotly.newPlot(\"76675368-a239-4ed8-b1f9-f207418e5aa1\", [{\"type\": \"scatter\", \"x\": [8467151, 8751365, 10366585, 10233641, 12083442, 13771156, 14592500, 15173863, 13388612, 13366092, 14282663, 15987554, 14216649, 14120766, 11023666, 15266613, 18472321], \"y\": [1100.0, 1224.7999999999884, 1349.6000000000058, 1474.3999999999942, 1599.1999999999825, 1724.0, 1848.7999999999884, 1973.6000000000058, 2098.399999999994, 2223.1999999999825, 2348.0, 2472.7999999999884, 2597.600000000006, 2722.399999999994, 2847.1999999999825, 2972.0, 3096.7999999999884], \"mode\": \"markers\", \"name\": \"Cambridge\", \"marker\": {\"color\": \"rgb(255, 127, 14)\"}}, {\"type\": \"scatter\", \"x\": [8467151, 8751365, 10366585, 10233641, 12083442, 13771156, 14592500, 15173863, 13388612, 13366092, 14282663, 15987554, 14216649, 14120766, 11023666, 15266613, 18472321], \"y\": [1269.4377433463935, 1319.7403182057672, 1605.6154860875652, 1582.0859431653143, 1909.479221742176, 2208.184985097298, 2353.5533274213826, 2456.4478218093086, 2140.479143031094, 2136.493364758971, 2298.7157793530123, 2600.4616720767076, 2287.032068569002, 2270.06189192309, 1721.911186479425, 2472.8634938670075, 3040.236553066388], \"mode\": \"lines\", \"marker\": {\"color\": \"rgb(30, 55, 153)\"}, \"name\": \"Fit\"}], {\"title\": \"The Connection Between Harvard's PILOT and Rent\", \"yaxis\": {\"title\": \"Rent in Cambridge\"}, \"xaxis\": {\"title\": \"PILOT ($)\"}}, {\"showLink\": true, \"linkText\": \"Export to plot.ly\"})});</script>"
      ],
      "text/vnd.plotly.v1+html": [
       "<div id=\"76675368-a239-4ed8-b1f9-f207418e5aa1\" style=\"height: 525px; width: 100%;\" class=\"plotly-graph-div\"></div><script type=\"text/javascript\">require([\"plotly\"], function(Plotly) { window.PLOTLYENV=window.PLOTLYENV || {};window.PLOTLYENV.BASE_URL=\"https://plot.ly\";Plotly.newPlot(\"76675368-a239-4ed8-b1f9-f207418e5aa1\", [{\"type\": \"scatter\", \"x\": [8467151, 8751365, 10366585, 10233641, 12083442, 13771156, 14592500, 15173863, 13388612, 13366092, 14282663, 15987554, 14216649, 14120766, 11023666, 15266613, 18472321], \"y\": [1100.0, 1224.7999999999884, 1349.6000000000058, 1474.3999999999942, 1599.1999999999825, 1724.0, 1848.7999999999884, 1973.6000000000058, 2098.399999999994, 2223.1999999999825, 2348.0, 2472.7999999999884, 2597.600000000006, 2722.399999999994, 2847.1999999999825, 2972.0, 3096.7999999999884], \"mode\": \"markers\", \"name\": \"Cambridge\", \"marker\": {\"color\": \"rgb(255, 127, 14)\"}}, {\"type\": \"scatter\", \"x\": [8467151, 8751365, 10366585, 10233641, 12083442, 13771156, 14592500, 15173863, 13388612, 13366092, 14282663, 15987554, 14216649, 14120766, 11023666, 15266613, 18472321], \"y\": [1269.4377433463935, 1319.7403182057672, 1605.6154860875652, 1582.0859431653143, 1909.479221742176, 2208.184985097298, 2353.5533274213826, 2456.4478218093086, 2140.479143031094, 2136.493364758971, 2298.7157793530123, 2600.4616720767076, 2287.032068569002, 2270.06189192309, 1721.911186479425, 2472.8634938670075, 3040.236553066388], \"mode\": \"lines\", \"marker\": {\"color\": \"rgb(30, 55, 153)\"}, \"name\": \"Fit\"}], {\"title\": \"The Connection Between Harvard's PILOT and Rent\", \"yaxis\": {\"title\": \"Rent in Cambridge\"}, \"xaxis\": {\"title\": \"PILOT ($)\"}}, {\"showLink\": true, \"linkText\": \"Export to plot.ly\"})});</script>"
      ]
     },
     "metadata": {},
     "output_type": "display_data"
    },
    {
     "data": {
      "image/png": "[encoded data removed]",
      "text/plain": [
       "<matplotlib.figure.Figure at 0x11ecc7160>"
      ]
     },
     "metadata": {},
     "output_type": "display_data"
    }
   ],
   "source": [
    "pilot_rent = grapher(x, y, \"Cambridge\", \"The Connection Between Harvard's PILOT and Rent\", \"Rent in Cambridge\", \"PILOT ($)\", \"pilot_rent\")\n",
    "causal_endow_rent = X.zplot(x='x', y='y', z=['z1', 'z2'], z_types={'z1': 'c', 'z2': 'c'}, kind='line')"
   ]
  },
  {
   "cell_type": "code",
   "execution_count": null,
   "metadata": {
    "collapsed": true
   },
   "outputs": [],
   "source": []
  }
 ],
 "metadata": {
  "kernelspec": {
   "display_name": "Python 3",
   "language": "python",
   "name": "python3"
  },
  "language_info": {
   "codemirror_mode": {
    "name": "ipython",
    "version": 3
   },
   "file_extension": ".py",
   "mimetype": "text/x-python",
   "name": "python",
   "nbconvert_exporter": "python",
   "pygments_lexer": "ipython3",
   "version": "3.6.0"
  },
  "varInspector": {
   "cols": {
    "lenName": 16,
    "lenType": 16,
    "lenVar": 40
   },
   "kernels_config": {
    "python": {
     "delete_cmd_postfix": "",
     "delete_cmd_prefix": "del ",
     "library": "var_list.py",
     "varRefreshCmd": "print(var_dic_list())"
    },
    "r": {
     "delete_cmd_postfix": ") ",
     "delete_cmd_prefix": "rm(",
     "library": "var_list.r",
     "varRefreshCmd": "cat(var_dic_list()) "
    }
   },
   "types_to_exclude": [
    "module",
    "function",
    "builtin_function_or_method",
    "instance",
    "_Feature"
   ],
   "window_display": false
  }
 },
 "nbformat": 4,
 "nbformat_minor": 2
}
