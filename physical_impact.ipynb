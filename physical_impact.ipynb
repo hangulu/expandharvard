{
 "cells": [
  {
   "cell_type": "markdown",
   "metadata": {},
   "source": [
    "## Harvard's Physical Impact\n",
    "How much of the United States does Harvard own?"
   ]
  },
  {
   "cell_type": "code",
   "execution_count": 1,
   "metadata": {
    "collapsed": true
   },
   "outputs": [],
   "source": [
    "import cityscraper\n",
    "import numpy as np\n",
    "import pandas as pd\n",
    "import math"
   ]
  },
  {
   "cell_type": "code",
   "execution_count": 2,
   "metadata": {
    "collapsed": false
   },
   "outputs": [
    {
     "data": {
      "text/html": [
       "<script>requirejs.config({paths: { 'plotly': ['https://cdn.plot.ly/plotly-latest.min']},});if(!window.Plotly) {{require(['plotly'],function(plotly) {window.Plotly=plotly;});}}</script>"
      ],
      "text/vnd.plotly.v1+html": [
       "<script>requirejs.config({paths: { 'plotly': ['https://cdn.plot.ly/plotly-latest.min']},});if(!window.Plotly) {{require(['plotly'],function(plotly) {window.Plotly=plotly;});}}</script>"
      ]
     },
     "metadata": {},
     "output_type": "display_data"
    }
   ],
   "source": [
    "import matplotlib.pyplot as plt\n",
    "import plotly\n",
    "import plotly.graph_objs as go\n",
    "from plotly.offline import download_plotlyjs, init_notebook_mode, plot, iplot\n",
    "init_notebook_mode(connected=True)"
   ]
  },
  {
   "cell_type": "markdown",
   "metadata": {},
   "source": [
    "There are gaps in the available information for cities abroad, so this analysis will focus on Harvard's national impact. Hence, the buildings abroad can be ignored."
   ]
  },
  {
   "cell_type": "code",
   "execution_count": 3,
   "metadata": {
    "collapsed": false
   },
   "outputs": [],
   "source": [
    "buildings = pd.read_excel(\"Spreadsheets/2018_building_reference_list.xlsx\", header=3)\n",
    "buildings = buildings[~buildings['City'].isin(['Sardis', 'Fiesole', 'Florence', 'Shanghai', 'London'])]\n",
    "footage = buildings['GSF SF Total'].sum()\n",
    "count = buildings['GSF SF Total'].count()"
   ]
  },
  {
   "cell_type": "markdown",
   "metadata": {
    "variables": {
     "count": "686"
    }
   },
   "source": [
    "Harvard owns {{count}} buildings in the following cities in the United States: Jamaica Plain, Roslindale, Cambridge, Washington DC, Ledyard, Allston, Hamilton, Petersham, Harvard, Bedford, Southborough, Shrewsbury, Kittery Point, Boston, Los Angeles, San Francisco, Holyoke, Somerville, Menlo Park, Burlingame, Lowell and New York."
   ]
  },
  {
   "cell_type": "markdown",
   "metadata": {},
   "source": [
    "Most of the data available on cities can be found at http://www.city-data.com, so I built a webscraper, `cityscraper.py`, to be able to pull data from every city that Harvard has buildings in."
   ]
  },
  {
   "cell_type": "code",
   "execution_count": 4,
   "metadata": {
    "collapsed": false
   },
   "outputs": [],
   "source": [
    "df = pd.read_excel(\"Spreadsheets/city_url.xlsx\", header=0)\n",
    "results = []\n",
    "\n",
    "for i in range(df['Type'].count()):\n",
    "    city = df.iloc[[i]]['City'].values[0]\n",
    "    my_type = df.iloc[[i]]['Type'].values[0]\n",
    "    endpoint = df.iloc[[i]]['Endpoint'].values[0]\n",
    "\n",
    "    results.append(cityscraper.scraper(city, my_type, endpoint))\n",
    "\n",
    "city_data = pd.DataFrame(results)"
   ]
  },
  {
   "cell_type": "markdown",
   "metadata": {},
   "source": [
    "To facilitate comparison, the `Area` column of the `city_data` dataframe will be converted from square miles to square feet, by multiplying by $27878000$."
   ]
  },
  {
   "cell_type": "code",
   "execution_count": 5,
   "metadata": {
    "collapsed": false
   },
   "outputs": [],
   "source": [
    "city_data['Square Footage'] = city_data['Area'] * 27878000"
   ]
  },
  {
   "cell_type": "markdown",
   "metadata": {},
   "source": [
    "Now, we can easily determine how much of a given city Harvard owns."
   ]
  },
  {
   "cell_type": "code",
   "execution_count": 6,
   "metadata": {
    "collapsed": false
   },
   "outputs": [],
   "source": [
    "footage_results = []\n",
    "\n",
    "for i in range(city_data['City'].count()):\n",
    "    city = city_data.iloc[[i]]['City'].values[0]\n",
    "    city_buildings = buildings[buildings['City'] == city]\n",
    "    harv_footage = city_buildings['GSF SF Total'].sum()\n",
    "    city_footage = city_data.iloc[i]['Square Footage']\n",
    "    perc_harv = (harv_footage / city_footage) * 100\n",
    "    footage_results.append({'City': city, 'Harvard Footage': harv_footage, 'City Footage': city_footage, 'Percentage Harvard': perc_harv})\n",
    "\n",
    "final = pd.DataFrame(footage_results)\n",
    "final.sort_values('Percentage Harvard', ascending=False, inplace=True)\n",
    "final.reset_index(inplace=True, drop=True)"
   ]
  },
  {
   "cell_type": "code",
   "execution_count": 7,
   "metadata": {},
   "outputs": [
    {
     "name": "stdout",
     "output_type": "stream",
     "text": [
      "[{'City': 'Jamaica Plain', 'Harvard Footage': 122906.0, 'City Footage': 88512650.0, 'Percentage Harvard': 0.13885698823840434}, {'City': 'Roslindale', 'Harvard Footage': 1681.0, 'City Footage': 102758308.0, 'Percentage Harvard': 0.0016358774611197374}, {'City': 'Cambridge', 'Harvard Footage': 17151456.3, 'City Footage': 179255540.0, 'Percentage Harvard': 9.5681596786353165}, {'City': 'Washington', 'Harvard Footage': 256038.0, 'City Footage': 1711709200.0, 'Percentage Harvard': 0.014958031422627163}, {'City': 'Ledyard', 'Harvard Footage': 21284.0, 'City Footage': 1062151800.0, 'Percentage Harvard': 0.0020038566992025058}, {'City': 'Allston', 'Harvard Footage': 5777374.0, 'City Footage': 101420164.0, 'Percentage Harvard': 5.6964747168028635}, {'City': 'Hamilton', 'Harvard Footage': 27809.0, 'City Footage': 407018800.0, 'Percentage Harvard': 0.0068323625346052817}, {'City': 'Petersham', 'Harvard Footage': 84358.0, 'City Footage': 1510987600.0, 'Percentage Harvard': 0.0055829710316616758}, {'City': 'Harvard', 'Harvard Footage': 18231.0, 'City Footage': 735979200.0, 'Percentage Harvard': 0.0024771080487057244}, {'City': 'Bedford', 'Harvard Footage': 10507.0, 'City Footage': 381928600.0, 'Percentage Harvard': 0.0027510377594136704}, {'City': 'Southborough', 'Harvard Footage': 269812.0, 'City Footage': 393079800.0, 'Percentage Harvard': 0.068640515233802393}, {'City': 'Shrewsbury', 'Harvard Footage': 16478.0, 'City Footage': 577074600.0, 'Percentage Harvard': 0.0028554367147679001}, {'City': 'Kittery Point', 'Harvard Footage': 5500.0, 'City Footage': 52968200.0, 'Percentage Harvard': 0.01038358864375229}, {'City': 'Boston', 'Harvard Footage': 3651048.7, 'City Footage': 1349295200.0, 'Percentage Harvard': 0.27058931952029475}, {'City': 'Los Angeles', 'Harvard Footage': 2861.0, 'City Footage': 13077569800.0, 'Percentage Harvard': 2.1877153353064114e-05}, {'City': 'San Francisco', 'Harvard Footage': 3791.0, 'City Footage': 1301902600.0, 'Percentage Harvard': 0.00029118921799526325}, {'City': 'Holyoke', 'Harvard Footage': 6120.0, 'City Footage': 593801400.0, 'Percentage Harvard': 0.0010306476205680889}, {'City': 'Somerville', 'Harvard Footage': 166018.0, 'City Footage': 114578580.00000001, 'Percentage Harvard': 0.14489444711219146}, {'City': 'Menlo Park', 'Harvard Footage': 1080.0, 'City Footage': 281567800.0, 'Percentage Harvard': 0.000383566586804315}, {'City': 'Burlingame', 'Harvard Footage': 1073.0, 'City Footage': 120711740.0, 'Percentage Harvard': 0.00088889448532512253}, {'City': 'Lowell', 'Harvard Footage': 352000.0, 'City Footage': 384716400.0, 'Percentage Harvard': 0.091495969498570903}, {'City': 'New York', 'Harvard Footage': 800.0, 'City Footage': 8455397400.0, 'Percentage Harvard': 9.4614121862563195e-06}]\n"
     ]
    }
   ],
   "source": [
    "print(footage_results)"
   ]
  },
  {
   "cell_type": "markdown",
   "metadata": {
    "variables": {
     "math.ceil(final.iloc[0]['Percentage Harvard'] * 100) / 100": "9.57",
     "math.ceil(final.iloc[1]['Percentage Harvard'] * 100) / 100": "5.7",
     "math.ceil(final.iloc[2]['Percentage Harvard'] * 100) / 100": "0.28"
    }
   },
   "source": [
    "The three cities that Harvard owns most of are:\n",
    "1. Cambridge, owning {{math.ceil(final.iloc[0]['Percentage Harvard'] * 100) / 100}}% of the land.\n",
    "1. Allston, owning {{math.ceil(final.iloc[1]['Percentage Harvard'] * 100) / 100}}% of the land.\n",
    "1. Boston, owning {{math.ceil(final.iloc[2]['Percentage Harvard'] * 100) / 100}}% of the land."
   ]
  },
  {
   "cell_type": "code",
   "execution_count": 8,
   "metadata": {
    "collapsed": false
   },
   "outputs": [
    {
     "data": {
      "application/vnd.plotly.v1+json": {
       "data": [
        {
         "domain": {
          "x": [
           0,
           0.32
          ]
         },
         "hole": 0.4,
         "hoverinfo": "percent+name",
         "labels": [
          "Cambridge",
          "Harvard"
         ],
         "marker": {
          "colors": [
           "rgb(46, 204, 113)",
           "#D2232A"
          ]
         },
         "name": "Cambridge",
         "textinfo": "none",
         "type": "pie",
         "uid": "375459",
         "values": [
          90.43,
          9.57
         ]
        },
        {
         "domain": {
          "x": [
           0.33,
           0.65
          ]
         },
         "hole": 0.4,
         "hoverinfo": "percent+name",
         "labels": [
          "Allston",
          "Harvard"
         ],
         "marker": {
          "colors": [
           "rgb(52, 73, 94)",
           "#D2232A"
          ]
         },
         "name": "Allston",
         "textinfo": "none",
         "type": "pie",
         "uid": "5ae286",
         "values": [
          94.3,
          5.7
         ]
        },
        {
         "domain": {
          "x": [
           0.66,
           1
          ]
         },
         "hole": 0.4,
         "hoverinfo": "percent+name",
         "labels": [
          "Boston",
          "Harvard"
         ],
         "marker": {
          "colors": [
           "rgb(241, 196, 15)",
           "#D2232A"
          ]
         },
         "name": "Boston",
         "textinfo": "none",
         "type": "pie",
         "uid": "dcae2a",
         "values": [
          99.72,
          0.28
         ]
        }
       ],
       "layout": {
        "annotations": [
         {
          "font": {
           "family": "Gotham",
           "size": 40
          },
          "showarrow": false,
          "text": "C",
          "x": 0.143,
          "y": 0.5
         },
         {
          "font": {
           "family": "Gotham",
           "size": 40
          },
          "showarrow": false,
          "text": "A",
          "x": 0.49,
          "y": 0.5
         },
         {
          "font": {
           "family": "Gotham",
           "size": 40
          },
          "showarrow": false,
          "text": "B",
          "x": 0.85,
          "y": 0.5
         }
        ],
        "autosize": true,
        "font": {
         "family": "Gotham",
         "size": 18
        },
        "title": "Harvard's Presence In Cities"
       }
      },
      "text/html": [
       "<div id=\"3e125cf5-80ad-4f09-aed5-32ad56d4dcb5\" style=\"height: 525px; width: 100%;\" class=\"plotly-graph-div\"></div><script type=\"text/javascript\">require([\"plotly\"], function(Plotly) { window.PLOTLYENV=window.PLOTLYENV || {};window.PLOTLYENV.BASE_URL=\"https://plot.ly\";Plotly.newPlot(\"3e125cf5-80ad-4f09-aed5-32ad56d4dcb5\", [{\"labels\": [\"Cambridge\", \"Harvard\"], \"values\": [90.43, 9.57], \"type\": \"pie\", \"name\": \"Cambridge\", \"marker\": {\"colors\": [\"rgb(46, 204, 113)\", \"#D2232A\"]}, \"domain\": {\"x\": [0, 0.32]}, \"hole\": 0.4, \"hoverinfo\": \"percent+name\", \"textinfo\": \"none\"}, {\"labels\": [\"Allston\", \"Harvard\"], \"values\": [94.3, 5.7], \"type\": \"pie\", \"name\": \"Allston\", \"marker\": {\"colors\": [\"rgb(52, 73, 94)\", \"#D2232A\"]}, \"domain\": {\"x\": [0.33, 0.65]}, \"hole\": 0.4, \"hoverinfo\": \"percent+name\", \"textinfo\": \"none\"}, {\"labels\": [\"Boston\", \"Harvard\"], \"values\": [99.72, 0.28], \"type\": \"pie\", \"name\": \"Boston\", \"marker\": {\"colors\": [\"rgb(241, 196, 15)\", \"#D2232A\"]}, \"domain\": {\"x\": [0.66, 1]}, \"hole\": 0.4, \"hoverinfo\": \"percent+name\", \"textinfo\": \"none\"}], {\"title\": \"Harvard's Presence In Cities\", \"font\": {\"family\": \"Gotham\", \"size\": 18}, \"annotations\": [{\"font\": {\"size\": 40, \"family\": \"Gotham\"}, \"showarrow\": false, \"text\": \"C\", \"x\": 0.143, \"y\": 0.5}, {\"font\": {\"size\": 40, \"family\": \"Gotham\"}, \"showarrow\": false, \"text\": \"A\", \"x\": 0.49, \"y\": 0.5}, {\"font\": {\"size\": 40, \"family\": \"Gotham\"}, \"showarrow\": false, \"text\": \"B\", \"x\": 0.85, \"y\": 0.5}]}, {\"showLink\": true, \"linkText\": \"Export to plot.ly\"})});</script>"
      ],
      "text/vnd.plotly.v1+html": [
       "<div id=\"3e125cf5-80ad-4f09-aed5-32ad56d4dcb5\" style=\"height: 525px; width: 100%;\" class=\"plotly-graph-div\"></div><script type=\"text/javascript\">require([\"plotly\"], function(Plotly) { window.PLOTLYENV=window.PLOTLYENV || {};window.PLOTLYENV.BASE_URL=\"https://plot.ly\";Plotly.newPlot(\"3e125cf5-80ad-4f09-aed5-32ad56d4dcb5\", [{\"labels\": [\"Cambridge\", \"Harvard\"], \"values\": [90.43, 9.57], \"type\": \"pie\", \"name\": \"Cambridge\", \"marker\": {\"colors\": [\"rgb(46, 204, 113)\", \"#D2232A\"]}, \"domain\": {\"x\": [0, 0.32]}, \"hole\": 0.4, \"hoverinfo\": \"percent+name\", \"textinfo\": \"none\"}, {\"labels\": [\"Allston\", \"Harvard\"], \"values\": [94.3, 5.7], \"type\": \"pie\", \"name\": \"Allston\", \"marker\": {\"colors\": [\"rgb(52, 73, 94)\", \"#D2232A\"]}, \"domain\": {\"x\": [0.33, 0.65]}, \"hole\": 0.4, \"hoverinfo\": \"percent+name\", \"textinfo\": \"none\"}, {\"labels\": [\"Boston\", \"Harvard\"], \"values\": [99.72, 0.28], \"type\": \"pie\", \"name\": \"Boston\", \"marker\": {\"colors\": [\"rgb(241, 196, 15)\", \"#D2232A\"]}, \"domain\": {\"x\": [0.66, 1]}, \"hole\": 0.4, \"hoverinfo\": \"percent+name\", \"textinfo\": \"none\"}], {\"title\": \"Harvard's Presence In Cities\", \"font\": {\"family\": \"Gotham\", \"size\": 18}, \"annotations\": [{\"font\": {\"size\": 40, \"family\": \"Gotham\"}, \"showarrow\": false, \"text\": \"C\", \"x\": 0.143, \"y\": 0.5}, {\"font\": {\"size\": 40, \"family\": \"Gotham\"}, \"showarrow\": false, \"text\": \"A\", \"x\": 0.49, \"y\": 0.5}, {\"font\": {\"size\": 40, \"family\": \"Gotham\"}, \"showarrow\": false, \"text\": \"B\", \"x\": 0.85, \"y\": 0.5}]}, {\"showLink\": true, \"linkText\": \"Export to plot.ly\"})});</script>"
      ]
     },
     "metadata": {},
     "output_type": "display_data"
    }
   ],
   "source": [
    "labels1 = ['Cambridge','Harvard']\n",
    "labels2 = ['Allston', 'Harvard']\n",
    "labels3 = ['Boston', 'Harvard']\n",
    "values1 = [100 - 9.57, 9.57]\n",
    "values2 = [100 - 5.7, 5.7]\n",
    "values3 = [100 - 0.28, 0.28]\n",
    "\n",
    "trace1 = go.Pie(labels=labels1, values=values1)\n",
    "trace2 = go.Pie(labels=labels2, values=values2)\n",
    "trace3 = go.Pie(labels=labels3, values=values3)\n",
    "\n",
    "fig = {\n",
    "    'data': [\n",
    "        {\n",
    "            'labels': labels1,\n",
    "            'values': values1,\n",
    "            'type': 'pie',\n",
    "            'name': 'Cambridge',\n",
    "            'marker': {'colors': ['rgb(46, 204, 113)',\n",
    "                                  '#D2232A']},\n",
    "            'domain': {'x': [0, .32]},\n",
    "            'hole': .4,\n",
    "            'hoverinfo':'percent+name',\n",
    "            'textinfo':'none'\n",
    "        },\n",
    "        {\n",
    "            'labels': labels2,\n",
    "            'values': values2,\n",
    "            'type': 'pie',\n",
    "            'name': 'Allston',\n",
    "            'marker': {'colors': ['rgb(52, 73, 94)',\n",
    "                                  '#D2232A']},\n",
    "            'domain': {'x': [.33, .65]},\n",
    "            'hole': .4,\n",
    "            'hoverinfo':'percent+name',\n",
    "            'textinfo':'none'\n",
    "\n",
    "        },\n",
    "        {\n",
    "            'labels': labels3,\n",
    "            'values': values3,\n",
    "            'type': 'pie',\n",
    "            'name': 'Boston',\n",
    "            'marker': {'colors': ['rgb(241, 196, 15)',\n",
    "                                  '#D2232A']},\n",
    "            'domain': {'x': [.66, 1]},\n",
    "            'hole': .4,\n",
    "            'hoverinfo':'percent+name',\n",
    "            'textinfo':'none'\n",
    "        }\n",
    "    ],\n",
    "    'layout': {'title': \"Harvard's Presence In Cities\",\n",
    "               \"font\" : dict(family='Gotham', size=18),\n",
    "              \"annotations\": [\n",
    "                {\n",
    "                    \"font\": {\n",
    "                        \"size\": 40,\n",
    "                        \"family\": \"Gotham\"\n",
    "                    },\n",
    "                    \"showarrow\": False,\n",
    "                    \"text\": \"C\",\n",
    "                    \"x\": 0.143,\n",
    "                    \"y\": 0.5\n",
    "                },\n",
    "                {\n",
    "                    \"font\": {\n",
    "                        \"size\": 40,\n",
    "                        \"family\": \"Gotham\"\n",
    "                    },\n",
    "                    \"showarrow\": False,\n",
    "                    \"text\": \"A\",\n",
    "                    \"x\": 0.49,\n",
    "                    \"y\": 0.5\n",
    "                },\n",
    "                {\n",
    "                    \"font\": {\n",
    "                        \"size\": 40,\n",
    "                        \"family\": \"Gotham\"\n",
    "                    },\n",
    "                    \"showarrow\": False,\n",
    "                    \"text\": \"B\",\n",
    "                    \"x\": 0.85,\n",
    "                    \"y\": 0.5\n",
    "                }\n",
    "        ]}\n",
    "}\n",
    "\n",
    "\n",
    "iplot(fig)"
   ]
  },
  {
   "cell_type": "code",
   "execution_count": null,
   "metadata": {
    "collapsed": true
   },
   "outputs": [],
   "source": []
  }
 ],
 "metadata": {
  "kernelspec": {
   "display_name": "Python 3",
   "language": "python",
   "name": "python3"
  },
  "language_info": {
   "codemirror_mode": {
    "name": "ipython",
    "version": 3
   },
   "file_extension": ".py",
   "mimetype": "text/x-python",
   "name": "python",
   "nbconvert_exporter": "python",
   "pygments_lexer": "ipython3",
   "version": "3.6.0"
  },
  "varInspector": {
   "cols": {
    "lenName": 16,
    "lenType": 16,
    "lenVar": 40
   },
   "kernels_config": {
    "python": {
     "delete_cmd_postfix": "",
     "delete_cmd_prefix": "del ",
     "library": "var_list.py",
     "varRefreshCmd": "print(var_dic_list())"
    },
    "r": {
     "delete_cmd_postfix": ") ",
     "delete_cmd_prefix": "rm(",
     "library": "var_list.r",
     "varRefreshCmd": "cat(var_dic_list()) "
    }
   },
   "types_to_exclude": [
    "module",
    "function",
    "builtin_function_or_method",
    "instance",
    "_Feature"
   ],
   "window_display": false
  }
 },
 "nbformat": 4,
 "nbformat_minor": 2
}
