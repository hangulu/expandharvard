{
 "cells": [
  {
   "cell_type": "markdown",
   "metadata": {},
   "source": [
    "## Harvard's Physical Impact\n",
    "How much of the United States does Harvard own?"
   ]
  },
  {
   "cell_type": "code",
   "execution_count": 1,
   "metadata": {
    "collapsed": true
   },
   "outputs": [],
   "source": [
    "import cityscraper\n",
    "import numpy as np\n",
    "import pandas as pd\n",
    "import math"
   ]
  },
  {
   "cell_type": "code",
   "execution_count": 2,
   "metadata": {
    "collapsed": false
   },
   "outputs": [
    {
     "data": {
      "text/html": [
       "<script>requirejs.config({paths: { 'plotly': ['https://cdn.plot.ly/plotly-latest.min']},});if(!window.Plotly) {{require(['plotly'],function(plotly) {window.Plotly=plotly;});}}</script>"
      ],
      "text/vnd.plotly.v1+html": [
       "<script>requirejs.config({paths: { 'plotly': ['https://cdn.plot.ly/plotly-latest.min']},});if(!window.Plotly) {{require(['plotly'],function(plotly) {window.Plotly=plotly;});}}</script>"
      ]
     },
     "metadata": {},
     "output_type": "display_data"
    }
   ],
   "source": [
    "import matplotlib.pyplot as plt\n",
    "import plotly\n",
    "import plotly.graph_objs as go\n",
    "from plotly.offline import download_plotlyjs, init_notebook_mode, plot, iplot\n",
    "init_notebook_mode(connected=True)"
   ]
  },
  {
   "cell_type": "markdown",
   "metadata": {},
   "source": [
    "There are gaps in the available information for cities abroad, so this analysis will focus on Harvard's national impact. Hence, the buildings abroad can be ignored."
   ]
  },
  {
   "cell_type": "code",
   "execution_count": 3,
   "metadata": {
    "collapsed": false
   },
   "outputs": [],
   "source": [
    "buildings = pd.read_excel(\"2018_building_reference_list.xlsx\", header=3)\n",
    "buildings = buildings[~buildings['City'].isin(['Sardis', 'Fiesole', 'Florence', 'Shanghai', 'London'])]\n",
    "footage = buildings['GSF SF Total'].sum()\n",
    "count = buildings['GSF SF Total'].count()"
   ]
  },
  {
   "cell_type": "markdown",
   "metadata": {
    "variables": {
     "count": "686"
    }
   },
   "source": [
    "Harvard owns {{count}} buildings in the following cities in the United States: Jamaica Plain, Roslindale, Cambridge, Washington DC, Ledyard, Allston, Hamilton, Petersham, Harvard, Bedford, Southborough, Shrewsbury, Kittery Point, Boston, Los Angeles, San Francisco, Holyoke, Somerville, Menlo Park, Burlingame, Lowell and New York."
   ]
  },
  {
   "cell_type": "markdown",
   "metadata": {},
   "source": [
    "Most of the data available on cities can be found at http://www.city-data.com, so I built a webscraper, `cityscraper.py`, to be able to pull data from every city that Harvard has buildings in."
   ]
  },
  {
   "cell_type": "code",
   "execution_count": 4,
   "metadata": {
    "collapsed": false
   },
   "outputs": [],
   "source": [
    "df = pd.read_excel(\"city_url.xlsx\", header=0)\n",
    "results = []\n",
    "\n",
    "for i in range(df['Type'].count()):\n",
    "    city = df.iloc[[i]]['City'].values[0]\n",
    "    my_type = df.iloc[[i]]['Type'].values[0]\n",
    "    endpoint = df.iloc[[i]]['Endpoint'].values[0]\n",
    "\n",
    "    results.append(cityscraper.scraper(city, my_type, endpoint))\n",
    "\n",
    "city_data = pd.DataFrame(results)"
   ]
  },
  {
   "cell_type": "markdown",
   "metadata": {},
   "source": [
    "To facilitate comparison, the `Area` column of the `city_data` dataframe will be converted from square miles to square feet, by multiplying by $27878000$."
   ]
  },
  {
   "cell_type": "code",
   "execution_count": 5,
   "metadata": {
    "collapsed": false
   },
   "outputs": [],
   "source": [
    "city_data['Square Footage'] = city_data['Area'] * 27878000"
   ]
  },
  {
   "cell_type": "markdown",
   "metadata": {},
   "source": [
    "Now, we can easily determine how much of a given city Harvard owns."
   ]
  },
  {
   "cell_type": "code",
   "execution_count": 8,
   "metadata": {
    "collapsed": false
   },
   "outputs": [
    {
     "data": {
      "text/html": [
       "<div>\n",
       "<style>\n",
       "    .dataframe thead tr:only-child th {\n",
       "        text-align: right;\n",
       "    }\n",
       "\n",
       "    .dataframe thead th {\n",
       "        text-align: left;\n",
       "    }\n",
       "\n",
       "    .dataframe tbody tr th {\n",
       "        vertical-align: top;\n",
       "    }\n",
       "</style>\n",
       "<table border=\"1\" class=\"dataframe\">\n",
       "  <thead>\n",
       "    <tr style=\"text-align: right;\">\n",
       "      <th></th>\n",
       "      <th>City</th>\n",
       "      <th>City Footage</th>\n",
       "      <th>Harvard Footage</th>\n",
       "      <th>Percentage Harvard</th>\n",
       "    </tr>\n",
       "  </thead>\n",
       "  <tbody>\n",
       "    <tr>\n",
       "      <th>0</th>\n",
       "      <td>Cambridge</td>\n",
       "      <td>1.792555e+08</td>\n",
       "      <td>17151456.3</td>\n",
       "      <td>9.568160</td>\n",
       "    </tr>\n",
       "    <tr>\n",
       "      <th>1</th>\n",
       "      <td>Allston</td>\n",
       "      <td>1.014202e+08</td>\n",
       "      <td>5777374.0</td>\n",
       "      <td>5.696475</td>\n",
       "    </tr>\n",
       "    <tr>\n",
       "      <th>2</th>\n",
       "      <td>Boston</td>\n",
       "      <td>1.349295e+09</td>\n",
       "      <td>3651048.7</td>\n",
       "      <td>0.270589</td>\n",
       "    </tr>\n",
       "    <tr>\n",
       "      <th>3</th>\n",
       "      <td>Somerville</td>\n",
       "      <td>1.145786e+08</td>\n",
       "      <td>166018.0</td>\n",
       "      <td>0.144894</td>\n",
       "    </tr>\n",
       "    <tr>\n",
       "      <th>4</th>\n",
       "      <td>Jamaica Plain</td>\n",
       "      <td>8.851265e+07</td>\n",
       "      <td>122906.0</td>\n",
       "      <td>0.138857</td>\n",
       "    </tr>\n",
       "    <tr>\n",
       "      <th>5</th>\n",
       "      <td>Lowell</td>\n",
       "      <td>3.847164e+08</td>\n",
       "      <td>352000.0</td>\n",
       "      <td>0.091496</td>\n",
       "    </tr>\n",
       "    <tr>\n",
       "      <th>6</th>\n",
       "      <td>Southborough</td>\n",
       "      <td>3.930798e+08</td>\n",
       "      <td>269812.0</td>\n",
       "      <td>0.068641</td>\n",
       "    </tr>\n",
       "    <tr>\n",
       "      <th>7</th>\n",
       "      <td>Washington</td>\n",
       "      <td>1.711709e+09</td>\n",
       "      <td>256038.0</td>\n",
       "      <td>0.014958</td>\n",
       "    </tr>\n",
       "    <tr>\n",
       "      <th>8</th>\n",
       "      <td>Kittery Point</td>\n",
       "      <td>5.296820e+07</td>\n",
       "      <td>5500.0</td>\n",
       "      <td>0.010384</td>\n",
       "    </tr>\n",
       "    <tr>\n",
       "      <th>9</th>\n",
       "      <td>Hamilton</td>\n",
       "      <td>4.070188e+08</td>\n",
       "      <td>27809.0</td>\n",
       "      <td>0.006832</td>\n",
       "    </tr>\n",
       "    <tr>\n",
       "      <th>10</th>\n",
       "      <td>Petersham</td>\n",
       "      <td>1.510988e+09</td>\n",
       "      <td>84358.0</td>\n",
       "      <td>0.005583</td>\n",
       "    </tr>\n",
       "    <tr>\n",
       "      <th>11</th>\n",
       "      <td>Shrewsbury</td>\n",
       "      <td>5.770746e+08</td>\n",
       "      <td>16478.0</td>\n",
       "      <td>0.002855</td>\n",
       "    </tr>\n",
       "    <tr>\n",
       "      <th>12</th>\n",
       "      <td>Bedford</td>\n",
       "      <td>3.819286e+08</td>\n",
       "      <td>10507.0</td>\n",
       "      <td>0.002751</td>\n",
       "    </tr>\n",
       "    <tr>\n",
       "      <th>13</th>\n",
       "      <td>Harvard</td>\n",
       "      <td>7.359792e+08</td>\n",
       "      <td>18231.0</td>\n",
       "      <td>0.002477</td>\n",
       "    </tr>\n",
       "    <tr>\n",
       "      <th>14</th>\n",
       "      <td>Ledyard</td>\n",
       "      <td>1.062152e+09</td>\n",
       "      <td>21284.0</td>\n",
       "      <td>0.002004</td>\n",
       "    </tr>\n",
       "    <tr>\n",
       "      <th>15</th>\n",
       "      <td>Roslindale</td>\n",
       "      <td>1.027583e+08</td>\n",
       "      <td>1681.0</td>\n",
       "      <td>0.001636</td>\n",
       "    </tr>\n",
       "    <tr>\n",
       "      <th>16</th>\n",
       "      <td>Holyoke</td>\n",
       "      <td>5.938014e+08</td>\n",
       "      <td>6120.0</td>\n",
       "      <td>0.001031</td>\n",
       "    </tr>\n",
       "    <tr>\n",
       "      <th>17</th>\n",
       "      <td>Burlingame</td>\n",
       "      <td>1.207117e+08</td>\n",
       "      <td>1073.0</td>\n",
       "      <td>0.000889</td>\n",
       "    </tr>\n",
       "    <tr>\n",
       "      <th>18</th>\n",
       "      <td>Menlo Park</td>\n",
       "      <td>2.815678e+08</td>\n",
       "      <td>1080.0</td>\n",
       "      <td>0.000384</td>\n",
       "    </tr>\n",
       "    <tr>\n",
       "      <th>19</th>\n",
       "      <td>San Francisco</td>\n",
       "      <td>1.301903e+09</td>\n",
       "      <td>3791.0</td>\n",
       "      <td>0.000291</td>\n",
       "    </tr>\n",
       "    <tr>\n",
       "      <th>20</th>\n",
       "      <td>Los Angeles</td>\n",
       "      <td>1.307757e+10</td>\n",
       "      <td>2861.0</td>\n",
       "      <td>0.000022</td>\n",
       "    </tr>\n",
       "    <tr>\n",
       "      <th>21</th>\n",
       "      <td>New York</td>\n",
       "      <td>8.455397e+09</td>\n",
       "      <td>800.0</td>\n",
       "      <td>0.000009</td>\n",
       "    </tr>\n",
       "  </tbody>\n",
       "</table>\n",
       "</div>"
      ],
      "text/plain": [
       "             City  City Footage  Harvard Footage  Percentage Harvard\n",
       "0       Cambridge  1.792555e+08       17151456.3            9.568160\n",
       "1         Allston  1.014202e+08        5777374.0            5.696475\n",
       "2          Boston  1.349295e+09        3651048.7            0.270589\n",
       "3      Somerville  1.145786e+08         166018.0            0.144894\n",
       "4   Jamaica Plain  8.851265e+07         122906.0            0.138857\n",
       "5          Lowell  3.847164e+08         352000.0            0.091496\n",
       "6    Southborough  3.930798e+08         269812.0            0.068641\n",
       "7      Washington  1.711709e+09         256038.0            0.014958\n",
       "8   Kittery Point  5.296820e+07           5500.0            0.010384\n",
       "9        Hamilton  4.070188e+08          27809.0            0.006832\n",
       "10      Petersham  1.510988e+09          84358.0            0.005583\n",
       "11     Shrewsbury  5.770746e+08          16478.0            0.002855\n",
       "12        Bedford  3.819286e+08          10507.0            0.002751\n",
       "13        Harvard  7.359792e+08          18231.0            0.002477\n",
       "14        Ledyard  1.062152e+09          21284.0            0.002004\n",
       "15     Roslindale  1.027583e+08           1681.0            0.001636\n",
       "16        Holyoke  5.938014e+08           6120.0            0.001031\n",
       "17     Burlingame  1.207117e+08           1073.0            0.000889\n",
       "18     Menlo Park  2.815678e+08           1080.0            0.000384\n",
       "19  San Francisco  1.301903e+09           3791.0            0.000291\n",
       "20    Los Angeles  1.307757e+10           2861.0            0.000022\n",
       "21       New York  8.455397e+09            800.0            0.000009"
      ]
     },
     "execution_count": 8,
     "metadata": {},
     "output_type": "execute_result"
    }
   ],
   "source": [
    "footage_results = []\n",
    "\n",
    "for i in range(city_data['City'].count()):\n",
    "    city = city_data.iloc[[i]]['City'].values[0]\n",
    "    city_buildings = buildings[buildings['City'] == city]\n",
    "    harv_footage = city_buildings['GSF SF Total'].sum()\n",
    "    city_footage = city_data.iloc[i]['Square Footage']\n",
    "    perc_harv = (harv_footage / city_footage) * 100\n",
    "    footage_results.append({'City': city, 'Harvard Footage': harv_footage, 'City Footage': city_footage, 'Percentage Harvard': perc_harv})\n",
    "\n",
    "final = pd.DataFrame(footage_results)\n",
    "final.sort_values('Percentage Harvard', ascending=False, inplace=True)\n",
    "final.reset_index(inplace=True, drop=True)\n",
    "final"
   ]
  },
  {
   "cell_type": "markdown",
   "metadata": {
    "variables": {
     "math.ceil(final.iloc[0]['Percentage Harvard'] * 100) / 100": "9.57",
     "math.ceil(final.iloc[1]['Percentage Harvard'] * 100) / 100": "5.7",
     "math.ceil(final.iloc[2]['Percentage Harvard'] * 100) / 100": "0.28"
    }
   },
   "source": [
    "The three cities that Harvard owns most of are:\n",
    "1. Cambridge, owning {{math.ceil(final.iloc[0]['Percentage Harvard'] * 100) / 100}}% of the land.\n",
    "1. Allston, owning {{math.ceil(final.iloc[1]['Percentage Harvard'] * 100) / 100}}% of the land.\n",
    "1. Boston, owning {{math.ceil(final.iloc[2]['Percentage Harvard'] * 100) / 100}}% of the land."
   ]
  },
  {
   "cell_type": "code",
   "execution_count": 7,
   "metadata": {
    "collapsed": false
   },
   "outputs": [
    {
     "data": {
      "application/vnd.plotly.v1+json": {
       "data": [
        {
         "domain": {
          "x": [
           0,
           0.32
          ]
         },
         "hole": 0.4,
         "hoverinfo": "percent+name",
         "labels": [
          "Cambridge",
          "Harvard"
         ],
         "marker": {
          "colors": [
           "rgb(46, 204, 113)",
           "rgb(164, 16, 52)"
          ]
         },
         "name": "Cambridge",
         "textinfo": "none",
         "type": "pie",
         "uid": "753bca",
         "values": [
          90.43,
          9.57
         ]
        },
        {
         "domain": {
          "x": [
           0.33,
           0.65
          ]
         },
         "hole": 0.4,
         "hoverinfo": "percent+name",
         "labels": [
          "Allston",
          "Harvard"
         ],
         "marker": {
          "colors": [
           "rgb(52, 73, 94)",
           "rgb(164, 16, 52)"
          ]
         },
         "name": "Allston",
         "textinfo": "none",
         "type": "pie",
         "uid": "a10d08",
         "values": [
          94.3,
          5.7
         ]
        },
        {
         "domain": {
          "x": [
           0.66,
           1
          ]
         },
         "hole": 0.4,
         "hoverinfo": "percent+name",
         "labels": [
          "Boston",
          "Harvard"
         ],
         "marker": {
          "colors": [
           "rgb(241, 196, 15)",
           "rgb(164, 16, 52)"
          ]
         },
         "name": "Boston",
         "textinfo": "none",
         "type": "pie",
         "uid": "6e1b1d",
         "values": [
          99.72,
          0.28
         ]
        }
       ],
       "layout": {
        "annotations": [
         {
          "font": {
           "size": 40
          },
          "showarrow": false,
          "text": "C",
          "x": 0.143,
          "y": 0.5
         },
         {
          "font": {
           "size": 40
          },
          "showarrow": false,
          "text": "A",
          "x": 0.49,
          "y": 0.5
         },
         {
          "font": {
           "size": 40
          },
          "showarrow": false,
          "text": "B",
          "x": 0.85,
          "y": 0.5
         }
        ],
        "autosize": true,
        "title": "Harvard's Presence In Cities"
       }
      },
      "text/html": [
       "<div id=\"3eec33f5-32b5-4373-ae91-5dda99195cc3\" style=\"height: 525px; width: 100%;\" class=\"plotly-graph-div\"></div><script type=\"text/javascript\">require([\"plotly\"], function(Plotly) { window.PLOTLYENV=window.PLOTLYENV || {};window.PLOTLYENV.BASE_URL=\"https://plot.ly\";Plotly.newPlot(\"3eec33f5-32b5-4373-ae91-5dda99195cc3\", [{\"labels\": [\"Cambridge\", \"Harvard\"], \"values\": [90.43, 9.57], \"type\": \"pie\", \"name\": \"Cambridge\", \"marker\": {\"colors\": [\"rgb(46, 204, 113)\", \"rgb(164, 16, 52)\"]}, \"domain\": {\"x\": [0, 0.32]}, \"hole\": 0.4, \"hoverinfo\": \"percent+name\", \"textinfo\": \"none\"}, {\"labels\": [\"Allston\", \"Harvard\"], \"values\": [94.3, 5.7], \"type\": \"pie\", \"name\": \"Allston\", \"marker\": {\"colors\": [\"rgb(52, 73, 94)\", \"rgb(164, 16, 52)\"]}, \"domain\": {\"x\": [0.33, 0.65]}, \"hole\": 0.4, \"hoverinfo\": \"percent+name\", \"textinfo\": \"none\"}, {\"labels\": [\"Boston\", \"Harvard\"], \"values\": [99.72, 0.28], \"type\": \"pie\", \"name\": \"Boston\", \"marker\": {\"colors\": [\"rgb(241, 196, 15)\", \"rgb(164, 16, 52)\"]}, \"domain\": {\"x\": [0.66, 1]}, \"hole\": 0.4, \"hoverinfo\": \"percent+name\", \"textinfo\": \"none\"}], {\"title\": \"Harvard's Presence In Cities\", \"annotations\": [{\"font\": {\"size\": 40}, \"showarrow\": false, \"text\": \"C\", \"x\": 0.143, \"y\": 0.5}, {\"font\": {\"size\": 40}, \"showarrow\": false, \"text\": \"A\", \"x\": 0.49, \"y\": 0.5}, {\"font\": {\"size\": 40}, \"showarrow\": false, \"text\": \"B\", \"x\": 0.85, \"y\": 0.5}]}, {\"showLink\": true, \"linkText\": \"Export to plot.ly\"})});</script>"
      ],
      "text/vnd.plotly.v1+html": [
       "<div id=\"3eec33f5-32b5-4373-ae91-5dda99195cc3\" style=\"height: 525px; width: 100%;\" class=\"plotly-graph-div\"></div><script type=\"text/javascript\">require([\"plotly\"], function(Plotly) { window.PLOTLYENV=window.PLOTLYENV || {};window.PLOTLYENV.BASE_URL=\"https://plot.ly\";Plotly.newPlot(\"3eec33f5-32b5-4373-ae91-5dda99195cc3\", [{\"labels\": [\"Cambridge\", \"Harvard\"], \"values\": [90.43, 9.57], \"type\": \"pie\", \"name\": \"Cambridge\", \"marker\": {\"colors\": [\"rgb(46, 204, 113)\", \"rgb(164, 16, 52)\"]}, \"domain\": {\"x\": [0, 0.32]}, \"hole\": 0.4, \"hoverinfo\": \"percent+name\", \"textinfo\": \"none\"}, {\"labels\": [\"Allston\", \"Harvard\"], \"values\": [94.3, 5.7], \"type\": \"pie\", \"name\": \"Allston\", \"marker\": {\"colors\": [\"rgb(52, 73, 94)\", \"rgb(164, 16, 52)\"]}, \"domain\": {\"x\": [0.33, 0.65]}, \"hole\": 0.4, \"hoverinfo\": \"percent+name\", \"textinfo\": \"none\"}, {\"labels\": [\"Boston\", \"Harvard\"], \"values\": [99.72, 0.28], \"type\": \"pie\", \"name\": \"Boston\", \"marker\": {\"colors\": [\"rgb(241, 196, 15)\", \"rgb(164, 16, 52)\"]}, \"domain\": {\"x\": [0.66, 1]}, \"hole\": 0.4, \"hoverinfo\": \"percent+name\", \"textinfo\": \"none\"}], {\"title\": \"Harvard's Presence In Cities\", \"annotations\": [{\"font\": {\"size\": 40}, \"showarrow\": false, \"text\": \"C\", \"x\": 0.143, \"y\": 0.5}, {\"font\": {\"size\": 40}, \"showarrow\": false, \"text\": \"A\", \"x\": 0.49, \"y\": 0.5}, {\"font\": {\"size\": 40}, \"showarrow\": false, \"text\": \"B\", \"x\": 0.85, \"y\": 0.5}]}, {\"showLink\": true, \"linkText\": \"Export to plot.ly\"})});</script>"
      ]
     },
     "metadata": {},
     "output_type": "display_data"
    }
   ],
   "source": [
    "labels1 = ['Cambridge','Harvard']\n",
    "labels2 = ['Allston', 'Harvard']\n",
    "labels3 = ['Boston', 'Harvard']\n",
    "values1 = [100 - 9.57, 9.57]\n",
    "values2 = [100 - 5.7, 5.7]\n",
    "values3 = [100 - 0.28, 0.28]\n",
    "\n",
    "trace1 = go.Pie(labels=labels1, values=values1)\n",
    "trace2 = go.Pie(labels=labels2, values=values2)\n",
    "trace3 = go.Pie(labels=labels3, values=values3)\n",
    "\n",
    "fig = {\n",
    "    'data': [\n",
    "        {\n",
    "            'labels': labels1,\n",
    "            'values': values1,\n",
    "            'type': 'pie',\n",
    "            'name': 'Cambridge',\n",
    "            'marker': {'colors': ['rgb(46, 204, 113)',\n",
    "                                  'rgb(164, 16, 52)']},\n",
    "            'domain': {'x': [0, .32]},\n",
    "            'hole': .4,\n",
    "            'hoverinfo':'percent+name',\n",
    "            'textinfo':'none'\n",
    "        },\n",
    "        {\n",
    "            'labels': labels2,\n",
    "            'values': values2,\n",
    "            'type': 'pie',\n",
    "            'name': 'Allston',\n",
    "            'marker': {'colors': ['rgb(52, 73, 94)',\n",
    "                                  'rgb(164, 16, 52)']},\n",
    "            'domain': {'x': [.33, .65]},\n",
    "            'hole': .4,\n",
    "            'hoverinfo':'percent+name',\n",
    "            'textinfo':'none'\n",
    "\n",
    "        },\n",
    "        {\n",
    "            'labels': labels3,\n",
    "            'values': values3,\n",
    "            'type': 'pie',\n",
    "            'name': 'Boston',\n",
    "            'marker': {'colors': ['rgb(241, 196, 15)',\n",
    "                                  'rgb(164, 16, 52)']},\n",
    "            'domain': {'x': [.66, 1]},\n",
    "            'hole': .4,\n",
    "            'hoverinfo':'percent+name',\n",
    "            'textinfo':'none'\n",
    "        }\n",
    "    ],\n",
    "    'layout': {'title': \"Harvard's Presence In Cities\",\n",
    "              \"annotations\": [\n",
    "                {\n",
    "                    \"font\": {\n",
    "                        \"size\": 40\n",
    "                    },\n",
    "                    \"showarrow\": False,\n",
    "                    \"text\": \"C\",\n",
    "                    \"x\": 0.143,\n",
    "                    \"y\": 0.5\n",
    "                },\n",
    "                {\n",
    "                    \"font\": {\n",
    "                        \"size\": 40\n",
    "                    },\n",
    "                    \"showarrow\": False,\n",
    "                    \"text\": \"A\",\n",
    "                    \"x\": 0.49,\n",
    "                    \"y\": 0.5\n",
    "                },\n",
    "                {\n",
    "                    \"font\": {\n",
    "                        \"size\": 40\n",
    "                    },\n",
    "                    \"showarrow\": False,\n",
    "                    \"text\": \"B\",\n",
    "                    \"x\": 0.85,\n",
    "                    \"y\": 0.5\n",
    "                }\n",
    "        ]}\n",
    "}\n",
    "\n",
    "\n",
    "iplot(fig)"
   ]
  },
  {
   "cell_type": "code",
   "execution_count": null,
   "metadata": {
    "collapsed": true
   },
   "outputs": [],
   "source": []
  }
 ],
 "metadata": {
  "kernelspec": {
   "display_name": "Python 3",
   "language": "python",
   "name": "python3"
  },
  "language_info": {
   "codemirror_mode": {
    "name": "ipython",
    "version": 3
   },
   "file_extension": ".py",
   "mimetype": "text/x-python",
   "name": "python",
   "nbconvert_exporter": "python",
   "pygments_lexer": "ipython3",
   "version": "3.6.0"
  },
  "varInspector": {
   "cols": {
    "lenName": 16,
    "lenType": 16,
    "lenVar": 40
   },
   "kernels_config": {
    "python": {
     "delete_cmd_postfix": "",
     "delete_cmd_prefix": "del ",
     "library": "var_list.py",
     "varRefreshCmd": "print(var_dic_list())"
    },
    "r": {
     "delete_cmd_postfix": ") ",
     "delete_cmd_prefix": "rm(",
     "library": "var_list.r",
     "varRefreshCmd": "cat(var_dic_list()) "
    }
   },
   "types_to_exclude": [
    "module",
    "function",
    "builtin_function_or_method",
    "instance",
    "_Feature"
   ],
   "window_display": false
  }
 },
 "nbformat": 4,
 "nbformat_minor": 2
}
